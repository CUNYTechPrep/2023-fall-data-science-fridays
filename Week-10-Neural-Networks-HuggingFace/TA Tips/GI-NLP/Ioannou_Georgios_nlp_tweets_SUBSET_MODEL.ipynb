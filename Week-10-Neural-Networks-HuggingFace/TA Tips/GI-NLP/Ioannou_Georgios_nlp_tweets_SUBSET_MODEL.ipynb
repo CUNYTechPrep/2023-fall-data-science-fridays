{
  "cells": [
    {
      "cell_type": "markdown",
      "metadata": {},
      "source": [
        "---\n",
        "\n",
        "# Ioannou_Georgios\n"
      ]
    },
    {
      "cell_type": "markdown",
      "metadata": {},
      "source": [
        "## Copyright © 2023 by Georgios Ioannou\n"
      ]
    },
    {
      "cell_type": "markdown",
      "metadata": {},
      "source": [
        "---\n",
        "\n",
        "<h1 align=\"center\"> NLP Fine-Tuning With Hugging Face </h1>\n",
        "\n",
        "<h2 align=\"center\"> dem-vs-rep-tweets.csv </h2>\n"
      ]
    },
    {
      "cell_type": "markdown",
      "metadata": {},
      "source": [
        "---\n",
        "\n",
        "- Fine-tuning a natural language processing (NLP) model involves adjusting the hyperparameters and architecture of the model, and often also involves adjusting the dataset, to improve the performance of the model on a specific task. This can be done by adjusting the learning rate, the number of layers in the model,the size of the embeddings, and many other factors. Fine-tuning is often used to adapt a pre-trained model to a new dataset or task, and can be a time-consuming process that requires a good understanding of the model and the task at hand.\n",
        "\n",
        "- Fine-tuning a model can help to improve its performance on a specific task, by adjusting the hyperparameters and architecture of the model\n",
        "  to suit the characteristics of the task and the dataset.\n"
      ]
    },
    {
      "cell_type": "markdown",
      "metadata": {},
      "source": [
        "---\n",
        "\n",
        "# INSTALLATIONS\n"
      ]
    },
    {
      "cell_type": "code",
      "execution_count": 1,
      "metadata": {},
      "outputs": [],
      "source": [
        "# ! pip install transformers\n",
        "# ! pip install beautifulsoup4\n",
        "# ! pip install lxml\n",
        "# ! pip install evaluate"
      ]
    },
    {
      "cell_type": "markdown",
      "metadata": {},
      "source": [
        "---\n",
        "\n",
        "# LIBRARIES\n"
      ]
    },
    {
      "cell_type": "code",
      "execution_count": 2,
      "metadata": {},
      "outputs": [
        {
          "name": "stderr",
          "output_type": "stream",
          "text": [
            "c:\\Users\\georg\\ctp\\.ctp-venv\\lib\\site-packages\\tqdm\\auto.py:21: TqdmWarning: IProgress not found. Please update jupyter and ipywidgets. See https://ipywidgets.readthedocs.io/en/stable/user_install.html\n",
            "  from .autonotebook import tqdm as notebook_tqdm\n"
          ]
        }
      ],
      "source": [
        "import evaluate\n",
        "import numpy as np\n",
        "import pandas as pd\n",
        "\n",
        "from datasets import Dataset\n",
        "from sklearn.metrics import classification_report\n",
        "from sklearn import preprocessing\n",
        "from sklearn.model_selection import train_test_split\n",
        "from transformers import AutoTokenizer\n",
        "from transformers import AutoModelForSequenceClassification\n",
        "from transformers import DataCollatorWithPadding\n",
        "from transformers import TrainingArguments, Trainer"
      ]
    },
    {
      "cell_type": "markdown",
      "metadata": {},
      "source": [
        "---\n",
        "\n",
        "# PRE-TRAINED MODEL\n"
      ]
    },
    {
      "cell_type": "code",
      "execution_count": 3,
      "metadata": {},
      "outputs": [],
      "source": [
        "# FINE TUNING THIS PRETRAINED MODEL.\n",
        "\n",
        "model_name = \"distilbert-base-uncased\""
      ]
    },
    {
      "cell_type": "markdown",
      "metadata": {},
      "source": [
        "---\n",
        "\n",
        "# DATASET\n"
      ]
    },
    {
      "cell_type": "code",
      "execution_count": 4,
      "metadata": {
        "id": "kdpGJIfQDEX5"
      },
      "outputs": [
        {
          "data": {
            "text/html": [
              "<div>\n",
              "<style scoped>\n",
              "    .dataframe tbody tr th:only-of-type {\n",
              "        vertical-align: middle;\n",
              "    }\n",
              "\n",
              "    .dataframe tbody tr th {\n",
              "        vertical-align: top;\n",
              "    }\n",
              "\n",
              "    .dataframe thead th {\n",
              "        text-align: right;\n",
              "    }\n",
              "</style>\n",
              "<table border=\"1\" class=\"dataframe\">\n",
              "  <thead>\n",
              "    <tr style=\"text-align: right;\">\n",
              "      <th></th>\n",
              "      <th>Party</th>\n",
              "      <th>Handle</th>\n",
              "      <th>Tweet</th>\n",
              "    </tr>\n",
              "  </thead>\n",
              "  <tbody>\n",
              "    <tr>\n",
              "      <th>0</th>\n",
              "      <td>Democrat</td>\n",
              "      <td>RepDarrenSoto</td>\n",
              "      <td>Today, Senate Dems vote to #SaveTheInternet. P...</td>\n",
              "    </tr>\n",
              "    <tr>\n",
              "      <th>1</th>\n",
              "      <td>Democrat</td>\n",
              "      <td>RepDarrenSoto</td>\n",
              "      <td>RT @WinterHavenSun: Winter Haven resident / Al...</td>\n",
              "    </tr>\n",
              "    <tr>\n",
              "      <th>2</th>\n",
              "      <td>Democrat</td>\n",
              "      <td>RepDarrenSoto</td>\n",
              "      <td>RT @NBCLatino: .@RepDarrenSoto noted that Hurr...</td>\n",
              "    </tr>\n",
              "    <tr>\n",
              "      <th>3</th>\n",
              "      <td>Democrat</td>\n",
              "      <td>RepDarrenSoto</td>\n",
              "      <td>RT @NALCABPolicy: Meeting with @RepDarrenSoto ...</td>\n",
              "    </tr>\n",
              "    <tr>\n",
              "      <th>4</th>\n",
              "      <td>Democrat</td>\n",
              "      <td>RepDarrenSoto</td>\n",
              "      <td>RT @Vegalteno: Hurricane season starts on June...</td>\n",
              "    </tr>\n",
              "  </tbody>\n",
              "</table>\n",
              "</div>"
            ],
            "text/plain": [
              "      Party         Handle                                              Tweet\n",
              "0  Democrat  RepDarrenSoto  Today, Senate Dems vote to #SaveTheInternet. P...\n",
              "1  Democrat  RepDarrenSoto  RT @WinterHavenSun: Winter Haven resident / Al...\n",
              "2  Democrat  RepDarrenSoto  RT @NBCLatino: .@RepDarrenSoto noted that Hurr...\n",
              "3  Democrat  RepDarrenSoto  RT @NALCABPolicy: Meeting with @RepDarrenSoto ...\n",
              "4  Democrat  RepDarrenSoto  RT @Vegalteno: Hurricane season starts on June..."
            ]
          },
          "execution_count": 4,
          "metadata": {},
          "output_type": "execute_result"
        }
      ],
      "source": [
        "# Load the dem-vs-rep-tweets.csv data into a dataframe.\n",
        "\n",
        "# Read the file dem-vs-rep-tweets.csv located inside the data folder and then load the data.\n",
        "\n",
        "df = pd.read_csv(\"dem-vs-rep-tweets.csv\")\n",
        "\n",
        "# Print/Display/Return the first 5 rows of the file dem-vs-rep-tweets.csv to make sure the file was loaded successfully.\n",
        "\n",
        "df.head()"
      ]
    },
    {
      "cell_type": "code",
      "execution_count": 5,
      "metadata": {},
      "outputs": [
        {
          "name": "stdout",
          "output_type": "stream",
          "text": [
            "df.shape = (86460, 3)\n"
          ]
        }
      ],
      "source": [
        "# Print the shape\n",
        "\n",
        "print(\"df.shape =\", df.shape)"
      ]
    },
    {
      "cell_type": "code",
      "execution_count": 6,
      "metadata": {},
      "outputs": [
        {
          "name": "stdout",
          "output_type": "stream",
          "text": [
            "NULLS\n",
            "Party     0\n",
            "Handle    0\n",
            "Tweet     0\n",
            "dtype: int64 \n",
            "\n",
            "Duplicates\n",
            "df.duplicated().sum() = 57 \n",
            "\n",
            "Removing Duplicates\n",
            "df.duplicated().sum() = 0 \n",
            "\n",
            "df.shape = (86403, 3)\n"
          ]
        }
      ],
      "source": [
        "# Inspect / remove nulls and duplicates.\n",
        "\n",
        "print(\"NULLS\")\n",
        "print(df.isnull().sum(), \"\\n\")\n",
        "print(\"Duplicates\")\n",
        "print(\"df.duplicated().sum() =\", df.duplicated().sum(), \"\\n\")\n",
        "df.drop_duplicates(inplace=True)\n",
        "print(\"Removing Duplicates\")\n",
        "print(\"df.duplicated().sum() =\", df.duplicated().sum(), \"\\n\")\n",
        "print(\"df.shape =\", df.shape)"
      ]
    },
    {
      "cell_type": "code",
      "execution_count": 7,
      "metadata": {},
      "outputs": [
        {
          "name": "stdout",
          "output_type": "stream",
          "text": [
            "Class Balances\n"
          ]
        },
        {
          "data": {
            "text/plain": [
              "Party\n",
              "Republican    44362\n",
              "Democrat      42041\n",
              "Name: count, dtype: int64"
            ]
          },
          "execution_count": 7,
          "metadata": {},
          "output_type": "execute_result"
        }
      ],
      "source": [
        "# Find class balances, print out how many of each Party(Republican and Democrat) there are.\n",
        "\n",
        "print(\"Class Balances\")\n",
        "df[\"Party\"].value_counts()"
      ]
    },
    {
      "cell_type": "code",
      "execution_count": 8,
      "metadata": {},
      "outputs": [
        {
          "data": {
            "text/html": [
              "<div>\n",
              "<style scoped>\n",
              "    .dataframe tbody tr th:only-of-type {\n",
              "        vertical-align: middle;\n",
              "    }\n",
              "\n",
              "    .dataframe tbody tr th {\n",
              "        vertical-align: top;\n",
              "    }\n",
              "\n",
              "    .dataframe thead th {\n",
              "        text-align: right;\n",
              "    }\n",
              "</style>\n",
              "<table border=\"1\" class=\"dataframe\">\n",
              "  <thead>\n",
              "    <tr style=\"text-align: right;\">\n",
              "      <th></th>\n",
              "      <th>Handle</th>\n",
              "      <th>Tweet</th>\n",
              "    </tr>\n",
              "    <tr>\n",
              "      <th>Party</th>\n",
              "      <th></th>\n",
              "      <th></th>\n",
              "    </tr>\n",
              "  </thead>\n",
              "  <tbody>\n",
              "    <tr>\n",
              "      <th>Democrat</th>\n",
              "      <td>42041</td>\n",
              "      <td>42041</td>\n",
              "    </tr>\n",
              "    <tr>\n",
              "      <th>Republican</th>\n",
              "      <td>44362</td>\n",
              "      <td>44362</td>\n",
              "    </tr>\n",
              "  </tbody>\n",
              "</table>\n",
              "</div>"
            ],
            "text/plain": [
              "            Handle  Tweet\n",
              "Party                    \n",
              "Democrat     42041  42041\n",
              "Republican   44362  44362"
            ]
          },
          "execution_count": 8,
          "metadata": {},
          "output_type": "execute_result"
        }
      ],
      "source": [
        "df.groupby(\"Party\").count()"
      ]
    },
    {
      "cell_type": "markdown",
      "metadata": {},
      "source": [
        "---\n",
        "\n",
        "# TAKING AN EXTREMELLY SMALL SUBSET FOR THE LECTURE\n"
      ]
    },
    {
      "cell_type": "code",
      "execution_count": 9,
      "metadata": {},
      "outputs": [],
      "source": [
        "np.random.seed(42)\n",
        "\n",
        "\n",
        "shuffled_indices = np.random.permutation(df.index)\n",
        "df = df.loc[shuffled_indices].reset_index(drop=True)\n",
        "df = df[:1000]"
      ]
    },
    {
      "cell_type": "code",
      "execution_count": 10,
      "metadata": {},
      "outputs": [
        {
          "data": {
            "text/html": [
              "<div>\n",
              "<style scoped>\n",
              "    .dataframe tbody tr th:only-of-type {\n",
              "        vertical-align: middle;\n",
              "    }\n",
              "\n",
              "    .dataframe tbody tr th {\n",
              "        vertical-align: top;\n",
              "    }\n",
              "\n",
              "    .dataframe thead th {\n",
              "        text-align: right;\n",
              "    }\n",
              "</style>\n",
              "<table border=\"1\" class=\"dataframe\">\n",
              "  <thead>\n",
              "    <tr style=\"text-align: right;\">\n",
              "      <th></th>\n",
              "      <th>Party</th>\n",
              "      <th>Handle</th>\n",
              "      <th>Tweet</th>\n",
              "    </tr>\n",
              "  </thead>\n",
              "  <tbody>\n",
              "    <tr>\n",
              "      <th>0</th>\n",
              "      <td>Republican</td>\n",
              "      <td>farenthold</td>\n",
              "      <td>I’m hopeful that President @realDonaldTrump’s ...</td>\n",
              "    </tr>\n",
              "    <tr>\n",
              "      <th>1</th>\n",
              "      <td>Republican</td>\n",
              "      <td>RepChrisStewart</td>\n",
              "      <td>RT @OutFrontCNN: .@RepChrisStewart: Kushner \"a...</td>\n",
              "    </tr>\n",
              "    <tr>\n",
              "      <th>2</th>\n",
              "      <td>Democrat</td>\n",
              "      <td>RepBradAshford</td>\n",
              "      <td>Join me today @UNOmaha as I honor Dr. Lourdes ...</td>\n",
              "    </tr>\n",
              "    <tr>\n",
              "      <th>3</th>\n",
              "      <td>Republican</td>\n",
              "      <td>GOPpolicy</td>\n",
              "      <td>#GOPWorkingforWomen hearing LIVE now on https:...</td>\n",
              "    </tr>\n",
              "    <tr>\n",
              "      <th>4</th>\n",
              "      <td>Democrat</td>\n",
              "      <td>RepBonamici</td>\n",
              "      <td>Portland Town Hall Meeting\\nSaturday, March 10...</td>\n",
              "    </tr>\n",
              "  </tbody>\n",
              "</table>\n",
              "</div>"
            ],
            "text/plain": [
              "        Party           Handle  \\\n",
              "0  Republican       farenthold   \n",
              "1  Republican  RepChrisStewart   \n",
              "2    Democrat   RepBradAshford   \n",
              "3  Republican        GOPpolicy   \n",
              "4    Democrat      RepBonamici   \n",
              "\n",
              "                                               Tweet  \n",
              "0  I’m hopeful that President @realDonaldTrump’s ...  \n",
              "1  RT @OutFrontCNN: .@RepChrisStewart: Kushner \"a...  \n",
              "2  Join me today @UNOmaha as I honor Dr. Lourdes ...  \n",
              "3  #GOPWorkingforWomen hearing LIVE now on https:...  \n",
              "4  Portland Town Hall Meeting\\nSaturday, March 10...  "
            ]
          },
          "execution_count": 10,
          "metadata": {},
          "output_type": "execute_result"
        }
      ],
      "source": [
        "# Print/Display/Return the first 5 rows of the file dem-vs-rep-tweets.csv to make sure the file was loaded successfully.\n",
        "\n",
        "df.head()"
      ]
    },
    {
      "cell_type": "code",
      "execution_count": 11,
      "metadata": {},
      "outputs": [
        {
          "name": "stdout",
          "output_type": "stream",
          "text": [
            "df.shape = (1000, 3)\n"
          ]
        }
      ],
      "source": [
        "# Print the shape\n",
        "\n",
        "print(\"df.shape =\", df.shape)"
      ]
    },
    {
      "cell_type": "code",
      "execution_count": 12,
      "metadata": {},
      "outputs": [
        {
          "name": "stdout",
          "output_type": "stream",
          "text": [
            "NULLS\n",
            "Party     0\n",
            "Handle    0\n",
            "Tweet     0\n",
            "dtype: int64 \n",
            "\n",
            "Duplicates\n",
            "df.duplicated().sum() = 0 \n",
            "\n",
            "Removing Duplicates\n",
            "df.duplicated().sum() = 0 \n",
            "\n",
            "df.shape = (1000, 3)\n"
          ]
        }
      ],
      "source": [
        "# Inspect / remove nulls and duplicates.\n",
        "\n",
        "print(\"NULLS\")\n",
        "print(df.isnull().sum(), \"\\n\")\n",
        "print(\"Duplicates\")\n",
        "print(\"df.duplicated().sum() =\", df.duplicated().sum(), \"\\n\")\n",
        "df.drop_duplicates(inplace=True)\n",
        "print(\"Removing Duplicates\")\n",
        "print(\"df.duplicated().sum() =\", df.duplicated().sum(), \"\\n\")\n",
        "print(\"df.shape =\", df.shape)"
      ]
    },
    {
      "cell_type": "code",
      "execution_count": 13,
      "metadata": {},
      "outputs": [
        {
          "name": "stdout",
          "output_type": "stream",
          "text": [
            "Class Balances\n"
          ]
        },
        {
          "data": {
            "text/plain": [
              "Party\n",
              "Democrat      510\n",
              "Republican    490\n",
              "Name: count, dtype: int64"
            ]
          },
          "execution_count": 13,
          "metadata": {},
          "output_type": "execute_result"
        }
      ],
      "source": [
        "# Find class balances, print out how many of each Party(Republican and Democrat) there are.\n",
        "\n",
        "print(\"Class Balances\")\n",
        "df[\"Party\"].value_counts()"
      ]
    },
    {
      "cell_type": "code",
      "execution_count": 14,
      "metadata": {},
      "outputs": [
        {
          "data": {
            "text/html": [
              "<div>\n",
              "<style scoped>\n",
              "    .dataframe tbody tr th:only-of-type {\n",
              "        vertical-align: middle;\n",
              "    }\n",
              "\n",
              "    .dataframe tbody tr th {\n",
              "        vertical-align: top;\n",
              "    }\n",
              "\n",
              "    .dataframe thead th {\n",
              "        text-align: right;\n",
              "    }\n",
              "</style>\n",
              "<table border=\"1\" class=\"dataframe\">\n",
              "  <thead>\n",
              "    <tr style=\"text-align: right;\">\n",
              "      <th></th>\n",
              "      <th>Handle</th>\n",
              "      <th>Tweet</th>\n",
              "    </tr>\n",
              "    <tr>\n",
              "      <th>Party</th>\n",
              "      <th></th>\n",
              "      <th></th>\n",
              "    </tr>\n",
              "  </thead>\n",
              "  <tbody>\n",
              "    <tr>\n",
              "      <th>Democrat</th>\n",
              "      <td>510</td>\n",
              "      <td>510</td>\n",
              "    </tr>\n",
              "    <tr>\n",
              "      <th>Republican</th>\n",
              "      <td>490</td>\n",
              "      <td>490</td>\n",
              "    </tr>\n",
              "  </tbody>\n",
              "</table>\n",
              "</div>"
            ],
            "text/plain": [
              "            Handle  Tweet\n",
              "Party                    \n",
              "Democrat       510    510\n",
              "Republican     490    490"
            ]
          },
          "execution_count": 14,
          "metadata": {},
          "output_type": "execute_result"
        }
      ],
      "source": [
        "df.groupby(\"Party\").count()"
      ]
    },
    {
      "cell_type": "markdown",
      "metadata": {},
      "source": [
        "---\n",
        "\n",
        "# CLEAN DATASET\n"
      ]
    },
    {
      "cell_type": "code",
      "execution_count": 15,
      "metadata": {},
      "outputs": [
        {
          "name": "stderr",
          "output_type": "stream",
          "text": [
            "[nltk_data] Downloading package stopwords to\n",
            "[nltk_data]     C:\\Users\\georg\\AppData\\Roaming\\nltk_data...\n",
            "[nltk_data]   Package stopwords is already up-to-date!\n",
            "[nltk_data] Downloading package punkt to\n",
            "[nltk_data]     C:\\Users\\georg\\AppData\\Roaming\\nltk_data...\n",
            "[nltk_data]   Package punkt is already up-to-date!\n",
            "[nltk_data] Downloading package wordnet to\n",
            "[nltk_data]     C:\\Users\\georg\\AppData\\Roaming\\nltk_data...\n",
            "[nltk_data]   Package wordnet is already up-to-date!\n"
          ]
        }
      ],
      "source": [
        "# NLTK is our Natural-Language-Took-Kit.\n",
        "\n",
        "import nltk\n",
        "from nltk.corpus import stopwords\n",
        "from nltk import word_tokenize\n",
        "from nltk.stem import PorterStemmer\n",
        "\n",
        "# Regular Expression Library.\n",
        "\n",
        "import re\n",
        "\n",
        "# Download packages from nltk.\n",
        "\n",
        "nltk.download(\"stopwords\")\n",
        "nltk.download(\"punkt\")\n",
        "nltk.download(\"wordnet\")\n",
        "stopwords = stopwords.words(\"english\")"
      ]
    },
    {
      "cell_type": "code",
      "execution_count": 16,
      "metadata": {},
      "outputs": [],
      "source": [
        "# # 1. Make a function that makes all text lowercase.\n",
        "\n",
        "\n",
        "# def make_lowercase(input_string):\n",
        "#     return input_string.lower()\n",
        "\n",
        "\n",
        "# test_string = \"This is A SENTENCE with LOTS OF CAPS.\"\n",
        "# make_lowercase(test_string)"
      ]
    },
    {
      "cell_type": "code",
      "execution_count": 17,
      "metadata": {},
      "outputs": [],
      "source": [
        "# # 2. Make a function that removes all punctuation.\n",
        "\n",
        "\n",
        "# def remove_punctuation(input_string):\n",
        "#     input_string = re.sub(r\"[^\\w\\s]\", \"\", input_string)\n",
        "#     return input_string\n",
        "\n",
        "\n",
        "# test_string = \"This is a sentence! 50 With lots of punctuation??? & other #things.\"\n",
        "# remove_punctuation(test_string)"
      ]
    },
    {
      "cell_type": "code",
      "execution_count": 18,
      "metadata": {},
      "outputs": [],
      "source": [
        "# # 3. Make a function that removes all stopwords.\n",
        "\n",
        "\n",
        "# def remove_stopwords(input_string):\n",
        "#     words = word_tokenize(input_string)\n",
        "#     valid_words = []\n",
        "\n",
        "#     for word in words:\n",
        "#         if word not in stopwords:\n",
        "#             valid_words.append(word)\n",
        "\n",
        "#     input_string = \" \".join(valid_words)\n",
        "\n",
        "#     return input_string\n",
        "\n",
        "\n",
        "# test_string = \"This is a sentence! With some different stopwords i have added in here.\"\n",
        "# remove_stopwords(test_string)"
      ]
    },
    {
      "cell_type": "code",
      "execution_count": 19,
      "metadata": {},
      "outputs": [],
      "source": [
        "# # 4. Make a function that breaks words into their stem words.\n",
        "\n",
        "\n",
        "# def stem_words(input_string):\n",
        "#     porter = PorterStemmer()\n",
        "#     words = word_tokenize(input_string)\n",
        "#     valid_words = []\n",
        "\n",
        "#     for word in words:\n",
        "#         stemmed_word = porter.stem(word)\n",
        "#         valid_words.append(stemmed_word)\n",
        "\n",
        "#     input_string = \" \".join(valid_words)\n",
        "\n",
        "#     return input_string\n",
        "\n",
        "\n",
        "# test_string = (\n",
        "#     \"I played and started playing with players and we all love to play with plays\"\n",
        "# )\n",
        "\n",
        "# stem_words(test_string)"
      ]
    },
    {
      "cell_type": "code",
      "execution_count": 20,
      "metadata": {},
      "outputs": [],
      "source": [
        "# # 5. Make a pipeline function that applies all the text processing functions you just built.\n",
        "\n",
        "\n",
        "# def pipeline(input_string):\n",
        "#     input_string = make_lowercase(input_string)\n",
        "#     input_string = remove_punctuation(input_string)\n",
        "#     input_string = remove_stopwords(input_string)\n",
        "#     input_string = stem_words(input_string)\n",
        "#     return input_string\n",
        "\n",
        "\n",
        "# test_string = (\n",
        "#     \"I played and started playing with players and we all love to play with plays\"\n",
        "# )\n",
        "# pipeline(test_string)"
      ]
    },
    {
      "cell_type": "code",
      "execution_count": 21,
      "metadata": {},
      "outputs": [],
      "source": [
        "class Cleaner:\n",
        "    def __init__(self):\n",
        "        pass\n",
        "\n",
        "    # 1. Make a function that makes all text lowercase.\n",
        "\n",
        "    def make_lowercase(self, input_string):\n",
        "        return input_string.lower()\n",
        "\n",
        "    # 2. Make a function that removes all punctuation.\n",
        "\n",
        "    def remove_punctuation(self, input_string):\n",
        "        input_string = re.sub(r\"[^\\w\\s]\", \"\", input_string)\n",
        "        return input_string\n",
        "\n",
        "    # 3. Make a function that removes all stopwords.\n",
        "\n",
        "    def remove_stopwords(self, input_string):\n",
        "        words = word_tokenize(input_string)\n",
        "        valid_words = []\n",
        "\n",
        "        for word in words:\n",
        "            if word not in stopwords:\n",
        "                valid_words.append(word)\n",
        "\n",
        "        input_string = \" \".join(valid_words)\n",
        "\n",
        "        return input_string\n",
        "\n",
        "    # 4. Make a function that breaks words into their stem words.\n",
        "\n",
        "    def stem_words(self, input_string):\n",
        "        porter = PorterStemmer()\n",
        "        words = word_tokenize(input_string)\n",
        "        valid_words = []\n",
        "\n",
        "        for word in words:\n",
        "            stemmed_word = porter.stem(word)\n",
        "            valid_words.append(stemmed_word)\n",
        "\n",
        "        input_string = \" \".join(valid_words)\n",
        "\n",
        "        return input_string\n",
        "\n",
        "    # 5. Make a pipeline function that applies all the text processing functions you just built.\n",
        "\n",
        "    def pipeline(self, input_string):\n",
        "        input_string = self.make_lowercase(input_string)\n",
        "        input_string = self.remove_punctuation(input_string)\n",
        "        input_string = self.remove_stopwords(input_string)\n",
        "        input_string = self.stem_words(input_string)\n",
        "        return input_string"
      ]
    },
    {
      "cell_type": "code",
      "execution_count": 22,
      "metadata": {},
      "outputs": [
        {
          "name": "stdout",
          "output_type": "stream",
          "text": [
            "ORIGINAL TWEET:\n",
            "\n",
            " I’m hopeful that President @realDonaldTrump’s visit to Asia will push North Korea to come to the table.  https://t.co/f7XAPwma4l\n",
            "\n",
            "CLEANED TWEET:\n",
            "\n",
            " im hope presid realdonaldtrump visit asia push north korea come tabl httpstcof7xapwma4l\n"
          ]
        }
      ],
      "source": [
        "cleaner = Cleaner()\n",
        "\n",
        "df[\"Tweet_clean\"] = df[\"Tweet\"]\n",
        "df[\"Tweet_clean\"] = df[\"Tweet\"].apply(cleaner.pipeline)\n",
        "\n",
        "print(\"ORIGINAL TWEET:\\n\\n\", df[\"Tweet\"][0])\n",
        "print(\"\\nCLEANED TWEET:\\n\\n\", df[\"Tweet_clean\"][0])"
      ]
    },
    {
      "cell_type": "code",
      "execution_count": 23,
      "metadata": {
        "colab": {
          "base_uri": "https://localhost:8080/",
          "height": 206
        },
        "id": "PA2BCrHRbRXo",
        "outputId": "a6ab7272-95f8-437a-c0eb-ac8b0707e5d6"
      },
      "outputs": [
        {
          "data": {
            "text/html": [
              "<div>\n",
              "<style scoped>\n",
              "    .dataframe tbody tr th:only-of-type {\n",
              "        vertical-align: middle;\n",
              "    }\n",
              "\n",
              "    .dataframe tbody tr th {\n",
              "        vertical-align: top;\n",
              "    }\n",
              "\n",
              "    .dataframe thead th {\n",
              "        text-align: right;\n",
              "    }\n",
              "</style>\n",
              "<table border=\"1\" class=\"dataframe\">\n",
              "  <thead>\n",
              "    <tr style=\"text-align: right;\">\n",
              "      <th></th>\n",
              "      <th>Party</th>\n",
              "      <th>Handle</th>\n",
              "      <th>Tweet</th>\n",
              "      <th>Tweet_clean</th>\n",
              "    </tr>\n",
              "  </thead>\n",
              "  <tbody>\n",
              "    <tr>\n",
              "      <th>0</th>\n",
              "      <td>Republican</td>\n",
              "      <td>farenthold</td>\n",
              "      <td>I’m hopeful that President @realDonaldTrump’s ...</td>\n",
              "      <td>im hope presid realdonaldtrump visit asia push...</td>\n",
              "    </tr>\n",
              "    <tr>\n",
              "      <th>1</th>\n",
              "      <td>Republican</td>\n",
              "      <td>RepChrisStewart</td>\n",
              "      <td>RT @OutFrontCNN: .@RepChrisStewart: Kushner \"a...</td>\n",
              "      <td>rt outfrontcnn repchrisstewart kushner great w...</td>\n",
              "    </tr>\n",
              "    <tr>\n",
              "      <th>2</th>\n",
              "      <td>Democrat</td>\n",
              "      <td>RepBradAshford</td>\n",
              "      <td>Join me today @UNOmaha as I honor Dr. Lourdes ...</td>\n",
              "      <td>join today unomaha honor dr lourd gouveia cont...</td>\n",
              "    </tr>\n",
              "    <tr>\n",
              "      <th>3</th>\n",
              "      <td>Republican</td>\n",
              "      <td>GOPpolicy</td>\n",
              "      <td>#GOPWorkingforWomen hearing LIVE now on https:...</td>\n",
              "      <td>gopworkingforwomen hear live httpstco9thhlxfu7k</td>\n",
              "    </tr>\n",
              "    <tr>\n",
              "      <th>4</th>\n",
              "      <td>Democrat</td>\n",
              "      <td>RepBonamici</td>\n",
              "      <td>Portland Town Hall Meeting\\nSaturday, March 10...</td>\n",
              "      <td>portland town hall meet saturday march 10 1030...</td>\n",
              "    </tr>\n",
              "  </tbody>\n",
              "</table>\n",
              "</div>"
            ],
            "text/plain": [
              "        Party           Handle  \\\n",
              "0  Republican       farenthold   \n",
              "1  Republican  RepChrisStewart   \n",
              "2    Democrat   RepBradAshford   \n",
              "3  Republican        GOPpolicy   \n",
              "4    Democrat      RepBonamici   \n",
              "\n",
              "                                               Tweet  \\\n",
              "0  I’m hopeful that President @realDonaldTrump’s ...   \n",
              "1  RT @OutFrontCNN: .@RepChrisStewart: Kushner \"a...   \n",
              "2  Join me today @UNOmaha as I honor Dr. Lourdes ...   \n",
              "3  #GOPWorkingforWomen hearing LIVE now on https:...   \n",
              "4  Portland Town Hall Meeting\\nSaturday, March 10...   \n",
              "\n",
              "                                         Tweet_clean  \n",
              "0  im hope presid realdonaldtrump visit asia push...  \n",
              "1  rt outfrontcnn repchrisstewart kushner great w...  \n",
              "2  join today unomaha honor dr lourd gouveia cont...  \n",
              "3    gopworkingforwomen hear live httpstco9thhlxfu7k  \n",
              "4  portland town hall meet saturday march 10 1030...  "
            ]
          },
          "execution_count": 23,
          "metadata": {},
          "output_type": "execute_result"
        }
      ],
      "source": [
        "# Print/Display/Return the first 5 rows of the file dem-vs-rep-tweets.csv to make sure the file was loaded successfully.\n",
        "\n",
        "df.head()"
      ]
    },
    {
      "cell_type": "markdown",
      "metadata": {},
      "source": [
        "---\n",
        "\n",
        "# Label Encoder\n"
      ]
    },
    {
      "cell_type": "code",
      "execution_count": 24,
      "metadata": {
        "id": "amv1wYnqfz44"
      },
      "outputs": [],
      "source": [
        "le = preprocessing.LabelEncoder()\n",
        "le.fit(df[\"Party\"].tolist())\n",
        "\n",
        "df[\"label\"] = le.transform(df[\"Party\"].tolist())"
      ]
    },
    {
      "cell_type": "code",
      "execution_count": 25,
      "metadata": {
        "colab": {
          "base_uri": "https://localhost:8080/",
          "height": 206
        },
        "id": "ynKkUmJPm_QK",
        "outputId": "9b0cbbec-12c0-420e-d76a-305a88dd500e"
      },
      "outputs": [
        {
          "data": {
            "text/html": [
              "<div>\n",
              "<style scoped>\n",
              "    .dataframe tbody tr th:only-of-type {\n",
              "        vertical-align: middle;\n",
              "    }\n",
              "\n",
              "    .dataframe tbody tr th {\n",
              "        vertical-align: top;\n",
              "    }\n",
              "\n",
              "    .dataframe thead th {\n",
              "        text-align: right;\n",
              "    }\n",
              "</style>\n",
              "<table border=\"1\" class=\"dataframe\">\n",
              "  <thead>\n",
              "    <tr style=\"text-align: right;\">\n",
              "      <th></th>\n",
              "      <th>Party</th>\n",
              "      <th>Handle</th>\n",
              "      <th>Tweet</th>\n",
              "      <th>Tweet_clean</th>\n",
              "      <th>label</th>\n",
              "    </tr>\n",
              "  </thead>\n",
              "  <tbody>\n",
              "    <tr>\n",
              "      <th>0</th>\n",
              "      <td>Republican</td>\n",
              "      <td>farenthold</td>\n",
              "      <td>I’m hopeful that President @realDonaldTrump’s ...</td>\n",
              "      <td>im hope presid realdonaldtrump visit asia push...</td>\n",
              "      <td>1</td>\n",
              "    </tr>\n",
              "    <tr>\n",
              "      <th>1</th>\n",
              "      <td>Republican</td>\n",
              "      <td>RepChrisStewart</td>\n",
              "      <td>RT @OutFrontCNN: .@RepChrisStewart: Kushner \"a...</td>\n",
              "      <td>rt outfrontcnn repchrisstewart kushner great w...</td>\n",
              "      <td>1</td>\n",
              "    </tr>\n",
              "    <tr>\n",
              "      <th>2</th>\n",
              "      <td>Democrat</td>\n",
              "      <td>RepBradAshford</td>\n",
              "      <td>Join me today @UNOmaha as I honor Dr. Lourdes ...</td>\n",
              "      <td>join today unomaha honor dr lourd gouveia cont...</td>\n",
              "      <td>0</td>\n",
              "    </tr>\n",
              "    <tr>\n",
              "      <th>3</th>\n",
              "      <td>Republican</td>\n",
              "      <td>GOPpolicy</td>\n",
              "      <td>#GOPWorkingforWomen hearing LIVE now on https:...</td>\n",
              "      <td>gopworkingforwomen hear live httpstco9thhlxfu7k</td>\n",
              "      <td>1</td>\n",
              "    </tr>\n",
              "    <tr>\n",
              "      <th>4</th>\n",
              "      <td>Democrat</td>\n",
              "      <td>RepBonamici</td>\n",
              "      <td>Portland Town Hall Meeting\\nSaturday, March 10...</td>\n",
              "      <td>portland town hall meet saturday march 10 1030...</td>\n",
              "      <td>0</td>\n",
              "    </tr>\n",
              "  </tbody>\n",
              "</table>\n",
              "</div>"
            ],
            "text/plain": [
              "        Party           Handle  \\\n",
              "0  Republican       farenthold   \n",
              "1  Republican  RepChrisStewart   \n",
              "2    Democrat   RepBradAshford   \n",
              "3  Republican        GOPpolicy   \n",
              "4    Democrat      RepBonamici   \n",
              "\n",
              "                                               Tweet  \\\n",
              "0  I’m hopeful that President @realDonaldTrump’s ...   \n",
              "1  RT @OutFrontCNN: .@RepChrisStewart: Kushner \"a...   \n",
              "2  Join me today @UNOmaha as I honor Dr. Lourdes ...   \n",
              "3  #GOPWorkingforWomen hearing LIVE now on https:...   \n",
              "4  Portland Town Hall Meeting\\nSaturday, March 10...   \n",
              "\n",
              "                                         Tweet_clean  label  \n",
              "0  im hope presid realdonaldtrump visit asia push...      1  \n",
              "1  rt outfrontcnn repchrisstewart kushner great w...      1  \n",
              "2  join today unomaha honor dr lourd gouveia cont...      0  \n",
              "3    gopworkingforwomen hear live httpstco9thhlxfu7k      1  \n",
              "4  portland town hall meet saturday march 10 1030...      0  "
            ]
          },
          "execution_count": 25,
          "metadata": {},
          "output_type": "execute_result"
        }
      ],
      "source": [
        "df.head()"
      ]
    },
    {
      "cell_type": "markdown",
      "metadata": {},
      "source": [
        "---\n",
        "\n",
        "# train_test_split\n"
      ]
    },
    {
      "cell_type": "code",
      "execution_count": 26,
      "metadata": {
        "id": "uKluSPhCfOj6"
      },
      "outputs": [],
      "source": [
        "df_train, df_test = train_test_split(df, test_size=0.2)"
      ]
    },
    {
      "cell_type": "code",
      "execution_count": 27,
      "metadata": {},
      "outputs": [
        {
          "data": {
            "text/html": [
              "<div>\n",
              "<style scoped>\n",
              "    .dataframe tbody tr th:only-of-type {\n",
              "        vertical-align: middle;\n",
              "    }\n",
              "\n",
              "    .dataframe tbody tr th {\n",
              "        vertical-align: top;\n",
              "    }\n",
              "\n",
              "    .dataframe thead th {\n",
              "        text-align: right;\n",
              "    }\n",
              "</style>\n",
              "<table border=\"1\" class=\"dataframe\">\n",
              "  <thead>\n",
              "    <tr style=\"text-align: right;\">\n",
              "      <th></th>\n",
              "      <th>Party</th>\n",
              "      <th>Handle</th>\n",
              "      <th>Tweet</th>\n",
              "      <th>Tweet_clean</th>\n",
              "      <th>label</th>\n",
              "    </tr>\n",
              "  </thead>\n",
              "  <tbody>\n",
              "    <tr>\n",
              "      <th>563</th>\n",
              "      <td>Republican</td>\n",
              "      <td>RepRalphNorman</td>\n",
              "      <td>RT @RepRalphNorman: Participate in my Twitter ...</td>\n",
              "      <td>rt repralphnorman particip twitter qampa ask q...</td>\n",
              "      <td>1</td>\n",
              "    </tr>\n",
              "    <tr>\n",
              "      <th>790</th>\n",
              "      <td>Democrat</td>\n",
              "      <td>RepDonaldPayne</td>\n",
              "      <td>RT @HomelandDems: Was Tillerson fired today be...</td>\n",
              "      <td>rt homelanddem tillerson fire today stood uk p...</td>\n",
              "      <td>0</td>\n",
              "    </tr>\n",
              "    <tr>\n",
              "      <th>143</th>\n",
              "      <td>Republican</td>\n",
              "      <td>GOPoversight</td>\n",
              "      <td>RT @FoxNews: .@TGowdySC on missing FBI text me...</td>\n",
              "      <td>rt foxnew tgowdysc miss fbi text messag bia in...</td>\n",
              "      <td>1</td>\n",
              "    </tr>\n",
              "    <tr>\n",
              "      <th>646</th>\n",
              "      <td>Democrat</td>\n",
              "      <td>RepRaskin</td>\n",
              "      <td>If your DACA status expired on or after Septem...</td>\n",
              "      <td>daca statu expir septemb 5 2016 may submit dac...</td>\n",
              "      <td>0</td>\n",
              "    </tr>\n",
              "    <tr>\n",
              "      <th>890</th>\n",
              "      <td>Republican</td>\n",
              "      <td>RepSeanDuffy</td>\n",
              "      <td>RT @RepSeanDuffy: Hey Wisconsin high school st...</td>\n",
              "      <td>rt repseanduffi hey wisconsin high school stud...</td>\n",
              "      <td>1</td>\n",
              "    </tr>\n",
              "    <tr>\n",
              "      <th>...</th>\n",
              "      <td>...</td>\n",
              "      <td>...</td>\n",
              "      <td>...</td>\n",
              "      <td>...</td>\n",
              "      <td>...</td>\n",
              "    </tr>\n",
              "    <tr>\n",
              "      <th>468</th>\n",
              "      <td>Democrat</td>\n",
              "      <td>RepMaxineWaters</td>\n",
              "      <td>RT @amjoyshow: .@RepMaxineWaters Demands Twitt...</td>\n",
              "      <td>rt amjoyshow repmaxinewat demand twitter discl...</td>\n",
              "      <td>0</td>\n",
              "    </tr>\n",
              "    <tr>\n",
              "      <th>286</th>\n",
              "      <td>Republican</td>\n",
              "      <td>HouseHomeland</td>\n",
              "      <td>In this month's #TerrorThreatSnapshot: Terror ...</td>\n",
              "      <td>month terrorthreatsnapshot terror europ rise 1...</td>\n",
              "      <td>1</td>\n",
              "    </tr>\n",
              "    <tr>\n",
              "      <th>869</th>\n",
              "      <td>Democrat</td>\n",
              "      <td>AGBecerra</td>\n",
              "      <td>TUNE IN at 12PM: I will be joining the OC Sher...</td>\n",
              "      <td>tune 12pm join oc sheriff depart announc joint...</td>\n",
              "      <td>0</td>\n",
              "    </tr>\n",
              "    <tr>\n",
              "      <th>186</th>\n",
              "      <td>Republican</td>\n",
              "      <td>PeteSessions</td>\n",
              "      <td>Tax reform created pop in our economy by encou...</td>\n",
              "      <td>tax reform creat pop economi encourag busi cre...</td>\n",
              "      <td>1</td>\n",
              "    </tr>\n",
              "    <tr>\n",
              "      <th>556</th>\n",
              "      <td>Democrat</td>\n",
              "      <td>PeterWelch</td>\n",
              "      <td>RT @NTCAconnect: .@PeterWelch says absent fund...</td>\n",
              "      <td>rt ntcaconnect peterwelch say absent fund rura...</td>\n",
              "      <td>0</td>\n",
              "    </tr>\n",
              "  </tbody>\n",
              "</table>\n",
              "<p>800 rows × 5 columns</p>\n",
              "</div>"
            ],
            "text/plain": [
              "          Party           Handle  \\\n",
              "563  Republican   RepRalphNorman   \n",
              "790    Democrat   RepDonaldPayne   \n",
              "143  Republican     GOPoversight   \n",
              "646    Democrat        RepRaskin   \n",
              "890  Republican     RepSeanDuffy   \n",
              "..          ...              ...   \n",
              "468    Democrat  RepMaxineWaters   \n",
              "286  Republican    HouseHomeland   \n",
              "869    Democrat        AGBecerra   \n",
              "186  Republican     PeteSessions   \n",
              "556    Democrat       PeterWelch   \n",
              "\n",
              "                                                 Tweet  \\\n",
              "563  RT @RepRalphNorman: Participate in my Twitter ...   \n",
              "790  RT @HomelandDems: Was Tillerson fired today be...   \n",
              "143  RT @FoxNews: .@TGowdySC on missing FBI text me...   \n",
              "646  If your DACA status expired on or after Septem...   \n",
              "890  RT @RepSeanDuffy: Hey Wisconsin high school st...   \n",
              "..                                                 ...   \n",
              "468  RT @amjoyshow: .@RepMaxineWaters Demands Twitt...   \n",
              "286  In this month's #TerrorThreatSnapshot: Terror ...   \n",
              "869  TUNE IN at 12PM: I will be joining the OC Sher...   \n",
              "186  Tax reform created pop in our economy by encou...   \n",
              "556  RT @NTCAconnect: .@PeterWelch says absent fund...   \n",
              "\n",
              "                                           Tweet_clean  label  \n",
              "563  rt repralphnorman particip twitter qampa ask q...      1  \n",
              "790  rt homelanddem tillerson fire today stood uk p...      0  \n",
              "143  rt foxnew tgowdysc miss fbi text messag bia in...      1  \n",
              "646  daca statu expir septemb 5 2016 may submit dac...      0  \n",
              "890  rt repseanduffi hey wisconsin high school stud...      1  \n",
              "..                                                 ...    ...  \n",
              "468  rt amjoyshow repmaxinewat demand twitter discl...      0  \n",
              "286  month terrorthreatsnapshot terror europ rise 1...      1  \n",
              "869  tune 12pm join oc sheriff depart announc joint...      0  \n",
              "186  tax reform creat pop economi encourag busi cre...      1  \n",
              "556  rt ntcaconnect peterwelch say absent fund rura...      0  \n",
              "\n",
              "[800 rows x 5 columns]"
            ]
          },
          "execution_count": 27,
          "metadata": {},
          "output_type": "execute_result"
        }
      ],
      "source": [
        "df_train"
      ]
    },
    {
      "cell_type": "code",
      "execution_count": 28,
      "metadata": {},
      "outputs": [
        {
          "data": {
            "text/html": [
              "<div>\n",
              "<style scoped>\n",
              "    .dataframe tbody tr th:only-of-type {\n",
              "        vertical-align: middle;\n",
              "    }\n",
              "\n",
              "    .dataframe tbody tr th {\n",
              "        vertical-align: top;\n",
              "    }\n",
              "\n",
              "    .dataframe thead th {\n",
              "        text-align: right;\n",
              "    }\n",
              "</style>\n",
              "<table border=\"1\" class=\"dataframe\">\n",
              "  <thead>\n",
              "    <tr style=\"text-align: right;\">\n",
              "      <th></th>\n",
              "      <th>Party</th>\n",
              "      <th>Handle</th>\n",
              "      <th>Tweet</th>\n",
              "      <th>Tweet_clean</th>\n",
              "      <th>label</th>\n",
              "    </tr>\n",
              "  </thead>\n",
              "  <tbody>\n",
              "    <tr>\n",
              "      <th>636</th>\n",
              "      <td>Republican</td>\n",
              "      <td>boblatta</td>\n",
              "      <td>Today is #VietnamWarVeteransDay, recognizing t...</td>\n",
              "      <td>today vietnamwarveteransday recogn 8 million a...</td>\n",
              "      <td>1</td>\n",
              "    </tr>\n",
              "    <tr>\n",
              "      <th>908</th>\n",
              "      <td>Democrat</td>\n",
              "      <td>RepLoisCapps</td>\n",
              "      <td>Thanks @SLOTribune for running my op-ed highli...</td>\n",
              "      <td>thank slotribun run ope highlight need protect...</td>\n",
              "      <td>0</td>\n",
              "    </tr>\n",
              "    <tr>\n",
              "      <th>684</th>\n",
              "      <td>Republican</td>\n",
              "      <td>RepSmucker</td>\n",
              "      <td>The deal fails to prevent Iran from testing ba...</td>\n",
              "      <td>deal fail prevent iran test ballist missil add...</td>\n",
              "      <td>1</td>\n",
              "    </tr>\n",
              "    <tr>\n",
              "      <th>375</th>\n",
              "      <td>Republican</td>\n",
              "      <td>RepScottPerry</td>\n",
              "      <td>I’ll be on Your World with Neil Cavuto on @Fox...</td>\n",
              "      <td>ill world neil cavuto foxnew around 410 pm aft...</td>\n",
              "      <td>1</td>\n",
              "    </tr>\n",
              "    <tr>\n",
              "      <th>884</th>\n",
              "      <td>Republican</td>\n",
              "      <td>Jim_Jordan</td>\n",
              "      <td>RT @FoxNews: .@Jim_Jordan on FISA memo: \"Tomor...</td>\n",
              "      <td>rt foxnew jim_jordan fisa memo tomorrow memo c...</td>\n",
              "      <td>1</td>\n",
              "    </tr>\n",
              "    <tr>\n",
              "      <th>...</th>\n",
              "      <td>...</td>\n",
              "      <td>...</td>\n",
              "      <td>...</td>\n",
              "      <td>...</td>\n",
              "      <td>...</td>\n",
              "    </tr>\n",
              "    <tr>\n",
              "      <th>816</th>\n",
              "      <td>Republican</td>\n",
              "      <td>SpeakerRyan</td>\n",
              "      <td>House Republicans are continuing to make good ...</td>\n",
              "      <td>hous republican continu make good agenda promi...</td>\n",
              "      <td>1</td>\n",
              "    </tr>\n",
              "    <tr>\n",
              "      <th>8</th>\n",
              "      <td>Democrat</td>\n",
              "      <td>RepDennyHeck</td>\n",
              "      <td>Great to join the unveiling of the new Eastsid...</td>\n",
              "      <td>great join unveil new eastsid commun center lo...</td>\n",
              "      <td>0</td>\n",
              "    </tr>\n",
              "    <tr>\n",
              "      <th>367</th>\n",
              "      <td>Democrat</td>\n",
              "      <td>RepCarbajal</td>\n",
              "      <td>As the son of a farmworker who worked in the f...</td>\n",
              "      <td>son farmwork work field make live famili centr...</td>\n",
              "      <td>0</td>\n",
              "    </tr>\n",
              "    <tr>\n",
              "      <th>393</th>\n",
              "      <td>Republican</td>\n",
              "      <td>RepChrisCollins</td>\n",
              "      <td>About to join @wolfblitzer on CNN to discuss t...</td>\n",
              "      <td>join wolfblitz cnn discuss today news httpstco...</td>\n",
              "      <td>1</td>\n",
              "    </tr>\n",
              "    <tr>\n",
              "      <th>502</th>\n",
              "      <td>Democrat</td>\n",
              "      <td>RepRickLarsen</td>\n",
              "      <td>RT @smallUAVs: . In particular, the Coalition ...</td>\n",
              "      <td>rt smalluav particular coalit thank repbillshu...</td>\n",
              "      <td>0</td>\n",
              "    </tr>\n",
              "  </tbody>\n",
              "</table>\n",
              "<p>200 rows × 5 columns</p>\n",
              "</div>"
            ],
            "text/plain": [
              "          Party           Handle  \\\n",
              "636  Republican         boblatta   \n",
              "908    Democrat     RepLoisCapps   \n",
              "684  Republican       RepSmucker   \n",
              "375  Republican    RepScottPerry   \n",
              "884  Republican       Jim_Jordan   \n",
              "..          ...              ...   \n",
              "816  Republican      SpeakerRyan   \n",
              "8      Democrat     RepDennyHeck   \n",
              "367    Democrat      RepCarbajal   \n",
              "393  Republican  RepChrisCollins   \n",
              "502    Democrat    RepRickLarsen   \n",
              "\n",
              "                                                 Tweet  \\\n",
              "636  Today is #VietnamWarVeteransDay, recognizing t...   \n",
              "908  Thanks @SLOTribune for running my op-ed highli...   \n",
              "684  The deal fails to prevent Iran from testing ba...   \n",
              "375  I’ll be on Your World with Neil Cavuto on @Fox...   \n",
              "884  RT @FoxNews: .@Jim_Jordan on FISA memo: \"Tomor...   \n",
              "..                                                 ...   \n",
              "816  House Republicans are continuing to make good ...   \n",
              "8    Great to join the unveiling of the new Eastsid...   \n",
              "367  As the son of a farmworker who worked in the f...   \n",
              "393  About to join @wolfblitzer on CNN to discuss t...   \n",
              "502  RT @smallUAVs: . In particular, the Coalition ...   \n",
              "\n",
              "                                           Tweet_clean  label  \n",
              "636  today vietnamwarveteransday recogn 8 million a...      1  \n",
              "908  thank slotribun run ope highlight need protect...      0  \n",
              "684  deal fail prevent iran test ballist missil add...      1  \n",
              "375  ill world neil cavuto foxnew around 410 pm aft...      1  \n",
              "884  rt foxnew jim_jordan fisa memo tomorrow memo c...      1  \n",
              "..                                                 ...    ...  \n",
              "816  hous republican continu make good agenda promi...      1  \n",
              "8    great join unveil new eastsid commun center lo...      0  \n",
              "367  son farmwork work field make live famili centr...      0  \n",
              "393  join wolfblitz cnn discuss today news httpstco...      1  \n",
              "502  rt smalluav particular coalit thank repbillshu...      0  \n",
              "\n",
              "[200 rows x 5 columns]"
            ]
          },
          "execution_count": 28,
          "metadata": {},
          "output_type": "execute_result"
        }
      ],
      "source": [
        "df_test"
      ]
    },
    {
      "cell_type": "markdown",
      "metadata": {},
      "source": [
        "---\n",
        "\n",
        "# Convert to Huggingface Dataset\n"
      ]
    },
    {
      "cell_type": "code",
      "execution_count": 29,
      "metadata": {
        "id": "tG9-ZMjTd7p0"
      },
      "outputs": [],
      "source": [
        "train_dataset = Dataset.from_pandas(df_train)\n",
        "test_dataset = Dataset.from_pandas(df_test)"
      ]
    },
    {
      "cell_type": "markdown",
      "metadata": {},
      "source": [
        "---\n",
        "\n",
        "# Tokenizer\n"
      ]
    },
    {
      "cell_type": "code",
      "execution_count": 30,
      "metadata": {},
      "outputs": [],
      "source": [
        "tokenizer = AutoTokenizer.from_pretrained(model_name)"
      ]
    },
    {
      "cell_type": "code",
      "execution_count": 31,
      "metadata": {
        "id": "bBkVtFI6cQXO"
      },
      "outputs": [],
      "source": [
        "def preprocess_function(examples):\n",
        "    return tokenizer(examples[\"Tweet_clean\"], truncation=True)"
      ]
    },
    {
      "cell_type": "code",
      "execution_count": 32,
      "metadata": {
        "colab": {
          "base_uri": "https://localhost:8080/",
          "height": 49,
          "referenced_widgets": [
            "5d25773c687b4b4ab69e1c10c8fa89b0",
            "498012cbf13349eb9f4d166b4874df05",
            "f8a32737b8964837a2f5226174847726",
            "dabc5d9de971483f8fd051e9b2b6bce8",
            "237f962b863645b8bcb2e62437c82c5c",
            "a6512cbd14e14c0ebff3521058523a85",
            "b768d60049934053bd862ed8fafcc283",
            "7cf440d3ff2345e5b2d6742221742fe5",
            "d5cbfebcf7a94e43bc81e4d1cdb8e7a5",
            "af7f39e0956741b6b6f807580b58b54d",
            "9aa1a30d899344949dd1a1ab49d7a489"
          ]
        },
        "id": "TphCc-8ln8ft",
        "outputId": "836d3c31-f2db-4d1c-9ed9-86cb5a49f162"
      },
      "outputs": [
        {
          "name": "stderr",
          "output_type": "stream",
          "text": [
            "Map: 100%|██████████| 800/800 [00:00<00:00, 36338.70 examples/s]\n",
            "Map: 100%|██████████| 200/200 [00:00<00:00, 200157.67 examples/s]\n"
          ]
        }
      ],
      "source": [
        "tokenized_train = train_dataset.map(preprocess_function, batched=True)\n",
        "tokenized_test = test_dataset.map(preprocess_function, batched=True)"
      ]
    },
    {
      "cell_type": "markdown",
      "metadata": {},
      "source": [
        "---\n",
        "\n",
        "# Initialize Model\n"
      ]
    },
    {
      "cell_type": "code",
      "execution_count": 33,
      "metadata": {
        "colab": {
          "base_uri": "https://localhost:8080/"
        },
        "id": "PHe02h-2iJXa",
        "outputId": "ecca279c-09ca-4322-8798-1faea2d7bd55"
      },
      "outputs": [
        {
          "name": "stderr",
          "output_type": "stream",
          "text": [
            "Some weights of DistilBertForSequenceClassification were not initialized from the model checkpoint at distilbert-base-uncased and are newly initialized: ['classifier.weight', 'pre_classifier.weight', 'classifier.bias', 'pre_classifier.bias']\n",
            "You should probably TRAIN this model on a down-stream task to be able to use it for predictions and inference.\n"
          ]
        }
      ],
      "source": [
        "model = AutoModelForSequenceClassification.from_pretrained(model_name, num_labels=2)"
      ]
    },
    {
      "cell_type": "markdown",
      "metadata": {},
      "source": [
        "---\n",
        "\n",
        "# Train Model\n"
      ]
    },
    {
      "cell_type": "code",
      "execution_count": 34,
      "metadata": {
        "id": "wMyay2U3iJZ7"
      },
      "outputs": [],
      "source": [
        "data_collator = DataCollatorWithPadding(tokenizer=tokenizer)"
      ]
    },
    {
      "cell_type": "code",
      "execution_count": 35,
      "metadata": {},
      "outputs": [],
      "source": [
        "metric = evaluate.load(\"accuracy\")"
      ]
    },
    {
      "cell_type": "code",
      "execution_count": 36,
      "metadata": {
        "id": "TSOJ9Z_4YrMc"
      },
      "outputs": [],
      "source": [
        "def compute_metrics(eval_pred):\n",
        "    logits, labels = eval_pred\n",
        "    predictions = np.argmax(logits, axis=-1)\n",
        "    return metric.compute(predictions=predictions, references=labels)"
      ]
    },
    {
      "cell_type": "code",
      "execution_count": 37,
      "metadata": {},
      "outputs": [],
      "source": [
        "# Hyperparameters.\n",
        "\n",
        "num_train_epochs = 3\n",
        "learning_rate = 2e-4\n",
        "per_device_train_batch_size = 8\n",
        "per_device_eval_batch_size = 8\n",
        "weight_decay = 0.01"
      ]
    },
    {
      "cell_type": "code",
      "execution_count": 38,
      "metadata": {},
      "outputs": [],
      "source": [
        "evaluation_strategy = \"epoch\"\n",
        "logging_strategy = \"epoch\"\n",
        "\n",
        "training_args = TrainingArguments(\n",
        "    output_dir=\"./results_tweets\",\n",
        "    learning_rate=learning_rate,\n",
        "    per_device_train_batch_size=per_device_train_batch_size,\n",
        "    per_device_eval_batch_size=per_device_eval_batch_size,\n",
        "    num_train_epochs=num_train_epochs,\n",
        "    weight_decay=weight_decay,\n",
        "    evaluation_strategy=evaluation_strategy,\n",
        "    logging_strategy=logging_strategy,\n",
        ")"
      ]
    },
    {
      "cell_type": "code",
      "execution_count": 39,
      "metadata": {
        "id": "UNs2yNXei6oO"
      },
      "outputs": [],
      "source": [
        "trainer = Trainer(\n",
        "    model=model,\n",
        "    args=training_args,\n",
        "    train_dataset=tokenized_train,\n",
        "    eval_dataset=tokenized_test,\n",
        "    tokenizer=tokenizer,\n",
        "    data_collator=data_collator,\n",
        "    compute_metrics=compute_metrics,\n",
        ")"
      ]
    },
    {
      "cell_type": "code",
      "execution_count": 40,
      "metadata": {
        "colab": {
          "base_uri": "https://localhost:8080/",
          "height": 1000
        },
        "id": "emZZhxQiiZsH",
        "outputId": "4167e861-94ca-4904-fab7-06479814b518"
      },
      "outputs": [
        {
          "name": "stderr",
          "output_type": "stream",
          "text": [
            "  0%|          | 0/300 [00:00<?, ?it/s]You're using a DistilBertTokenizerFast tokenizer. Please note that with a fast tokenizer, using the `__call__` method is faster than using a method to encode the text followed by a call to the `pad` method to get a padded encoding.\n",
            " 33%|███▎      | 100/300 [00:55<02:14,  1.49it/s]"
          ]
        },
        {
          "name": "stdout",
          "output_type": "stream",
          "text": [
            "{'loss': 0.7171, 'learning_rate': 0.00013333333333333334, 'epoch': 1.0}\n"
          ]
        },
        {
          "name": "stderr",
          "output_type": "stream",
          "text": [
            "                                                 \n",
            " 33%|███▎      | 100/300 [00:59<02:14,  1.49it/s]"
          ]
        },
        {
          "name": "stdout",
          "output_type": "stream",
          "text": [
            "{'eval_loss': 0.704609215259552, 'eval_accuracy': 0.47, 'eval_runtime': 3.3705, 'eval_samples_per_second': 59.338, 'eval_steps_per_second': 7.417, 'epoch': 1.0}\n"
          ]
        },
        {
          "name": "stderr",
          "output_type": "stream",
          "text": [
            " 67%|██████▋   | 200/300 [01:58<00:47,  2.10it/s]"
          ]
        },
        {
          "name": "stdout",
          "output_type": "stream",
          "text": [
            "{'loss': 0.7042, 'learning_rate': 6.666666666666667e-05, 'epoch': 2.0}\n"
          ]
        },
        {
          "name": "stderr",
          "output_type": "stream",
          "text": [
            "                                                 \n",
            " 67%|██████▋   | 200/300 [02:01<00:47,  2.10it/s]"
          ]
        },
        {
          "name": "stdout",
          "output_type": "stream",
          "text": [
            "{'eval_loss': 0.6984726190567017, 'eval_accuracy': 0.47, 'eval_runtime': 2.9708, 'eval_samples_per_second': 67.323, 'eval_steps_per_second': 8.415, 'epoch': 2.0}\n"
          ]
        },
        {
          "name": "stderr",
          "output_type": "stream",
          "text": [
            "100%|██████████| 300/300 [03:07<00:00,  1.58it/s]"
          ]
        },
        {
          "name": "stdout",
          "output_type": "stream",
          "text": [
            "{'loss': 0.6972, 'learning_rate': 0.0, 'epoch': 3.0}\n"
          ]
        },
        {
          "name": "stderr",
          "output_type": "stream",
          "text": [
            "                                                 \n",
            "100%|██████████| 300/300 [03:10<00:00,  1.57it/s]"
          ]
        },
        {
          "name": "stdout",
          "output_type": "stream",
          "text": [
            "{'eval_loss': 0.7091423869132996, 'eval_accuracy': 0.47, 'eval_runtime': 3.3292, 'eval_samples_per_second': 60.074, 'eval_steps_per_second': 7.509, 'epoch': 3.0}\n",
            "{'train_runtime': 190.757, 'train_samples_per_second': 12.581, 'train_steps_per_second': 1.573, 'train_loss': 0.7061505126953125, 'epoch': 3.0}\n"
          ]
        },
        {
          "name": "stderr",
          "output_type": "stream",
          "text": [
            "\n"
          ]
        },
        {
          "data": {
            "text/plain": [
              "TrainOutput(global_step=300, training_loss=0.7061505126953125, metrics={'train_runtime': 190.757, 'train_samples_per_second': 12.581, 'train_steps_per_second': 1.573, 'train_loss': 0.7061505126953125, 'epoch': 3.0})"
            ]
          },
          "execution_count": 40,
          "metadata": {},
          "output_type": "execute_result"
        }
      ],
      "source": [
        "trainer.train()"
      ]
    },
    {
      "cell_type": "code",
      "execution_count": 41,
      "metadata": {
        "colab": {
          "base_uri": "https://localhost:8080/"
        },
        "id": "YDFUsLWfiM-P",
        "outputId": "8bd2ae61-44b2-4c33-c293-6541821d9cec"
      },
      "outputs": [],
      "source": [
        "trainer.save_model(\"tweets_model\")"
      ]
    },
    {
      "cell_type": "markdown",
      "metadata": {},
      "source": [
        "---\n",
        "\n",
        "# Evaluate Model\n"
      ]
    },
    {
      "cell_type": "markdown",
      "metadata": {},
      "source": [
        "---\n",
        "\n",
        "# Training Data\n"
      ]
    },
    {
      "cell_type": "code",
      "execution_count": 42,
      "metadata": {},
      "outputs": [
        {
          "name": "stderr",
          "output_type": "stream",
          "text": [
            "100%|██████████| 100/100 [00:13<00:00,  7.68it/s]\n"
          ]
        }
      ],
      "source": [
        "train_predictions = trainer.predict(tokenized_train)[1]"
      ]
    },
    {
      "cell_type": "code",
      "execution_count": 43,
      "metadata": {},
      "outputs": [
        {
          "name": "stdout",
          "output_type": "stream",
          "text": [
            "[1 0 1 0 1 0 1 0 1 0 0 1 1 0 1 0 1 1 1 0 0 0 1 1 1 1 1 0 1 0 1 0 1 1 0 1 0\n",
            " 0 1 1 1 0 0 1 1 1 1 1 1 0 0 0 0 0 1 0 0 1 1 1 0 0 1 0 1 1 0 1 0 0 0 0 1 0\n",
            " 1 1 0 0 1 1 1 0 0 1 0 0 0 1 1 0 0 1 0 0 0 1 1 0 0 0 1 1 0 0 1 0 0 1 1 0 1\n",
            " 0 0 0 1 0 1 0 0 0 1 0 1 0 0 1 1 1 1 0 0 0 0 0 0 1 1 1 0 0 1 0 0 1 0 0 1 0\n",
            " 1 1 0 1 0 0 0 0 1 1 1 1 1 1 0 1 0 0 0 1 0 1 1 0 1 1 0 1 1 0 1 1 1 0 1 0 0\n",
            " 0 0 0 1 0 1 0 0 1 0 0 0 0 0 1 0 0 1 1 0 1 0 0 1 1 1 0 0 0 0 0 1 1 0 0 0 1\n",
            " 0 0 0 0 0 1 1 0 1 1 0 1 0 0 1 0 1 1 1 1 0 0 1 1 1 0 1 1 0 0 0 1 0 0 0 0 0\n",
            " 0 1 0 0 0 1 0 1 0 1 0 0 1 1 1 0 0 1 1 1 1 1 1 1 0 1 0 0 1 0 1 1 1 0 0 1 1\n",
            " 1 1 0 1 1 1 0 1 0 0 1 0 1 0 1 1 0 0 1 1 1 1 1 1 0 1 1 1 0 0 1 1 1 1 0 0 0\n",
            " 1 0 1 0 1 1 0 1 0 1 0 1 1 0 0 0 1 1 1 0 0 0 1 0 1 1 0 0 1 1 1 1 1 0 0 0 0\n",
            " 0 1 0 0 1 0 1 0 0 1 1 1 0 1 1 0 1 0 1 0 0 0 1 1 1 0 0 1 1 1 0 0 0 0 0 1 0\n",
            " 0 1 0 1 1 1 0 1 1 1 1 0 1 1 1 1 1 1 0 0 0 0 0 1 0 0 0 0 1 0 1 1 0 1 1 0 1\n",
            " 1 1 0 1 1 0 0 0 1 0 1 1 0 1 0 1 0 1 1 0 0 0 0 0 1 0 0 0 0 1 1 0 1 0 1 1 1\n",
            " 1 1 1 0 0 0 0 0 1 1 0 1 0 0 0 0 1 0 0 1 0 1 1 1 0 0 0 1 1 0 1 0 0 1 1 1 0\n",
            " 1 1 0 1 1 1 1 1 1 1 0 1 1 1 1 0 1 0 1 1 0 0 1 0 0 0 1 1 0 1 1 1 0 1 1 0 1\n",
            " 0 0 0 1 0 0 0 0 1 0 1 0 1 1 0 0 0 0 1 1 1 0 0 0 1 1 0 0 0 1 1 1 0 0 0 1 0\n",
            " 0 0 1 1 1 0 0 1 1 0 0 0 1 0 1 0 1 0 1 0 0 1 0 0 0 1 1 0 0 0 0 1 1 0 1 0 1\n",
            " 0 0 0 1 0 1 0 1 0 0 1 0 0 0 1 1 1 1 1 1 1 1 1 1 0 0 0 1 0 1 0 1 0 1 1 1 0\n",
            " 0 0 1 0 0 0 1 0 1 0 0 0 0 0 0 0 1 1 1 0 1 1 1 0 0 0 0 1 1 1 0 1 1 0 0 0 0\n",
            " 1 1 0 0 1 0 1 0 0 0 1 1 0 0 0 0 1 1 1 0 0 1 1 1 0 1 1 1 0 0 1 0 1 1 0 0 1\n",
            " 1 1 1 1 0 1 1 1 0 1 1 0 1 1 0 0 0 0 1 1 1 1 1 0 0 0 1 1 0 1 1 1 1 0 1 0 0\n",
            " 1 1 0 0 0 0 0 0 1 0 1 1 1 0 1 0 0 0 0 1 0 1 0]\n",
            "\n"
          ]
        },
        {
          "data": {
            "text/plain": [
              "array([ True,  True,  True,  True,  True,  True,  True,  True,  True,\n",
              "        True,  True,  True,  True,  True,  True,  True,  True,  True,\n",
              "        True,  True,  True,  True,  True,  True,  True,  True,  True,\n",
              "        True,  True,  True,  True,  True,  True,  True,  True,  True,\n",
              "        True,  True,  True,  True,  True,  True,  True,  True,  True,\n",
              "        True,  True,  True,  True,  True,  True,  True,  True,  True,\n",
              "        True,  True,  True,  True,  True,  True,  True,  True,  True,\n",
              "        True,  True,  True,  True,  True,  True,  True,  True,  True,\n",
              "        True,  True,  True,  True,  True,  True,  True,  True,  True,\n",
              "        True,  True,  True,  True,  True,  True,  True,  True,  True,\n",
              "        True,  True,  True,  True,  True,  True,  True,  True,  True,\n",
              "        True,  True,  True,  True,  True,  True,  True,  True,  True,\n",
              "        True,  True,  True,  True,  True,  True,  True,  True,  True,\n",
              "        True,  True,  True,  True,  True,  True,  True,  True,  True,\n",
              "        True,  True,  True,  True,  True,  True,  True,  True,  True,\n",
              "        True,  True,  True,  True,  True,  True,  True,  True,  True,\n",
              "        True,  True,  True,  True,  True,  True,  True,  True,  True,\n",
              "        True,  True,  True,  True,  True,  True,  True,  True,  True,\n",
              "        True,  True,  True,  True,  True,  True,  True,  True,  True,\n",
              "        True,  True,  True,  True,  True,  True,  True,  True,  True,\n",
              "        True,  True,  True,  True,  True,  True,  True,  True,  True,\n",
              "        True,  True,  True,  True,  True,  True,  True,  True,  True,\n",
              "        True,  True,  True,  True,  True,  True,  True,  True,  True,\n",
              "        True,  True,  True,  True,  True,  True,  True,  True,  True,\n",
              "        True,  True,  True,  True,  True,  True,  True,  True,  True,\n",
              "        True,  True,  True,  True,  True,  True,  True,  True,  True,\n",
              "        True,  True,  True,  True,  True,  True,  True,  True,  True,\n",
              "        True,  True,  True,  True,  True,  True,  True,  True,  True,\n",
              "        True,  True,  True,  True,  True,  True,  True,  True,  True,\n",
              "        True,  True,  True,  True,  True,  True,  True,  True,  True,\n",
              "        True,  True,  True,  True,  True,  True,  True,  True,  True,\n",
              "        True,  True,  True,  True,  True,  True,  True,  True,  True,\n",
              "        True,  True,  True,  True,  True,  True,  True,  True,  True,\n",
              "        True,  True,  True,  True,  True,  True,  True,  True,  True,\n",
              "        True,  True,  True,  True,  True,  True,  True,  True,  True,\n",
              "        True,  True,  True,  True,  True,  True,  True,  True,  True,\n",
              "        True,  True,  True,  True,  True,  True,  True,  True,  True,\n",
              "        True,  True,  True,  True,  True,  True,  True,  True,  True,\n",
              "        True,  True,  True,  True,  True,  True,  True,  True,  True,\n",
              "        True,  True,  True,  True,  True,  True,  True,  True,  True,\n",
              "        True,  True,  True,  True,  True,  True,  True,  True,  True,\n",
              "        True,  True,  True,  True,  True,  True,  True,  True,  True,\n",
              "        True,  True,  True,  True,  True,  True,  True,  True,  True,\n",
              "        True,  True,  True,  True,  True,  True,  True,  True,  True,\n",
              "        True,  True,  True,  True,  True,  True,  True,  True,  True,\n",
              "        True,  True,  True,  True,  True,  True,  True,  True,  True,\n",
              "        True,  True,  True,  True,  True,  True,  True,  True,  True,\n",
              "        True,  True,  True,  True,  True,  True,  True,  True,  True,\n",
              "        True,  True,  True,  True,  True,  True,  True,  True,  True,\n",
              "        True,  True,  True,  True,  True,  True,  True,  True,  True,\n",
              "        True,  True,  True,  True,  True,  True,  True,  True,  True,\n",
              "        True,  True,  True,  True,  True,  True,  True,  True,  True,\n",
              "        True,  True,  True,  True,  True,  True,  True,  True,  True,\n",
              "        True,  True,  True,  True,  True,  True,  True,  True,  True,\n",
              "        True,  True,  True,  True,  True,  True,  True,  True,  True,\n",
              "        True,  True,  True,  True,  True,  True,  True,  True,  True,\n",
              "        True,  True,  True,  True,  True,  True,  True,  True,  True,\n",
              "        True,  True,  True,  True,  True,  True,  True,  True,  True,\n",
              "        True,  True,  True,  True,  True,  True,  True,  True,  True,\n",
              "        True,  True,  True,  True,  True,  True,  True,  True,  True,\n",
              "        True,  True,  True,  True,  True,  True,  True,  True,  True,\n",
              "        True,  True,  True,  True,  True,  True,  True,  True,  True,\n",
              "        True,  True,  True,  True,  True,  True,  True,  True,  True,\n",
              "        True,  True,  True,  True,  True,  True,  True,  True,  True,\n",
              "        True,  True,  True,  True,  True,  True,  True,  True,  True,\n",
              "        True,  True,  True,  True,  True,  True,  True,  True,  True,\n",
              "        True,  True,  True,  True,  True,  True,  True,  True,  True,\n",
              "        True,  True,  True,  True,  True,  True,  True,  True,  True,\n",
              "        True,  True,  True,  True,  True,  True,  True,  True,  True,\n",
              "        True,  True,  True,  True,  True,  True,  True,  True,  True,\n",
              "        True,  True,  True,  True,  True,  True,  True,  True,  True,\n",
              "        True,  True,  True,  True,  True,  True,  True,  True,  True,\n",
              "        True,  True,  True,  True,  True,  True,  True,  True,  True,\n",
              "        True,  True,  True,  True,  True,  True,  True,  True,  True,\n",
              "        True,  True,  True,  True,  True,  True,  True,  True,  True,\n",
              "        True,  True,  True,  True,  True,  True,  True,  True,  True,\n",
              "        True,  True,  True,  True,  True,  True,  True,  True,  True,\n",
              "        True,  True,  True,  True,  True,  True,  True,  True,  True,\n",
              "        True,  True,  True,  True,  True,  True,  True,  True,  True,\n",
              "        True,  True,  True,  True,  True,  True,  True,  True,  True,\n",
              "        True,  True,  True,  True,  True,  True,  True,  True,  True,\n",
              "        True,  True,  True,  True,  True,  True,  True,  True,  True,\n",
              "        True,  True,  True,  True,  True,  True,  True,  True,  True,\n",
              "        True,  True,  True,  True,  True,  True,  True,  True,  True,\n",
              "        True,  True,  True,  True,  True,  True,  True,  True,  True,\n",
              "        True,  True,  True,  True,  True,  True,  True,  True,  True,\n",
              "        True,  True,  True,  True,  True,  True,  True,  True,  True,\n",
              "        True,  True,  True,  True,  True,  True,  True,  True,  True,\n",
              "        True,  True,  True,  True,  True,  True,  True,  True])"
            ]
          },
          "execution_count": 43,
          "metadata": {},
          "output_type": "execute_result"
        }
      ],
      "source": [
        "train_list = []\n",
        "\n",
        "for i in range(tokenized_train.num_rows):\n",
        "    if tokenized_train[i][\"Party\"] == \"Democrat\":\n",
        "        train_list.append(0)\n",
        "    elif tokenized_train[i][\"Party\"] == \"Republican\":\n",
        "        train_list.append(1)\n",
        "\n",
        "print(np.array(train_list))\n",
        "\n",
        "print()\n",
        "\n",
        "np.array(train_list) == train_predictions"
      ]
    },
    {
      "cell_type": "code",
      "execution_count": 44,
      "metadata": {
        "colab": {
          "base_uri": "https://localhost:8080/",
          "height": 263
        },
        "id": "CLDc2nFAsENk",
        "outputId": "c01e910b-afc4-4383-db30-6076a3ae01dd"
      },
      "outputs": [
        {
          "name": "stdout",
          "output_type": "stream",
          "text": [
            "              precision    recall  f1-score   support\n",
            "\n",
            "           0       1.00      1.00      1.00       404\n",
            "           1       1.00      1.00      1.00       396\n",
            "\n",
            "    accuracy                           1.00       800\n",
            "   macro avg       1.00      1.00      1.00       800\n",
            "weighted avg       1.00      1.00      1.00       800\n",
            "\n"
          ]
        }
      ],
      "source": [
        "# Evaluating on the training data.\n",
        "\n",
        "GT = df_train[\"label\"].tolist()\n",
        "print(classification_report(GT, train_predictions))"
      ]
    },
    {
      "cell_type": "markdown",
      "metadata": {},
      "source": [
        "---\n",
        "\n",
        "# Testing Data\n"
      ]
    },
    {
      "cell_type": "code",
      "execution_count": 45,
      "metadata": {},
      "outputs": [
        {
          "name": "stderr",
          "output_type": "stream",
          "text": [
            "100%|██████████| 25/25 [00:03<00:00,  7.38it/s]\n"
          ]
        }
      ],
      "source": [
        "test_predictions = trainer.predict(tokenized_test)[1]"
      ]
    },
    {
      "cell_type": "code",
      "execution_count": 46,
      "metadata": {},
      "outputs": [
        {
          "name": "stdout",
          "output_type": "stream",
          "text": [
            "[1 0 1 1 1 1 1 1 1 1 0 0 1 0 1 0 1 0 1 0 0 1 0 0 1 0 0 1 1 1 0 0 1 1 0 0 1\n",
            " 0 1 1 1 1 0 0 1 1 0 0 0 0 1 0 1 0 0 0 1 1 1 1 1 0 0 0 1 0 1 0 0 1 1 1 1 1\n",
            " 0 1 0 0 1 0 1 1 0 1 0 1 1 0 1 0 0 0 1 0 0 0 0 0 0 1 0 0 1 1 0 0 0 0 0 0 0\n",
            " 0 0 0 0 0 0 1 0 0 1 1 0 1 0 1 1 0 1 1 1 1 0 1 1 0 1 0 1 0 0 0 1 1 1 0 0 0\n",
            " 1 1 1 0 0 0 1 0 1 0 1 0 0 0 1 0 1 1 0 1 1 1 0 1 0 1 1 1 0 1 0 0 0 0 0 1 1\n",
            " 0 1 0 0 0 0 1 0 1 0 1 0 0 1 0]\n",
            "\n"
          ]
        },
        {
          "data": {
            "text/plain": [
              "array([ True,  True,  True,  True,  True,  True,  True,  True,  True,\n",
              "        True,  True,  True,  True,  True,  True,  True,  True,  True,\n",
              "        True,  True,  True,  True,  True,  True,  True,  True,  True,\n",
              "        True,  True,  True,  True,  True,  True,  True,  True,  True,\n",
              "        True,  True,  True,  True,  True,  True,  True,  True,  True,\n",
              "        True,  True,  True,  True,  True,  True,  True,  True,  True,\n",
              "        True,  True,  True,  True,  True,  True,  True,  True,  True,\n",
              "        True,  True,  True,  True,  True,  True,  True,  True,  True,\n",
              "        True,  True,  True,  True,  True,  True,  True,  True,  True,\n",
              "        True,  True,  True,  True,  True,  True,  True,  True,  True,\n",
              "        True,  True,  True,  True,  True,  True,  True,  True,  True,\n",
              "        True,  True,  True,  True,  True,  True,  True,  True,  True,\n",
              "        True,  True,  True,  True,  True,  True,  True,  True,  True,\n",
              "        True,  True,  True,  True,  True,  True,  True,  True,  True,\n",
              "        True,  True,  True,  True,  True,  True,  True,  True,  True,\n",
              "        True,  True,  True,  True,  True,  True,  True,  True,  True,\n",
              "        True,  True,  True,  True,  True,  True,  True,  True,  True,\n",
              "        True,  True,  True,  True,  True,  True,  True,  True,  True,\n",
              "        True,  True,  True,  True,  True,  True,  True,  True,  True,\n",
              "        True,  True,  True,  True,  True,  True,  True,  True,  True,\n",
              "        True,  True,  True,  True,  True,  True,  True,  True,  True,\n",
              "        True,  True,  True,  True,  True,  True,  True,  True,  True,\n",
              "        True,  True])"
            ]
          },
          "execution_count": 46,
          "metadata": {},
          "output_type": "execute_result"
        }
      ],
      "source": [
        "test_list = []\n",
        "\n",
        "for i in range(tokenized_test.num_rows):\n",
        "    if tokenized_test[i][\"Party\"] == \"Democrat\":\n",
        "        test_list.append(0)\n",
        "    elif tokenized_test[i][\"Party\"] == \"Republican\":\n",
        "        test_list.append(1)\n",
        "\n",
        "print(np.array(test_list))\n",
        "\n",
        "print()\n",
        "\n",
        "np.array(test_list) == test_predictions"
      ]
    },
    {
      "cell_type": "code",
      "execution_count": 47,
      "metadata": {
        "colab": {
          "base_uri": "https://localhost:8080/",
          "height": 263
        },
        "id": "OIMu476_cZGn",
        "outputId": "814f38c6-b441-4aa0-8d21-2371cc7fa03d"
      },
      "outputs": [
        {
          "name": "stdout",
          "output_type": "stream",
          "text": [
            "              precision    recall  f1-score   support\n",
            "\n",
            "           0       1.00      1.00      1.00       106\n",
            "           1       1.00      1.00      1.00        94\n",
            "\n",
            "    accuracy                           1.00       200\n",
            "   macro avg       1.00      1.00      1.00       200\n",
            "weighted avg       1.00      1.00      1.00       200\n",
            "\n"
          ]
        }
      ],
      "source": [
        "# Evaluating on the testing data.\n",
        "\n",
        "GT = df_test[\"label\"].tolist()\n",
        "print(classification_report(GT, test_predictions))"
      ]
    },
    {
      "cell_type": "markdown",
      "metadata": {},
      "source": [
        "---\n",
        "\n",
        "# PROMISING RESULTS EVEN THOUGH WE USED ONLY A SUBEST OF THE DATA (1000 SAMPLES/ROWS/TWEETS)\n"
      ]
    }
  ],
  "metadata": {
    "accelerator": "GPU",
    "colab": {
      "provenance": []
    },
    "gpuClass": "standard",
    "kernelspec": {
      "display_name": "Python 3",
      "name": "python3"
    },
    "language_info": {
      "codemirror_mode": {
        "name": "ipython",
        "version": 3
      },
      "file_extension": ".py",
      "mimetype": "text/x-python",
      "name": "python",
      "nbconvert_exporter": "python",
      "pygments_lexer": "ipython3",
      "version": "3.10.9"
    },
    "widgets": {
      "application/vnd.jupyter.widget-state+json": {
        "08b43815a9604e5b962861a7002dffff": {
          "model_module": "@jupyter-widgets/controls",
          "model_module_version": "1.5.0",
          "model_name": "DescriptionStyleModel",
          "state": {
            "_model_module": "@jupyter-widgets/controls",
            "_model_module_version": "1.5.0",
            "_model_name": "DescriptionStyleModel",
            "_view_count": null,
            "_view_module": "@jupyter-widgets/base",
            "_view_module_version": "1.2.0",
            "_view_name": "StyleView",
            "description_width": ""
          }
        },
        "237f962b863645b8bcb2e62437c82c5c": {
          "model_module": "@jupyter-widgets/base",
          "model_module_version": "1.2.0",
          "model_name": "LayoutModel",
          "state": {
            "_model_module": "@jupyter-widgets/base",
            "_model_module_version": "1.2.0",
            "_model_name": "LayoutModel",
            "_view_count": null,
            "_view_module": "@jupyter-widgets/base",
            "_view_module_version": "1.2.0",
            "_view_name": "LayoutView",
            "align_content": null,
            "align_items": null,
            "align_self": null,
            "border": null,
            "bottom": null,
            "display": null,
            "flex": null,
            "flex_flow": null,
            "grid_area": null,
            "grid_auto_columns": null,
            "grid_auto_flow": null,
            "grid_auto_rows": null,
            "grid_column": null,
            "grid_gap": null,
            "grid_row": null,
            "grid_template_areas": null,
            "grid_template_columns": null,
            "grid_template_rows": null,
            "height": null,
            "justify_content": null,
            "justify_items": null,
            "left": null,
            "margin": null,
            "max_height": null,
            "max_width": null,
            "min_height": null,
            "min_width": null,
            "object_fit": null,
            "object_position": null,
            "order": null,
            "overflow": null,
            "overflow_x": null,
            "overflow_y": null,
            "padding": null,
            "right": null,
            "top": null,
            "visibility": null,
            "width": null
          }
        },
        "32fd4c7ee6c34fcabd99d7d534725736": {
          "model_module": "@jupyter-widgets/controls",
          "model_module_version": "1.5.0",
          "model_name": "ProgressStyleModel",
          "state": {
            "_model_module": "@jupyter-widgets/controls",
            "_model_module_version": "1.5.0",
            "_model_name": "ProgressStyleModel",
            "_view_count": null,
            "_view_module": "@jupyter-widgets/base",
            "_view_module_version": "1.2.0",
            "_view_name": "StyleView",
            "bar_color": null,
            "description_width": ""
          }
        },
        "3a27c70ff13c4b10a7dff9d3c26e6aa9": {
          "model_module": "@jupyter-widgets/controls",
          "model_module_version": "1.5.0",
          "model_name": "HTMLModel",
          "state": {
            "_dom_classes": [],
            "_model_module": "@jupyter-widgets/controls",
            "_model_module_version": "1.5.0",
            "_model_name": "HTMLModel",
            "_view_count": null,
            "_view_module": "@jupyter-widgets/controls",
            "_view_module_version": "1.5.0",
            "_view_name": "HTMLView",
            "description": "",
            "description_tooltip": null,
            "layout": "IPY_MODEL_9d0bbf5585394b74940cfbfb4028f736",
            "placeholder": "​",
            "style": "IPY_MODEL_6f18b6c539cd4548b6bec432b392ba88",
            "value": " 1/1 [00:01&lt;00:00,  1.73s/ba]"
          }
        },
        "498012cbf13349eb9f4d166b4874df05": {
          "model_module": "@jupyter-widgets/controls",
          "model_module_version": "1.5.0",
          "model_name": "HTMLModel",
          "state": {
            "_dom_classes": [],
            "_model_module": "@jupyter-widgets/controls",
            "_model_module_version": "1.5.0",
            "_model_name": "HTMLModel",
            "_view_count": null,
            "_view_module": "@jupyter-widgets/controls",
            "_view_module_version": "1.5.0",
            "_view_name": "HTMLView",
            "description": "",
            "description_tooltip": null,
            "layout": "IPY_MODEL_a6512cbd14e14c0ebff3521058523a85",
            "placeholder": "​",
            "style": "IPY_MODEL_b768d60049934053bd862ed8fafcc283",
            "value": "100%"
          }
        },
        "4c9a3d025d794f83906684a1f21f7cc9": {
          "model_module": "@jupyter-widgets/controls",
          "model_module_version": "1.5.0",
          "model_name": "HTMLModel",
          "state": {
            "_dom_classes": [],
            "_model_module": "@jupyter-widgets/controls",
            "_model_module_version": "1.5.0",
            "_model_name": "HTMLModel",
            "_view_count": null,
            "_view_module": "@jupyter-widgets/controls",
            "_view_module_version": "1.5.0",
            "_view_name": "HTMLView",
            "description": "",
            "description_tooltip": null,
            "layout": "IPY_MODEL_8cf3e53b8fb645b098bc3e9341dc78d6",
            "placeholder": "​",
            "style": "IPY_MODEL_08b43815a9604e5b962861a7002dffff",
            "value": "100%"
          }
        },
        "5d25773c687b4b4ab69e1c10c8fa89b0": {
          "model_module": "@jupyter-widgets/controls",
          "model_module_version": "1.5.0",
          "model_name": "HBoxModel",
          "state": {
            "_dom_classes": [],
            "_model_module": "@jupyter-widgets/controls",
            "_model_module_version": "1.5.0",
            "_model_name": "HBoxModel",
            "_view_count": null,
            "_view_module": "@jupyter-widgets/controls",
            "_view_module_version": "1.5.0",
            "_view_name": "HBoxView",
            "box_style": "",
            "children": [
              "IPY_MODEL_498012cbf13349eb9f4d166b4874df05",
              "IPY_MODEL_f8a32737b8964837a2f5226174847726",
              "IPY_MODEL_dabc5d9de971483f8fd051e9b2b6bce8"
            ],
            "layout": "IPY_MODEL_237f962b863645b8bcb2e62437c82c5c"
          }
        },
        "6f18b6c539cd4548b6bec432b392ba88": {
          "model_module": "@jupyter-widgets/controls",
          "model_module_version": "1.5.0",
          "model_name": "DescriptionStyleModel",
          "state": {
            "_model_module": "@jupyter-widgets/controls",
            "_model_module_version": "1.5.0",
            "_model_name": "DescriptionStyleModel",
            "_view_count": null,
            "_view_module": "@jupyter-widgets/base",
            "_view_module_version": "1.2.0",
            "_view_name": "StyleView",
            "description_width": ""
          }
        },
        "7cf440d3ff2345e5b2d6742221742fe5": {
          "model_module": "@jupyter-widgets/base",
          "model_module_version": "1.2.0",
          "model_name": "LayoutModel",
          "state": {
            "_model_module": "@jupyter-widgets/base",
            "_model_module_version": "1.2.0",
            "_model_name": "LayoutModel",
            "_view_count": null,
            "_view_module": "@jupyter-widgets/base",
            "_view_module_version": "1.2.0",
            "_view_name": "LayoutView",
            "align_content": null,
            "align_items": null,
            "align_self": null,
            "border": null,
            "bottom": null,
            "display": null,
            "flex": null,
            "flex_flow": null,
            "grid_area": null,
            "grid_auto_columns": null,
            "grid_auto_flow": null,
            "grid_auto_rows": null,
            "grid_column": null,
            "grid_gap": null,
            "grid_row": null,
            "grid_template_areas": null,
            "grid_template_columns": null,
            "grid_template_rows": null,
            "height": null,
            "justify_content": null,
            "justify_items": null,
            "left": null,
            "margin": null,
            "max_height": null,
            "max_width": null,
            "min_height": null,
            "min_width": null,
            "object_fit": null,
            "object_position": null,
            "order": null,
            "overflow": null,
            "overflow_x": null,
            "overflow_y": null,
            "padding": null,
            "right": null,
            "top": null,
            "visibility": null,
            "width": null
          }
        },
        "7fa00d57f78040c2a09d85e084a60735": {
          "model_module": "@jupyter-widgets/base",
          "model_module_version": "1.2.0",
          "model_name": "LayoutModel",
          "state": {
            "_model_module": "@jupyter-widgets/base",
            "_model_module_version": "1.2.0",
            "_model_name": "LayoutModel",
            "_view_count": null,
            "_view_module": "@jupyter-widgets/base",
            "_view_module_version": "1.2.0",
            "_view_name": "LayoutView",
            "align_content": null,
            "align_items": null,
            "align_self": null,
            "border": null,
            "bottom": null,
            "display": null,
            "flex": null,
            "flex_flow": null,
            "grid_area": null,
            "grid_auto_columns": null,
            "grid_auto_flow": null,
            "grid_auto_rows": null,
            "grid_column": null,
            "grid_gap": null,
            "grid_row": null,
            "grid_template_areas": null,
            "grid_template_columns": null,
            "grid_template_rows": null,
            "height": null,
            "justify_content": null,
            "justify_items": null,
            "left": null,
            "margin": null,
            "max_height": null,
            "max_width": null,
            "min_height": null,
            "min_width": null,
            "object_fit": null,
            "object_position": null,
            "order": null,
            "overflow": null,
            "overflow_x": null,
            "overflow_y": null,
            "padding": null,
            "right": null,
            "top": null,
            "visibility": null,
            "width": null
          }
        },
        "8a999e8f563d4da7b7f4caf84b73aa7f": {
          "model_module": "@jupyter-widgets/controls",
          "model_module_version": "1.5.0",
          "model_name": "FloatProgressModel",
          "state": {
            "_dom_classes": [],
            "_model_module": "@jupyter-widgets/controls",
            "_model_module_version": "1.5.0",
            "_model_name": "FloatProgressModel",
            "_view_count": null,
            "_view_module": "@jupyter-widgets/controls",
            "_view_module_version": "1.5.0",
            "_view_name": "ProgressView",
            "bar_style": "success",
            "description": "",
            "description_tooltip": null,
            "layout": "IPY_MODEL_7fa00d57f78040c2a09d85e084a60735",
            "max": 1,
            "min": 0,
            "orientation": "horizontal",
            "style": "IPY_MODEL_32fd4c7ee6c34fcabd99d7d534725736",
            "value": 1
          }
        },
        "8cf3e53b8fb645b098bc3e9341dc78d6": {
          "model_module": "@jupyter-widgets/base",
          "model_module_version": "1.2.0",
          "model_name": "LayoutModel",
          "state": {
            "_model_module": "@jupyter-widgets/base",
            "_model_module_version": "1.2.0",
            "_model_name": "LayoutModel",
            "_view_count": null,
            "_view_module": "@jupyter-widgets/base",
            "_view_module_version": "1.2.0",
            "_view_name": "LayoutView",
            "align_content": null,
            "align_items": null,
            "align_self": null,
            "border": null,
            "bottom": null,
            "display": null,
            "flex": null,
            "flex_flow": null,
            "grid_area": null,
            "grid_auto_columns": null,
            "grid_auto_flow": null,
            "grid_auto_rows": null,
            "grid_column": null,
            "grid_gap": null,
            "grid_row": null,
            "grid_template_areas": null,
            "grid_template_columns": null,
            "grid_template_rows": null,
            "height": null,
            "justify_content": null,
            "justify_items": null,
            "left": null,
            "margin": null,
            "max_height": null,
            "max_width": null,
            "min_height": null,
            "min_width": null,
            "object_fit": null,
            "object_position": null,
            "order": null,
            "overflow": null,
            "overflow_x": null,
            "overflow_y": null,
            "padding": null,
            "right": null,
            "top": null,
            "visibility": null,
            "width": null
          }
        },
        "9aa1a30d899344949dd1a1ab49d7a489": {
          "model_module": "@jupyter-widgets/controls",
          "model_module_version": "1.5.0",
          "model_name": "DescriptionStyleModel",
          "state": {
            "_model_module": "@jupyter-widgets/controls",
            "_model_module_version": "1.5.0",
            "_model_name": "DescriptionStyleModel",
            "_view_count": null,
            "_view_module": "@jupyter-widgets/base",
            "_view_module_version": "1.2.0",
            "_view_name": "StyleView",
            "description_width": ""
          }
        },
        "9d0bbf5585394b74940cfbfb4028f736": {
          "model_module": "@jupyter-widgets/base",
          "model_module_version": "1.2.0",
          "model_name": "LayoutModel",
          "state": {
            "_model_module": "@jupyter-widgets/base",
            "_model_module_version": "1.2.0",
            "_model_name": "LayoutModel",
            "_view_count": null,
            "_view_module": "@jupyter-widgets/base",
            "_view_module_version": "1.2.0",
            "_view_name": "LayoutView",
            "align_content": null,
            "align_items": null,
            "align_self": null,
            "border": null,
            "bottom": null,
            "display": null,
            "flex": null,
            "flex_flow": null,
            "grid_area": null,
            "grid_auto_columns": null,
            "grid_auto_flow": null,
            "grid_auto_rows": null,
            "grid_column": null,
            "grid_gap": null,
            "grid_row": null,
            "grid_template_areas": null,
            "grid_template_columns": null,
            "grid_template_rows": null,
            "height": null,
            "justify_content": null,
            "justify_items": null,
            "left": null,
            "margin": null,
            "max_height": null,
            "max_width": null,
            "min_height": null,
            "min_width": null,
            "object_fit": null,
            "object_position": null,
            "order": null,
            "overflow": null,
            "overflow_x": null,
            "overflow_y": null,
            "padding": null,
            "right": null,
            "top": null,
            "visibility": null,
            "width": null
          }
        },
        "a6512cbd14e14c0ebff3521058523a85": {
          "model_module": "@jupyter-widgets/base",
          "model_module_version": "1.2.0",
          "model_name": "LayoutModel",
          "state": {
            "_model_module": "@jupyter-widgets/base",
            "_model_module_version": "1.2.0",
            "_model_name": "LayoutModel",
            "_view_count": null,
            "_view_module": "@jupyter-widgets/base",
            "_view_module_version": "1.2.0",
            "_view_name": "LayoutView",
            "align_content": null,
            "align_items": null,
            "align_self": null,
            "border": null,
            "bottom": null,
            "display": null,
            "flex": null,
            "flex_flow": null,
            "grid_area": null,
            "grid_auto_columns": null,
            "grid_auto_flow": null,
            "grid_auto_rows": null,
            "grid_column": null,
            "grid_gap": null,
            "grid_row": null,
            "grid_template_areas": null,
            "grid_template_columns": null,
            "grid_template_rows": null,
            "height": null,
            "justify_content": null,
            "justify_items": null,
            "left": null,
            "margin": null,
            "max_height": null,
            "max_width": null,
            "min_height": null,
            "min_width": null,
            "object_fit": null,
            "object_position": null,
            "order": null,
            "overflow": null,
            "overflow_x": null,
            "overflow_y": null,
            "padding": null,
            "right": null,
            "top": null,
            "visibility": null,
            "width": null
          }
        },
        "ab8d99542b9b40d7b0ac96176992ef37": {
          "model_module": "@jupyter-widgets/base",
          "model_module_version": "1.2.0",
          "model_name": "LayoutModel",
          "state": {
            "_model_module": "@jupyter-widgets/base",
            "_model_module_version": "1.2.0",
            "_model_name": "LayoutModel",
            "_view_count": null,
            "_view_module": "@jupyter-widgets/base",
            "_view_module_version": "1.2.0",
            "_view_name": "LayoutView",
            "align_content": null,
            "align_items": null,
            "align_self": null,
            "border": null,
            "bottom": null,
            "display": null,
            "flex": null,
            "flex_flow": null,
            "grid_area": null,
            "grid_auto_columns": null,
            "grid_auto_flow": null,
            "grid_auto_rows": null,
            "grid_column": null,
            "grid_gap": null,
            "grid_row": null,
            "grid_template_areas": null,
            "grid_template_columns": null,
            "grid_template_rows": null,
            "height": null,
            "justify_content": null,
            "justify_items": null,
            "left": null,
            "margin": null,
            "max_height": null,
            "max_width": null,
            "min_height": null,
            "min_width": null,
            "object_fit": null,
            "object_position": null,
            "order": null,
            "overflow": null,
            "overflow_x": null,
            "overflow_y": null,
            "padding": null,
            "right": null,
            "top": null,
            "visibility": null,
            "width": null
          }
        },
        "af7f39e0956741b6b6f807580b58b54d": {
          "model_module": "@jupyter-widgets/base",
          "model_module_version": "1.2.0",
          "model_name": "LayoutModel",
          "state": {
            "_model_module": "@jupyter-widgets/base",
            "_model_module_version": "1.2.0",
            "_model_name": "LayoutModel",
            "_view_count": null,
            "_view_module": "@jupyter-widgets/base",
            "_view_module_version": "1.2.0",
            "_view_name": "LayoutView",
            "align_content": null,
            "align_items": null,
            "align_self": null,
            "border": null,
            "bottom": null,
            "display": null,
            "flex": null,
            "flex_flow": null,
            "grid_area": null,
            "grid_auto_columns": null,
            "grid_auto_flow": null,
            "grid_auto_rows": null,
            "grid_column": null,
            "grid_gap": null,
            "grid_row": null,
            "grid_template_areas": null,
            "grid_template_columns": null,
            "grid_template_rows": null,
            "height": null,
            "justify_content": null,
            "justify_items": null,
            "left": null,
            "margin": null,
            "max_height": null,
            "max_width": null,
            "min_height": null,
            "min_width": null,
            "object_fit": null,
            "object_position": null,
            "order": null,
            "overflow": null,
            "overflow_x": null,
            "overflow_y": null,
            "padding": null,
            "right": null,
            "top": null,
            "visibility": null,
            "width": null
          }
        },
        "b768d60049934053bd862ed8fafcc283": {
          "model_module": "@jupyter-widgets/controls",
          "model_module_version": "1.5.0",
          "model_name": "DescriptionStyleModel",
          "state": {
            "_model_module": "@jupyter-widgets/controls",
            "_model_module_version": "1.5.0",
            "_model_name": "DescriptionStyleModel",
            "_view_count": null,
            "_view_module": "@jupyter-widgets/base",
            "_view_module_version": "1.2.0",
            "_view_name": "StyleView",
            "description_width": ""
          }
        },
        "d5cbfebcf7a94e43bc81e4d1cdb8e7a5": {
          "model_module": "@jupyter-widgets/controls",
          "model_module_version": "1.5.0",
          "model_name": "ProgressStyleModel",
          "state": {
            "_model_module": "@jupyter-widgets/controls",
            "_model_module_version": "1.5.0",
            "_model_name": "ProgressStyleModel",
            "_view_count": null,
            "_view_module": "@jupyter-widgets/base",
            "_view_module_version": "1.2.0",
            "_view_name": "StyleView",
            "bar_color": null,
            "description_width": ""
          }
        },
        "dabc5d9de971483f8fd051e9b2b6bce8": {
          "model_module": "@jupyter-widgets/controls",
          "model_module_version": "1.5.0",
          "model_name": "HTMLModel",
          "state": {
            "_dom_classes": [],
            "_model_module": "@jupyter-widgets/controls",
            "_model_module_version": "1.5.0",
            "_model_name": "HTMLModel",
            "_view_count": null,
            "_view_module": "@jupyter-widgets/controls",
            "_view_module_version": "1.5.0",
            "_view_name": "HTMLView",
            "description": "",
            "description_tooltip": null,
            "layout": "IPY_MODEL_af7f39e0956741b6b6f807580b58b54d",
            "placeholder": "​",
            "style": "IPY_MODEL_9aa1a30d899344949dd1a1ab49d7a489",
            "value": " 4/4 [00:08&lt;00:00,  2.88s/ba]"
          }
        },
        "e527af17d4164f819097e19e36434ad5": {
          "model_module": "@jupyter-widgets/controls",
          "model_module_version": "1.5.0",
          "model_name": "HBoxModel",
          "state": {
            "_dom_classes": [],
            "_model_module": "@jupyter-widgets/controls",
            "_model_module_version": "1.5.0",
            "_model_name": "HBoxModel",
            "_view_count": null,
            "_view_module": "@jupyter-widgets/controls",
            "_view_module_version": "1.5.0",
            "_view_name": "HBoxView",
            "box_style": "",
            "children": [
              "IPY_MODEL_4c9a3d025d794f83906684a1f21f7cc9",
              "IPY_MODEL_8a999e8f563d4da7b7f4caf84b73aa7f",
              "IPY_MODEL_3a27c70ff13c4b10a7dff9d3c26e6aa9"
            ],
            "layout": "IPY_MODEL_ab8d99542b9b40d7b0ac96176992ef37"
          }
        },
        "f8a32737b8964837a2f5226174847726": {
          "model_module": "@jupyter-widgets/controls",
          "model_module_version": "1.5.0",
          "model_name": "FloatProgressModel",
          "state": {
            "_dom_classes": [],
            "_model_module": "@jupyter-widgets/controls",
            "_model_module_version": "1.5.0",
            "_model_name": "FloatProgressModel",
            "_view_count": null,
            "_view_module": "@jupyter-widgets/controls",
            "_view_module_version": "1.5.0",
            "_view_name": "ProgressView",
            "bar_style": "success",
            "description": "",
            "description_tooltip": null,
            "layout": "IPY_MODEL_7cf440d3ff2345e5b2d6742221742fe5",
            "max": 4,
            "min": 0,
            "orientation": "horizontal",
            "style": "IPY_MODEL_d5cbfebcf7a94e43bc81e4d1cdb8e7a5",
            "value": 4
          }
        }
      }
    }
  },
  "nbformat": 4,
  "nbformat_minor": 0
}
