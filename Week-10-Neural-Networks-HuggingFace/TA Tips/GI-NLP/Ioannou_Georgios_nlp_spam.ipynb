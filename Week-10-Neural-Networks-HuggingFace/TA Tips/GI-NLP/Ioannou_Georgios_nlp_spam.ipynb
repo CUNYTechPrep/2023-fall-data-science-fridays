{
  "cells": [
    {
      "cell_type": "markdown",
      "metadata": {},
      "source": [
        "---\n",
        "\n",
        "# Ioannou_Georgios\n"
      ]
    },
    {
      "cell_type": "markdown",
      "metadata": {},
      "source": [
        "## Copyright © 2023 by Georgios Ioannou\n"
      ]
    },
    {
      "cell_type": "markdown",
      "metadata": {},
      "source": [
        "---\n",
        "\n",
        "<h1 align=\"center\"> NLP Fine-Tuning With Hugging Face </h1>\n",
        "\n",
        "<h2 align=\"center\"> spam_dataset.csv </h2>\n"
      ]
    },
    {
      "cell_type": "markdown",
      "metadata": {},
      "source": [
        "---\n",
        "\n",
        "- Fine-tuning a natural language processing (NLP) model involves adjusting the hyperparameters and architecture of the model, and often also involves adjusting the dataset, to improve the performance of the model on a specific task. This can be done by adjusting the learning rate, the number of layers in the model,the size of the embeddings, and many other factors. Fine-tuning is often used to adapt a pre-trained model to a new dataset or task, and can be a time-consuming process that requires a good understanding of the model and the task at hand.\n",
        "\n",
        "- Fine-tuning a model can help to improve its performance on a specific task, by adjusting the hyperparameters and architecture of the model\n",
        "  to suit the characteristics of the task and the dataset.\n"
      ]
    },
    {
      "cell_type": "markdown",
      "metadata": {},
      "source": [
        "---\n",
        "\n",
        "# INSTALLATIONS\n"
      ]
    },
    {
      "cell_type": "code",
      "execution_count": 1,
      "metadata": {},
      "outputs": [],
      "source": [
        "# ! pip install transformers\n",
        "# ! pip install beautifulsoup4\n",
        "# ! pip install lxml\n",
        "# ! pip install evaluate"
      ]
    },
    {
      "cell_type": "markdown",
      "metadata": {},
      "source": [
        "---\n",
        "\n",
        "# LIBRARIES\n"
      ]
    },
    {
      "cell_type": "code",
      "execution_count": 2,
      "metadata": {},
      "outputs": [
        {
          "name": "stderr",
          "output_type": "stream",
          "text": [
            "c:\\Users\\georg\\ctp\\.ctp-venv\\lib\\site-packages\\tqdm\\auto.py:21: TqdmWarning: IProgress not found. Please update jupyter and ipywidgets. See https://ipywidgets.readthedocs.io/en/stable/user_install.html\n",
            "  from .autonotebook import tqdm as notebook_tqdm\n"
          ]
        }
      ],
      "source": [
        "import pandas as pd\n",
        "import numpy as np\n",
        "from bs4 import BeautifulSoup\n",
        "from sklearn import preprocessing\n",
        "from sklearn.model_selection import train_test_split\n",
        "from datasets import Dataset\n",
        "from transformers import AutoTokenizer\n",
        "from transformers import AutoModelForSequenceClassification\n",
        "from transformers import DataCollatorWithPadding\n",
        "from transformers import TrainingArguments, Trainer\n",
        "import evaluate\n",
        "from sklearn.metrics import classification_report"
      ]
    },
    {
      "cell_type": "markdown",
      "metadata": {},
      "source": [
        "---\n",
        "\n",
        "# PRE-TRAINED MODEL\n"
      ]
    },
    {
      "cell_type": "code",
      "execution_count": 3,
      "metadata": {},
      "outputs": [],
      "source": [
        "# FINE TUNING THIS PRETRAINED MODEL.\n",
        "\n",
        "model_name = \"distilbert-base-uncased\""
      ]
    },
    {
      "cell_type": "markdown",
      "metadata": {},
      "source": [
        "---\n",
        "\n",
        "# DATASET\n"
      ]
    },
    {
      "cell_type": "code",
      "execution_count": 4,
      "metadata": {
        "id": "kdpGJIfQDEX5"
      },
      "outputs": [],
      "source": [
        "df = pd.read_csv(\"spam_dataset.csv\")"
      ]
    },
    {
      "cell_type": "code",
      "execution_count": 5,
      "metadata": {
        "colab": {
          "base_uri": "https://localhost:8080/",
          "height": 206
        },
        "id": "kVmAn6vSFg-v",
        "outputId": "601ca18d-00f7-4b11-da06-7535a186c405"
      },
      "outputs": [
        {
          "data": {
            "text/html": [
              "<div>\n",
              "<style scoped>\n",
              "    .dataframe tbody tr th:only-of-type {\n",
              "        vertical-align: middle;\n",
              "    }\n",
              "\n",
              "    .dataframe tbody tr th {\n",
              "        vertical-align: top;\n",
              "    }\n",
              "\n",
              "    .dataframe thead th {\n",
              "        text-align: right;\n",
              "    }\n",
              "</style>\n",
              "<table border=\"1\" class=\"dataframe\">\n",
              "  <thead>\n",
              "    <tr style=\"text-align: right;\">\n",
              "      <th></th>\n",
              "      <th>email</th>\n",
              "      <th>category</th>\n",
              "    </tr>\n",
              "  </thead>\n",
              "  <tbody>\n",
              "    <tr>\n",
              "      <th>0</th>\n",
              "      <td>URL: http://www.newsisfree.com/click/-1,817167...</td>\n",
              "      <td>not-spam</td>\n",
              "    </tr>\n",
              "    <tr>\n",
              "      <th>1</th>\n",
              "      <td>On Thu, 19 Sep 2002, Bill Stoddard wrote:\\n\\n-...</td>\n",
              "      <td>not-spam</td>\n",
              "    </tr>\n",
              "    <tr>\n",
              "      <th>2</th>\n",
              "      <td>Dan Kohn &lt;dan@dankohn.com&gt; writes:\\n\\n\\n\\n&gt; Gu...</td>\n",
              "      <td>not-spam</td>\n",
              "    </tr>\n",
              "    <tr>\n",
              "      <th>3</th>\n",
              "      <td>wintermute wrote:\\n\\n&gt;&gt;Anyone know where in Ir...</td>\n",
              "      <td>not-spam</td>\n",
              "    </tr>\n",
              "    <tr>\n",
              "      <th>4</th>\n",
              "      <td>I attended the same conference, and was impres...</td>\n",
              "      <td>not-spam</td>\n",
              "    </tr>\n",
              "  </tbody>\n",
              "</table>\n",
              "</div>"
            ],
            "text/plain": [
              "                                               email  category\n",
              "0  URL: http://www.newsisfree.com/click/-1,817167...  not-spam\n",
              "1  On Thu, 19 Sep 2002, Bill Stoddard wrote:\\n\\n-...  not-spam\n",
              "2  Dan Kohn <dan@dankohn.com> writes:\\n\\n\\n\\n> Gu...  not-spam\n",
              "3  wintermute wrote:\\n\\n>>Anyone know where in Ir...  not-spam\n",
              "4  I attended the same conference, and was impres...  not-spam"
            ]
          },
          "execution_count": 5,
          "metadata": {},
          "output_type": "execute_result"
        }
      ],
      "source": [
        "df.head()"
      ]
    },
    {
      "cell_type": "code",
      "execution_count": 6,
      "metadata": {},
      "outputs": [
        {
          "data": {
            "text/plain": [
              "(3796, 2)"
            ]
          },
          "execution_count": 6,
          "metadata": {},
          "output_type": "execute_result"
        }
      ],
      "source": [
        "df.shape"
      ]
    },
    {
      "cell_type": "code",
      "execution_count": 7,
      "metadata": {},
      "outputs": [
        {
          "data": {
            "text/plain": [
              "category\n",
              "not-spam    1900\n",
              "spam        1896\n",
              "Name: count, dtype: int64"
            ]
          },
          "execution_count": 7,
          "metadata": {},
          "output_type": "execute_result"
        }
      ],
      "source": [
        "df[\"category\"].value_counts()"
      ]
    },
    {
      "cell_type": "code",
      "execution_count": 8,
      "metadata": {},
      "outputs": [
        {
          "data": {
            "text/html": [
              "<div>\n",
              "<style scoped>\n",
              "    .dataframe tbody tr th:only-of-type {\n",
              "        vertical-align: middle;\n",
              "    }\n",
              "\n",
              "    .dataframe tbody tr th {\n",
              "        vertical-align: top;\n",
              "    }\n",
              "\n",
              "    .dataframe thead th {\n",
              "        text-align: right;\n",
              "    }\n",
              "</style>\n",
              "<table border=\"1\" class=\"dataframe\">\n",
              "  <thead>\n",
              "    <tr style=\"text-align: right;\">\n",
              "      <th></th>\n",
              "      <th>email</th>\n",
              "    </tr>\n",
              "    <tr>\n",
              "      <th>category</th>\n",
              "      <th></th>\n",
              "    </tr>\n",
              "  </thead>\n",
              "  <tbody>\n",
              "    <tr>\n",
              "      <th>not-spam</th>\n",
              "      <td>1900</td>\n",
              "    </tr>\n",
              "    <tr>\n",
              "      <th>spam</th>\n",
              "      <td>1896</td>\n",
              "    </tr>\n",
              "  </tbody>\n",
              "</table>\n",
              "</div>"
            ],
            "text/plain": [
              "          email\n",
              "category       \n",
              "not-spam   1900\n",
              "spam       1896"
            ]
          },
          "execution_count": 8,
          "metadata": {},
          "output_type": "execute_result"
        }
      ],
      "source": [
        "df.groupby(\"category\").count()"
      ]
    },
    {
      "cell_type": "markdown",
      "metadata": {},
      "source": [
        "---\n",
        "\n",
        "# TAKING AN EXTREMELLY SMALL SUBSET FOR THE LECTURE\n"
      ]
    },
    {
      "cell_type": "code",
      "execution_count": 9,
      "metadata": {},
      "outputs": [],
      "source": [
        "np.random.seed(42)\n",
        "\n",
        "\n",
        "shuffled_indices = np.random.permutation(df.index)\n",
        "df = df.loc[shuffled_indices].reset_index(drop=True)\n",
        "df = df[:100]"
      ]
    },
    {
      "cell_type": "code",
      "execution_count": 10,
      "metadata": {},
      "outputs": [
        {
          "data": {
            "text/plain": [
              "(100, 2)"
            ]
          },
          "execution_count": 10,
          "metadata": {},
          "output_type": "execute_result"
        }
      ],
      "source": [
        "df.shape"
      ]
    },
    {
      "cell_type": "code",
      "execution_count": 11,
      "metadata": {},
      "outputs": [
        {
          "data": {
            "text/html": [
              "<div>\n",
              "<style scoped>\n",
              "    .dataframe tbody tr th:only-of-type {\n",
              "        vertical-align: middle;\n",
              "    }\n",
              "\n",
              "    .dataframe tbody tr th {\n",
              "        vertical-align: top;\n",
              "    }\n",
              "\n",
              "    .dataframe thead th {\n",
              "        text-align: right;\n",
              "    }\n",
              "</style>\n",
              "<table border=\"1\" class=\"dataframe\">\n",
              "  <thead>\n",
              "    <tr style=\"text-align: right;\">\n",
              "      <th></th>\n",
              "      <th>email</th>\n",
              "      <th>category</th>\n",
              "    </tr>\n",
              "  </thead>\n",
              "  <tbody>\n",
              "    <tr>\n",
              "      <th>0</th>\n",
              "      <td>URL: http://www.newsisfree.com/click/-2,841368...</td>\n",
              "      <td>not-spam</td>\n",
              "    </tr>\n",
              "    <tr>\n",
              "      <th>1</th>\n",
              "      <td>On January 1st 2002, the European countries be...</td>\n",
              "      <td>spam</td>\n",
              "    </tr>\n",
              "    <tr>\n",
              "      <th>2</th>\n",
              "      <td>\\n\\nI think what you're looking at with the du...</td>\n",
              "      <td>not-spam</td>\n",
              "    </tr>\n",
              "    <tr>\n",
              "      <th>3</th>\n",
              "      <td>IMPORTANT NOTICE:  Regarding your domain name\\...</td>\n",
              "      <td>spam</td>\n",
              "    </tr>\n",
              "    <tr>\n",
              "      <th>4</th>\n",
              "      <td>&lt;html&gt;\\n\\nHello, &lt;br&gt;&lt;br&gt;\\n\\n&lt;div align=\"cente...</td>\n",
              "      <td>spam</td>\n",
              "    </tr>\n",
              "  </tbody>\n",
              "</table>\n",
              "</div>"
            ],
            "text/plain": [
              "                                               email  category\n",
              "0  URL: http://www.newsisfree.com/click/-2,841368...  not-spam\n",
              "1  On January 1st 2002, the European countries be...      spam\n",
              "2  \\n\\nI think what you're looking at with the du...  not-spam\n",
              "3  IMPORTANT NOTICE:  Regarding your domain name\\...      spam\n",
              "4  <html>\\n\\nHello, <br><br>\\n\\n<div align=\"cente...      spam"
            ]
          },
          "execution_count": 11,
          "metadata": {},
          "output_type": "execute_result"
        }
      ],
      "source": [
        "df.head()"
      ]
    },
    {
      "cell_type": "code",
      "execution_count": 12,
      "metadata": {},
      "outputs": [
        {
          "data": {
            "text/plain": [
              "category\n",
              "not-spam    51\n",
              "spam        49\n",
              "Name: count, dtype: int64"
            ]
          },
          "execution_count": 12,
          "metadata": {},
          "output_type": "execute_result"
        }
      ],
      "source": [
        "df[\"category\"].value_counts()"
      ]
    },
    {
      "cell_type": "code",
      "execution_count": 13,
      "metadata": {},
      "outputs": [
        {
          "data": {
            "text/html": [
              "<div>\n",
              "<style scoped>\n",
              "    .dataframe tbody tr th:only-of-type {\n",
              "        vertical-align: middle;\n",
              "    }\n",
              "\n",
              "    .dataframe tbody tr th {\n",
              "        vertical-align: top;\n",
              "    }\n",
              "\n",
              "    .dataframe thead th {\n",
              "        text-align: right;\n",
              "    }\n",
              "</style>\n",
              "<table border=\"1\" class=\"dataframe\">\n",
              "  <thead>\n",
              "    <tr style=\"text-align: right;\">\n",
              "      <th></th>\n",
              "      <th>email</th>\n",
              "    </tr>\n",
              "    <tr>\n",
              "      <th>category</th>\n",
              "      <th></th>\n",
              "    </tr>\n",
              "  </thead>\n",
              "  <tbody>\n",
              "    <tr>\n",
              "      <th>not-spam</th>\n",
              "      <td>51</td>\n",
              "    </tr>\n",
              "    <tr>\n",
              "      <th>spam</th>\n",
              "      <td>49</td>\n",
              "    </tr>\n",
              "  </tbody>\n",
              "</table>\n",
              "</div>"
            ],
            "text/plain": [
              "          email\n",
              "category       \n",
              "not-spam     51\n",
              "spam         49"
            ]
          },
          "execution_count": 13,
          "metadata": {},
          "output_type": "execute_result"
        }
      ],
      "source": [
        "df.groupby(\"category\").count()"
      ]
    },
    {
      "cell_type": "markdown",
      "metadata": {},
      "source": [
        "---\n",
        "\n",
        "# CLEAN DATASET\n"
      ]
    },
    {
      "cell_type": "code",
      "execution_count": 14,
      "metadata": {
        "id": "cgD2GdJUNKdU"
      },
      "outputs": [],
      "source": [
        "class Cleaner:\n",
        "    def __init__(self):\n",
        "        pass\n",
        "\n",
        "    def put_line_breaks(self, text):\n",
        "        text = text.replace(\"</p>\", \"</p>\\n\")\n",
        "        return text\n",
        "\n",
        "    def remove_html_tags(self, text):\n",
        "        cleantext = BeautifulSoup(text, \"lxml\").text\n",
        "        return cleantext\n",
        "\n",
        "    def clean(self, text):\n",
        "        text = self.put_line_breaks(text)\n",
        "        text = self.remove_html_tags(text)\n",
        "        return text"
      ]
    },
    {
      "cell_type": "code",
      "execution_count": 15,
      "metadata": {
        "id": "FGZLwuEXN0Ks"
      },
      "outputs": [
        {
          "name": "stderr",
          "output_type": "stream",
          "text": [
            "C:\\Users\\georg\\AppData\\Local\\Temp\\ipykernel_8464\\2007821716.py:10: MarkupResemblesLocatorWarning: The input looks more like a filename than markup. You may want to open this file and pass the filehandle into Beautiful Soup.\n",
            "  cleantext = BeautifulSoup(text, \"lxml\").text\n"
          ]
        }
      ],
      "source": [
        "cleaner = Cleaner()\n",
        "df[\"text_cleaned\"] = df[\"email\"].apply(cleaner.clean)"
      ]
    },
    {
      "cell_type": "code",
      "execution_count": 16,
      "metadata": {
        "colab": {
          "base_uri": "https://localhost:8080/",
          "height": 206
        },
        "id": "PA2BCrHRbRXo",
        "outputId": "a6ab7272-95f8-437a-c0eb-ac8b0707e5d6"
      },
      "outputs": [
        {
          "data": {
            "text/html": [
              "<div>\n",
              "<style scoped>\n",
              "    .dataframe tbody tr th:only-of-type {\n",
              "        vertical-align: middle;\n",
              "    }\n",
              "\n",
              "    .dataframe tbody tr th {\n",
              "        vertical-align: top;\n",
              "    }\n",
              "\n",
              "    .dataframe thead th {\n",
              "        text-align: right;\n",
              "    }\n",
              "</style>\n",
              "<table border=\"1\" class=\"dataframe\">\n",
              "  <thead>\n",
              "    <tr style=\"text-align: right;\">\n",
              "      <th></th>\n",
              "      <th>email</th>\n",
              "      <th>category</th>\n",
              "      <th>text_cleaned</th>\n",
              "    </tr>\n",
              "  </thead>\n",
              "  <tbody>\n",
              "    <tr>\n",
              "      <th>0</th>\n",
              "      <td>URL: http://www.newsisfree.com/click/-2,841368...</td>\n",
              "      <td>not-spam</td>\n",
              "      <td>URL: http://www.newsisfree.com/click/-2,841368...</td>\n",
              "    </tr>\n",
              "    <tr>\n",
              "      <th>1</th>\n",
              "      <td>On January 1st 2002, the European countries be...</td>\n",
              "      <td>spam</td>\n",
              "      <td>On January 1st 2002, the European countries be...</td>\n",
              "    </tr>\n",
              "    <tr>\n",
              "      <th>2</th>\n",
              "      <td>\\n\\nI think what you're looking at with the du...</td>\n",
              "      <td>not-spam</td>\n",
              "      <td>I think what you're looking at with the dual a...</td>\n",
              "    </tr>\n",
              "    <tr>\n",
              "      <th>3</th>\n",
              "      <td>IMPORTANT NOTICE:  Regarding your domain name\\...</td>\n",
              "      <td>spam</td>\n",
              "      <td>IMPORTANT NOTICE:  Regarding your domain name\\...</td>\n",
              "    </tr>\n",
              "    <tr>\n",
              "      <th>4</th>\n",
              "      <td>&lt;html&gt;\\n\\nHello, &lt;br&gt;&lt;br&gt;\\n\\n&lt;div align=\"cente...</td>\n",
              "      <td>spam</td>\n",
              "      <td>\\n\\nHello, \\nPremium Phone Qualified \\n\\nBusin...</td>\n",
              "    </tr>\n",
              "  </tbody>\n",
              "</table>\n",
              "</div>"
            ],
            "text/plain": [
              "                                               email  category  \\\n",
              "0  URL: http://www.newsisfree.com/click/-2,841368...  not-spam   \n",
              "1  On January 1st 2002, the European countries be...      spam   \n",
              "2  \\n\\nI think what you're looking at with the du...  not-spam   \n",
              "3  IMPORTANT NOTICE:  Regarding your domain name\\...      spam   \n",
              "4  <html>\\n\\nHello, <br><br>\\n\\n<div align=\"cente...      spam   \n",
              "\n",
              "                                        text_cleaned  \n",
              "0  URL: http://www.newsisfree.com/click/-2,841368...  \n",
              "1  On January 1st 2002, the European countries be...  \n",
              "2  I think what you're looking at with the dual a...  \n",
              "3  IMPORTANT NOTICE:  Regarding your domain name\\...  \n",
              "4  \\n\\nHello, \\nPremium Phone Qualified \\n\\nBusin...  "
            ]
          },
          "execution_count": 16,
          "metadata": {},
          "output_type": "execute_result"
        }
      ],
      "source": [
        "df.head()"
      ]
    },
    {
      "cell_type": "markdown",
      "metadata": {},
      "source": [
        "---\n",
        "\n",
        "# Label Encoder\n"
      ]
    },
    {
      "cell_type": "code",
      "execution_count": 17,
      "metadata": {
        "id": "amv1wYnqfz44"
      },
      "outputs": [],
      "source": [
        "le = preprocessing.LabelEncoder()\n",
        "le.fit(df[\"category\"].tolist())\n",
        "df[\"label\"] = le.transform(df[\"category\"].tolist())"
      ]
    },
    {
      "cell_type": "code",
      "execution_count": 18,
      "metadata": {
        "colab": {
          "base_uri": "https://localhost:8080/",
          "height": 206
        },
        "id": "ynKkUmJPm_QK",
        "outputId": "9b0cbbec-12c0-420e-d76a-305a88dd500e"
      },
      "outputs": [
        {
          "data": {
            "text/html": [
              "<div>\n",
              "<style scoped>\n",
              "    .dataframe tbody tr th:only-of-type {\n",
              "        vertical-align: middle;\n",
              "    }\n",
              "\n",
              "    .dataframe tbody tr th {\n",
              "        vertical-align: top;\n",
              "    }\n",
              "\n",
              "    .dataframe thead th {\n",
              "        text-align: right;\n",
              "    }\n",
              "</style>\n",
              "<table border=\"1\" class=\"dataframe\">\n",
              "  <thead>\n",
              "    <tr style=\"text-align: right;\">\n",
              "      <th></th>\n",
              "      <th>email</th>\n",
              "      <th>category</th>\n",
              "      <th>text_cleaned</th>\n",
              "      <th>label</th>\n",
              "    </tr>\n",
              "  </thead>\n",
              "  <tbody>\n",
              "    <tr>\n",
              "      <th>0</th>\n",
              "      <td>URL: http://www.newsisfree.com/click/-2,841368...</td>\n",
              "      <td>not-spam</td>\n",
              "      <td>URL: http://www.newsisfree.com/click/-2,841368...</td>\n",
              "      <td>0</td>\n",
              "    </tr>\n",
              "    <tr>\n",
              "      <th>1</th>\n",
              "      <td>On January 1st 2002, the European countries be...</td>\n",
              "      <td>spam</td>\n",
              "      <td>On January 1st 2002, the European countries be...</td>\n",
              "      <td>1</td>\n",
              "    </tr>\n",
              "    <tr>\n",
              "      <th>2</th>\n",
              "      <td>\\n\\nI think what you're looking at with the du...</td>\n",
              "      <td>not-spam</td>\n",
              "      <td>I think what you're looking at with the dual a...</td>\n",
              "      <td>0</td>\n",
              "    </tr>\n",
              "    <tr>\n",
              "      <th>3</th>\n",
              "      <td>IMPORTANT NOTICE:  Regarding your domain name\\...</td>\n",
              "      <td>spam</td>\n",
              "      <td>IMPORTANT NOTICE:  Regarding your domain name\\...</td>\n",
              "      <td>1</td>\n",
              "    </tr>\n",
              "    <tr>\n",
              "      <th>4</th>\n",
              "      <td>&lt;html&gt;\\n\\nHello, &lt;br&gt;&lt;br&gt;\\n\\n&lt;div align=\"cente...</td>\n",
              "      <td>spam</td>\n",
              "      <td>\\n\\nHello, \\nPremium Phone Qualified \\n\\nBusin...</td>\n",
              "      <td>1</td>\n",
              "    </tr>\n",
              "  </tbody>\n",
              "</table>\n",
              "</div>"
            ],
            "text/plain": [
              "                                               email  category  \\\n",
              "0  URL: http://www.newsisfree.com/click/-2,841368...  not-spam   \n",
              "1  On January 1st 2002, the European countries be...      spam   \n",
              "2  \\n\\nI think what you're looking at with the du...  not-spam   \n",
              "3  IMPORTANT NOTICE:  Regarding your domain name\\...      spam   \n",
              "4  <html>\\n\\nHello, <br><br>\\n\\n<div align=\"cente...      spam   \n",
              "\n",
              "                                        text_cleaned  label  \n",
              "0  URL: http://www.newsisfree.com/click/-2,841368...      0  \n",
              "1  On January 1st 2002, the European countries be...      1  \n",
              "2  I think what you're looking at with the dual a...      0  \n",
              "3  IMPORTANT NOTICE:  Regarding your domain name\\...      1  \n",
              "4  \\n\\nHello, \\nPremium Phone Qualified \\n\\nBusin...      1  "
            ]
          },
          "execution_count": 18,
          "metadata": {},
          "output_type": "execute_result"
        }
      ],
      "source": [
        "df.head()"
      ]
    },
    {
      "cell_type": "markdown",
      "metadata": {},
      "source": [
        "---\n",
        "\n",
        "# train_test_split\n"
      ]
    },
    {
      "cell_type": "code",
      "execution_count": 19,
      "metadata": {
        "id": "uKluSPhCfOj6"
      },
      "outputs": [],
      "source": [
        "df_train, df_test = train_test_split(df, test_size=0.2)"
      ]
    },
    {
      "cell_type": "code",
      "execution_count": 20,
      "metadata": {},
      "outputs": [
        {
          "data": {
            "text/html": [
              "<div>\n",
              "<style scoped>\n",
              "    .dataframe tbody tr th:only-of-type {\n",
              "        vertical-align: middle;\n",
              "    }\n",
              "\n",
              "    .dataframe tbody tr th {\n",
              "        vertical-align: top;\n",
              "    }\n",
              "\n",
              "    .dataframe thead th {\n",
              "        text-align: right;\n",
              "    }\n",
              "</style>\n",
              "<table border=\"1\" class=\"dataframe\">\n",
              "  <thead>\n",
              "    <tr style=\"text-align: right;\">\n",
              "      <th></th>\n",
              "      <th>email</th>\n",
              "      <th>category</th>\n",
              "      <th>text_cleaned</th>\n",
              "      <th>label</th>\n",
              "    </tr>\n",
              "  </thead>\n",
              "  <tbody>\n",
              "    <tr>\n",
              "      <th>85</th>\n",
              "      <td>This is a multipart message in MIME format\\n\\n...</td>\n",
              "      <td>not-spam</td>\n",
              "      <td>This is a multipart message in MIME format\\n\\n...</td>\n",
              "      <td>0</td>\n",
              "    </tr>\n",
              "    <tr>\n",
              "      <th>49</th>\n",
              "      <td>Yes, I know, dreadful subject. However, becaus...</td>\n",
              "      <td>not-spam</td>\n",
              "      <td>Yes, I know, dreadful subject. However, becaus...</td>\n",
              "      <td>0</td>\n",
              "    </tr>\n",
              "    <tr>\n",
              "      <th>9</th>\n",
              "      <td>\\n\\nIn a message dated 9/19/2002 7:46:37 AM, c...</td>\n",
              "      <td>not-spam</td>\n",
              "      <td>In a message dated 9/19/2002 7:46:37 AM, chuck...</td>\n",
              "      <td>0</td>\n",
              "    </tr>\n",
              "    <tr>\n",
              "      <th>90</th>\n",
              "      <td>&lt;HTML&gt;\\n\\n&lt;HEAD&gt;\\n\\n&lt;/HEAD&gt;\\n\\n&lt;BODY&gt;\\n\\n&lt;FONT...</td>\n",
              "      <td>spam</td>\n",
              "      <td>\\n\\n\\n\\n A man endowed with a 7-8\" hammer is s...</td>\n",
              "      <td>1</td>\n",
              "    </tr>\n",
              "    <tr>\n",
              "      <th>67</th>\n",
              "      <td>On Mon, 22 Jul 2002, Adam Rifkin wrote:\\n\\n\\n\\...</td>\n",
              "      <td>not-spam</td>\n",
              "      <td>On Mon, 22 Jul 2002, Adam Rifkin wrote:\\n\\n\\n\\...</td>\n",
              "      <td>0</td>\n",
              "    </tr>\n",
              "    <tr>\n",
              "      <th>...</th>\n",
              "      <td>...</td>\n",
              "      <td>...</td>\n",
              "      <td>...</td>\n",
              "      <td>...</td>\n",
              "    </tr>\n",
              "    <tr>\n",
              "      <th>28</th>\n",
              "      <td>\\n\\nNot true on the choice part.\\n\\n\\n\\nAfter ...</td>\n",
              "      <td>not-spam</td>\n",
              "      <td>Not true on the choice part.\\n\\n\\n\\nAfter thre...</td>\n",
              "      <td>0</td>\n",
              "    </tr>\n",
              "    <tr>\n",
              "      <th>23</th>\n",
              "      <td>Do you want to make money from home?  Are you ...</td>\n",
              "      <td>spam</td>\n",
              "      <td>Do you want to make money from home?  Are you ...</td>\n",
              "      <td>1</td>\n",
              "    </tr>\n",
              "    <tr>\n",
              "      <th>53</th>\n",
              "      <td>Financial Services Company will pay a minimum ...</td>\n",
              "      <td>spam</td>\n",
              "      <td>Financial Services Company will pay a minimum ...</td>\n",
              "      <td>1</td>\n",
              "    </tr>\n",
              "    <tr>\n",
              "      <th>11</th>\n",
              "      <td>First, thanks for all the rpms, and especially...</td>\n",
              "      <td>not-spam</td>\n",
              "      <td>First, thanks for all the rpms, and especially...</td>\n",
              "      <td>0</td>\n",
              "    </tr>\n",
              "    <tr>\n",
              "      <th>16</th>\n",
              "      <td>\\n\\nIt seems that an email consisting of a sin...</td>\n",
              "      <td>not-spam</td>\n",
              "      <td>It seems that an email consisting of a single ...</td>\n",
              "      <td>0</td>\n",
              "    </tr>\n",
              "  </tbody>\n",
              "</table>\n",
              "<p>80 rows × 4 columns</p>\n",
              "</div>"
            ],
            "text/plain": [
              "                                                email  category  \\\n",
              "85  This is a multipart message in MIME format\\n\\n...  not-spam   \n",
              "49  Yes, I know, dreadful subject. However, becaus...  not-spam   \n",
              "9   \\n\\nIn a message dated 9/19/2002 7:46:37 AM, c...  not-spam   \n",
              "90  <HTML>\\n\\n<HEAD>\\n\\n</HEAD>\\n\\n<BODY>\\n\\n<FONT...      spam   \n",
              "67  On Mon, 22 Jul 2002, Adam Rifkin wrote:\\n\\n\\n\\...  not-spam   \n",
              "..                                                ...       ...   \n",
              "28  \\n\\nNot true on the choice part.\\n\\n\\n\\nAfter ...  not-spam   \n",
              "23  Do you want to make money from home?  Are you ...      spam   \n",
              "53  Financial Services Company will pay a minimum ...      spam   \n",
              "11  First, thanks for all the rpms, and especially...  not-spam   \n",
              "16  \\n\\nIt seems that an email consisting of a sin...  not-spam   \n",
              "\n",
              "                                         text_cleaned  label  \n",
              "85  This is a multipart message in MIME format\\n\\n...      0  \n",
              "49  Yes, I know, dreadful subject. However, becaus...      0  \n",
              "9   In a message dated 9/19/2002 7:46:37 AM, chuck...      0  \n",
              "90  \\n\\n\\n\\n A man endowed with a 7-8\" hammer is s...      1  \n",
              "67  On Mon, 22 Jul 2002, Adam Rifkin wrote:\\n\\n\\n\\...      0  \n",
              "..                                                ...    ...  \n",
              "28  Not true on the choice part.\\n\\n\\n\\nAfter thre...      0  \n",
              "23  Do you want to make money from home?  Are you ...      1  \n",
              "53  Financial Services Company will pay a minimum ...      1  \n",
              "11  First, thanks for all the rpms, and especially...      0  \n",
              "16  It seems that an email consisting of a single ...      0  \n",
              "\n",
              "[80 rows x 4 columns]"
            ]
          },
          "execution_count": 20,
          "metadata": {},
          "output_type": "execute_result"
        }
      ],
      "source": [
        "df_train"
      ]
    },
    {
      "cell_type": "code",
      "execution_count": 21,
      "metadata": {},
      "outputs": [
        {
          "data": {
            "text/html": [
              "<div>\n",
              "<style scoped>\n",
              "    .dataframe tbody tr th:only-of-type {\n",
              "        vertical-align: middle;\n",
              "    }\n",
              "\n",
              "    .dataframe tbody tr th {\n",
              "        vertical-align: top;\n",
              "    }\n",
              "\n",
              "    .dataframe thead th {\n",
              "        text-align: right;\n",
              "    }\n",
              "</style>\n",
              "<table border=\"1\" class=\"dataframe\">\n",
              "  <thead>\n",
              "    <tr style=\"text-align: right;\">\n",
              "      <th></th>\n",
              "      <th>email</th>\n",
              "      <th>category</th>\n",
              "      <th>text_cleaned</th>\n",
              "      <th>label</th>\n",
              "    </tr>\n",
              "  </thead>\n",
              "  <tbody>\n",
              "    <tr>\n",
              "      <th>1</th>\n",
              "      <td>On January 1st 2002, the European countries be...</td>\n",
              "      <td>spam</td>\n",
              "      <td>On January 1st 2002, the European countries be...</td>\n",
              "      <td>1</td>\n",
              "    </tr>\n",
              "    <tr>\n",
              "      <th>34</th>\n",
              "      <td>This is a multi-part message in MIME format.\\n...</td>\n",
              "      <td>spam</td>\n",
              "      <td>This is a multi-part message in MIME format.\\n...</td>\n",
              "      <td>1</td>\n",
              "    </tr>\n",
              "    <tr>\n",
              "      <th>96</th>\n",
              "      <td>--==_Exmh_1547759024P\\n\\nContent-Type: text/pl...</td>\n",
              "      <td>not-spam</td>\n",
              "      <td>--==_Exmh_1547759024P\\n\\nContent-Type: text/pl...</td>\n",
              "      <td>0</td>\n",
              "    </tr>\n",
              "    <tr>\n",
              "      <th>48</th>\n",
              "      <td>&lt;!-- saved from url=3D(0022)http://internet.e-...</td>\n",
              "      <td>spam</td>\n",
              "      <td>Bright Teeth now!\\n\\n\\n\\n\\n\\n\\n\\n\\n       \\n\\n...</td>\n",
              "      <td>1</td>\n",
              "    </tr>\n",
              "    <tr>\n",
              "      <th>45</th>\n",
              "      <td>&lt;html&gt;&lt;body bgColor=\"#CCCCCC\" topmargin=1 onMo...</td>\n",
              "      <td>spam</td>\n",
              "      <td>\\nHello, jm@netnoteinc.com\\nHuman \\n\\nGrowth \\...</td>\n",
              "      <td>1</td>\n",
              "    </tr>\n",
              "    <tr>\n",
              "      <th>82</th>\n",
              "      <td>URL: http://www.askbjoernhansen.com/archives/2...</td>\n",
              "      <td>not-spam</td>\n",
              "      <td>URL: http://www.askbjoernhansen.com/archives/2...</td>\n",
              "      <td>0</td>\n",
              "    </tr>\n",
              "    <tr>\n",
              "      <th>66</th>\n",
              "      <td>------=_NextPart_000_00E4_17A73C2D.E7104E07\\n\\...</td>\n",
              "      <td>spam</td>\n",
              "      <td>------=_NextPart_000_00E4_17A73C2D.E7104E07\\n\\...</td>\n",
              "      <td>1</td>\n",
              "    </tr>\n",
              "    <tr>\n",
              "      <th>91</th>\n",
              "      <td>&lt;html&gt;\\n\\n\\n\\n\\n\\n&lt;HEAD&gt; \\n\\n&lt;META charset=3DU...</td>\n",
              "      <td>spam</td>\n",
              "      <td>\\n\\n\\n\\n\\n\\n\\n\\n\\n\\n\\n\\n\\n\\n\\n\\n\\n\\n\\n\\n\\n\\n\\n...</td>\n",
              "      <td>1</td>\n",
              "    </tr>\n",
              "    <tr>\n",
              "      <th>29</th>\n",
              "      <td>&lt;HTML&gt;&lt;HEAD&gt;&lt;TITLE&gt;FREE Motorola Cell Phone wi...</td>\n",
              "      <td>spam</td>\n",
              "      <td>FREE Motorola Cell Phone with $50 Cash Back!\\n...</td>\n",
              "      <td>1</td>\n",
              "    </tr>\n",
              "    <tr>\n",
              "      <th>13</th>\n",
              "      <td>&lt;HR&gt;\\n\\n&lt;html&gt;\\n\\n&lt;div bgcolor=3D\"#FFFFCC\"&gt;\\n\\...</td>\n",
              "      <td>spam</td>\n",
              "      <td>\\n\\n\\nTremendous Savings\\n\\non Toners, \\n\\n\\nI...</td>\n",
              "      <td>1</td>\n",
              "    </tr>\n",
              "    <tr>\n",
              "      <th>0</th>\n",
              "      <td>URL: http://www.newsisfree.com/click/-2,841368...</td>\n",
              "      <td>not-spam</td>\n",
              "      <td>URL: http://www.newsisfree.com/click/-2,841368...</td>\n",
              "      <td>0</td>\n",
              "    </tr>\n",
              "    <tr>\n",
              "      <th>43</th>\n",
              "      <td>This comment probably goes into better late th...</td>\n",
              "      <td>not-spam</td>\n",
              "      <td>This comment probably goes into better late th...</td>\n",
              "      <td>0</td>\n",
              "    </tr>\n",
              "    <tr>\n",
              "      <th>68</th>\n",
              "      <td>use Perl Daily Newsletter\\n\\n\\n\\nIn this issue...</td>\n",
              "      <td>not-spam</td>\n",
              "      <td>use Perl Daily Newsletter\\n\\n\\n\\nIn this issue...</td>\n",
              "      <td>0</td>\n",
              "    </tr>\n",
              "    <tr>\n",
              "      <th>71</th>\n",
              "      <td>\\n\\n*** Compliance: see notice at bottom of ma...</td>\n",
              "      <td>spam</td>\n",
              "      <td>*** Compliance: see notice at bottom of mail\\n...</td>\n",
              "      <td>1</td>\n",
              "    </tr>\n",
              "    <tr>\n",
              "      <th>37</th>\n",
              "      <td>&lt;HTML&gt;&lt;BODY&gt;&lt;P align=3Dcenter&gt;&lt;FONT size=3D5&gt;&amp;...</td>\n",
              "      <td>spam</td>\n",
              "      <td>Repair Your Credit Online!It's =\\n\\nthe Onlin...</td>\n",
              "      <td>1</td>\n",
              "    </tr>\n",
              "    <tr>\n",
              "      <th>76</th>\n",
              "      <td>When America's top companies compete for your ...</td>\n",
              "      <td>spam</td>\n",
              "      <td>When America's top companies compete for your ...</td>\n",
              "      <td>1</td>\n",
              "    </tr>\n",
              "    <tr>\n",
              "      <th>97</th>\n",
              "      <td>Once upon a time, Yen wrote :\\n\\n\\n\\n&gt; How do ...</td>\n",
              "      <td>not-spam</td>\n",
              "      <td>Once upon a time, Yen wrote :\\n\\n\\n\\n&gt; How do ...</td>\n",
              "      <td>0</td>\n",
              "    </tr>\n",
              "    <tr>\n",
              "      <th>20</th>\n",
              "      <td>On Sun, 1 Sep 2002, Mr. FoRK wrote:\\n\\n\\n\\n&gt; &gt;...</td>\n",
              "      <td>not-spam</td>\n",
              "      <td>On Sun, 1 Sep 2002, Mr. FoRK wrote:\\n\\n\\n\\n&gt; &gt;...</td>\n",
              "      <td>0</td>\n",
              "    </tr>\n",
              "    <tr>\n",
              "      <th>30</th>\n",
              "      <td>&lt;html&gt;\\n\\n           &lt;DIV&gt;&amp;nbsp;&lt;/DIV&gt;&lt;FONT si...</td>\n",
              "      <td>spam</td>\n",
              "      <td>\\n \\n\\n\\n\\n \\n\\n\\n\\n\\n\\n\\n\\n\\nDear \\n\\n       ...</td>\n",
              "      <td>1</td>\n",
              "    </tr>\n",
              "    <tr>\n",
              "      <th>18</th>\n",
              "      <td>\\n\\n--#DM659823986#\\n\\nContent-Type: text/plai...</td>\n",
              "      <td>spam</td>\n",
              "      <td>--#DM659823986#\\n\\nContent-Type: text/plain; c...</td>\n",
              "      <td>1</td>\n",
              "    </tr>\n",
              "  </tbody>\n",
              "</table>\n",
              "</div>"
            ],
            "text/plain": [
              "                                                email  category  \\\n",
              "1   On January 1st 2002, the European countries be...      spam   \n",
              "34  This is a multi-part message in MIME format.\\n...      spam   \n",
              "96  --==_Exmh_1547759024P\\n\\nContent-Type: text/pl...  not-spam   \n",
              "48  <!-- saved from url=3D(0022)http://internet.e-...      spam   \n",
              "45  <html><body bgColor=\"#CCCCCC\" topmargin=1 onMo...      spam   \n",
              "82  URL: http://www.askbjoernhansen.com/archives/2...  not-spam   \n",
              "66  ------=_NextPart_000_00E4_17A73C2D.E7104E07\\n\\...      spam   \n",
              "91  <html>\\n\\n\\n\\n\\n\\n<HEAD> \\n\\n<META charset=3DU...      spam   \n",
              "29  <HTML><HEAD><TITLE>FREE Motorola Cell Phone wi...      spam   \n",
              "13  <HR>\\n\\n<html>\\n\\n<div bgcolor=3D\"#FFFFCC\">\\n\\...      spam   \n",
              "0   URL: http://www.newsisfree.com/click/-2,841368...  not-spam   \n",
              "43  This comment probably goes into better late th...  not-spam   \n",
              "68  use Perl Daily Newsletter\\n\\n\\n\\nIn this issue...  not-spam   \n",
              "71  \\n\\n*** Compliance: see notice at bottom of ma...      spam   \n",
              "37  <HTML><BODY><P align=3Dcenter><FONT size=3D5>&...      spam   \n",
              "76  When America's top companies compete for your ...      spam   \n",
              "97  Once upon a time, Yen wrote :\\n\\n\\n\\n> How do ...  not-spam   \n",
              "20  On Sun, 1 Sep 2002, Mr. FoRK wrote:\\n\\n\\n\\n> >...  not-spam   \n",
              "30  <html>\\n\\n           <DIV>&nbsp;</DIV><FONT si...      spam   \n",
              "18  \\n\\n--#DM659823986#\\n\\nContent-Type: text/plai...      spam   \n",
              "\n",
              "                                         text_cleaned  label  \n",
              "1   On January 1st 2002, the European countries be...      1  \n",
              "34  This is a multi-part message in MIME format.\\n...      1  \n",
              "96  --==_Exmh_1547759024P\\n\\nContent-Type: text/pl...      0  \n",
              "48  Bright Teeth now!\\n\\n\\n\\n\\n\\n\\n\\n\\n       \\n\\n...      1  \n",
              "45  \\nHello, jm@netnoteinc.com\\nHuman \\n\\nGrowth \\...      1  \n",
              "82  URL: http://www.askbjoernhansen.com/archives/2...      0  \n",
              "66  ------=_NextPart_000_00E4_17A73C2D.E7104E07\\n\\...      1  \n",
              "91  \\n\\n\\n\\n\\n\\n\\n\\n\\n\\n\\n\\n\\n\\n\\n\\n\\n\\n\\n\\n\\n\\n\\n...      1  \n",
              "29  FREE Motorola Cell Phone with $50 Cash Back!\\n...      1  \n",
              "13  \\n\\n\\nTremendous Savings\\n\\non Toners, \\n\\n\\nI...      1  \n",
              "0   URL: http://www.newsisfree.com/click/-2,841368...      0  \n",
              "43  This comment probably goes into better late th...      0  \n",
              "68  use Perl Daily Newsletter\\n\\n\\n\\nIn this issue...      0  \n",
              "71  *** Compliance: see notice at bottom of mail\\n...      1  \n",
              "37   Repair Your Credit Online!It's =\\n\\nthe Onlin...      1  \n",
              "76  When America's top companies compete for your ...      1  \n",
              "97  Once upon a time, Yen wrote :\\n\\n\\n\\n> How do ...      0  \n",
              "20  On Sun, 1 Sep 2002, Mr. FoRK wrote:\\n\\n\\n\\n> >...      0  \n",
              "30  \\n \\n\\n\\n\\n \\n\\n\\n\\n\\n\\n\\n\\n\\nDear \\n\\n       ...      1  \n",
              "18  --#DM659823986#\\n\\nContent-Type: text/plain; c...      1  "
            ]
          },
          "execution_count": 21,
          "metadata": {},
          "output_type": "execute_result"
        }
      ],
      "source": [
        "df_test"
      ]
    },
    {
      "cell_type": "markdown",
      "metadata": {},
      "source": [
        "---\n",
        "\n",
        "# Convert to Huggingface Dataset\n"
      ]
    },
    {
      "cell_type": "code",
      "execution_count": 22,
      "metadata": {
        "id": "tG9-ZMjTd7p0"
      },
      "outputs": [],
      "source": [
        "train_dataset = Dataset.from_pandas(df_train)\n",
        "test_dataset = Dataset.from_pandas(df_test)"
      ]
    },
    {
      "cell_type": "markdown",
      "metadata": {},
      "source": [
        "---\n",
        "\n",
        "# Tokenizer\n"
      ]
    },
    {
      "cell_type": "code",
      "execution_count": 23,
      "metadata": {},
      "outputs": [],
      "source": [
        "tokenizer = AutoTokenizer.from_pretrained(model_name)"
      ]
    },
    {
      "cell_type": "code",
      "execution_count": 24,
      "metadata": {
        "id": "bBkVtFI6cQXO"
      },
      "outputs": [],
      "source": [
        "def preprocess_function(examples):\n",
        "    return tokenizer(examples[\"text_cleaned\"], truncation=True)"
      ]
    },
    {
      "cell_type": "code",
      "execution_count": 25,
      "metadata": {
        "colab": {
          "base_uri": "https://localhost:8080/",
          "height": 49,
          "referenced_widgets": [
            "5d25773c687b4b4ab69e1c10c8fa89b0",
            "498012cbf13349eb9f4d166b4874df05",
            "f8a32737b8964837a2f5226174847726",
            "dabc5d9de971483f8fd051e9b2b6bce8",
            "237f962b863645b8bcb2e62437c82c5c",
            "a6512cbd14e14c0ebff3521058523a85",
            "b768d60049934053bd862ed8fafcc283",
            "7cf440d3ff2345e5b2d6742221742fe5",
            "d5cbfebcf7a94e43bc81e4d1cdb8e7a5",
            "af7f39e0956741b6b6f807580b58b54d",
            "9aa1a30d899344949dd1a1ab49d7a489"
          ]
        },
        "id": "TphCc-8ln8ft",
        "outputId": "836d3c31-f2db-4d1c-9ed9-86cb5a49f162"
      },
      "outputs": [
        {
          "name": "stderr",
          "output_type": "stream",
          "text": [
            "Map: 100%|██████████| 80/80 [00:00<00:00, 2145.01 examples/s]\n"
          ]
        }
      ],
      "source": [
        "tokenized_train = train_dataset.map(preprocess_function, batched=True)"
      ]
    },
    {
      "cell_type": "code",
      "execution_count": 26,
      "metadata": {
        "colab": {
          "base_uri": "https://localhost:8080/",
          "height": 49,
          "referenced_widgets": [
            "e527af17d4164f819097e19e36434ad5",
            "4c9a3d025d794f83906684a1f21f7cc9",
            "8a999e8f563d4da7b7f4caf84b73aa7f",
            "3a27c70ff13c4b10a7dff9d3c26e6aa9",
            "ab8d99542b9b40d7b0ac96176992ef37",
            "8cf3e53b8fb645b098bc3e9341dc78d6",
            "08b43815a9604e5b962861a7002dffff",
            "7fa00d57f78040c2a09d85e084a60735",
            "32fd4c7ee6c34fcabd99d7d534725736",
            "9d0bbf5585394b74940cfbfb4028f736",
            "6f18b6c539cd4548b6bec432b392ba88"
          ]
        },
        "id": "1acJjcYVhhOD",
        "outputId": "a0b726a6-7a91-4b1f-c0fb-a116c6e80d45"
      },
      "outputs": [
        {
          "name": "stderr",
          "output_type": "stream",
          "text": [
            "Map: 100%|██████████| 20/20 [00:00<00:00, 1415.89 examples/s]\n"
          ]
        }
      ],
      "source": [
        "tokenized_test = test_dataset.map(preprocess_function, batched=True)"
      ]
    },
    {
      "cell_type": "markdown",
      "metadata": {},
      "source": [
        "---\n",
        "\n",
        "# Initialize Model\n"
      ]
    },
    {
      "cell_type": "code",
      "execution_count": 27,
      "metadata": {
        "colab": {
          "base_uri": "https://localhost:8080/"
        },
        "id": "PHe02h-2iJXa",
        "outputId": "ecca279c-09ca-4322-8798-1faea2d7bd55"
      },
      "outputs": [
        {
          "name": "stderr",
          "output_type": "stream",
          "text": [
            "Some weights of DistilBertForSequenceClassification were not initialized from the model checkpoint at distilbert-base-uncased and are newly initialized: ['pre_classifier.bias', 'classifier.bias', 'classifier.weight', 'pre_classifier.weight']\n",
            "You should probably TRAIN this model on a down-stream task to be able to use it for predictions and inference.\n"
          ]
        }
      ],
      "source": [
        "model = AutoModelForSequenceClassification.from_pretrained(model_name, num_labels=2)"
      ]
    },
    {
      "cell_type": "markdown",
      "metadata": {},
      "source": [
        "---\n",
        "\n",
        "# Train Model\n"
      ]
    },
    {
      "cell_type": "code",
      "execution_count": 28,
      "metadata": {
        "id": "wMyay2U3iJZ7"
      },
      "outputs": [],
      "source": [
        "data_collator = DataCollatorWithPadding(tokenizer=tokenizer)"
      ]
    },
    {
      "cell_type": "code",
      "execution_count": 29,
      "metadata": {},
      "outputs": [],
      "source": [
        "metric = evaluate.load(\"accuracy\")"
      ]
    },
    {
      "cell_type": "code",
      "execution_count": 30,
      "metadata": {
        "id": "TSOJ9Z_4YrMc"
      },
      "outputs": [],
      "source": [
        "def compute_metrics(eval_pred):\n",
        "    logits, labels = eval_pred\n",
        "    predictions = np.argmax(logits, axis=-1)\n",
        "    return metric.compute(predictions=predictions, references=labels)"
      ]
    },
    {
      "cell_type": "code",
      "execution_count": 31,
      "metadata": {},
      "outputs": [],
      "source": [
        "# Hyperparameters.\n",
        "\n",
        "num_train_epochs = 5\n",
        "learning_rate = 2e-4\n",
        "per_device_train_batch_size = 8\n",
        "per_device_eval_batch_size = 8\n",
        "weight_decay = 0.01"
      ]
    },
    {
      "cell_type": "code",
      "execution_count": 32,
      "metadata": {},
      "outputs": [],
      "source": [
        "evaluation_strategy = \"epoch\"\n",
        "logging_strategy = \"epoch\"\n",
        "\n",
        "training_args = TrainingArguments(\n",
        "    output_dir=\"./results_tweets\",\n",
        "    learning_rate=learning_rate,\n",
        "    per_device_train_batch_size=per_device_train_batch_size,\n",
        "    per_device_eval_batch_size=per_device_eval_batch_size,\n",
        "    num_train_epochs=num_train_epochs,\n",
        "    weight_decay=weight_decay,\n",
        "    evaluation_strategy=evaluation_strategy,\n",
        "    logging_strategy=logging_strategy,\n",
        ")"
      ]
    },
    {
      "cell_type": "code",
      "execution_count": 33,
      "metadata": {
        "id": "UNs2yNXei6oO"
      },
      "outputs": [],
      "source": [
        "trainer = Trainer(\n",
        "    model=model,\n",
        "    args=training_args,\n",
        "    train_dataset=tokenized_train,\n",
        "    eval_dataset=tokenized_test,\n",
        "    tokenizer=tokenizer,\n",
        "    data_collator=data_collator,\n",
        "    compute_metrics=compute_metrics,\n",
        ")"
      ]
    },
    {
      "cell_type": "code",
      "execution_count": 34,
      "metadata": {
        "colab": {
          "base_uri": "https://localhost:8080/",
          "height": 1000
        },
        "id": "emZZhxQiiZsH",
        "outputId": "4167e861-94ca-4904-fab7-06479814b518"
      },
      "outputs": [
        {
          "name": "stderr",
          "output_type": "stream",
          "text": [
            "  0%|          | 0/50 [00:00<?, ?it/s]You're using a DistilBertTokenizerFast tokenizer. Please note that with a fast tokenizer, using the `__call__` method is faster than using a method to encode the text followed by a call to the `pad` method to get a padded encoding.\n",
            " 20%|██        | 10/50 [00:49<03:19,  5.00s/it]"
          ]
        },
        {
          "name": "stdout",
          "output_type": "stream",
          "text": [
            "{'loss': 0.529, 'learning_rate': 0.00016, 'epoch': 1.0}\n"
          ]
        },
        {
          "name": "stderr",
          "output_type": "stream",
          "text": [
            "                                               \n",
            " 20%|██        | 10/50 [00:54<03:19,  5.00s/it]"
          ]
        },
        {
          "name": "stdout",
          "output_type": "stream",
          "text": [
            "{'eval_loss': 0.24027982354164124, 'eval_accuracy': 0.85, 'eval_runtime': 4.144, 'eval_samples_per_second': 4.826, 'eval_steps_per_second': 0.724, 'epoch': 1.0}\n"
          ]
        },
        {
          "name": "stderr",
          "output_type": "stream",
          "text": [
            " 40%|████      | 20/50 [01:39<02:06,  4.23s/it]"
          ]
        },
        {
          "name": "stdout",
          "output_type": "stream",
          "text": [
            "{'loss': 0.0366, 'learning_rate': 0.00012, 'epoch': 2.0}\n"
          ]
        },
        {
          "name": "stderr",
          "output_type": "stream",
          "text": [
            "                                               \n",
            " 40%|████      | 20/50 [01:42<02:06,  4.23s/it]"
          ]
        },
        {
          "name": "stdout",
          "output_type": "stream",
          "text": [
            "{'eval_loss': 0.400242418050766, 'eval_accuracy': 0.9, 'eval_runtime': 3.2234, 'eval_samples_per_second': 6.205, 'eval_steps_per_second': 0.931, 'epoch': 2.0}\n"
          ]
        },
        {
          "name": "stderr",
          "output_type": "stream",
          "text": [
            " 60%|██████    | 30/50 [02:20<01:16,  3.83s/it]"
          ]
        },
        {
          "name": "stdout",
          "output_type": "stream",
          "text": [
            "{'loss': 0.0498, 'learning_rate': 8e-05, 'epoch': 3.0}\n"
          ]
        },
        {
          "name": "stderr",
          "output_type": "stream",
          "text": [
            "                                               \n",
            " 60%|██████    | 30/50 [02:24<01:16,  3.83s/it]"
          ]
        },
        {
          "name": "stdout",
          "output_type": "stream",
          "text": [
            "{'eval_loss': 0.26463380455970764, 'eval_accuracy': 0.95, 'eval_runtime': 3.3234, 'eval_samples_per_second': 6.018, 'eval_steps_per_second': 0.903, 'epoch': 3.0}\n"
          ]
        },
        {
          "name": "stderr",
          "output_type": "stream",
          "text": [
            " 80%|████████  | 40/50 [03:02<00:38,  3.87s/it]"
          ]
        },
        {
          "name": "stdout",
          "output_type": "stream",
          "text": [
            "{'loss': 0.129, 'learning_rate': 4e-05, 'epoch': 4.0}\n"
          ]
        },
        {
          "name": "stderr",
          "output_type": "stream",
          "text": [
            "                                               \n",
            " 80%|████████  | 40/50 [03:05<00:38,  3.87s/it]"
          ]
        },
        {
          "name": "stdout",
          "output_type": "stream",
          "text": [
            "{'eval_loss': 0.3331300616264343, 'eval_accuracy': 0.95, 'eval_runtime': 3.1954, 'eval_samples_per_second': 6.259, 'eval_steps_per_second': 0.939, 'epoch': 4.0}\n"
          ]
        },
        {
          "name": "stderr",
          "output_type": "stream",
          "text": [
            "100%|██████████| 50/50 [03:41<00:00,  3.71s/it]"
          ]
        },
        {
          "name": "stdout",
          "output_type": "stream",
          "text": [
            "{'loss': 0.0008, 'learning_rate': 0.0, 'epoch': 5.0}\n"
          ]
        },
        {
          "name": "stderr",
          "output_type": "stream",
          "text": [
            "                                               \n",
            "100%|██████████| 50/50 [03:44<00:00,  4.50s/it]"
          ]
        },
        {
          "name": "stdout",
          "output_type": "stream",
          "text": [
            "{'eval_loss': 0.2604975998401642, 'eval_accuracy': 0.95, 'eval_runtime': 3.0168, 'eval_samples_per_second': 6.63, 'eval_steps_per_second': 0.994, 'epoch': 5.0}\n",
            "{'train_runtime': 224.9988, 'train_samples_per_second': 1.778, 'train_steps_per_second': 0.222, 'train_loss': 0.14903955729678273, 'epoch': 5.0}\n"
          ]
        },
        {
          "name": "stderr",
          "output_type": "stream",
          "text": [
            "\n"
          ]
        },
        {
          "data": {
            "text/plain": [
              "TrainOutput(global_step=50, training_loss=0.14903955729678273, metrics={'train_runtime': 224.9988, 'train_samples_per_second': 1.778, 'train_steps_per_second': 0.222, 'train_loss': 0.14903955729678273, 'epoch': 5.0})"
            ]
          },
          "execution_count": 34,
          "metadata": {},
          "output_type": "execute_result"
        }
      ],
      "source": [
        "trainer.train()"
      ]
    },
    {
      "cell_type": "code",
      "execution_count": 35,
      "metadata": {
        "colab": {
          "base_uri": "https://localhost:8080/"
        },
        "id": "YDFUsLWfiM-P",
        "outputId": "8bd2ae61-44b2-4c33-c293-6541821d9cec"
      },
      "outputs": [],
      "source": [
        "trainer.save_model(\"spam_model\")"
      ]
    },
    {
      "cell_type": "markdown",
      "metadata": {},
      "source": [
        "---\n",
        "\n",
        "# Evaluate Model\n"
      ]
    },
    {
      "cell_type": "code",
      "execution_count": 36,
      "metadata": {
        "colab": {
          "base_uri": "https://localhost:8080/",
          "height": 263
        },
        "id": "CLDc2nFAsENk",
        "outputId": "c01e910b-afc4-4383-db30-6076a3ae01dd"
      },
      "outputs": [
        {
          "name": "stderr",
          "output_type": "stream",
          "text": [
            "100%|██████████| 10/10 [00:11<00:00,  1.14s/it]"
          ]
        },
        {
          "name": "stdout",
          "output_type": "stream",
          "text": [
            "              precision    recall  f1-score   support\n",
            "\n",
            "           0       1.00      1.00      1.00        44\n",
            "           1       1.00      1.00      1.00        36\n",
            "\n",
            "    accuracy                           1.00        80\n",
            "   macro avg       1.00      1.00      1.00        80\n",
            "weighted avg       1.00      1.00      1.00        80\n",
            "\n"
          ]
        },
        {
          "name": "stderr",
          "output_type": "stream",
          "text": [
            "\n"
          ]
        }
      ],
      "source": [
        "# Evaluating on the training data.\n",
        "\n",
        "preds = trainer.predict(tokenized_train)\n",
        "preds = np.argmax(preds[:3][0], axis=1)\n",
        "GT = df_train[\"label\"].tolist()\n",
        "print(classification_report(GT, preds))"
      ]
    },
    {
      "cell_type": "code",
      "execution_count": 37,
      "metadata": {
        "colab": {
          "base_uri": "https://localhost:8080/",
          "height": 263
        },
        "id": "OIMu476_cZGn",
        "outputId": "814f38c6-b441-4aa0-8d21-2371cc7fa03d"
      },
      "outputs": [
        {
          "name": "stderr",
          "output_type": "stream",
          "text": [
            "100%|██████████| 3/3 [00:01<00:00,  1.70it/s]"
          ]
        },
        {
          "name": "stdout",
          "output_type": "stream",
          "text": [
            "              precision    recall  f1-score   support\n",
            "\n",
            "           0       1.00      0.86      0.92         7\n",
            "           1       0.93      1.00      0.96        13\n",
            "\n",
            "    accuracy                           0.95        20\n",
            "   macro avg       0.96      0.93      0.94        20\n",
            "weighted avg       0.95      0.95      0.95        20\n",
            "\n"
          ]
        },
        {
          "name": "stderr",
          "output_type": "stream",
          "text": [
            "\n"
          ]
        }
      ],
      "source": [
        "# Evaluating on the testing data.\n",
        "\n",
        "preds = trainer.predict(tokenized_test)\n",
        "preds = np.argmax(preds[:3][0], axis=1)\n",
        "GT = df_test[\"label\"].tolist()\n",
        "print(classification_report(GT, preds))"
      ]
    }
  ],
  "metadata": {
    "accelerator": "GPU",
    "colab": {
      "provenance": []
    },
    "gpuClass": "standard",
    "kernelspec": {
      "display_name": "Python 3",
      "name": "python3"
    },
    "language_info": {
      "codemirror_mode": {
        "name": "ipython",
        "version": 3
      },
      "file_extension": ".py",
      "mimetype": "text/x-python",
      "name": "python",
      "nbconvert_exporter": "python",
      "pygments_lexer": "ipython3",
      "version": "3.10.9"
    },
    "widgets": {
      "application/vnd.jupyter.widget-state+json": {
        "08b43815a9604e5b962861a7002dffff": {
          "model_module": "@jupyter-widgets/controls",
          "model_module_version": "1.5.0",
          "model_name": "DescriptionStyleModel",
          "state": {
            "_model_module": "@jupyter-widgets/controls",
            "_model_module_version": "1.5.0",
            "_model_name": "DescriptionStyleModel",
            "_view_count": null,
            "_view_module": "@jupyter-widgets/base",
            "_view_module_version": "1.2.0",
            "_view_name": "StyleView",
            "description_width": ""
          }
        },
        "237f962b863645b8bcb2e62437c82c5c": {
          "model_module": "@jupyter-widgets/base",
          "model_module_version": "1.2.0",
          "model_name": "LayoutModel",
          "state": {
            "_model_module": "@jupyter-widgets/base",
            "_model_module_version": "1.2.0",
            "_model_name": "LayoutModel",
            "_view_count": null,
            "_view_module": "@jupyter-widgets/base",
            "_view_module_version": "1.2.0",
            "_view_name": "LayoutView",
            "align_content": null,
            "align_items": null,
            "align_self": null,
            "border": null,
            "bottom": null,
            "display": null,
            "flex": null,
            "flex_flow": null,
            "grid_area": null,
            "grid_auto_columns": null,
            "grid_auto_flow": null,
            "grid_auto_rows": null,
            "grid_column": null,
            "grid_gap": null,
            "grid_row": null,
            "grid_template_areas": null,
            "grid_template_columns": null,
            "grid_template_rows": null,
            "height": null,
            "justify_content": null,
            "justify_items": null,
            "left": null,
            "margin": null,
            "max_height": null,
            "max_width": null,
            "min_height": null,
            "min_width": null,
            "object_fit": null,
            "object_position": null,
            "order": null,
            "overflow": null,
            "overflow_x": null,
            "overflow_y": null,
            "padding": null,
            "right": null,
            "top": null,
            "visibility": null,
            "width": null
          }
        },
        "32fd4c7ee6c34fcabd99d7d534725736": {
          "model_module": "@jupyter-widgets/controls",
          "model_module_version": "1.5.0",
          "model_name": "ProgressStyleModel",
          "state": {
            "_model_module": "@jupyter-widgets/controls",
            "_model_module_version": "1.5.0",
            "_model_name": "ProgressStyleModel",
            "_view_count": null,
            "_view_module": "@jupyter-widgets/base",
            "_view_module_version": "1.2.0",
            "_view_name": "StyleView",
            "bar_color": null,
            "description_width": ""
          }
        },
        "3a27c70ff13c4b10a7dff9d3c26e6aa9": {
          "model_module": "@jupyter-widgets/controls",
          "model_module_version": "1.5.0",
          "model_name": "HTMLModel",
          "state": {
            "_dom_classes": [],
            "_model_module": "@jupyter-widgets/controls",
            "_model_module_version": "1.5.0",
            "_model_name": "HTMLModel",
            "_view_count": null,
            "_view_module": "@jupyter-widgets/controls",
            "_view_module_version": "1.5.0",
            "_view_name": "HTMLView",
            "description": "",
            "description_tooltip": null,
            "layout": "IPY_MODEL_9d0bbf5585394b74940cfbfb4028f736",
            "placeholder": "​",
            "style": "IPY_MODEL_6f18b6c539cd4548b6bec432b392ba88",
            "value": " 1/1 [00:01&lt;00:00,  1.73s/ba]"
          }
        },
        "498012cbf13349eb9f4d166b4874df05": {
          "model_module": "@jupyter-widgets/controls",
          "model_module_version": "1.5.0",
          "model_name": "HTMLModel",
          "state": {
            "_dom_classes": [],
            "_model_module": "@jupyter-widgets/controls",
            "_model_module_version": "1.5.0",
            "_model_name": "HTMLModel",
            "_view_count": null,
            "_view_module": "@jupyter-widgets/controls",
            "_view_module_version": "1.5.0",
            "_view_name": "HTMLView",
            "description": "",
            "description_tooltip": null,
            "layout": "IPY_MODEL_a6512cbd14e14c0ebff3521058523a85",
            "placeholder": "​",
            "style": "IPY_MODEL_b768d60049934053bd862ed8fafcc283",
            "value": "100%"
          }
        },
        "4c9a3d025d794f83906684a1f21f7cc9": {
          "model_module": "@jupyter-widgets/controls",
          "model_module_version": "1.5.0",
          "model_name": "HTMLModel",
          "state": {
            "_dom_classes": [],
            "_model_module": "@jupyter-widgets/controls",
            "_model_module_version": "1.5.0",
            "_model_name": "HTMLModel",
            "_view_count": null,
            "_view_module": "@jupyter-widgets/controls",
            "_view_module_version": "1.5.0",
            "_view_name": "HTMLView",
            "description": "",
            "description_tooltip": null,
            "layout": "IPY_MODEL_8cf3e53b8fb645b098bc3e9341dc78d6",
            "placeholder": "​",
            "style": "IPY_MODEL_08b43815a9604e5b962861a7002dffff",
            "value": "100%"
          }
        },
        "5d25773c687b4b4ab69e1c10c8fa89b0": {
          "model_module": "@jupyter-widgets/controls",
          "model_module_version": "1.5.0",
          "model_name": "HBoxModel",
          "state": {
            "_dom_classes": [],
            "_model_module": "@jupyter-widgets/controls",
            "_model_module_version": "1.5.0",
            "_model_name": "HBoxModel",
            "_view_count": null,
            "_view_module": "@jupyter-widgets/controls",
            "_view_module_version": "1.5.0",
            "_view_name": "HBoxView",
            "box_style": "",
            "children": [
              "IPY_MODEL_498012cbf13349eb9f4d166b4874df05",
              "IPY_MODEL_f8a32737b8964837a2f5226174847726",
              "IPY_MODEL_dabc5d9de971483f8fd051e9b2b6bce8"
            ],
            "layout": "IPY_MODEL_237f962b863645b8bcb2e62437c82c5c"
          }
        },
        "6f18b6c539cd4548b6bec432b392ba88": {
          "model_module": "@jupyter-widgets/controls",
          "model_module_version": "1.5.0",
          "model_name": "DescriptionStyleModel",
          "state": {
            "_model_module": "@jupyter-widgets/controls",
            "_model_module_version": "1.5.0",
            "_model_name": "DescriptionStyleModel",
            "_view_count": null,
            "_view_module": "@jupyter-widgets/base",
            "_view_module_version": "1.2.0",
            "_view_name": "StyleView",
            "description_width": ""
          }
        },
        "7cf440d3ff2345e5b2d6742221742fe5": {
          "model_module": "@jupyter-widgets/base",
          "model_module_version": "1.2.0",
          "model_name": "LayoutModel",
          "state": {
            "_model_module": "@jupyter-widgets/base",
            "_model_module_version": "1.2.0",
            "_model_name": "LayoutModel",
            "_view_count": null,
            "_view_module": "@jupyter-widgets/base",
            "_view_module_version": "1.2.0",
            "_view_name": "LayoutView",
            "align_content": null,
            "align_items": null,
            "align_self": null,
            "border": null,
            "bottom": null,
            "display": null,
            "flex": null,
            "flex_flow": null,
            "grid_area": null,
            "grid_auto_columns": null,
            "grid_auto_flow": null,
            "grid_auto_rows": null,
            "grid_column": null,
            "grid_gap": null,
            "grid_row": null,
            "grid_template_areas": null,
            "grid_template_columns": null,
            "grid_template_rows": null,
            "height": null,
            "justify_content": null,
            "justify_items": null,
            "left": null,
            "margin": null,
            "max_height": null,
            "max_width": null,
            "min_height": null,
            "min_width": null,
            "object_fit": null,
            "object_position": null,
            "order": null,
            "overflow": null,
            "overflow_x": null,
            "overflow_y": null,
            "padding": null,
            "right": null,
            "top": null,
            "visibility": null,
            "width": null
          }
        },
        "7fa00d57f78040c2a09d85e084a60735": {
          "model_module": "@jupyter-widgets/base",
          "model_module_version": "1.2.0",
          "model_name": "LayoutModel",
          "state": {
            "_model_module": "@jupyter-widgets/base",
            "_model_module_version": "1.2.0",
            "_model_name": "LayoutModel",
            "_view_count": null,
            "_view_module": "@jupyter-widgets/base",
            "_view_module_version": "1.2.0",
            "_view_name": "LayoutView",
            "align_content": null,
            "align_items": null,
            "align_self": null,
            "border": null,
            "bottom": null,
            "display": null,
            "flex": null,
            "flex_flow": null,
            "grid_area": null,
            "grid_auto_columns": null,
            "grid_auto_flow": null,
            "grid_auto_rows": null,
            "grid_column": null,
            "grid_gap": null,
            "grid_row": null,
            "grid_template_areas": null,
            "grid_template_columns": null,
            "grid_template_rows": null,
            "height": null,
            "justify_content": null,
            "justify_items": null,
            "left": null,
            "margin": null,
            "max_height": null,
            "max_width": null,
            "min_height": null,
            "min_width": null,
            "object_fit": null,
            "object_position": null,
            "order": null,
            "overflow": null,
            "overflow_x": null,
            "overflow_y": null,
            "padding": null,
            "right": null,
            "top": null,
            "visibility": null,
            "width": null
          }
        },
        "8a999e8f563d4da7b7f4caf84b73aa7f": {
          "model_module": "@jupyter-widgets/controls",
          "model_module_version": "1.5.0",
          "model_name": "FloatProgressModel",
          "state": {
            "_dom_classes": [],
            "_model_module": "@jupyter-widgets/controls",
            "_model_module_version": "1.5.0",
            "_model_name": "FloatProgressModel",
            "_view_count": null,
            "_view_module": "@jupyter-widgets/controls",
            "_view_module_version": "1.5.0",
            "_view_name": "ProgressView",
            "bar_style": "success",
            "description": "",
            "description_tooltip": null,
            "layout": "IPY_MODEL_7fa00d57f78040c2a09d85e084a60735",
            "max": 1,
            "min": 0,
            "orientation": "horizontal",
            "style": "IPY_MODEL_32fd4c7ee6c34fcabd99d7d534725736",
            "value": 1
          }
        },
        "8cf3e53b8fb645b098bc3e9341dc78d6": {
          "model_module": "@jupyter-widgets/base",
          "model_module_version": "1.2.0",
          "model_name": "LayoutModel",
          "state": {
            "_model_module": "@jupyter-widgets/base",
            "_model_module_version": "1.2.0",
            "_model_name": "LayoutModel",
            "_view_count": null,
            "_view_module": "@jupyter-widgets/base",
            "_view_module_version": "1.2.0",
            "_view_name": "LayoutView",
            "align_content": null,
            "align_items": null,
            "align_self": null,
            "border": null,
            "bottom": null,
            "display": null,
            "flex": null,
            "flex_flow": null,
            "grid_area": null,
            "grid_auto_columns": null,
            "grid_auto_flow": null,
            "grid_auto_rows": null,
            "grid_column": null,
            "grid_gap": null,
            "grid_row": null,
            "grid_template_areas": null,
            "grid_template_columns": null,
            "grid_template_rows": null,
            "height": null,
            "justify_content": null,
            "justify_items": null,
            "left": null,
            "margin": null,
            "max_height": null,
            "max_width": null,
            "min_height": null,
            "min_width": null,
            "object_fit": null,
            "object_position": null,
            "order": null,
            "overflow": null,
            "overflow_x": null,
            "overflow_y": null,
            "padding": null,
            "right": null,
            "top": null,
            "visibility": null,
            "width": null
          }
        },
        "9aa1a30d899344949dd1a1ab49d7a489": {
          "model_module": "@jupyter-widgets/controls",
          "model_module_version": "1.5.0",
          "model_name": "DescriptionStyleModel",
          "state": {
            "_model_module": "@jupyter-widgets/controls",
            "_model_module_version": "1.5.0",
            "_model_name": "DescriptionStyleModel",
            "_view_count": null,
            "_view_module": "@jupyter-widgets/base",
            "_view_module_version": "1.2.0",
            "_view_name": "StyleView",
            "description_width": ""
          }
        },
        "9d0bbf5585394b74940cfbfb4028f736": {
          "model_module": "@jupyter-widgets/base",
          "model_module_version": "1.2.0",
          "model_name": "LayoutModel",
          "state": {
            "_model_module": "@jupyter-widgets/base",
            "_model_module_version": "1.2.0",
            "_model_name": "LayoutModel",
            "_view_count": null,
            "_view_module": "@jupyter-widgets/base",
            "_view_module_version": "1.2.0",
            "_view_name": "LayoutView",
            "align_content": null,
            "align_items": null,
            "align_self": null,
            "border": null,
            "bottom": null,
            "display": null,
            "flex": null,
            "flex_flow": null,
            "grid_area": null,
            "grid_auto_columns": null,
            "grid_auto_flow": null,
            "grid_auto_rows": null,
            "grid_column": null,
            "grid_gap": null,
            "grid_row": null,
            "grid_template_areas": null,
            "grid_template_columns": null,
            "grid_template_rows": null,
            "height": null,
            "justify_content": null,
            "justify_items": null,
            "left": null,
            "margin": null,
            "max_height": null,
            "max_width": null,
            "min_height": null,
            "min_width": null,
            "object_fit": null,
            "object_position": null,
            "order": null,
            "overflow": null,
            "overflow_x": null,
            "overflow_y": null,
            "padding": null,
            "right": null,
            "top": null,
            "visibility": null,
            "width": null
          }
        },
        "a6512cbd14e14c0ebff3521058523a85": {
          "model_module": "@jupyter-widgets/base",
          "model_module_version": "1.2.0",
          "model_name": "LayoutModel",
          "state": {
            "_model_module": "@jupyter-widgets/base",
            "_model_module_version": "1.2.0",
            "_model_name": "LayoutModel",
            "_view_count": null,
            "_view_module": "@jupyter-widgets/base",
            "_view_module_version": "1.2.0",
            "_view_name": "LayoutView",
            "align_content": null,
            "align_items": null,
            "align_self": null,
            "border": null,
            "bottom": null,
            "display": null,
            "flex": null,
            "flex_flow": null,
            "grid_area": null,
            "grid_auto_columns": null,
            "grid_auto_flow": null,
            "grid_auto_rows": null,
            "grid_column": null,
            "grid_gap": null,
            "grid_row": null,
            "grid_template_areas": null,
            "grid_template_columns": null,
            "grid_template_rows": null,
            "height": null,
            "justify_content": null,
            "justify_items": null,
            "left": null,
            "margin": null,
            "max_height": null,
            "max_width": null,
            "min_height": null,
            "min_width": null,
            "object_fit": null,
            "object_position": null,
            "order": null,
            "overflow": null,
            "overflow_x": null,
            "overflow_y": null,
            "padding": null,
            "right": null,
            "top": null,
            "visibility": null,
            "width": null
          }
        },
        "ab8d99542b9b40d7b0ac96176992ef37": {
          "model_module": "@jupyter-widgets/base",
          "model_module_version": "1.2.0",
          "model_name": "LayoutModel",
          "state": {
            "_model_module": "@jupyter-widgets/base",
            "_model_module_version": "1.2.0",
            "_model_name": "LayoutModel",
            "_view_count": null,
            "_view_module": "@jupyter-widgets/base",
            "_view_module_version": "1.2.0",
            "_view_name": "LayoutView",
            "align_content": null,
            "align_items": null,
            "align_self": null,
            "border": null,
            "bottom": null,
            "display": null,
            "flex": null,
            "flex_flow": null,
            "grid_area": null,
            "grid_auto_columns": null,
            "grid_auto_flow": null,
            "grid_auto_rows": null,
            "grid_column": null,
            "grid_gap": null,
            "grid_row": null,
            "grid_template_areas": null,
            "grid_template_columns": null,
            "grid_template_rows": null,
            "height": null,
            "justify_content": null,
            "justify_items": null,
            "left": null,
            "margin": null,
            "max_height": null,
            "max_width": null,
            "min_height": null,
            "min_width": null,
            "object_fit": null,
            "object_position": null,
            "order": null,
            "overflow": null,
            "overflow_x": null,
            "overflow_y": null,
            "padding": null,
            "right": null,
            "top": null,
            "visibility": null,
            "width": null
          }
        },
        "af7f39e0956741b6b6f807580b58b54d": {
          "model_module": "@jupyter-widgets/base",
          "model_module_version": "1.2.0",
          "model_name": "LayoutModel",
          "state": {
            "_model_module": "@jupyter-widgets/base",
            "_model_module_version": "1.2.0",
            "_model_name": "LayoutModel",
            "_view_count": null,
            "_view_module": "@jupyter-widgets/base",
            "_view_module_version": "1.2.0",
            "_view_name": "LayoutView",
            "align_content": null,
            "align_items": null,
            "align_self": null,
            "border": null,
            "bottom": null,
            "display": null,
            "flex": null,
            "flex_flow": null,
            "grid_area": null,
            "grid_auto_columns": null,
            "grid_auto_flow": null,
            "grid_auto_rows": null,
            "grid_column": null,
            "grid_gap": null,
            "grid_row": null,
            "grid_template_areas": null,
            "grid_template_columns": null,
            "grid_template_rows": null,
            "height": null,
            "justify_content": null,
            "justify_items": null,
            "left": null,
            "margin": null,
            "max_height": null,
            "max_width": null,
            "min_height": null,
            "min_width": null,
            "object_fit": null,
            "object_position": null,
            "order": null,
            "overflow": null,
            "overflow_x": null,
            "overflow_y": null,
            "padding": null,
            "right": null,
            "top": null,
            "visibility": null,
            "width": null
          }
        },
        "b768d60049934053bd862ed8fafcc283": {
          "model_module": "@jupyter-widgets/controls",
          "model_module_version": "1.5.0",
          "model_name": "DescriptionStyleModel",
          "state": {
            "_model_module": "@jupyter-widgets/controls",
            "_model_module_version": "1.5.0",
            "_model_name": "DescriptionStyleModel",
            "_view_count": null,
            "_view_module": "@jupyter-widgets/base",
            "_view_module_version": "1.2.0",
            "_view_name": "StyleView",
            "description_width": ""
          }
        },
        "d5cbfebcf7a94e43bc81e4d1cdb8e7a5": {
          "model_module": "@jupyter-widgets/controls",
          "model_module_version": "1.5.0",
          "model_name": "ProgressStyleModel",
          "state": {
            "_model_module": "@jupyter-widgets/controls",
            "_model_module_version": "1.5.0",
            "_model_name": "ProgressStyleModel",
            "_view_count": null,
            "_view_module": "@jupyter-widgets/base",
            "_view_module_version": "1.2.0",
            "_view_name": "StyleView",
            "bar_color": null,
            "description_width": ""
          }
        },
        "dabc5d9de971483f8fd051e9b2b6bce8": {
          "model_module": "@jupyter-widgets/controls",
          "model_module_version": "1.5.0",
          "model_name": "HTMLModel",
          "state": {
            "_dom_classes": [],
            "_model_module": "@jupyter-widgets/controls",
            "_model_module_version": "1.5.0",
            "_model_name": "HTMLModel",
            "_view_count": null,
            "_view_module": "@jupyter-widgets/controls",
            "_view_module_version": "1.5.0",
            "_view_name": "HTMLView",
            "description": "",
            "description_tooltip": null,
            "layout": "IPY_MODEL_af7f39e0956741b6b6f807580b58b54d",
            "placeholder": "​",
            "style": "IPY_MODEL_9aa1a30d899344949dd1a1ab49d7a489",
            "value": " 4/4 [00:08&lt;00:00,  2.88s/ba]"
          }
        },
        "e527af17d4164f819097e19e36434ad5": {
          "model_module": "@jupyter-widgets/controls",
          "model_module_version": "1.5.0",
          "model_name": "HBoxModel",
          "state": {
            "_dom_classes": [],
            "_model_module": "@jupyter-widgets/controls",
            "_model_module_version": "1.5.0",
            "_model_name": "HBoxModel",
            "_view_count": null,
            "_view_module": "@jupyter-widgets/controls",
            "_view_module_version": "1.5.0",
            "_view_name": "HBoxView",
            "box_style": "",
            "children": [
              "IPY_MODEL_4c9a3d025d794f83906684a1f21f7cc9",
              "IPY_MODEL_8a999e8f563d4da7b7f4caf84b73aa7f",
              "IPY_MODEL_3a27c70ff13c4b10a7dff9d3c26e6aa9"
            ],
            "layout": "IPY_MODEL_ab8d99542b9b40d7b0ac96176992ef37"
          }
        },
        "f8a32737b8964837a2f5226174847726": {
          "model_module": "@jupyter-widgets/controls",
          "model_module_version": "1.5.0",
          "model_name": "FloatProgressModel",
          "state": {
            "_dom_classes": [],
            "_model_module": "@jupyter-widgets/controls",
            "_model_module_version": "1.5.0",
            "_model_name": "FloatProgressModel",
            "_view_count": null,
            "_view_module": "@jupyter-widgets/controls",
            "_view_module_version": "1.5.0",
            "_view_name": "ProgressView",
            "bar_style": "success",
            "description": "",
            "description_tooltip": null,
            "layout": "IPY_MODEL_7cf440d3ff2345e5b2d6742221742fe5",
            "max": 4,
            "min": 0,
            "orientation": "horizontal",
            "style": "IPY_MODEL_d5cbfebcf7a94e43bc81e4d1cdb8e7a5",
            "value": 4
          }
        }
      }
    }
  },
  "nbformat": 4,
  "nbformat_minor": 0
}
