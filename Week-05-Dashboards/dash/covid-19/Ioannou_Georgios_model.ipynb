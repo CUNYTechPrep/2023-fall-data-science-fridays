{
 "cells": [
  {
   "cell_type": "code",
   "execution_count": 1,
   "metadata": {},
   "outputs": [],
   "source": [
    "import ipywidgets as widgets\n",
    "import numpy as np\n",
    "import pandas as pd\n",
    "import plotly_express as px\n",
    "import statsmodels.api as sm\n",
    "import statsmodels.stats as stats\n",
    "\n",
    "from patsy import dmatrix\n",
    "from sklearn.compose import TransformedTargetRegressor\n",
    "from sklearn.linear_model import LinearRegression\n",
    "from scipy.stats.distributions import t\n",
    "\n",
    "pd.set_option(\"display.max_rows\", None)"
   ]
  },
  {
   "cell_type": "code",
   "execution_count": 2,
   "metadata": {},
   "outputs": [],
   "source": [
    "df = pd.read_csv(\n",
    "    \"./data/covid_01_22_2020_to_05_27_2020.csv\",\n",
    "    encoding=\"utf-8\",\n",
    ")"
   ]
  },
  {
   "cell_type": "code",
   "execution_count": 3,
   "metadata": {},
   "outputs": [],
   "source": [
    "df[\"date\"] = pd.to_datetime(df[\"date\"], dayfirst=True)"
   ]
  },
  {
   "cell_type": "code",
   "execution_count": 4,
   "metadata": {},
   "outputs": [
    {
     "data": {
      "text/plain": [
       "Index(['region', 'subregion', 'country', 'area', 'country_area', 'date',\n",
       "       'confirmed_cases', 'deaths', 'recovered', 'population', 'lat', 'long',\n",
       "       'lat_long_flag', 'pop_flag', 'active', 'confirmed_cases_rate',\n",
       "       'deaths_rate', 'recovered_rate', 'active_rate', 'C_xs_T', 'devt_time'],\n",
       "      dtype='object')"
      ]
     },
     "execution_count": 4,
     "metadata": {},
     "output_type": "execute_result"
    }
   ],
   "source": [
    "df.columns"
   ]
  },
  {
   "cell_type": "code",
   "execution_count": 5,
   "metadata": {},
   "outputs": [],
   "source": [
    "dff = df.loc[\n",
    "    (df[\"devt_time\"] >= 0),\n",
    "    [\n",
    "        \"region\",\n",
    "        \"subregion\",\n",
    "        \"country\",\n",
    "        \"country_area\",\n",
    "        \"confirmed_cases\",\n",
    "        \"population\",\n",
    "        \"date\",\n",
    "        \"devt_time\",\n",
    "    ],\n",
    "].copy(deep=True)\n",
    "\n",
    "dff.sort_values([\"country_area\", \"devt_time\"], inplace=True)\n",
    "\n",
    "dff[\"data\"] = \"Observed\""
   ]
  },
  {
   "cell_type": "code",
   "execution_count": 6,
   "metadata": {},
   "outputs": [
    {
     "data": {
      "text/plain": [
       "country_area\n",
       "American Samoa           0\n",
       "Angola                  71\n",
       "Australia - Other        0\n",
       "Burma                  206\n",
       "Burundi                 42\n",
       "Canada - Other           0\n",
       "China - Guizhou        147\n",
       "China - Hebei          328\n",
       "China - Jilin           65\n",
       "China - Liaoning       149\n",
       "China - Qinghai         18\n",
       "China - Tibet            1\n",
       "China - Xinjiang        76\n",
       "China - Yunnan         185\n",
       "Laos                    19\n",
       "Lesotho                  2\n",
       "Nepal                    1\n",
       "Papua New Guinea         8\n",
       "US - Other           11750\n",
       "Viet Nam               327\n",
       "Name: confirmed_cases, dtype: int64"
      ]
     },
     "execution_count": 6,
     "metadata": {},
     "output_type": "execute_result"
    }
   ],
   "source": [
    "df.loc[df[\"devt_time\"] == -99].groupby(\"country_area\")[\"confirmed_cases\"].max()"
   ]
  },
  {
   "cell_type": "code",
   "execution_count": 7,
   "metadata": {},
   "outputs": [],
   "source": [
    "grpby_dff = dff.groupby([\"country_area\"]).max()\n",
    "\n",
    "final_date = np.datetime64(\"2020-07-01\")\n",
    "\n",
    "for index, row in grpby_dff.iterrows():\n",
    "    rpt = (final_date - row[\"date\"]) / np.timedelta64(1, \"D\")\n",
    "\n",
    "    cty = np.repeat(index, rpt)\n",
    "\n",
    "    region = np.repeat(row[\"region\"], rpt)\n",
    "\n",
    "    subregion = np.repeat(row[\"subregion\"], rpt)\n",
    "\n",
    "    country = np.repeat(row[\"country\"], rpt)\n",
    "\n",
    "    pop = np.repeat(row[\"population\"], rpt)\n",
    "\n",
    "    dte = np.arange(\n",
    "        row[\"date\"] + np.timedelta64(1, \"D\"),\n",
    "        final_date + +np.timedelta64(1, \"D\"),\n",
    "        dtype=\"datetime64[D]\",\n",
    "    )\n",
    "\n",
    "    dev = np.arange(row[\"devt_time\"] + 1, row[\"devt_time\"] + rpt + 1)\n",
    "\n",
    "    data = np.repeat(\"Estimate\", rpt)\n",
    "\n",
    "    d = pd.DataFrame(\n",
    "        {\n",
    "            \"country_area\": cty,\n",
    "            \"population\": pop,\n",
    "            \"date\": dte,\n",
    "            \"devt_time\": dev,\n",
    "            \"data\": data,\n",
    "            \"subregion\": subregion,\n",
    "            \"region\": region,\n",
    "            \"country\": country,\n",
    "        }\n",
    "    )\n",
    "\n",
    "    dff = pd.concat([dff, d])"
   ]
  },
  {
   "cell_type": "code",
   "execution_count": 8,
   "metadata": {},
   "outputs": [],
   "source": [
    "cut_off = 30\n",
    "\n",
    "dff[\"time_1\"] = dff[\"devt_time\"].clip(upper=cut_off)\n",
    "dff[\"time_2\"] = dff[\"devt_time\"].apply(lambda x: np.maximum(0, x - cut_off))\n",
    "dff[\"weight\"] = dff.groupby([\"country_area\"])[\"confirmed_cases\"].shift(\n",
    "    periods=1, fill_value=0\n",
    ")\n",
    "dff[\"link_ratio\"] = dff.apply(\n",
    "    lambda row: row[\"confirmed_cases\"] / row[\"weight\"] if row[\"weight\"] > 0 else None,\n",
    "    axis=1,\n",
    ")"
   ]
  },
  {
   "cell_type": "code",
   "execution_count": 9,
   "metadata": {},
   "outputs": [
    {
     "data": {
      "application/vnd.jupyter.widget-view+json": {
       "model_id": "30a5e950739e4ab1b8f58e412533df78",
       "version_major": 2,
       "version_minor": 0
      },
      "text/plain": [
       "Dropdown(options=('Afghanistan', 'Albania', 'Algeria', 'Andorra', 'Anguilla', 'Antigua and Barbuda', 'Argentin…"
      ]
     },
     "metadata": {},
     "output_type": "display_data"
    },
    {
     "data": {
      "application/vnd.plotly.v1+json": {
       "config": {
        "plotlyServerURL": "https://plot.ly"
       },
       "data": [
        {
         "hovertemplate": "country_area=US - New York<br>devt_time=%{x}<br>log of factor=%{y}<extra></extra>",
         "legendgroup": "US - New York",
         "marker": {
          "color": "#1F77B4",
          "opacity": 0.5,
          "symbol": "circle"
         },
         "mode": "markers",
         "name": "US - New York",
         "orientation": "v",
         "showlegend": true,
         "type": "scatter",
         "x": [
          1,
          2,
          3,
          4,
          5,
          6,
          7,
          8,
          9,
          10,
          11,
          12,
          13,
          14,
          15,
          16,
          17,
          18,
          19,
          20,
          21,
          22,
          23,
          24,
          25,
          26,
          27,
          28,
          29,
          30,
          31,
          32,
          33,
          34,
          35,
          36,
          37,
          38,
          39,
          40,
          41,
          42,
          43,
          44,
          45,
          46,
          47,
          48,
          49,
          50,
          51,
          52,
          53,
          54,
          55,
          56,
          57,
          58,
          59,
          60,
          61,
          62,
          63,
          64,
          65,
          66,
          67,
          68,
          69,
          70,
          71,
          72,
          73,
          74,
          75,
          76,
          77,
          78,
          79,
          80
         ],
         "xaxis": "x",
         "y": [
          -1.0799201556559574,
          -1.5218398531161148,
          -1.3031439927877202,
          -0.7114963192281417,
          -1.260414115230888,
          -1.398241934541009,
          -0.9306794693262546,
          -1.1361949998171523,
          -0.2689005745050927,
          -0.7711404072057501,
          0.1400233005680478,
          -0.599787558979112,
          -0.8936841772452414,
          -1.0518982075549157,
          -1.1339115867057135,
          -1.470992593028379,
          -1.6048148393800843,
          -1.4778051467156545,
          -1.6885767860085086,
          -1.784477021412869,
          -1.9797524876725237,
          -2.1404099055087014,
          -1.983712790098998,
          -2.2348193531422846,
          -2.28333104154055,
          -2.1777094130915686,
          -2.250806418252928,
          -2.5018190423360354,
          -2.6553471344281254,
          -2.7944858678753537,
          -2.526086170232694,
          -2.64575915767687,
          -2.728306018309718,
          -2.9887246012257984,
          -3.1183245082680133,
          -3.337428863777593,
          -3.292939392633113,
          -2.8767131235145063,
          -3.1448781055449837,
          -3.477875036264758,
          -3.032376050793846,
          -3.6789664812390153,
          -3.855407258202402,
          -3.865731132755446,
          -3.958816024482997,
          -7.35705498202654,
          -3.4783406302419637,
          -3.2478833964665066,
          -3.867122758088145,
          -4.289148006500932,
          -4.542117377353174,
          -4.164544508124592,
          -4.159240181523737,
          -4.3465624287949245,
          -4.1914597263495255,
          -4.5112397984514105,
          -4.825678273821422,
          -4.959014418890102,
          -4.747432199804574,
          -4.530487384129464,
          -4.713664316354854,
          -4.801533274477185,
          -4.987408244380646,
          -5.30849133933648,
          -5.462571677511881,
          -5.046991449230538,
          -4.959594481962897,
          -4.821924069172512,
          -4.96254393489964,
          -5.216821335798246,
          -5.635135257709566,
          -5.473862851545617,
          -5.444034456959706,
          -5.134134895014637,
          -5.347943883482541,
          -5.308854209320033,
          -5.422793567210564,
          -5.667960303370472,
          -5.824226422444038,
          -5.775370931490782
         ],
         "yaxis": "y"
        },
        {
         "hovertemplate": "<b>OLS trendline</b><br>log of factor = -0.0691738 * devt_time + -0.523606<br>R<sup>2</sup>=0.897844<br><br>country_area=US - New York<br>devt_time=%{x}<br>log of factor=%{y} <b>(trend)</b><extra></extra>",
         "legendgroup": "US - New York",
         "line": {
          "color": "grey",
          "dash": "dot"
         },
         "marker": {
          "color": "#1F77B4",
          "symbol": "circle"
         },
         "mode": "lines",
         "name": "US - New York",
         "showlegend": false,
         "type": "scatter",
         "x": [
          1,
          2,
          3,
          4,
          5,
          6,
          7,
          8,
          9,
          10,
          11,
          12,
          13,
          14,
          15,
          16,
          17,
          18,
          19,
          20,
          21,
          22,
          23,
          24,
          25,
          26,
          27,
          28,
          29,
          30,
          31,
          32,
          33,
          34,
          35,
          36,
          37,
          38,
          39,
          40,
          41,
          42,
          43,
          44,
          45,
          46,
          47,
          48,
          49,
          50,
          51,
          52,
          53,
          54,
          55,
          56,
          57,
          58,
          59,
          60,
          61,
          62,
          63,
          64,
          65,
          66,
          67,
          68,
          69,
          70,
          71,
          72,
          73,
          74,
          75,
          76,
          77,
          78,
          79,
          80
         ],
         "xaxis": "x",
         "y": [
          -0.5927798382925822,
          -0.6619536426361197,
          -0.7311274469796571,
          -0.8003012513231946,
          -0.8694750556667321,
          -0.9386488600102695,
          -1.007822664353807,
          -1.0769964686973443,
          -1.146170273040882,
          -1.2153440773844193,
          -1.284517881727957,
          -1.3536916860714943,
          -1.4228654904150317,
          -1.4920392947585692,
          -1.5612130991021067,
          -1.6303869034456442,
          -1.6995607077891817,
          -1.7687345121327191,
          -1.8379083164762566,
          -1.9070821208197941,
          -1.9762559251633316,
          -2.045429729506869,
          -2.1146035338504063,
          -2.183777338193944,
          -2.2529511425374813,
          -2.3221249468810186,
          -2.3912987512245563,
          -2.460472555568094,
          -2.5296463599116317,
          -2.5988201642551685,
          -2.667993968598706,
          -2.737167772942244,
          -2.8063415772857807,
          -2.8755153816293184,
          -2.944689185972856,
          -3.013862990316394,
          -3.0830367946599306,
          -3.1522105990034683,
          -3.221384403347006,
          -3.2905582076905437,
          -3.3597320120340806,
          -3.4289058163776183,
          -3.498079620721156,
          -3.5672534250646937,
          -3.6364272294082305,
          -3.705601033751768,
          -3.774774838095306,
          -3.8439486424388427,
          -3.9131224467823804,
          -3.982296251125918,
          -4.051470055469456,
          -4.120643859812993,
          -4.18981766415653,
          -4.258991468500068,
          -4.328165272843606,
          -4.397339077187143,
          -4.46651288153068,
          -4.535686685874218,
          -4.604860490217755,
          -4.6740342945612925,
          -4.74320809890483,
          -4.812381903248368,
          -4.881555707591905,
          -4.950729511935442,
          -5.01990331627898,
          -5.089077120622517,
          -5.158250924966055,
          -5.227424729309592,
          -5.29659853365313,
          -5.365772337996667,
          -5.434946142340205,
          -5.504119946683742,
          -5.57329375102728,
          -5.642467555370817,
          -5.7116413597143545,
          -5.780815164057892,
          -5.84998896840143,
          -5.919162772744967,
          -5.988336577088504,
          -6.057510381432042
         ],
         "yaxis": "y"
        }
       ],
       "layout": {
        "legend": {
         "title": {
          "text": "country_area"
         },
         "tracegroupgap": 0
        },
        "showlegend": false,
        "template": {
         "data": {
          "bar": [
           {
            "error_x": {
             "color": "#2a3f5f"
            },
            "error_y": {
             "color": "#2a3f5f"
            },
            "marker": {
             "line": {
              "color": "white",
              "width": 0.5
             },
             "pattern": {
              "fillmode": "overlay",
              "size": 10,
              "solidity": 0.2
             }
            },
            "type": "bar"
           }
          ],
          "barpolar": [
           {
            "marker": {
             "line": {
              "color": "white",
              "width": 0.5
             },
             "pattern": {
              "fillmode": "overlay",
              "size": 10,
              "solidity": 0.2
             }
            },
            "type": "barpolar"
           }
          ],
          "carpet": [
           {
            "aaxis": {
             "endlinecolor": "#2a3f5f",
             "gridcolor": "#C8D4E3",
             "linecolor": "#C8D4E3",
             "minorgridcolor": "#C8D4E3",
             "startlinecolor": "#2a3f5f"
            },
            "baxis": {
             "endlinecolor": "#2a3f5f",
             "gridcolor": "#C8D4E3",
             "linecolor": "#C8D4E3",
             "minorgridcolor": "#C8D4E3",
             "startlinecolor": "#2a3f5f"
            },
            "type": "carpet"
           }
          ],
          "choropleth": [
           {
            "colorbar": {
             "outlinewidth": 0,
             "ticks": ""
            },
            "type": "choropleth"
           }
          ],
          "contour": [
           {
            "colorbar": {
             "outlinewidth": 0,
             "ticks": ""
            },
            "colorscale": [
             [
              0,
              "#0d0887"
             ],
             [
              0.1111111111111111,
              "#46039f"
             ],
             [
              0.2222222222222222,
              "#7201a8"
             ],
             [
              0.3333333333333333,
              "#9c179e"
             ],
             [
              0.4444444444444444,
              "#bd3786"
             ],
             [
              0.5555555555555556,
              "#d8576b"
             ],
             [
              0.6666666666666666,
              "#ed7953"
             ],
             [
              0.7777777777777778,
              "#fb9f3a"
             ],
             [
              0.8888888888888888,
              "#fdca26"
             ],
             [
              1,
              "#f0f921"
             ]
            ],
            "type": "contour"
           }
          ],
          "contourcarpet": [
           {
            "colorbar": {
             "outlinewidth": 0,
             "ticks": ""
            },
            "type": "contourcarpet"
           }
          ],
          "heatmap": [
           {
            "colorbar": {
             "outlinewidth": 0,
             "ticks": ""
            },
            "colorscale": [
             [
              0,
              "#0d0887"
             ],
             [
              0.1111111111111111,
              "#46039f"
             ],
             [
              0.2222222222222222,
              "#7201a8"
             ],
             [
              0.3333333333333333,
              "#9c179e"
             ],
             [
              0.4444444444444444,
              "#bd3786"
             ],
             [
              0.5555555555555556,
              "#d8576b"
             ],
             [
              0.6666666666666666,
              "#ed7953"
             ],
             [
              0.7777777777777778,
              "#fb9f3a"
             ],
             [
              0.8888888888888888,
              "#fdca26"
             ],
             [
              1,
              "#f0f921"
             ]
            ],
            "type": "heatmap"
           }
          ],
          "heatmapgl": [
           {
            "colorbar": {
             "outlinewidth": 0,
             "ticks": ""
            },
            "colorscale": [
             [
              0,
              "#0d0887"
             ],
             [
              0.1111111111111111,
              "#46039f"
             ],
             [
              0.2222222222222222,
              "#7201a8"
             ],
             [
              0.3333333333333333,
              "#9c179e"
             ],
             [
              0.4444444444444444,
              "#bd3786"
             ],
             [
              0.5555555555555556,
              "#d8576b"
             ],
             [
              0.6666666666666666,
              "#ed7953"
             ],
             [
              0.7777777777777778,
              "#fb9f3a"
             ],
             [
              0.8888888888888888,
              "#fdca26"
             ],
             [
              1,
              "#f0f921"
             ]
            ],
            "type": "heatmapgl"
           }
          ],
          "histogram": [
           {
            "marker": {
             "pattern": {
              "fillmode": "overlay",
              "size": 10,
              "solidity": 0.2
             }
            },
            "type": "histogram"
           }
          ],
          "histogram2d": [
           {
            "colorbar": {
             "outlinewidth": 0,
             "ticks": ""
            },
            "colorscale": [
             [
              0,
              "#0d0887"
             ],
             [
              0.1111111111111111,
              "#46039f"
             ],
             [
              0.2222222222222222,
              "#7201a8"
             ],
             [
              0.3333333333333333,
              "#9c179e"
             ],
             [
              0.4444444444444444,
              "#bd3786"
             ],
             [
              0.5555555555555556,
              "#d8576b"
             ],
             [
              0.6666666666666666,
              "#ed7953"
             ],
             [
              0.7777777777777778,
              "#fb9f3a"
             ],
             [
              0.8888888888888888,
              "#fdca26"
             ],
             [
              1,
              "#f0f921"
             ]
            ],
            "type": "histogram2d"
           }
          ],
          "histogram2dcontour": [
           {
            "colorbar": {
             "outlinewidth": 0,
             "ticks": ""
            },
            "colorscale": [
             [
              0,
              "#0d0887"
             ],
             [
              0.1111111111111111,
              "#46039f"
             ],
             [
              0.2222222222222222,
              "#7201a8"
             ],
             [
              0.3333333333333333,
              "#9c179e"
             ],
             [
              0.4444444444444444,
              "#bd3786"
             ],
             [
              0.5555555555555556,
              "#d8576b"
             ],
             [
              0.6666666666666666,
              "#ed7953"
             ],
             [
              0.7777777777777778,
              "#fb9f3a"
             ],
             [
              0.8888888888888888,
              "#fdca26"
             ],
             [
              1,
              "#f0f921"
             ]
            ],
            "type": "histogram2dcontour"
           }
          ],
          "mesh3d": [
           {
            "colorbar": {
             "outlinewidth": 0,
             "ticks": ""
            },
            "type": "mesh3d"
           }
          ],
          "parcoords": [
           {
            "line": {
             "colorbar": {
              "outlinewidth": 0,
              "ticks": ""
             }
            },
            "type": "parcoords"
           }
          ],
          "pie": [
           {
            "automargin": true,
            "type": "pie"
           }
          ],
          "scatter": [
           {
            "fillpattern": {
             "fillmode": "overlay",
             "size": 10,
             "solidity": 0.2
            },
            "type": "scatter"
           }
          ],
          "scatter3d": [
           {
            "line": {
             "colorbar": {
              "outlinewidth": 0,
              "ticks": ""
             }
            },
            "marker": {
             "colorbar": {
              "outlinewidth": 0,
              "ticks": ""
             }
            },
            "type": "scatter3d"
           }
          ],
          "scattercarpet": [
           {
            "marker": {
             "colorbar": {
              "outlinewidth": 0,
              "ticks": ""
             }
            },
            "type": "scattercarpet"
           }
          ],
          "scattergeo": [
           {
            "marker": {
             "colorbar": {
              "outlinewidth": 0,
              "ticks": ""
             }
            },
            "type": "scattergeo"
           }
          ],
          "scattergl": [
           {
            "marker": {
             "colorbar": {
              "outlinewidth": 0,
              "ticks": ""
             }
            },
            "type": "scattergl"
           }
          ],
          "scattermapbox": [
           {
            "marker": {
             "colorbar": {
              "outlinewidth": 0,
              "ticks": ""
             }
            },
            "type": "scattermapbox"
           }
          ],
          "scatterpolar": [
           {
            "marker": {
             "colorbar": {
              "outlinewidth": 0,
              "ticks": ""
             }
            },
            "type": "scatterpolar"
           }
          ],
          "scatterpolargl": [
           {
            "marker": {
             "colorbar": {
              "outlinewidth": 0,
              "ticks": ""
             }
            },
            "type": "scatterpolargl"
           }
          ],
          "scatterternary": [
           {
            "marker": {
             "colorbar": {
              "outlinewidth": 0,
              "ticks": ""
             }
            },
            "type": "scatterternary"
           }
          ],
          "surface": [
           {
            "colorbar": {
             "outlinewidth": 0,
             "ticks": ""
            },
            "colorscale": [
             [
              0,
              "#0d0887"
             ],
             [
              0.1111111111111111,
              "#46039f"
             ],
             [
              0.2222222222222222,
              "#7201a8"
             ],
             [
              0.3333333333333333,
              "#9c179e"
             ],
             [
              0.4444444444444444,
              "#bd3786"
             ],
             [
              0.5555555555555556,
              "#d8576b"
             ],
             [
              0.6666666666666666,
              "#ed7953"
             ],
             [
              0.7777777777777778,
              "#fb9f3a"
             ],
             [
              0.8888888888888888,
              "#fdca26"
             ],
             [
              1,
              "#f0f921"
             ]
            ],
            "type": "surface"
           }
          ],
          "table": [
           {
            "cells": {
             "fill": {
              "color": "#EBF0F8"
             },
             "line": {
              "color": "white"
             }
            },
            "header": {
             "fill": {
              "color": "#C8D4E3"
             },
             "line": {
              "color": "white"
             }
            },
            "type": "table"
           }
          ]
         },
         "layout": {
          "annotationdefaults": {
           "arrowcolor": "#2a3f5f",
           "arrowhead": 0,
           "arrowwidth": 1
          },
          "autotypenumbers": "strict",
          "coloraxis": {
           "colorbar": {
            "outlinewidth": 0,
            "ticks": ""
           }
          },
          "colorscale": {
           "diverging": [
            [
             0,
             "#8e0152"
            ],
            [
             0.1,
             "#c51b7d"
            ],
            [
             0.2,
             "#de77ae"
            ],
            [
             0.3,
             "#f1b6da"
            ],
            [
             0.4,
             "#fde0ef"
            ],
            [
             0.5,
             "#f7f7f7"
            ],
            [
             0.6,
             "#e6f5d0"
            ],
            [
             0.7,
             "#b8e186"
            ],
            [
             0.8,
             "#7fbc41"
            ],
            [
             0.9,
             "#4d9221"
            ],
            [
             1,
             "#276419"
            ]
           ],
           "sequential": [
            [
             0,
             "#0d0887"
            ],
            [
             0.1111111111111111,
             "#46039f"
            ],
            [
             0.2222222222222222,
             "#7201a8"
            ],
            [
             0.3333333333333333,
             "#9c179e"
            ],
            [
             0.4444444444444444,
             "#bd3786"
            ],
            [
             0.5555555555555556,
             "#d8576b"
            ],
            [
             0.6666666666666666,
             "#ed7953"
            ],
            [
             0.7777777777777778,
             "#fb9f3a"
            ],
            [
             0.8888888888888888,
             "#fdca26"
            ],
            [
             1,
             "#f0f921"
            ]
           ],
           "sequentialminus": [
            [
             0,
             "#0d0887"
            ],
            [
             0.1111111111111111,
             "#46039f"
            ],
            [
             0.2222222222222222,
             "#7201a8"
            ],
            [
             0.3333333333333333,
             "#9c179e"
            ],
            [
             0.4444444444444444,
             "#bd3786"
            ],
            [
             0.5555555555555556,
             "#d8576b"
            ],
            [
             0.6666666666666666,
             "#ed7953"
            ],
            [
             0.7777777777777778,
             "#fb9f3a"
            ],
            [
             0.8888888888888888,
             "#fdca26"
            ],
            [
             1,
             "#f0f921"
            ]
           ]
          },
          "colorway": [
           "#636efa",
           "#EF553B",
           "#00cc96",
           "#ab63fa",
           "#FFA15A",
           "#19d3f3",
           "#FF6692",
           "#B6E880",
           "#FF97FF",
           "#FECB52"
          ],
          "font": {
           "color": "#2a3f5f"
          },
          "geo": {
           "bgcolor": "white",
           "lakecolor": "white",
           "landcolor": "white",
           "showlakes": true,
           "showland": true,
           "subunitcolor": "#C8D4E3"
          },
          "hoverlabel": {
           "align": "left"
          },
          "hovermode": "closest",
          "mapbox": {
           "style": "light"
          },
          "paper_bgcolor": "white",
          "plot_bgcolor": "white",
          "polar": {
           "angularaxis": {
            "gridcolor": "#EBF0F8",
            "linecolor": "#EBF0F8",
            "ticks": ""
           },
           "bgcolor": "white",
           "radialaxis": {
            "gridcolor": "#EBF0F8",
            "linecolor": "#EBF0F8",
            "ticks": ""
           }
          },
          "scene": {
           "xaxis": {
            "backgroundcolor": "white",
            "gridcolor": "#DFE8F3",
            "gridwidth": 2,
            "linecolor": "#EBF0F8",
            "showbackground": true,
            "ticks": "",
            "zerolinecolor": "#EBF0F8"
           },
           "yaxis": {
            "backgroundcolor": "white",
            "gridcolor": "#DFE8F3",
            "gridwidth": 2,
            "linecolor": "#EBF0F8",
            "showbackground": true,
            "ticks": "",
            "zerolinecolor": "#EBF0F8"
           },
           "zaxis": {
            "backgroundcolor": "white",
            "gridcolor": "#DFE8F3",
            "gridwidth": 2,
            "linecolor": "#EBF0F8",
            "showbackground": true,
            "ticks": "",
            "zerolinecolor": "#EBF0F8"
           }
          },
          "shapedefaults": {
           "line": {
            "color": "#2a3f5f"
           }
          },
          "ternary": {
           "aaxis": {
            "gridcolor": "#DFE8F3",
            "linecolor": "#A2B1C6",
            "ticks": ""
           },
           "baxis": {
            "gridcolor": "#DFE8F3",
            "linecolor": "#A2B1C6",
            "ticks": ""
           },
           "bgcolor": "white",
           "caxis": {
            "gridcolor": "#DFE8F3",
            "linecolor": "#A2B1C6",
            "ticks": ""
           }
          },
          "title": {
           "x": 0.05
          },
          "xaxis": {
           "automargin": true,
           "gridcolor": "#EBF0F8",
           "linecolor": "#EBF0F8",
           "ticks": "",
           "title": {
            "standoff": 15
           },
           "zerolinecolor": "#EBF0F8",
           "zerolinewidth": 2
          },
          "yaxis": {
           "automargin": true,
           "gridcolor": "#EBF0F8",
           "linecolor": "#EBF0F8",
           "ticks": "",
           "title": {
            "standoff": 15
           },
           "zerolinecolor": "#EBF0F8",
           "zerolinewidth": 2
          }
         }
        },
        "title": {
         "text": "US - New York"
        },
        "xaxis": {
         "anchor": "y",
         "domain": [
          0,
          1
         ],
         "title": {
          "text": "devt_time"
         }
        },
        "yaxis": {
         "anchor": "x",
         "domain": [
          0,
          1
         ],
         "title": {
          "text": "log of factor"
         }
        }
       }
      }
     },
     "metadata": {},
     "output_type": "display_data"
    }
   ],
   "source": [
    "country_list = dff[\"country_area\"].unique().tolist()\n",
    "\n",
    "plot_data_EDA = dff[dff[\"link_ratio\"] > 1].copy(deep=True)\n",
    "\n",
    "plot_data_EDA[\"log of factor\"] = np.log(plot_data_EDA[\"link_ratio\"] - 1)\n",
    "\n",
    "dd_country = widgets.Dropdown(options=country_list)\n",
    "\n",
    "output_country = widgets.Output()\n",
    "\n",
    "\n",
    "def dd_country_eventhandler(change):\n",
    "    output_country.clear_output()\n",
    "\n",
    "    data = plot_data_EDA[plot_data_EDA[\"country_area\"] == change.new]\n",
    "\n",
    "    fig = px.scatter(\n",
    "        data,\n",
    "        x=\"devt_time\",\n",
    "        y=\"log of factor\",\n",
    "        trendline=\"ols\",\n",
    "        title=change.new,\n",
    "        template=\"plotly_white\",\n",
    "        opacity=0.5,\n",
    "        color=\"country_area\",\n",
    "        color_discrete_sequence=px.colors.qualitative.D3,\n",
    "    )\n",
    "\n",
    "    fig.update_layout(showlegend=False)\n",
    "\n",
    "    fig.data[1].line = {\"dash\": \"dot\", \"color\": \"grey\"}\n",
    "\n",
    "    with output_country:\n",
    "        display(fig)\n",
    "\n",
    "\n",
    "dd_country.observe(dd_country_eventhandler, names=\"value\")\n",
    "\n",
    "display(dd_country)"
   ]
  },
  {
   "cell_type": "code",
   "execution_count": 10,
   "metadata": {},
   "outputs": [],
   "source": [
    "grpby_dff[\"avg_cases\"] = grpby_dff[\"confirmed_cases\"] / (grpby_dff[\"devt_time\"] + 1)\n",
    "\n",
    "grpby_dff[\"country_grp\"] = grpby_dff.index.where(\n",
    "    (grpby_dff[\"avg_cases\"] > 50) & (grpby_dff[\"devt_time\"] > 10), \"Others\"\n",
    ")\n",
    "\n",
    "grpby_dff.loc[\n",
    "    (grpby_dff[\"country_grp\"] == \"Others\") & (grpby_dff[\"country\"] == \"United States\"),\n",
    "    \"country_grp\",\n",
    "] = \"RoUS\"\n",
    "\n",
    "grpby_dff.loc[\n",
    "    (grpby_dff[\"country_grp\"] == \"Others\") & (grpby_dff[\"country\"] == \"China\"),\n",
    "    \"country_grp\",\n",
    "] = \"RoChina\"\n",
    "\n",
    "grpby_dff.loc[\n",
    "    (grpby_dff[\"country_grp\"] == \"Others\") & (grpby_dff[\"region\"] == \"Europe\"),\n",
    "    \"country_grp\",\n",
    "] = \"RoEurope\"\n",
    "\n",
    "grpby_dff.loc[(grpby_dff[\"country\"] == \"Canada\"), \"country_grp\"] = \"Canada\""
   ]
  },
  {
   "cell_type": "code",
   "execution_count": 11,
   "metadata": {},
   "outputs": [
    {
     "data": {
      "text/html": [
       "<div>\n",
       "<style scoped>\n",
       "    .dataframe tbody tr th:only-of-type {\n",
       "        vertical-align: middle;\n",
       "    }\n",
       "\n",
       "    .dataframe tbody tr th {\n",
       "        vertical-align: top;\n",
       "    }\n",
       "\n",
       "    .dataframe thead th {\n",
       "        text-align: right;\n",
       "    }\n",
       "</style>\n",
       "<table border=\"1\" class=\"dataframe\">\n",
       "  <thead>\n",
       "    <tr style=\"text-align: right;\">\n",
       "      <th></th>\n",
       "      <th>region</th>\n",
       "      <th>subregion</th>\n",
       "      <th>country</th>\n",
       "      <th>confirmed_cases</th>\n",
       "      <th>population</th>\n",
       "      <th>date</th>\n",
       "      <th>devt_time</th>\n",
       "      <th>data</th>\n",
       "      <th>avg_cases</th>\n",
       "      <th>country_grp</th>\n",
       "    </tr>\n",
       "    <tr>\n",
       "      <th>country_area</th>\n",
       "      <th></th>\n",
       "      <th></th>\n",
       "      <th></th>\n",
       "      <th></th>\n",
       "      <th></th>\n",
       "      <th></th>\n",
       "      <th></th>\n",
       "      <th></th>\n",
       "      <th></th>\n",
       "      <th></th>\n",
       "    </tr>\n",
       "  </thead>\n",
       "  <tbody>\n",
       "    <tr>\n",
       "      <th>Brazil</th>\n",
       "      <td>Latin America And The Caribbean</td>\n",
       "      <td>South America</td>\n",
       "      <td>Brazil</td>\n",
       "      <td>411821</td>\n",
       "      <td>212.559409</td>\n",
       "      <td>2020-05-27</td>\n",
       "      <td>66</td>\n",
       "      <td>Observed</td>\n",
       "      <td>6146.582090</td>\n",
       "      <td>Brazil</td>\n",
       "    </tr>\n",
       "    <tr>\n",
       "      <th>Russia</th>\n",
       "      <td>Europe</td>\n",
       "      <td>Eastern Europe</td>\n",
       "      <td>Russia</td>\n",
       "      <td>370680</td>\n",
       "      <td>145.934460</td>\n",
       "      <td>2020-05-27</td>\n",
       "      <td>62</td>\n",
       "      <td>Observed</td>\n",
       "      <td>5883.809524</td>\n",
       "      <td>Russia</td>\n",
       "    </tr>\n",
       "    <tr>\n",
       "      <th>US - New York</th>\n",
       "      <td>Northern America</td>\n",
       "      <td>Northern America</td>\n",
       "      <td>United States</td>\n",
       "      <td>364965</td>\n",
       "      <td>19.613675</td>\n",
       "      <td>2020-05-27</td>\n",
       "      <td>80</td>\n",
       "      <td>Observed</td>\n",
       "      <td>4505.740741</td>\n",
       "      <td>US - New York</td>\n",
       "    </tr>\n",
       "    <tr>\n",
       "      <th>Spain</th>\n",
       "      <td>Europe</td>\n",
       "      <td>Southern Europe</td>\n",
       "      <td>Spain</td>\n",
       "      <td>284259</td>\n",
       "      <td>46.754783</td>\n",
       "      <td>2020-05-27</td>\n",
       "      <td>83</td>\n",
       "      <td>Observed</td>\n",
       "      <td>3384.035714</td>\n",
       "      <td>Spain</td>\n",
       "    </tr>\n",
       "    <tr>\n",
       "      <th>UK</th>\n",
       "      <td>Europe</td>\n",
       "      <td>Northern Europe</td>\n",
       "      <td>United Kingdom</td>\n",
       "      <td>267240</td>\n",
       "      <td>67.886004</td>\n",
       "      <td>2020-05-27</td>\n",
       "      <td>78</td>\n",
       "      <td>Observed</td>\n",
       "      <td>3382.784810</td>\n",
       "      <td>UK</td>\n",
       "    </tr>\n",
       "    <tr>\n",
       "      <th>India</th>\n",
       "      <td>Central And Southern Asia</td>\n",
       "      <td>Southern Asia</td>\n",
       "      <td>India</td>\n",
       "      <td>158086</td>\n",
       "      <td>1380.004385</td>\n",
       "      <td>2020-05-27</td>\n",
       "      <td>47</td>\n",
       "      <td>Observed</td>\n",
       "      <td>3293.458333</td>\n",
       "      <td>India</td>\n",
       "    </tr>\n",
       "    <tr>\n",
       "      <th>Italy</th>\n",
       "      <td>Europe</td>\n",
       "      <td>Southern Europe</td>\n",
       "      <td>Italy</td>\n",
       "      <td>231818</td>\n",
       "      <td>60.496575</td>\n",
       "      <td>2020-05-27</td>\n",
       "      <td>92</td>\n",
       "      <td>Observed</td>\n",
       "      <td>2492.666667</td>\n",
       "      <td>Italy</td>\n",
       "    </tr>\n",
       "    <tr>\n",
       "      <th>Turkey</th>\n",
       "      <td>Northern Africa And Western Asia</td>\n",
       "      <td>Western Asia</td>\n",
       "      <td>Turkey</td>\n",
       "      <td>159797</td>\n",
       "      <td>84.339067</td>\n",
       "      <td>2020-05-27</td>\n",
       "      <td>67</td>\n",
       "      <td>Observed</td>\n",
       "      <td>2349.955882</td>\n",
       "      <td>Turkey</td>\n",
       "    </tr>\n",
       "    <tr>\n",
       "      <th>Germany</th>\n",
       "      <td>Europe</td>\n",
       "      <td>Western Europe</td>\n",
       "      <td>Germany</td>\n",
       "      <td>181524</td>\n",
       "      <td>83.783945</td>\n",
       "      <td>2020-05-27</td>\n",
       "      <td>83</td>\n",
       "      <td>Observed</td>\n",
       "      <td>2161.000000</td>\n",
       "      <td>Germany</td>\n",
       "    </tr>\n",
       "    <tr>\n",
       "      <th>US - New Jersey</th>\n",
       "      <td>Northern America</td>\n",
       "      <td>Northern America</td>\n",
       "      <td>United States</td>\n",
       "      <td>156628</td>\n",
       "      <td>8.955296</td>\n",
       "      <td>2020-05-27</td>\n",
       "      <td>74</td>\n",
       "      <td>Observed</td>\n",
       "      <td>2088.373333</td>\n",
       "      <td>US - New Jersey</td>\n",
       "    </tr>\n",
       "    <tr>\n",
       "      <th>Peru</th>\n",
       "      <td>Latin America And The Caribbean</td>\n",
       "      <td>South America</td>\n",
       "      <td>Peru</td>\n",
       "      <td>135905</td>\n",
       "      <td>32.971846</td>\n",
       "      <td>2020-05-27</td>\n",
       "      <td>69</td>\n",
       "      <td>Observed</td>\n",
       "      <td>1941.500000</td>\n",
       "      <td>Peru</td>\n",
       "    </tr>\n",
       "    <tr>\n",
       "      <th>France</th>\n",
       "      <td>Europe</td>\n",
       "      <td>Western Europe</td>\n",
       "      <td>France</td>\n",
       "      <td>145746</td>\n",
       "      <td>65.273512</td>\n",
       "      <td>2020-05-27</td>\n",
       "      <td>83</td>\n",
       "      <td>Observed</td>\n",
       "      <td>1735.071429</td>\n",
       "      <td>France</td>\n",
       "    </tr>\n",
       "    <tr>\n",
       "      <th>Iran</th>\n",
       "      <td>Central And Southern Asia</td>\n",
       "      <td>Southern Asia</td>\n",
       "      <td>Iran</td>\n",
       "      <td>141591</td>\n",
       "      <td>83.992953</td>\n",
       "      <td>2020-05-27</td>\n",
       "      <td>88</td>\n",
       "      <td>Observed</td>\n",
       "      <td>1590.910112</td>\n",
       "      <td>Iran</td>\n",
       "    </tr>\n",
       "    <tr>\n",
       "      <th>US - Illinois</th>\n",
       "      <td>Northern America</td>\n",
       "      <td>Northern America</td>\n",
       "      <td>United States</td>\n",
       "      <td>114306</td>\n",
       "      <td>12.776117</td>\n",
       "      <td>2020-05-27</td>\n",
       "      <td>74</td>\n",
       "      <td>Observed</td>\n",
       "      <td>1524.080000</td>\n",
       "      <td>US - Illinois</td>\n",
       "    </tr>\n",
       "    <tr>\n",
       "      <th>US - California</th>\n",
       "      <td>Northern America</td>\n",
       "      <td>Northern America</td>\n",
       "      <td>United States</td>\n",
       "      <td>101050</td>\n",
       "      <td>39.837431</td>\n",
       "      <td>2020-05-27</td>\n",
       "      <td>76</td>\n",
       "      <td>Observed</td>\n",
       "      <td>1312.337662</td>\n",
       "      <td>US - California</td>\n",
       "    </tr>\n",
       "    <tr>\n",
       "      <th>Mexico</th>\n",
       "      <td>Latin America And The Caribbean</td>\n",
       "      <td>Central America</td>\n",
       "      <td>Mexico</td>\n",
       "      <td>78023</td>\n",
       "      <td>128.932753</td>\n",
       "      <td>2020-05-27</td>\n",
       "      <td>60</td>\n",
       "      <td>Observed</td>\n",
       "      <td>1279.065574</td>\n",
       "      <td>Mexico</td>\n",
       "    </tr>\n",
       "    <tr>\n",
       "      <th>US - Massachusetts</th>\n",
       "      <td>Northern America</td>\n",
       "      <td>Northern America</td>\n",
       "      <td>United States</td>\n",
       "      <td>94220</td>\n",
       "      <td>7.006701</td>\n",
       "      <td>2020-05-27</td>\n",
       "      <td>78</td>\n",
       "      <td>Observed</td>\n",
       "      <td>1192.658228</td>\n",
       "      <td>US - Massachusetts</td>\n",
       "    </tr>\n",
       "    <tr>\n",
       "      <th>Chile</th>\n",
       "      <td>Latin America And The Caribbean</td>\n",
       "      <td>South America</td>\n",
       "      <td>Chile</td>\n",
       "      <td>82289</td>\n",
       "      <td>19.116209</td>\n",
       "      <td>2020-05-27</td>\n",
       "      <td>72</td>\n",
       "      <td>Observed</td>\n",
       "      <td>1127.246575</td>\n",
       "      <td>Chile</td>\n",
       "    </tr>\n",
       "    <tr>\n",
       "      <th>Saudi Arabia</th>\n",
       "      <td>Northern Africa And Western Asia</td>\n",
       "      <td>Western Asia</td>\n",
       "      <td>Saudi Arabia</td>\n",
       "      <td>78541</td>\n",
       "      <td>34.813867</td>\n",
       "      <td>2020-05-27</td>\n",
       "      <td>69</td>\n",
       "      <td>Observed</td>\n",
       "      <td>1122.014286</td>\n",
       "      <td>Saudi Arabia</td>\n",
       "    </tr>\n",
       "    <tr>\n",
       "      <th>US - Pennsylvania</th>\n",
       "      <td>Northern America</td>\n",
       "      <td>Northern America</td>\n",
       "      <td>United States</td>\n",
       "      <td>73557</td>\n",
       "      <td>12.907357</td>\n",
       "      <td>2020-05-27</td>\n",
       "      <td>73</td>\n",
       "      <td>Observed</td>\n",
       "      <td>994.013514</td>\n",
       "      <td>US - Pennsylvania</td>\n",
       "    </tr>\n",
       "  </tbody>\n",
       "</table>\n",
       "</div>"
      ],
      "text/plain": [
       "                                              region         subregion  \\\n",
       "country_area                                                             \n",
       "Brazil               Latin America And The Caribbean     South America   \n",
       "Russia                                        Europe    Eastern Europe   \n",
       "US - New York                       Northern America  Northern America   \n",
       "Spain                                         Europe   Southern Europe   \n",
       "UK                                            Europe   Northern Europe   \n",
       "India                      Central And Southern Asia     Southern Asia   \n",
       "Italy                                         Europe   Southern Europe   \n",
       "Turkey              Northern Africa And Western Asia      Western Asia   \n",
       "Germany                                       Europe    Western Europe   \n",
       "US - New Jersey                     Northern America  Northern America   \n",
       "Peru                 Latin America And The Caribbean     South America   \n",
       "France                                        Europe    Western Europe   \n",
       "Iran                       Central And Southern Asia     Southern Asia   \n",
       "US - Illinois                       Northern America  Northern America   \n",
       "US - California                     Northern America  Northern America   \n",
       "Mexico               Latin America And The Caribbean   Central America   \n",
       "US - Massachusetts                  Northern America  Northern America   \n",
       "Chile                Latin America And The Caribbean     South America   \n",
       "Saudi Arabia        Northern Africa And Western Asia      Western Asia   \n",
       "US - Pennsylvania                   Northern America  Northern America   \n",
       "\n",
       "                           country  confirmed_cases   population       date  \\\n",
       "country_area                                                                  \n",
       "Brazil                      Brazil           411821   212.559409 2020-05-27   \n",
       "Russia                      Russia           370680   145.934460 2020-05-27   \n",
       "US - New York        United States           364965    19.613675 2020-05-27   \n",
       "Spain                        Spain           284259    46.754783 2020-05-27   \n",
       "UK                  United Kingdom           267240    67.886004 2020-05-27   \n",
       "India                        India           158086  1380.004385 2020-05-27   \n",
       "Italy                        Italy           231818    60.496575 2020-05-27   \n",
       "Turkey                      Turkey           159797    84.339067 2020-05-27   \n",
       "Germany                    Germany           181524    83.783945 2020-05-27   \n",
       "US - New Jersey      United States           156628     8.955296 2020-05-27   \n",
       "Peru                          Peru           135905    32.971846 2020-05-27   \n",
       "France                      France           145746    65.273512 2020-05-27   \n",
       "Iran                          Iran           141591    83.992953 2020-05-27   \n",
       "US - Illinois        United States           114306    12.776117 2020-05-27   \n",
       "US - California      United States           101050    39.837431 2020-05-27   \n",
       "Mexico                      Mexico            78023   128.932753 2020-05-27   \n",
       "US - Massachusetts   United States            94220     7.006701 2020-05-27   \n",
       "Chile                        Chile            82289    19.116209 2020-05-27   \n",
       "Saudi Arabia          Saudi Arabia            78541    34.813867 2020-05-27   \n",
       "US - Pennsylvania    United States            73557    12.907357 2020-05-27   \n",
       "\n",
       "                    devt_time      data    avg_cases         country_grp  \n",
       "country_area                                                              \n",
       "Brazil                     66  Observed  6146.582090              Brazil  \n",
       "Russia                     62  Observed  5883.809524              Russia  \n",
       "US - New York              80  Observed  4505.740741       US - New York  \n",
       "Spain                      83  Observed  3384.035714               Spain  \n",
       "UK                         78  Observed  3382.784810                  UK  \n",
       "India                      47  Observed  3293.458333               India  \n",
       "Italy                      92  Observed  2492.666667               Italy  \n",
       "Turkey                     67  Observed  2349.955882              Turkey  \n",
       "Germany                    83  Observed  2161.000000             Germany  \n",
       "US - New Jersey            74  Observed  2088.373333     US - New Jersey  \n",
       "Peru                       69  Observed  1941.500000                Peru  \n",
       "France                     83  Observed  1735.071429              France  \n",
       "Iran                       88  Observed  1590.910112                Iran  \n",
       "US - Illinois              74  Observed  1524.080000       US - Illinois  \n",
       "US - California            76  Observed  1312.337662     US - California  \n",
       "Mexico                     60  Observed  1279.065574              Mexico  \n",
       "US - Massachusetts         78  Observed  1192.658228  US - Massachusetts  \n",
       "Chile                      72  Observed  1127.246575               Chile  \n",
       "Saudi Arabia               69  Observed  1122.014286        Saudi Arabia  \n",
       "US - Pennsylvania          73  Observed   994.013514   US - Pennsylvania  "
      ]
     },
     "execution_count": 11,
     "metadata": {},
     "output_type": "execute_result"
    }
   ],
   "source": [
    "grpby_dff.sort_values([\"avg_cases\"], ascending=False).head(20)"
   ]
  },
  {
   "cell_type": "code",
   "execution_count": 12,
   "metadata": {},
   "outputs": [],
   "source": [
    "mapping = grpby_dff[\"country_grp\"]\n",
    "\n",
    "dff[\"country_grp\"] = dff[\"country_area\"].map(mapping)"
   ]
  },
  {
   "cell_type": "code",
   "execution_count": 13,
   "metadata": {},
   "outputs": [
    {
     "data": {
      "text/html": [
       "<div>\n",
       "<style scoped>\n",
       "    .dataframe tbody tr th:only-of-type {\n",
       "        vertical-align: middle;\n",
       "    }\n",
       "\n",
       "    .dataframe tbody tr th {\n",
       "        vertical-align: top;\n",
       "    }\n",
       "\n",
       "    .dataframe thead th {\n",
       "        text-align: right;\n",
       "    }\n",
       "</style>\n",
       "<table border=\"1\" class=\"dataframe\">\n",
       "  <thead>\n",
       "    <tr style=\"text-align: right;\">\n",
       "      <th></th>\n",
       "      <th>region</th>\n",
       "      <th>subregion</th>\n",
       "      <th>country</th>\n",
       "      <th>confirmed_cases</th>\n",
       "      <th>population</th>\n",
       "      <th>date</th>\n",
       "      <th>devt_time</th>\n",
       "      <th>data</th>\n",
       "      <th>avg_cases</th>\n",
       "      <th>country_grp</th>\n",
       "      <th>tail_grp</th>\n",
       "    </tr>\n",
       "    <tr>\n",
       "      <th>country_area</th>\n",
       "      <th></th>\n",
       "      <th></th>\n",
       "      <th></th>\n",
       "      <th></th>\n",
       "      <th></th>\n",
       "      <th></th>\n",
       "      <th></th>\n",
       "      <th></th>\n",
       "      <th></th>\n",
       "      <th></th>\n",
       "      <th></th>\n",
       "    </tr>\n",
       "  </thead>\n",
       "  <tbody>\n",
       "    <tr>\n",
       "      <th>China - Anhui</th>\n",
       "      <td>Eastern And South-Eastern Asia</td>\n",
       "      <td>Eastern Asia</td>\n",
       "      <td>China</td>\n",
       "      <td>991</td>\n",
       "      <td>64.872245</td>\n",
       "      <td>2020-05-27</td>\n",
       "      <td>115</td>\n",
       "      <td>Observed</td>\n",
       "      <td>8.543103</td>\n",
       "      <td>RoChina</td>\n",
       "      <td>tail grp 01</td>\n",
       "    </tr>\n",
       "    <tr>\n",
       "      <th>China - Beijing</th>\n",
       "      <td>Eastern And South-Eastern Asia</td>\n",
       "      <td>Eastern Asia</td>\n",
       "      <td>China</td>\n",
       "      <td>593</td>\n",
       "      <td>22.516010</td>\n",
       "      <td>2020-05-27</td>\n",
       "      <td>118</td>\n",
       "      <td>Observed</td>\n",
       "      <td>4.983193</td>\n",
       "      <td>RoChina</td>\n",
       "      <td>tail grp 01</td>\n",
       "    </tr>\n",
       "    <tr>\n",
       "      <th>China - Chongqing</th>\n",
       "      <td>Eastern And South-Eastern Asia</td>\n",
       "      <td>Eastern Asia</td>\n",
       "      <td>China</td>\n",
       "      <td>579</td>\n",
       "      <td>31.891631</td>\n",
       "      <td>2020-05-27</td>\n",
       "      <td>118</td>\n",
       "      <td>Observed</td>\n",
       "      <td>4.865546</td>\n",
       "      <td>RoChina</td>\n",
       "      <td>tail grp 01</td>\n",
       "    </tr>\n",
       "    <tr>\n",
       "      <th>China - Fujian</th>\n",
       "      <td>Eastern And South-Eastern Asia</td>\n",
       "      <td>Eastern Asia</td>\n",
       "      <td>China</td>\n",
       "      <td>358</td>\n",
       "      <td>40.562007</td>\n",
       "      <td>2020-05-27</td>\n",
       "      <td>112</td>\n",
       "      <td>Observed</td>\n",
       "      <td>3.168142</td>\n",
       "      <td>RoChina</td>\n",
       "      <td>tail grp 01</td>\n",
       "    </tr>\n",
       "    <tr>\n",
       "      <th>China - Gansu</th>\n",
       "      <td>Eastern And South-Eastern Asia</td>\n",
       "      <td>Eastern Asia</td>\n",
       "      <td>China</td>\n",
       "      <td>139</td>\n",
       "      <td>27.234935</td>\n",
       "      <td>2020-05-27</td>\n",
       "      <td>59</td>\n",
       "      <td>Observed</td>\n",
       "      <td>2.316667</td>\n",
       "      <td>RoChina</td>\n",
       "      <td>tail grp 01</td>\n",
       "    </tr>\n",
       "    <tr>\n",
       "      <th>China - Guangdong</th>\n",
       "      <td>Eastern And South-Eastern Asia</td>\n",
       "      <td>Eastern Asia</td>\n",
       "      <td>China</td>\n",
       "      <td>1592</td>\n",
       "      <td>115.836628</td>\n",
       "      <td>2020-05-27</td>\n",
       "      <td>115</td>\n",
       "      <td>Observed</td>\n",
       "      <td>13.724138</td>\n",
       "      <td>RoChina</td>\n",
       "      <td>tail grp 01</td>\n",
       "    </tr>\n",
       "    <tr>\n",
       "      <th>China - Guangxi</th>\n",
       "      <td>Eastern And South-Eastern Asia</td>\n",
       "      <td>Eastern Asia</td>\n",
       "      <td>China</td>\n",
       "      <td>254</td>\n",
       "      <td>50.663616</td>\n",
       "      <td>2020-05-27</td>\n",
       "      <td>68</td>\n",
       "      <td>Observed</td>\n",
       "      <td>3.681159</td>\n",
       "      <td>RoChina</td>\n",
       "      <td>tail grp 01</td>\n",
       "    </tr>\n",
       "    <tr>\n",
       "      <th>China - Hainan</th>\n",
       "      <td>Eastern And South-Eastern Asia</td>\n",
       "      <td>Eastern Asia</td>\n",
       "      <td>China</td>\n",
       "      <td>169</td>\n",
       "      <td>9.510447</td>\n",
       "      <td>2020-05-27</td>\n",
       "      <td>117</td>\n",
       "      <td>Observed</td>\n",
       "      <td>1.432203</td>\n",
       "      <td>RoChina</td>\n",
       "      <td>tail grp 01</td>\n",
       "    </tr>\n",
       "    <tr>\n",
       "      <th>China - Heilongjiang</th>\n",
       "      <td>Eastern And South-Eastern Asia</td>\n",
       "      <td>Eastern Asia</td>\n",
       "      <td>China</td>\n",
       "      <td>945</td>\n",
       "      <td>39.296713</td>\n",
       "      <td>2020-05-27</td>\n",
       "      <td>111</td>\n",
       "      <td>Observed</td>\n",
       "      <td>8.437500</td>\n",
       "      <td>RoChina</td>\n",
       "      <td>tail grp 01</td>\n",
       "    </tr>\n",
       "    <tr>\n",
       "      <th>China - Henan</th>\n",
       "      <td>Eastern And South-Eastern Asia</td>\n",
       "      <td>Eastern Asia</td>\n",
       "      <td>China</td>\n",
       "      <td>1276</td>\n",
       "      <td>99.138896</td>\n",
       "      <td>2020-05-27</td>\n",
       "      <td>114</td>\n",
       "      <td>Observed</td>\n",
       "      <td>11.095652</td>\n",
       "      <td>RoChina</td>\n",
       "      <td>tail grp 01</td>\n",
       "    </tr>\n",
       "    <tr>\n",
       "      <th>China - Hubei</th>\n",
       "      <td>Eastern And South-Eastern Asia</td>\n",
       "      <td>Eastern Asia</td>\n",
       "      <td>China</td>\n",
       "      <td>68135</td>\n",
       "      <td>61.211190</td>\n",
       "      <td>2020-05-27</td>\n",
       "      <td>126</td>\n",
       "      <td>Observed</td>\n",
       "      <td>536.496063</td>\n",
       "      <td>China - Hubei</td>\n",
       "      <td>tail grp 01</td>\n",
       "    </tr>\n",
       "    <tr>\n",
       "      <th>China - Hunan</th>\n",
       "      <td>Eastern And South-Eastern Asia</td>\n",
       "      <td>Eastern Asia</td>\n",
       "      <td>China</td>\n",
       "      <td>1019</td>\n",
       "      <td>71.146859</td>\n",
       "      <td>2020-05-27</td>\n",
       "      <td>116</td>\n",
       "      <td>Observed</td>\n",
       "      <td>8.709402</td>\n",
       "      <td>RoChina</td>\n",
       "      <td>tail grp 01</td>\n",
       "    </tr>\n",
       "    <tr>\n",
       "      <th>China - Inner Mongolia</th>\n",
       "      <td>Eastern And South-Eastern Asia</td>\n",
       "      <td>Eastern Asia</td>\n",
       "      <td>China</td>\n",
       "      <td>232</td>\n",
       "      <td>26.228922</td>\n",
       "      <td>2020-05-27</td>\n",
       "      <td>46</td>\n",
       "      <td>Observed</td>\n",
       "      <td>4.936170</td>\n",
       "      <td>RoChina</td>\n",
       "      <td>tail grp 01</td>\n",
       "    </tr>\n",
       "    <tr>\n",
       "      <th>China - Jiangsu</th>\n",
       "      <td>Eastern And South-Eastern Asia</td>\n",
       "      <td>Eastern Asia</td>\n",
       "      <td>China</td>\n",
       "      <td>653</td>\n",
       "      <td>83.270865</td>\n",
       "      <td>2020-05-27</td>\n",
       "      <td>109</td>\n",
       "      <td>Observed</td>\n",
       "      <td>5.936364</td>\n",
       "      <td>RoChina</td>\n",
       "      <td>tail grp 01</td>\n",
       "    </tr>\n",
       "    <tr>\n",
       "      <th>China - Jiangxi</th>\n",
       "      <td>Eastern And South-Eastern Asia</td>\n",
       "      <td>Eastern Asia</td>\n",
       "      <td>China</td>\n",
       "      <td>937</td>\n",
       "      <td>47.935974</td>\n",
       "      <td>2020-05-27</td>\n",
       "      <td>117</td>\n",
       "      <td>Observed</td>\n",
       "      <td>7.940678</td>\n",
       "      <td>RoChina</td>\n",
       "      <td>tail grp 01</td>\n",
       "    </tr>\n",
       "    <tr>\n",
       "      <th>China - Jilin</th>\n",
       "      <td>Eastern And South-Eastern Asia</td>\n",
       "      <td>Eastern Asia</td>\n",
       "      <td>China</td>\n",
       "      <td>155</td>\n",
       "      <td>28.178720</td>\n",
       "      <td>2020-05-27</td>\n",
       "      <td>11</td>\n",
       "      <td>Observed</td>\n",
       "      <td>12.916667</td>\n",
       "      <td>RoChina</td>\n",
       "      <td>tail grp 01</td>\n",
       "    </tr>\n",
       "    <tr>\n",
       "      <th>China - Ningxia</th>\n",
       "      <td>Eastern And South-Eastern Asia</td>\n",
       "      <td>Eastern Asia</td>\n",
       "      <td>China</td>\n",
       "      <td>75</td>\n",
       "      <td>7.073201</td>\n",
       "      <td>2020-05-27</td>\n",
       "      <td>111</td>\n",
       "      <td>Observed</td>\n",
       "      <td>0.669643</td>\n",
       "      <td>RoChina</td>\n",
       "      <td>tail grp 01</td>\n",
       "    </tr>\n",
       "    <tr>\n",
       "      <th>China - Shaanxi</th>\n",
       "      <td>Eastern And South-Eastern Asia</td>\n",
       "      <td>Eastern Asia</td>\n",
       "      <td>China</td>\n",
       "      <td>308</td>\n",
       "      <td>39.773791</td>\n",
       "      <td>2020-05-27</td>\n",
       "      <td>108</td>\n",
       "      <td>Observed</td>\n",
       "      <td>2.825688</td>\n",
       "      <td>RoChina</td>\n",
       "      <td>tail grp 01</td>\n",
       "    </tr>\n",
       "    <tr>\n",
       "      <th>China - Shandong</th>\n",
       "      <td>Eastern And South-Eastern Asia</td>\n",
       "      <td>Eastern Asia</td>\n",
       "      <td>China</td>\n",
       "      <td>788</td>\n",
       "      <td>103.774850</td>\n",
       "      <td>2020-05-27</td>\n",
       "      <td>103</td>\n",
       "      <td>Observed</td>\n",
       "      <td>7.576923</td>\n",
       "      <td>RoChina</td>\n",
       "      <td>tail grp 01</td>\n",
       "    </tr>\n",
       "    <tr>\n",
       "      <th>China - Shanghai</th>\n",
       "      <td>Eastern And South-Eastern Asia</td>\n",
       "      <td>Eastern Asia</td>\n",
       "      <td>China</td>\n",
       "      <td>671</td>\n",
       "      <td>25.077712</td>\n",
       "      <td>2020-05-27</td>\n",
       "      <td>117</td>\n",
       "      <td>Observed</td>\n",
       "      <td>5.686441</td>\n",
       "      <td>RoChina</td>\n",
       "      <td>tail grp 01</td>\n",
       "    </tr>\n",
       "    <tr>\n",
       "      <th>China - Shanxi</th>\n",
       "      <td>Eastern And South-Eastern Asia</td>\n",
       "      <td>Eastern Asia</td>\n",
       "      <td>China</td>\n",
       "      <td>198</td>\n",
       "      <td>38.186988</td>\n",
       "      <td>2020-05-27</td>\n",
       "      <td>41</td>\n",
       "      <td>Observed</td>\n",
       "      <td>4.714286</td>\n",
       "      <td>RoChina</td>\n",
       "      <td>tail grp 01</td>\n",
       "    </tr>\n",
       "    <tr>\n",
       "      <th>China - Sichuan</th>\n",
       "      <td>Eastern And South-Eastern Asia</td>\n",
       "      <td>Eastern Asia</td>\n",
       "      <td>China</td>\n",
       "      <td>564</td>\n",
       "      <td>86.102219</td>\n",
       "      <td>2020-05-27</td>\n",
       "      <td>105</td>\n",
       "      <td>Observed</td>\n",
       "      <td>5.320755</td>\n",
       "      <td>RoChina</td>\n",
       "      <td>tail grp 01</td>\n",
       "    </tr>\n",
       "    <tr>\n",
       "      <th>China - Tianjin</th>\n",
       "      <td>Eastern And South-Eastern Asia</td>\n",
       "      <td>Eastern Asia</td>\n",
       "      <td>China</td>\n",
       "      <td>192</td>\n",
       "      <td>16.148055</td>\n",
       "      <td>2020-05-27</td>\n",
       "      <td>110</td>\n",
       "      <td>Observed</td>\n",
       "      <td>1.729730</td>\n",
       "      <td>RoChina</td>\n",
       "      <td>tail grp 01</td>\n",
       "    </tr>\n",
       "    <tr>\n",
       "      <th>China - Zhejiang</th>\n",
       "      <td>Eastern And South-Eastern Asia</td>\n",
       "      <td>Eastern Asia</td>\n",
       "      <td>China</td>\n",
       "      <td>1268</td>\n",
       "      <td>58.670231</td>\n",
       "      <td>2020-05-27</td>\n",
       "      <td>119</td>\n",
       "      <td>Observed</td>\n",
       "      <td>10.566667</td>\n",
       "      <td>RoChina</td>\n",
       "      <td>tail grp 01</td>\n",
       "    </tr>\n",
       "    <tr>\n",
       "      <th>South Korea</th>\n",
       "      <td>Eastern And South-Eastern Asia</td>\n",
       "      <td>Eastern Asia</td>\n",
       "      <td>South Korea</td>\n",
       "      <td>11344</td>\n",
       "      <td>51.269183</td>\n",
       "      <td>2020-05-27</td>\n",
       "      <td>95</td>\n",
       "      <td>Observed</td>\n",
       "      <td>118.166667</td>\n",
       "      <td>South Korea</td>\n",
       "      <td>tail grp 01</td>\n",
       "    </tr>\n",
       "  </tbody>\n",
       "</table>\n",
       "</div>"
      ],
      "text/plain": [
       "                                                region     subregion  \\\n",
       "country_area                                                           \n",
       "China - Anhui           Eastern And South-Eastern Asia  Eastern Asia   \n",
       "China - Beijing         Eastern And South-Eastern Asia  Eastern Asia   \n",
       "China - Chongqing       Eastern And South-Eastern Asia  Eastern Asia   \n",
       "China - Fujian          Eastern And South-Eastern Asia  Eastern Asia   \n",
       "China - Gansu           Eastern And South-Eastern Asia  Eastern Asia   \n",
       "China - Guangdong       Eastern And South-Eastern Asia  Eastern Asia   \n",
       "China - Guangxi         Eastern And South-Eastern Asia  Eastern Asia   \n",
       "China - Hainan          Eastern And South-Eastern Asia  Eastern Asia   \n",
       "China - Heilongjiang    Eastern And South-Eastern Asia  Eastern Asia   \n",
       "China - Henan           Eastern And South-Eastern Asia  Eastern Asia   \n",
       "China - Hubei           Eastern And South-Eastern Asia  Eastern Asia   \n",
       "China - Hunan           Eastern And South-Eastern Asia  Eastern Asia   \n",
       "China - Inner Mongolia  Eastern And South-Eastern Asia  Eastern Asia   \n",
       "China - Jiangsu         Eastern And South-Eastern Asia  Eastern Asia   \n",
       "China - Jiangxi         Eastern And South-Eastern Asia  Eastern Asia   \n",
       "China - Jilin           Eastern And South-Eastern Asia  Eastern Asia   \n",
       "China - Ningxia         Eastern And South-Eastern Asia  Eastern Asia   \n",
       "China - Shaanxi         Eastern And South-Eastern Asia  Eastern Asia   \n",
       "China - Shandong        Eastern And South-Eastern Asia  Eastern Asia   \n",
       "China - Shanghai        Eastern And South-Eastern Asia  Eastern Asia   \n",
       "China - Shanxi          Eastern And South-Eastern Asia  Eastern Asia   \n",
       "China - Sichuan         Eastern And South-Eastern Asia  Eastern Asia   \n",
       "China - Tianjin         Eastern And South-Eastern Asia  Eastern Asia   \n",
       "China - Zhejiang        Eastern And South-Eastern Asia  Eastern Asia   \n",
       "South Korea             Eastern And South-Eastern Asia  Eastern Asia   \n",
       "\n",
       "                            country  confirmed_cases  population       date  \\\n",
       "country_area                                                                  \n",
       "China - Anhui                 China              991   64.872245 2020-05-27   \n",
       "China - Beijing               China              593   22.516010 2020-05-27   \n",
       "China - Chongqing             China              579   31.891631 2020-05-27   \n",
       "China - Fujian                China              358   40.562007 2020-05-27   \n",
       "China - Gansu                 China              139   27.234935 2020-05-27   \n",
       "China - Guangdong             China             1592  115.836628 2020-05-27   \n",
       "China - Guangxi               China              254   50.663616 2020-05-27   \n",
       "China - Hainan                China              169    9.510447 2020-05-27   \n",
       "China - Heilongjiang          China              945   39.296713 2020-05-27   \n",
       "China - Henan                 China             1276   99.138896 2020-05-27   \n",
       "China - Hubei                 China            68135   61.211190 2020-05-27   \n",
       "China - Hunan                 China             1019   71.146859 2020-05-27   \n",
       "China - Inner Mongolia        China              232   26.228922 2020-05-27   \n",
       "China - Jiangsu               China              653   83.270865 2020-05-27   \n",
       "China - Jiangxi               China              937   47.935974 2020-05-27   \n",
       "China - Jilin                 China              155   28.178720 2020-05-27   \n",
       "China - Ningxia               China               75    7.073201 2020-05-27   \n",
       "China - Shaanxi               China              308   39.773791 2020-05-27   \n",
       "China - Shandong              China              788  103.774850 2020-05-27   \n",
       "China - Shanghai              China              671   25.077712 2020-05-27   \n",
       "China - Shanxi                China              198   38.186988 2020-05-27   \n",
       "China - Sichuan               China              564   86.102219 2020-05-27   \n",
       "China - Tianjin               China              192   16.148055 2020-05-27   \n",
       "China - Zhejiang              China             1268   58.670231 2020-05-27   \n",
       "South Korea             South Korea            11344   51.269183 2020-05-27   \n",
       "\n",
       "                        devt_time      data   avg_cases    country_grp  \\\n",
       "country_area                                                             \n",
       "China - Anhui                 115  Observed    8.543103        RoChina   \n",
       "China - Beijing               118  Observed    4.983193        RoChina   \n",
       "China - Chongqing             118  Observed    4.865546        RoChina   \n",
       "China - Fujian                112  Observed    3.168142        RoChina   \n",
       "China - Gansu                  59  Observed    2.316667        RoChina   \n",
       "China - Guangdong             115  Observed   13.724138        RoChina   \n",
       "China - Guangxi                68  Observed    3.681159        RoChina   \n",
       "China - Hainan                117  Observed    1.432203        RoChina   \n",
       "China - Heilongjiang          111  Observed    8.437500        RoChina   \n",
       "China - Henan                 114  Observed   11.095652        RoChina   \n",
       "China - Hubei                 126  Observed  536.496063  China - Hubei   \n",
       "China - Hunan                 116  Observed    8.709402        RoChina   \n",
       "China - Inner Mongolia         46  Observed    4.936170        RoChina   \n",
       "China - Jiangsu               109  Observed    5.936364        RoChina   \n",
       "China - Jiangxi               117  Observed    7.940678        RoChina   \n",
       "China - Jilin                  11  Observed   12.916667        RoChina   \n",
       "China - Ningxia               111  Observed    0.669643        RoChina   \n",
       "China - Shaanxi               108  Observed    2.825688        RoChina   \n",
       "China - Shandong              103  Observed    7.576923        RoChina   \n",
       "China - Shanghai              117  Observed    5.686441        RoChina   \n",
       "China - Shanxi                 41  Observed    4.714286        RoChina   \n",
       "China - Sichuan               105  Observed    5.320755        RoChina   \n",
       "China - Tianjin               110  Observed    1.729730        RoChina   \n",
       "China - Zhejiang              119  Observed   10.566667        RoChina   \n",
       "South Korea                    95  Observed  118.166667    South Korea   \n",
       "\n",
       "                           tail_grp  \n",
       "country_area                         \n",
       "China - Anhui           tail grp 01  \n",
       "China - Beijing         tail grp 01  \n",
       "China - Chongqing       tail grp 01  \n",
       "China - Fujian          tail grp 01  \n",
       "China - Gansu           tail grp 01  \n",
       "China - Guangdong       tail grp 01  \n",
       "China - Guangxi         tail grp 01  \n",
       "China - Hainan          tail grp 01  \n",
       "China - Heilongjiang    tail grp 01  \n",
       "China - Henan           tail grp 01  \n",
       "China - Hubei           tail grp 01  \n",
       "China - Hunan           tail grp 01  \n",
       "China - Inner Mongolia  tail grp 01  \n",
       "China - Jiangsu         tail grp 01  \n",
       "China - Jiangxi         tail grp 01  \n",
       "China - Jilin           tail grp 01  \n",
       "China - Ningxia         tail grp 01  \n",
       "China - Shaanxi         tail grp 01  \n",
       "China - Shandong        tail grp 01  \n",
       "China - Shanghai        tail grp 01  \n",
       "China - Shanxi          tail grp 01  \n",
       "China - Sichuan         tail grp 01  \n",
       "China - Tianjin         tail grp 01  \n",
       "China - Zhejiang        tail grp 01  \n",
       "South Korea             tail grp 01  "
      ]
     },
     "execution_count": 13,
     "metadata": {},
     "output_type": "execute_result"
    }
   ],
   "source": [
    "grpby_dff[\"tail_grp\"] = grpby_dff[\"country\"]\n",
    "\n",
    "grpby_dff.loc[\n",
    "    grpby_dff[\"country\"].isin([\"China\", \"South Korea\"]), \"tail_grp\"\n",
    "] = \"tail grp 01\"\n",
    "\n",
    "grpby_dff.loc[\n",
    "    ~grpby_dff[\"country\"].isin([\"China\", \"South Korea\"]), \"tail_grp\"\n",
    "] = \"tail grp 02\"\n",
    "\n",
    "grpby_dff.loc[grpby_dff[\"country\"].isin([\"China\", \"South Korea\"])]"
   ]
  },
  {
   "cell_type": "code",
   "execution_count": 14,
   "metadata": {},
   "outputs": [],
   "source": [
    "mapping = grpby_dff[\"tail_grp\"]\n",
    "dff[\"tail_grp\"] = dff[\"country_area\"].map(mapping)"
   ]
  },
  {
   "cell_type": "code",
   "execution_count": 15,
   "metadata": {},
   "outputs": [
    {
     "data": {
      "text/plain": [
       "Index(['region', 'subregion', 'country', 'country_area', 'confirmed_cases',\n",
       "       'population', 'date', 'devt_time', 'data', 'time_1', 'time_2', 'weight',\n",
       "       'link_ratio', 'country_grp', 'tail_grp'],\n",
       "      dtype='object')"
      ]
     },
     "execution_count": 15,
     "metadata": {},
     "output_type": "execute_result"
    }
   ],
   "source": [
    "dff.columns"
   ]
  },
  {
   "cell_type": "code",
   "execution_count": 16,
   "metadata": {},
   "outputs": [],
   "source": [
    "dm = dmatrix(\n",
    "    \"-1+country_grp + country_grp:standardize(time_1) + tail_grp:standardize(time_2)\",\n",
    "    dff,\n",
    "    return_type=\"dataframe\",\n",
    ")"
   ]
  },
  {
   "cell_type": "code",
   "execution_count": 17,
   "metadata": {},
   "outputs": [
    {
     "data": {
      "text/plain": [
       "Index(['country_grp[Afghanistan]', 'country_grp[Algeria]',\n",
       "       'country_grp[Argentina]', 'country_grp[Armenia]',\n",
       "       'country_grp[Austria]', 'country_grp[Azerbaijan]',\n",
       "       'country_grp[Bahrain]', 'country_grp[Bangladesh]',\n",
       "       'country_grp[Belarus]', 'country_grp[Belgium]',\n",
       "       ...\n",
       "       'country_grp[US - Texas]:standardize(time_1)',\n",
       "       'country_grp[US - Utah]:standardize(time_1)',\n",
       "       'country_grp[US - Virginia]:standardize(time_1)',\n",
       "       'country_grp[US - Washington]:standardize(time_1)',\n",
       "       'country_grp[US - Wisconsin]:standardize(time_1)',\n",
       "       'country_grp[Ukraine]:standardize(time_1)',\n",
       "       'country_grp[United Arab Emirates]:standardize(time_1)',\n",
       "       'country_grp[Uzbekistan]:standardize(time_1)',\n",
       "       'tail_grp[tail grp 01]:standardize(time_2)',\n",
       "       'tail_grp[tail grp 02]:standardize(time_2)'],\n",
       "      dtype='object', length=246)"
      ]
     },
     "execution_count": 17,
     "metadata": {},
     "output_type": "execute_result"
    }
   ],
   "source": [
    "dm.columns"
   ]
  },
  {
   "cell_type": "code",
   "execution_count": 18,
   "metadata": {},
   "outputs": [
    {
     "data": {
      "text/plain": [
       "(31712, 246)"
      ]
     },
     "execution_count": 18,
     "metadata": {},
     "output_type": "execute_result"
    }
   ],
   "source": [
    "dm.shape"
   ]
  },
  {
   "cell_type": "code",
   "execution_count": 19,
   "metadata": {},
   "outputs": [],
   "source": [
    "di = dm.design_info\n",
    "\n",
    "dm_di = pd.DataFrame({\"col_name\": di.column_names})\n",
    "\n",
    "factors = [None] * len(di.column_names)\n",
    "\n",
    "for elt in di.term_names:\n",
    "    slice_ = di.term_name_slices[elt]\n",
    "    factors[slice_] = [elt] * len(factors[slice_])\n",
    "\n",
    "dm_di[\"factors\"] = factors\n",
    "\n",
    "dm_di[\"levels\"] = dm_di[\"col_name\"].str.findall(r\"\\((.*)\\)|\\[(.*)\\]\")\n",
    "\n",
    "dm_di[\"levels\"] = dm_di[\"levels\"].apply(lambda x: str(x))\n",
    "\n",
    "pattern = \"|\".join([\"\\[\", \"\\]\", \"\\(\", \"\\)\", \"'\", \"T\\.\", \",\"])\n",
    "\n",
    "dm_di[\"levels\"] = dm_di[\"levels\"].str.replace(pattern, \"\").str.strip()"
   ]
  },
  {
   "cell_type": "code",
   "execution_count": 20,
   "metadata": {},
   "outputs": [
    {
     "data": {
      "text/html": [
       "<div>\n",
       "<style scoped>\n",
       "    .dataframe tbody tr th:only-of-type {\n",
       "        vertical-align: middle;\n",
       "    }\n",
       "\n",
       "    .dataframe tbody tr th {\n",
       "        vertical-align: top;\n",
       "    }\n",
       "\n",
       "    .dataframe thead th {\n",
       "        text-align: right;\n",
       "    }\n",
       "</style>\n",
       "<table border=\"1\" class=\"dataframe\">\n",
       "  <thead>\n",
       "    <tr style=\"text-align: right;\">\n",
       "      <th></th>\n",
       "      <th>col_name</th>\n",
       "      <th>factors</th>\n",
       "      <th>levels</th>\n",
       "    </tr>\n",
       "  </thead>\n",
       "  <tbody>\n",
       "    <tr>\n",
       "      <th>0</th>\n",
       "      <td>country_grp[Afghanistan]</td>\n",
       "      <td>country_grp</td>\n",
       "      <td>[('', 'Afghanistan')]</td>\n",
       "    </tr>\n",
       "    <tr>\n",
       "      <th>1</th>\n",
       "      <td>country_grp[Algeria]</td>\n",
       "      <td>country_grp</td>\n",
       "      <td>[('', 'Algeria')]</td>\n",
       "    </tr>\n",
       "    <tr>\n",
       "      <th>2</th>\n",
       "      <td>country_grp[Argentina]</td>\n",
       "      <td>country_grp</td>\n",
       "      <td>[('', 'Argentina')]</td>\n",
       "    </tr>\n",
       "    <tr>\n",
       "      <th>3</th>\n",
       "      <td>country_grp[Armenia]</td>\n",
       "      <td>country_grp</td>\n",
       "      <td>[('', 'Armenia')]</td>\n",
       "    </tr>\n",
       "    <tr>\n",
       "      <th>4</th>\n",
       "      <td>country_grp[Austria]</td>\n",
       "      <td>country_grp</td>\n",
       "      <td>[('', 'Austria')]</td>\n",
       "    </tr>\n",
       "  </tbody>\n",
       "</table>\n",
       "</div>"
      ],
      "text/plain": [
       "                   col_name      factors                 levels\n",
       "0  country_grp[Afghanistan]  country_grp  [('', 'Afghanistan')]\n",
       "1      country_grp[Algeria]  country_grp      [('', 'Algeria')]\n",
       "2    country_grp[Argentina]  country_grp    [('', 'Argentina')]\n",
       "3      country_grp[Armenia]  country_grp      [('', 'Armenia')]\n",
       "4      country_grp[Austria]  country_grp      [('', 'Austria')]"
      ]
     },
     "execution_count": 20,
     "metadata": {},
     "output_type": "execute_result"
    }
   ],
   "source": [
    "dm_di.head()"
   ]
  },
  {
   "cell_type": "code",
   "execution_count": 21,
   "metadata": {},
   "outputs": [],
   "source": [
    "dm_obs = dm.loc[\n",
    "    (dff[\"data\"] == \"Observed\") & (dff[\"devt_time\"] > 0) & (dff[\"link_ratio\"] > 1)\n",
    "]\n",
    "\n",
    "dm_obs_ind = dm_obs.where(dm == 0, other=1)\n",
    "\n",
    "wgt_obs = dff[\n",
    "    (dff[\"data\"] == \"Observed\") & (dff[\"devt_time\"] > 0) & (dff[\"link_ratio\"] > 1)\n",
    "][\"weight\"]\n",
    "\n",
    "wgt_obs = wgt_obs / wgt_obs.sum()\n",
    "\n",
    "dm_weight = dm_obs_ind.T @ wgt_obs\n",
    "\n",
    "dm_weight = dm_weight.rename(\"factor_weight\")\n",
    "\n",
    "dm_di = dm_di.merge(dm_weight, how=\"left\", left_on=\"col_name\", right_index=True)"
   ]
  },
  {
   "cell_type": "code",
   "execution_count": 22,
   "metadata": {},
   "outputs": [
    {
     "data": {
      "text/html": [
       "<div>\n",
       "<style scoped>\n",
       "    .dataframe tbody tr th:only-of-type {\n",
       "        vertical-align: middle;\n",
       "    }\n",
       "\n",
       "    .dataframe tbody tr th {\n",
       "        vertical-align: top;\n",
       "    }\n",
       "\n",
       "    .dataframe thead th {\n",
       "        text-align: right;\n",
       "    }\n",
       "</style>\n",
       "<table border=\"1\" class=\"dataframe\">\n",
       "  <thead>\n",
       "    <tr style=\"text-align: right;\">\n",
       "      <th></th>\n",
       "      <th>col_name</th>\n",
       "      <th>factors</th>\n",
       "      <th>levels</th>\n",
       "      <th>factor_weight</th>\n",
       "    </tr>\n",
       "  </thead>\n",
       "  <tbody>\n",
       "    <tr>\n",
       "      <th>0</th>\n",
       "      <td>country_grp[Afghanistan]</td>\n",
       "      <td>country_grp</td>\n",
       "      <td>[('', 'Afghanistan')]</td>\n",
       "      <td>0.001020</td>\n",
       "    </tr>\n",
       "    <tr>\n",
       "      <th>1</th>\n",
       "      <td>country_grp[Algeria]</td>\n",
       "      <td>country_grp</td>\n",
       "      <td>[('', 'Algeria')]</td>\n",
       "      <td>0.001325</td>\n",
       "    </tr>\n",
       "    <tr>\n",
       "      <th>2</th>\n",
       "      <td>country_grp[Argentina]</td>\n",
       "      <td>country_grp</td>\n",
       "      <td>[('', 'Argentina')]</td>\n",
       "      <td>0.001533</td>\n",
       "    </tr>\n",
       "    <tr>\n",
       "      <th>3</th>\n",
       "      <td>country_grp[Armenia]</td>\n",
       "      <td>country_grp</td>\n",
       "      <td>[('', 'Armenia')]</td>\n",
       "      <td>0.000827</td>\n",
       "    </tr>\n",
       "    <tr>\n",
       "      <th>4</th>\n",
       "      <td>country_grp[Austria]</td>\n",
       "      <td>country_grp</td>\n",
       "      <td>[('', 'Austria')]</td>\n",
       "      <td>0.005094</td>\n",
       "    </tr>\n",
       "  </tbody>\n",
       "</table>\n",
       "</div>"
      ],
      "text/plain": [
       "                   col_name      factors                 levels  factor_weight\n",
       "0  country_grp[Afghanistan]  country_grp  [('', 'Afghanistan')]       0.001020\n",
       "1      country_grp[Algeria]  country_grp      [('', 'Algeria')]       0.001325\n",
       "2    country_grp[Argentina]  country_grp    [('', 'Argentina')]       0.001533\n",
       "3      country_grp[Armenia]  country_grp      [('', 'Armenia')]       0.000827\n",
       "4      country_grp[Austria]  country_grp      [('', 'Austria')]       0.005094"
      ]
     },
     "execution_count": 22,
     "metadata": {},
     "output_type": "execute_result"
    }
   ],
   "source": [
    "dm_di.head()"
   ]
  },
  {
   "cell_type": "code",
   "execution_count": 23,
   "metadata": {},
   "outputs": [
    {
     "data": {
      "text/html": [
       "<style>#sk-container-id-1 {color: black;}#sk-container-id-1 pre{padding: 0;}#sk-container-id-1 div.sk-toggleable {background-color: white;}#sk-container-id-1 label.sk-toggleable__label {cursor: pointer;display: block;width: 100%;margin-bottom: 0;padding: 0.3em;box-sizing: border-box;text-align: center;}#sk-container-id-1 label.sk-toggleable__label-arrow:before {content: \"▸\";float: left;margin-right: 0.25em;color: #696969;}#sk-container-id-1 label.sk-toggleable__label-arrow:hover:before {color: black;}#sk-container-id-1 div.sk-estimator:hover label.sk-toggleable__label-arrow:before {color: black;}#sk-container-id-1 div.sk-toggleable__content {max-height: 0;max-width: 0;overflow: hidden;text-align: left;background-color: #f0f8ff;}#sk-container-id-1 div.sk-toggleable__content pre {margin: 0.2em;color: black;border-radius: 0.25em;background-color: #f0f8ff;}#sk-container-id-1 input.sk-toggleable__control:checked~div.sk-toggleable__content {max-height: 200px;max-width: 100%;overflow: auto;}#sk-container-id-1 input.sk-toggleable__control:checked~label.sk-toggleable__label-arrow:before {content: \"▾\";}#sk-container-id-1 div.sk-estimator input.sk-toggleable__control:checked~label.sk-toggleable__label {background-color: #d4ebff;}#sk-container-id-1 div.sk-label input.sk-toggleable__control:checked~label.sk-toggleable__label {background-color: #d4ebff;}#sk-container-id-1 input.sk-hidden--visually {border: 0;clip: rect(1px 1px 1px 1px);clip: rect(1px, 1px, 1px, 1px);height: 1px;margin: -1px;overflow: hidden;padding: 0;position: absolute;width: 1px;}#sk-container-id-1 div.sk-estimator {font-family: monospace;background-color: #f0f8ff;border: 1px dotted black;border-radius: 0.25em;box-sizing: border-box;margin-bottom: 0.5em;}#sk-container-id-1 div.sk-estimator:hover {background-color: #d4ebff;}#sk-container-id-1 div.sk-parallel-item::after {content: \"\";width: 100%;border-bottom: 1px solid gray;flex-grow: 1;}#sk-container-id-1 div.sk-label:hover label.sk-toggleable__label {background-color: #d4ebff;}#sk-container-id-1 div.sk-serial::before {content: \"\";position: absolute;border-left: 1px solid gray;box-sizing: border-box;top: 0;bottom: 0;left: 50%;z-index: 0;}#sk-container-id-1 div.sk-serial {display: flex;flex-direction: column;align-items: center;background-color: white;padding-right: 0.2em;padding-left: 0.2em;position: relative;}#sk-container-id-1 div.sk-item {position: relative;z-index: 1;}#sk-container-id-1 div.sk-parallel {display: flex;align-items: stretch;justify-content: center;background-color: white;position: relative;}#sk-container-id-1 div.sk-item::before, #sk-container-id-1 div.sk-parallel-item::before {content: \"\";position: absolute;border-left: 1px solid gray;box-sizing: border-box;top: 0;bottom: 0;left: 50%;z-index: -1;}#sk-container-id-1 div.sk-parallel-item {display: flex;flex-direction: column;z-index: 1;position: relative;background-color: white;}#sk-container-id-1 div.sk-parallel-item:first-child::after {align-self: flex-end;width: 50%;}#sk-container-id-1 div.sk-parallel-item:last-child::after {align-self: flex-start;width: 50%;}#sk-container-id-1 div.sk-parallel-item:only-child::after {width: 0;}#sk-container-id-1 div.sk-dashed-wrapped {border: 1px dashed gray;margin: 0 0.4em 0.5em 0.4em;box-sizing: border-box;padding-bottom: 0.4em;background-color: white;}#sk-container-id-1 div.sk-label label {font-family: monospace;font-weight: bold;display: inline-block;line-height: 1.2em;}#sk-container-id-1 div.sk-label-container {text-align: center;}#sk-container-id-1 div.sk-container {/* jupyter's `normalize.less` sets `[hidden] { display: none; }` but bootstrap.min.css set `[hidden] { display: none !important; }` so we also need the `!important` here to be able to override the default hidden behavior on the sphinx rendered scikit-learn.org. See: https://github.com/scikit-learn/scikit-learn/issues/21755 */display: inline-block !important;position: relative;}#sk-container-id-1 div.sk-text-repr-fallback {display: none;}</style><div id=\"sk-container-id-1\" class=\"sk-top-container\"><div class=\"sk-text-repr-fallback\"><pre>TransformedTargetRegressor(func=&lt;ufunc &#x27;log&#x27;&gt;, inverse_func=&lt;ufunc &#x27;exp&#x27;&gt;,\n",
       "                           regressor=LinearRegression(fit_intercept=False))</pre><b>In a Jupyter environment, please rerun this cell to show the HTML representation or trust the notebook. <br />On GitHub, the HTML representation is unable to render, please try loading this page with nbviewer.org.</b></div><div class=\"sk-container\" hidden><div class=\"sk-item sk-dashed-wrapped\"><div class=\"sk-label-container\"><div class=\"sk-label sk-toggleable\"><input class=\"sk-toggleable__control sk-hidden--visually\" id=\"sk-estimator-id-1\" type=\"checkbox\" ><label for=\"sk-estimator-id-1\" class=\"sk-toggleable__label sk-toggleable__label-arrow\">TransformedTargetRegressor</label><div class=\"sk-toggleable__content\"><pre>TransformedTargetRegressor(func=&lt;ufunc &#x27;log&#x27;&gt;, inverse_func=&lt;ufunc &#x27;exp&#x27;&gt;,\n",
       "                           regressor=LinearRegression(fit_intercept=False))</pre></div></div></div><div class=\"sk-parallel\"><div class=\"sk-parallel-item\"><div class=\"sk-item\"><div class=\"sk-label-container\"><div class=\"sk-label sk-toggleable\"><input class=\"sk-toggleable__control sk-hidden--visually\" id=\"sk-estimator-id-2\" type=\"checkbox\" ><label for=\"sk-estimator-id-2\" class=\"sk-toggleable__label sk-toggleable__label-arrow\">regressor: LinearRegression</label><div class=\"sk-toggleable__content\"><pre>LinearRegression(fit_intercept=False)</pre></div></div></div><div class=\"sk-serial\"><div class=\"sk-item\"><div class=\"sk-estimator sk-toggleable\"><input class=\"sk-toggleable__control sk-hidden--visually\" id=\"sk-estimator-id-3\" type=\"checkbox\" ><label for=\"sk-estimator-id-3\" class=\"sk-toggleable__label sk-toggleable__label-arrow\">LinearRegression</label><div class=\"sk-toggleable__content\"><pre>LinearRegression(fit_intercept=False)</pre></div></div></div></div></div></div></div></div></div></div>"
      ],
      "text/plain": [
       "TransformedTargetRegressor(func=<ufunc 'log'>, inverse_func=<ufunc 'exp'>,\n",
       "                           regressor=LinearRegression(fit_intercept=False))"
      ]
     },
     "execution_count": 23,
     "metadata": {},
     "output_type": "execute_result"
    }
   ],
   "source": [
    "X = dm.loc[\n",
    "    (dff[\"data\"] == \"Observed\") & (dff[\"devt_time\"] > 0) & (dff[\"link_ratio\"] > 1)\n",
    "]\n",
    "\n",
    "y = (\n",
    "    dff[(dff[\"data\"] == \"Observed\") & (dff[\"devt_time\"] > 0) & (dff[\"link_ratio\"] > 1)][\n",
    "        \"link_ratio\"\n",
    "    ]\n",
    "    - 1\n",
    ")\n",
    "\n",
    "wgt = dff[\n",
    "    (dff[\"data\"] == \"Observed\") & (dff[\"devt_time\"] > 0) & (dff[\"link_ratio\"] > 1)\n",
    "][\"weight\"]\n",
    "\n",
    "tt = TransformedTargetRegressor(\n",
    "    regressor=LinearRegression(fit_intercept=False), func=np.log, inverse_func=np.exp\n",
    ")\n",
    "\n",
    "tt.fit(X, y)"
   ]
  },
  {
   "cell_type": "code",
   "execution_count": 24,
   "metadata": {},
   "outputs": [
    {
     "data": {
      "text/html": [
       "<div>\n",
       "<style scoped>\n",
       "    .dataframe tbody tr th:only-of-type {\n",
       "        vertical-align: middle;\n",
       "    }\n",
       "\n",
       "    .dataframe tbody tr th {\n",
       "        vertical-align: top;\n",
       "    }\n",
       "\n",
       "    .dataframe thead th {\n",
       "        text-align: right;\n",
       "    }\n",
       "</style>\n",
       "<table border=\"1\" class=\"dataframe\">\n",
       "  <thead>\n",
       "    <tr style=\"text-align: right;\">\n",
       "      <th></th>\n",
       "      <th>col_name</th>\n",
       "      <th>factors</th>\n",
       "      <th>levels</th>\n",
       "      <th>factor_weight</th>\n",
       "      <th>coef</th>\n",
       "    </tr>\n",
       "  </thead>\n",
       "  <tbody>\n",
       "    <tr>\n",
       "      <th>0</th>\n",
       "      <td>country_grp[Afghanistan]</td>\n",
       "      <td>country_grp</td>\n",
       "      <td>[('', 'Afghanistan')]</td>\n",
       "      <td>0.001020</td>\n",
       "      <td>-3.460029</td>\n",
       "    </tr>\n",
       "    <tr>\n",
       "      <th>1</th>\n",
       "      <td>country_grp[Algeria]</td>\n",
       "      <td>country_grp</td>\n",
       "      <td>[('', 'Algeria')]</td>\n",
       "      <td>0.001325</td>\n",
       "      <td>-3.845329</td>\n",
       "    </tr>\n",
       "    <tr>\n",
       "      <th>2</th>\n",
       "      <td>country_grp[Argentina]</td>\n",
       "      <td>country_grp</td>\n",
       "      <td>[('', 'Argentina')]</td>\n",
       "      <td>0.001533</td>\n",
       "      <td>-3.626920</td>\n",
       "    </tr>\n",
       "    <tr>\n",
       "      <th>3</th>\n",
       "      <td>country_grp[Armenia]</td>\n",
       "      <td>country_grp</td>\n",
       "      <td>[('', 'Armenia')]</td>\n",
       "      <td>0.000827</td>\n",
       "      <td>-3.416067</td>\n",
       "    </tr>\n",
       "    <tr>\n",
       "      <th>4</th>\n",
       "      <td>country_grp[Austria]</td>\n",
       "      <td>country_grp</td>\n",
       "      <td>[('', 'Austria')]</td>\n",
       "      <td>0.005094</td>\n",
       "      <td>-4.745699</td>\n",
       "    </tr>\n",
       "  </tbody>\n",
       "</table>\n",
       "</div>"
      ],
      "text/plain": [
       "                   col_name      factors                 levels  \\\n",
       "0  country_grp[Afghanistan]  country_grp  [('', 'Afghanistan')]   \n",
       "1      country_grp[Algeria]  country_grp      [('', 'Algeria')]   \n",
       "2    country_grp[Argentina]  country_grp    [('', 'Argentina')]   \n",
       "3      country_grp[Armenia]  country_grp      [('', 'Armenia')]   \n",
       "4      country_grp[Austria]  country_grp      [('', 'Austria')]   \n",
       "\n",
       "   factor_weight      coef  \n",
       "0       0.001020 -3.460029  \n",
       "1       0.001325 -3.845329  \n",
       "2       0.001533 -3.626920  \n",
       "3       0.000827 -3.416067  \n",
       "4       0.005094 -4.745699  "
      ]
     },
     "execution_count": 24,
     "metadata": {},
     "output_type": "execute_result"
    }
   ],
   "source": [
    "dm_di[\"coef\"] = tt.regressor_.coef_\n",
    "\n",
    "dm_di.head()"
   ]
  },
  {
   "cell_type": "code",
   "execution_count": 25,
   "metadata": {},
   "outputs": [],
   "source": [
    "pred = dff.loc[\n",
    "    (dff[\"data\"] == \"Observed\") & (dff[\"devt_time\"] > 0) & (dff[\"link_ratio\"] > 1),\n",
    "    [\"country_area\", \"country_grp\", \"devt_time\", \"weight\", \"link_ratio\"],\n",
    "]\n",
    "\n",
    "pred[\"y\"] = np.log(pred[\"link_ratio\"] - 1)\n",
    "\n",
    "pred[\"y_hat\"] = np.log(tt.predict(X))\n",
    "\n",
    "pred[\"residuals\"] = pred[\"y\"] - pred[\"y_hat\"]"
   ]
  },
  {
   "cell_type": "code",
   "execution_count": 26,
   "metadata": {},
   "outputs": [],
   "source": [
    "residuals = pred[\"residuals\"].to_numpy()\n",
    "\n",
    "W = np.diag(pred[\"weight\"].to_numpy())\n",
    "\n",
    "residuals = residuals[np.newaxis]\n",
    "\n",
    "w_rss = residuals @ W @ residuals.T\n",
    "\n",
    "w_sigma_squared_hat = w_rss[0, 0] / (X.shape[0] - X.shape[1])\n",
    "\n",
    "sq_m = X.to_numpy().T @ W @ X.to_numpy()\n",
    "\n",
    "w_var_beta_hat = np.linalg.inv(sq_m) * w_sigma_squared_hat\n",
    "\n",
    "w_stderr = np.sqrt(np.diag(w_var_beta_hat))"
   ]
  },
  {
   "cell_type": "code",
   "execution_count": 27,
   "metadata": {},
   "outputs": [],
   "source": [
    "alpha = 0.05\n",
    "\n",
    "tval = t.ppf(1.0 - alpha / 2.0, X.shape[0] - X.shape[1])"
   ]
  },
  {
   "cell_type": "code",
   "execution_count": 28,
   "metadata": {},
   "outputs": [
    {
     "data": {
      "text/html": [
       "<div>\n",
       "<style scoped>\n",
       "    .dataframe tbody tr th:only-of-type {\n",
       "        vertical-align: middle;\n",
       "    }\n",
       "\n",
       "    .dataframe tbody tr th {\n",
       "        vertical-align: top;\n",
       "    }\n",
       "\n",
       "    .dataframe thead th {\n",
       "        text-align: right;\n",
       "    }\n",
       "</style>\n",
       "<table border=\"1\" class=\"dataframe\">\n",
       "  <thead>\n",
       "    <tr style=\"text-align: right;\">\n",
       "      <th></th>\n",
       "      <th>col_name</th>\n",
       "      <th>factors</th>\n",
       "      <th>levels</th>\n",
       "      <th>factor_weight</th>\n",
       "      <th>coef</th>\n",
       "      <th>w_stderr</th>\n",
       "      <th>ci_95_upper</th>\n",
       "      <th>ci_95_lower</th>\n",
       "    </tr>\n",
       "  </thead>\n",
       "  <tbody>\n",
       "    <tr>\n",
       "      <th>0</th>\n",
       "      <td>country_grp[Afghanistan]</td>\n",
       "      <td>country_grp</td>\n",
       "      <td>[('', 'Afghanistan')]</td>\n",
       "      <td>0.001020</td>\n",
       "      <td>-3.460029</td>\n",
       "      <td>0.191044</td>\n",
       "      <td>-3.085557</td>\n",
       "      <td>-3.834502</td>\n",
       "    </tr>\n",
       "    <tr>\n",
       "      <th>1</th>\n",
       "      <td>country_grp[Algeria]</td>\n",
       "      <td>country_grp</td>\n",
       "      <td>[('', 'Algeria')]</td>\n",
       "      <td>0.001325</td>\n",
       "      <td>-3.845329</td>\n",
       "      <td>0.160297</td>\n",
       "      <td>-3.531127</td>\n",
       "      <td>-4.159532</td>\n",
       "    </tr>\n",
       "    <tr>\n",
       "      <th>2</th>\n",
       "      <td>country_grp[Argentina]</td>\n",
       "      <td>country_grp</td>\n",
       "      <td>[('', 'Argentina')]</td>\n",
       "      <td>0.001533</td>\n",
       "      <td>-3.626920</td>\n",
       "      <td>0.161345</td>\n",
       "      <td>-3.310663</td>\n",
       "      <td>-3.943177</td>\n",
       "    </tr>\n",
       "    <tr>\n",
       "      <th>3</th>\n",
       "      <td>country_grp[Armenia]</td>\n",
       "      <td>country_grp</td>\n",
       "      <td>[('', 'Armenia')]</td>\n",
       "      <td>0.000827</td>\n",
       "      <td>-3.416067</td>\n",
       "      <td>0.266842</td>\n",
       "      <td>-2.893022</td>\n",
       "      <td>-3.939112</td>\n",
       "    </tr>\n",
       "    <tr>\n",
       "      <th>4</th>\n",
       "      <td>country_grp[Austria]</td>\n",
       "      <td>country_grp</td>\n",
       "      <td>[('', 'Austria')]</td>\n",
       "      <td>0.005094</td>\n",
       "      <td>-4.745699</td>\n",
       "      <td>0.108484</td>\n",
       "      <td>-4.533057</td>\n",
       "      <td>-4.958342</td>\n",
       "    </tr>\n",
       "  </tbody>\n",
       "</table>\n",
       "</div>"
      ],
      "text/plain": [
       "                   col_name      factors                 levels  \\\n",
       "0  country_grp[Afghanistan]  country_grp  [('', 'Afghanistan')]   \n",
       "1      country_grp[Algeria]  country_grp      [('', 'Algeria')]   \n",
       "2    country_grp[Argentina]  country_grp    [('', 'Argentina')]   \n",
       "3      country_grp[Armenia]  country_grp      [('', 'Armenia')]   \n",
       "4      country_grp[Austria]  country_grp      [('', 'Austria')]   \n",
       "\n",
       "   factor_weight      coef  w_stderr  ci_95_upper  ci_95_lower  \n",
       "0       0.001020 -3.460029  0.191044    -3.085557    -3.834502  \n",
       "1       0.001325 -3.845329  0.160297    -3.531127    -4.159532  \n",
       "2       0.001533 -3.626920  0.161345    -3.310663    -3.943177  \n",
       "3       0.000827 -3.416067  0.266842    -2.893022    -3.939112  \n",
       "4       0.005094 -4.745699  0.108484    -4.533057    -4.958342  "
      ]
     },
     "execution_count": 28,
     "metadata": {},
     "output_type": "execute_result"
    }
   ],
   "source": [
    "dm_di[\"w_stderr\"] = w_stderr\n",
    "\n",
    "dm_di[\"ci_95_upper\"] = tt.regressor_.coef_ + w_stderr * tval\n",
    "\n",
    "dm_di[\"ci_95_lower\"] = tt.regressor_.coef_ - w_stderr * tval\n",
    "\n",
    "dm_di.head()"
   ]
  },
  {
   "cell_type": "code",
   "execution_count": 29,
   "metadata": {},
   "outputs": [
    {
     "data": {
      "text/plain": [
       "122"
      ]
     },
     "execution_count": 29,
     "metadata": {},
     "output_type": "execute_result"
    }
   ],
   "source": [
    "len(dm_di.loc[dm_di[\"factors\"] == \"country_grp\", \"levels\"].unique())"
   ]
  },
  {
   "cell_type": "code",
   "execution_count": 30,
   "metadata": {},
   "outputs": [
    {
     "data": {
      "application/vnd.jupyter.widget-view+json": {
       "model_id": "7cf373214b334bffbd5593c97ab22f98",
       "version_major": 2,
       "version_minor": 0
      },
      "text/plain": [
       "Dropdown(options=('country_grp', 'country_grp:standardize(time_1)', 'tail_grp:standardize(time_2)'), value='co…"
      ]
     },
     "metadata": {},
     "output_type": "display_data"
    },
    {
     "data": {
      "application/vnd.plotly.v1+json": {
       "config": {
        "plotlyServerURL": "https://plot.ly"
       },
       "data": [
        {
         "hovertemplate": "levels=%{x}<br>coef=%{y}<extra></extra>",
         "legendgroup": "",
         "line": {
          "color": "#1F77B4",
          "dash": "solid"
         },
         "marker": {
          "symbol": "circle"
         },
         "mode": "lines",
         "name": "",
         "orientation": "v",
         "showlegend": false,
         "type": "scatter",
         "x": [
          "[('', 'Afghanistan'), ('time_1', '')]",
          "[('', 'Algeria'), ('time_1', '')]",
          "[('', 'Argentina'), ('time_1', '')]",
          "[('', 'Armenia'), ('time_1', '')]",
          "[('', 'Austria'), ('time_1', '')]",
          "[('', 'Azerbaijan'), ('time_1', '')]",
          "[('', 'Bahrain'), ('time_1', '')]",
          "[('', 'Bangladesh'), ('time_1', '')]",
          "[('', 'Belarus'), ('time_1', '')]",
          "[('', 'Belgium'), ('time_1', '')]",
          "[('', 'Bolivia'), ('time_1', '')]",
          "[('', 'Brazil'), ('time_1', '')]",
          "[('', 'Cameroon'), ('time_1', '')]",
          "[('', 'Canada'), ('time_1', '')]",
          "[('', 'Chile'), ('time_1', '')]",
          "[('', 'China - Hubei'), ('time_1', '')]",
          "[('', 'Colombia'), ('time_1', '')]",
          "[('', 'Czechia'), ('time_1', '')]",
          "[('', 'Dem Republic Congo'), ('time_1', '')]",
          "[('', 'Denmark'), ('time_1', '')]",
          "[('', 'Dominican Republic'), ('time_1', '')]",
          "[('', 'Ecuador'), ('time_1', '')]",
          "[('', 'Egypt'), ('time_1', '')]",
          "[('', 'Finland'), ('time_1', '')]",
          "[('', 'France'), ('time_1', '')]",
          "[('', 'Germany'), ('time_1', '')]",
          "[('', 'Ghana'), ('time_1', '')]",
          "[('', 'Guatemala'), ('time_1', '')]",
          "[('', 'Guinea'), ('time_1', '')]",
          "[('', 'Honduras'), ('time_1', '')]",
          "[('', 'Hungary'), ('time_1', '')]",
          "[('', 'India'), ('time_1', '')]",
          "[('', 'Indonesia'), ('time_1', '')]",
          "[('', 'Iran'), ('time_1', '')]",
          "[('', 'Iraq'), ('time_1', '')]",
          "[('', 'Ireland'), ('time_1', '')]",
          "[('', 'Israel'), ('time_1', '')]",
          "[('', 'Italy'), ('time_1', '')]",
          "[('', 'Japan'), ('time_1', '')]",
          "[('', 'Kazakhstan'), ('time_1', '')]",
          "[('', 'Kuwait'), ('time_1', '')]",
          "[('', 'Luxembourg'), ('time_1', '')]",
          "[('', 'Malaysia'), ('time_1', '')]",
          "[('', 'Mexico'), ('time_1', '')]",
          "[('', 'Moldova'), ('time_1', '')]",
          "[('', 'Morocco'), ('time_1', '')]",
          "[('', 'Nepal'), ('time_1', '')]",
          "[('', 'Netherlands'), ('time_1', '')]",
          "[('', 'Nigeria'), ('time_1', '')]",
          "[('', 'Norway'), ('time_1', '')]",
          "[('', 'Oman'), ('time_1', '')]",
          "[('', 'Others'), ('time_1', '')]",
          "[('', 'Pakistan'), ('time_1', '')]",
          "[('', 'Panama'), ('time_1', '')]",
          "[('', 'Peru'), ('time_1', '')]",
          "[('', 'Philippines'), ('time_1', '')]",
          "[('', 'Poland'), ('time_1', '')]",
          "[('', 'Portugal'), ('time_1', '')]",
          "[('', 'Qatar'), ('time_1', '')]",
          "[('', 'RoChina'), ('time_1', '')]",
          "[('', 'RoEurope'), ('time_1', '')]",
          "[('', 'RoUS'), ('time_1', '')]",
          "[('', 'Romania'), ('time_1', '')]",
          "[('', 'Russia'), ('time_1', '')]",
          "[('', 'Saudi Arabia'), ('time_1', '')]",
          "[('', 'Senegal'), ('time_1', '')]",
          "[('', 'Serbia'), ('time_1', '')]",
          "[('', 'Singapore'), ('time_1', '')]",
          "[('', 'South Africa'), ('time_1', '')]",
          "[('', 'South Korea'), ('time_1', '')]",
          "[('', 'Spain'), ('time_1', '')]",
          "[('', 'Sudan'), ('time_1', '')]",
          "[('', 'Sweden'), ('time_1', '')]",
          "[('', 'Switzerland'), ('time_1', '')]",
          "[('', 'Tajikistan'), ('time_1', '')]",
          "[('', 'Turkey'), ('time_1', '')]",
          "[('', 'UK'), ('time_1', '')]",
          "[('', 'US - Alabama'), ('time_1', '')]",
          "[('', 'US - Arizona'), ('time_1', '')]",
          "[('', 'US - Arkansas'), ('time_1', '')]",
          "[('', 'US - California'), ('time_1', '')]",
          "[('', 'US - Colorado'), ('time_1', '')]",
          "[('', 'US - Connecticut'), ('time_1', '')]",
          "[('', 'US - Delaware'), ('time_1', '')]",
          "[('', 'US - District of Columbia'), ('time_1', '')]",
          "[('', 'US - Florida'), ('time_1', '')]",
          "[('', 'US - Georgia'), ('time_1', '')]",
          "[('', 'US - Illinois'), ('time_1', '')]",
          "[('', 'US - Indiana'), ('time_1', '')]",
          "[('', 'US - Iowa'), ('time_1', '')]",
          "[('', 'US - Kansas'), ('time_1', '')]",
          "[('', 'US - Kentucky'), ('time_1', '')]",
          "[('', 'US - Louisiana'), ('time_1', '')]",
          "[('', 'US - Maryland'), ('time_1', '')]",
          "[('', 'US - Massachusetts'), ('time_1', '')]",
          "[('', 'US - Michigan'), ('time_1', '')]",
          "[('', 'US - Minnesota'), ('time_1', '')]",
          "[('', 'US - Mississippi'), ('time_1', '')]",
          "[('', 'US - Missouri'), ('time_1', '')]",
          "[('', 'US - Nebraska'), ('time_1', '')]",
          "[('', 'US - Nevada'), ('time_1', '')]",
          "[('', 'US - New Hampshire'), ('time_1', '')]",
          "[('', 'US - New Jersey'), ('time_1', '')]",
          "[('', 'US - New Mexico'), ('time_1', '')]",
          "[('', 'US - New York'), ('time_1', '')]",
          "[('', 'US - North Carolina'), ('time_1', '')]",
          "[('', 'US - Ohio'), ('time_1', '')]",
          "[('', 'US - Oklahoma'), ('time_1', '')]",
          "[('', 'US - Oregon'), ('time_1', '')]",
          "[('', 'US - Pennsylvania'), ('time_1', '')]",
          "[('', 'US - Rhode Island'), ('time_1', '')]",
          "[('', 'US - South Carolina'), ('time_1', '')]",
          "[('', 'US - South Dakota'), ('time_1', '')]",
          "[('', 'US - Tennessee'), ('time_1', '')]",
          "[('', 'US - Texas'), ('time_1', '')]",
          "[('', 'US - Utah'), ('time_1', '')]",
          "[('', 'US - Virginia'), ('time_1', '')]",
          "[('', 'US - Washington'), ('time_1', '')]",
          "[('', 'US - Wisconsin'), ('time_1', '')]",
          "[('', 'Ukraine'), ('time_1', '')]",
          "[('', 'United Arab Emirates'), ('time_1', '')]",
          "[('', 'Uzbekistan'), ('time_1', '')]"
         ],
         "xaxis": "x",
         "y": [
          0.11125603843519705,
          -0.265716859703575,
          -0.2410591034811218,
          -0.2544459486649313,
          -1.2454094321960156,
          -0.37842986676540746,
          0.018439262218696406,
          -0.2759505179041171,
          -0.18127891726305023,
          -0.7019817809399777,
          0.11748314996116227,
          -0.07070901986684004,
          -0.26497197944079387,
          -0.7847001989134967,
          -0.2203110440282801,
          -2.415442868829315,
          -0.1010865437077186,
          -0.8458501412187385,
          0.018820252028542095,
          -0.5934276439727679,
          -0.45153833447339614,
          -0.5263618874284202,
          -0.010293022705916893,
          -0.619321505977871,
          -0.9191349455583021,
          -0.9313198775579187,
          0.04074003203449572,
          0.09084642219947092,
          -0.29884902822493553,
          0.09200957836666512,
          -0.5682557271388353,
          -0.07617713557721706,
          -0.1797771330441142,
          -0.4710088766770828,
          -0.17955425053077395,
          -0.782424384565576,
          -1.116993910910853,
          -0.7821683325500044,
          -0.2555437375745866,
          -0.22624724312576572,
          0.3512696434360838,
          -1.46289913085809,
          -0.7481782247316865,
          -0.09594574106086967,
          -0.48060654101118505,
          -0.468615573177456,
          0.2229556708593714,
          -0.7766836382965805,
          -0.3183572185595448,
          -1.0315640122783702,
          -0.06649837324911576,
          -0.5337830121100295,
          -0.01799158645756682,
          -0.5015045681770569,
          -0.0803447693863154,
          -0.3925784021927451,
          -0.42573538062749716,
          -0.884007679123271,
          0.18420397317987458,
          -0.6970248427061081,
          -0.9097492859860277,
          -0.8328028859353112,
          -0.4687154175323766,
          -0.29859410961064603,
          -0.04504353577106837,
          0.1455298140026029,
          -0.5817762922720064,
          0.5178637892930735,
          0.15442751907123897,
          -1.4724486769890823,
          -0.9204528468743269,
          -0.2656534835425419,
          -0.31058904187238046,
          -1.2303309957792787,
          -0.6761993747321415,
          -0.8432643132629307,
          -0.4893928090774879,
          -0.4381793182768168,
          -0.5223665682958814,
          -0.5224545283888072,
          -0.3992817934215027,
          -0.4489680151670691,
          -0.7226375467054396,
          -0.43184365254861534,
          -0.6084076685217821,
          -0.6978810005896485,
          -0.5933311937628284,
          -0.41054041559658416,
          -0.6546106066426326,
          -0.17811659284960424,
          -0.505346089717025,
          -0.38104669240229094,
          -0.8944565433190345,
          -0.47484467593065793,
          -0.39640908027039484,
          -0.904617080979824,
          -0.11924736275198122,
          -0.5262570718353056,
          -0.6754298486845546,
          -0.07011342482019373,
          -0.7023718852038148,
          -0.5608285082421647,
          -0.9319858890570243,
          -0.47947297487653096,
          -0.9197585543786,
          -0.43013105677338687,
          -0.5424174335527782,
          -0.5501140619051132,
          -0.5017107848607032,
          -0.7028720812045132,
          -0.3812793666949476,
          -0.6312845098925022,
          -0.33044200526096734,
          -0.542060944741309,
          -0.519750551250598,
          -0.5791646660288912,
          -0.3073334369189833,
          -0.5756160139418498,
          -0.44836658523365125,
          -0.34730267557690203,
          -0.1764375858431113,
          -0.5500876679088968
         ],
         "yaxis": "y"
        },
        {
         "marker": {
          "color": "lightgrey"
         },
         "name": "weight",
         "opacity": 0.75,
         "type": "bar",
         "x": [
          "[('', 'Afghanistan'), ('time_1', '')]",
          "[('', 'Algeria'), ('time_1', '')]",
          "[('', 'Argentina'), ('time_1', '')]",
          "[('', 'Armenia'), ('time_1', '')]",
          "[('', 'Austria'), ('time_1', '')]",
          "[('', 'Azerbaijan'), ('time_1', '')]",
          "[('', 'Bahrain'), ('time_1', '')]",
          "[('', 'Bangladesh'), ('time_1', '')]",
          "[('', 'Belarus'), ('time_1', '')]",
          "[('', 'Belgium'), ('time_1', '')]",
          "[('', 'Bolivia'), ('time_1', '')]",
          "[('', 'Brazil'), ('time_1', '')]",
          "[('', 'Cameroon'), ('time_1', '')]",
          "[('', 'Canada'), ('time_1', '')]",
          "[('', 'Chile'), ('time_1', '')]",
          "[('', 'China - Hubei'), ('time_1', '')]",
          "[('', 'Colombia'), ('time_1', '')]",
          "[('', 'Czechia'), ('time_1', '')]",
          "[('', 'Dem Republic Congo'), ('time_1', '')]",
          "[('', 'Denmark'), ('time_1', '')]",
          "[('', 'Dominican Republic'), ('time_1', '')]",
          "[('', 'Ecuador'), ('time_1', '')]",
          "[('', 'Egypt'), ('time_1', '')]",
          "[('', 'Finland'), ('time_1', '')]",
          "[('', 'France'), ('time_1', '')]",
          "[('', 'Germany'), ('time_1', '')]",
          "[('', 'Ghana'), ('time_1', '')]",
          "[('', 'Guatemala'), ('time_1', '')]",
          "[('', 'Guinea'), ('time_1', '')]",
          "[('', 'Honduras'), ('time_1', '')]",
          "[('', 'Hungary'), ('time_1', '')]",
          "[('', 'India'), ('time_1', '')]",
          "[('', 'Indonesia'), ('time_1', '')]",
          "[('', 'Iran'), ('time_1', '')]",
          "[('', 'Iraq'), ('time_1', '')]",
          "[('', 'Ireland'), ('time_1', '')]",
          "[('', 'Israel'), ('time_1', '')]",
          "[('', 'Italy'), ('time_1', '')]",
          "[('', 'Japan'), ('time_1', '')]",
          "[('', 'Kazakhstan'), ('time_1', '')]",
          "[('', 'Kuwait'), ('time_1', '')]",
          "[('', 'Luxembourg'), ('time_1', '')]",
          "[('', 'Malaysia'), ('time_1', '')]",
          "[('', 'Mexico'), ('time_1', '')]",
          "[('', 'Moldova'), ('time_1', '')]",
          "[('', 'Morocco'), ('time_1', '')]",
          "[('', 'Nepal'), ('time_1', '')]",
          "[('', 'Netherlands'), ('time_1', '')]",
          "[('', 'Nigeria'), ('time_1', '')]",
          "[('', 'Norway'), ('time_1', '')]",
          "[('', 'Oman'), ('time_1', '')]",
          "[('', 'Others'), ('time_1', '')]",
          "[('', 'Pakistan'), ('time_1', '')]",
          "[('', 'Panama'), ('time_1', '')]",
          "[('', 'Peru'), ('time_1', '')]",
          "[('', 'Philippines'), ('time_1', '')]",
          "[('', 'Poland'), ('time_1', '')]",
          "[('', 'Portugal'), ('time_1', '')]",
          "[('', 'Qatar'), ('time_1', '')]",
          "[('', 'RoChina'), ('time_1', '')]",
          "[('', 'RoEurope'), ('time_1', '')]",
          "[('', 'RoUS'), ('time_1', '')]",
          "[('', 'Romania'), ('time_1', '')]",
          "[('', 'Russia'), ('time_1', '')]",
          "[('', 'Saudi Arabia'), ('time_1', '')]",
          "[('', 'Senegal'), ('time_1', '')]",
          "[('', 'Serbia'), ('time_1', '')]",
          "[('', 'Singapore'), ('time_1', '')]",
          "[('', 'South Africa'), ('time_1', '')]",
          "[('', 'South Korea'), ('time_1', '')]",
          "[('', 'Spain'), ('time_1', '')]",
          "[('', 'Sudan'), ('time_1', '')]",
          "[('', 'Sweden'), ('time_1', '')]",
          "[('', 'Switzerland'), ('time_1', '')]",
          "[('', 'Tajikistan'), ('time_1', '')]",
          "[('', 'Turkey'), ('time_1', '')]",
          "[('', 'UK'), ('time_1', '')]",
          "[('', 'US - Alabama'), ('time_1', '')]",
          "[('', 'US - Arizona'), ('time_1', '')]",
          "[('', 'US - Arkansas'), ('time_1', '')]",
          "[('', 'US - California'), ('time_1', '')]",
          "[('', 'US - Colorado'), ('time_1', '')]",
          "[('', 'US - Connecticut'), ('time_1', '')]",
          "[('', 'US - Delaware'), ('time_1', '')]",
          "[('', 'US - District of Columbia'), ('time_1', '')]",
          "[('', 'US - Florida'), ('time_1', '')]",
          "[('', 'US - Georgia'), ('time_1', '')]",
          "[('', 'US - Illinois'), ('time_1', '')]",
          "[('', 'US - Indiana'), ('time_1', '')]",
          "[('', 'US - Iowa'), ('time_1', '')]",
          "[('', 'US - Kansas'), ('time_1', '')]",
          "[('', 'US - Kentucky'), ('time_1', '')]",
          "[('', 'US - Louisiana'), ('time_1', '')]",
          "[('', 'US - Maryland'), ('time_1', '')]",
          "[('', 'US - Massachusetts'), ('time_1', '')]",
          "[('', 'US - Michigan'), ('time_1', '')]",
          "[('', 'US - Minnesota'), ('time_1', '')]",
          "[('', 'US - Mississippi'), ('time_1', '')]",
          "[('', 'US - Missouri'), ('time_1', '')]",
          "[('', 'US - Nebraska'), ('time_1', '')]",
          "[('', 'US - Nevada'), ('time_1', '')]",
          "[('', 'US - New Hampshire'), ('time_1', '')]",
          "[('', 'US - New Jersey'), ('time_1', '')]",
          "[('', 'US - New Mexico'), ('time_1', '')]",
          "[('', 'US - New York'), ('time_1', '')]",
          "[('', 'US - North Carolina'), ('time_1', '')]",
          "[('', 'US - Ohio'), ('time_1', '')]",
          "[('', 'US - Oklahoma'), ('time_1', '')]",
          "[('', 'US - Oregon'), ('time_1', '')]",
          "[('', 'US - Pennsylvania'), ('time_1', '')]",
          "[('', 'US - Rhode Island'), ('time_1', '')]",
          "[('', 'US - South Carolina'), ('time_1', '')]",
          "[('', 'US - South Dakota'), ('time_1', '')]",
          "[('', 'US - Tennessee'), ('time_1', '')]",
          "[('', 'US - Texas'), ('time_1', '')]",
          "[('', 'US - Utah'), ('time_1', '')]",
          "[('', 'US - Virginia'), ('time_1', '')]",
          "[('', 'US - Washington'), ('time_1', '')]",
          "[('', 'US - Wisconsin'), ('time_1', '')]",
          "[('', 'Ukraine'), ('time_1', '')]",
          "[('', 'United Arab Emirates'), ('time_1', '')]",
          "[('', 'Uzbekistan'), ('time_1', '')]"
         ],
         "y": [
          0.001019728093012706,
          0.0013248967330723965,
          0.0015327481201341895,
          0.0008265787543652076,
          0.005093719462804997,
          0.000628846455280988,
          0.0011856290441543303,
          0.0032412225709194417,
          0.004572758223705495,
          0.013748432434957636,
          0.0005804455164003068,
          0.03415883509926399,
          0.0003223134248302342,
          0.01575821361980975,
          0.006757893433697046,
          0.015347665715803092,
          0.002406379473981331,
          0.00223870133970159,
          0.0004638790022660275,
          0.0026618684773984623,
          0.0017689826367770854,
          0.004566446653607656,
          0.0050079194175813805,
          0.001112487326824281,
          0.030827035055015682,
          0.03883809330747378,
          0.024415059799482212,
          0.00012131825183868332,
          0.00034234851784859736,
          0.0002627567957426043,
          0.0006598800913309544,
          0.005570219081526619,
          0.015463626439485182,
          0.02500110174412317,
          0.021097394094455976,
          0.0040703782257993214,
          0.0031749121503455995,
          0.04989731975771447,
          0.0022184261441785314,
          0.0006573175638901903,
          0.0012912287688712615,
          0.0011441804446659808,
          0.0013802406972948382,
          0.0043381617929153845,
          0.007694896627848648,
          0.0008531607025305965,
          0.00041828035148567107,
          0.008083682553657694,
          -0.0002365708175839659,
          0.0020539814069807155,
          0.0019777777367558373,
          0.19814234334120007,
          0.004345669971008517,
          0.001220485452399687,
          0.00799031761755039,
          0.014610186636390745,
          0.004492963811068127,
          0.007751344715559301,
          0.003276091821563232,
          0.00474367070196615,
          0.016739788806163478,
          0.03245333190455342,
          0.0023677295642188833,
          0.025757242363551945,
          0.0044509404884231045,
          0.008471462270602336,
          0.0012495982870676901,
          0.004363356870521165,
          0.0012972304863555326,
          0.004604675494412822,
          0.03781532683707309,
          0.03547890487791138,
          0.006562647765979295,
          0.009300153982941005,
          -0.00010051451946911264,
          0.012434479144653642,
          0.025214684326789222,
          0.050772979585736254,
          0.001184097685247025,
          0.002969873306765385,
          0.008822871849649251,
          0.017718819483774285,
          0.007911469086946302,
          0.007928648171845777,
          0.002001527130664494,
          0.006029541599989245,
          0.01382524880819775,
          0.008908445755633921,
          0.01928359166531048,
          0.006580318729435752,
          0.0030508622040255054,
          0.0019088374129479014,
          0.005020602015517878,
          0.0038444593623735606,
          0.015723133855618247,
          0.022199348305186165,
          0.012851119858573368,
          0.0033027795614814573,
          0.003094126868340713,
          0.001148523070860163,
          0.0021694621649021983,
          0.001758441818606924,
          0.016435825083086938,
          0.03319351002884328,
          0.045843688768060914,
          0.08622495383688028,
          0.0028564212226432225,
          0.005798242334902436,
          0.0014619669808179072,
          0.007333553922059883,
          0.014701932424068627,
          0.0030864075425319024,
          0.002160241743949588,
          0.002169742307017018,
          0.007401040437492165,
          0.009736260431996987,
          0.0027845043923623056,
          0.007383068800728331,
          0.0014015306690697722,
          0.0046350303196638345,
          0.03194857946969693,
          0.002669373107869442
         ],
         "yaxis": "y2"
        },
        {
         "line": {
          "dash": "dash"
         },
         "marker": {
          "color": "#FF7F0E"
         },
         "name": "CI Upper",
         "type": "scatter",
         "x": [
          "[('', 'Afghanistan'), ('time_1', '')]",
          "[('', 'Algeria'), ('time_1', '')]",
          "[('', 'Argentina'), ('time_1', '')]",
          "[('', 'Armenia'), ('time_1', '')]",
          "[('', 'Austria'), ('time_1', '')]",
          "[('', 'Azerbaijan'), ('time_1', '')]",
          "[('', 'Bahrain'), ('time_1', '')]",
          "[('', 'Bangladesh'), ('time_1', '')]",
          "[('', 'Belarus'), ('time_1', '')]",
          "[('', 'Belgium'), ('time_1', '')]",
          "[('', 'Bolivia'), ('time_1', '')]",
          "[('', 'Brazil'), ('time_1', '')]",
          "[('', 'Cameroon'), ('time_1', '')]",
          "[('', 'Canada'), ('time_1', '')]",
          "[('', 'Chile'), ('time_1', '')]",
          "[('', 'China - Hubei'), ('time_1', '')]",
          "[('', 'Colombia'), ('time_1', '')]",
          "[('', 'Czechia'), ('time_1', '')]",
          "[('', 'Dem Republic Congo'), ('time_1', '')]",
          "[('', 'Denmark'), ('time_1', '')]",
          "[('', 'Dominican Republic'), ('time_1', '')]",
          "[('', 'Ecuador'), ('time_1', '')]",
          "[('', 'Egypt'), ('time_1', '')]",
          "[('', 'Finland'), ('time_1', '')]",
          "[('', 'France'), ('time_1', '')]",
          "[('', 'Germany'), ('time_1', '')]",
          "[('', 'Ghana'), ('time_1', '')]",
          "[('', 'Guatemala'), ('time_1', '')]",
          "[('', 'Guinea'), ('time_1', '')]",
          "[('', 'Honduras'), ('time_1', '')]",
          "[('', 'Hungary'), ('time_1', '')]",
          "[('', 'India'), ('time_1', '')]",
          "[('', 'Indonesia'), ('time_1', '')]",
          "[('', 'Iran'), ('time_1', '')]",
          "[('', 'Iraq'), ('time_1', '')]",
          "[('', 'Ireland'), ('time_1', '')]",
          "[('', 'Israel'), ('time_1', '')]",
          "[('', 'Italy'), ('time_1', '')]",
          "[('', 'Japan'), ('time_1', '')]",
          "[('', 'Kazakhstan'), ('time_1', '')]",
          "[('', 'Kuwait'), ('time_1', '')]",
          "[('', 'Luxembourg'), ('time_1', '')]",
          "[('', 'Malaysia'), ('time_1', '')]",
          "[('', 'Mexico'), ('time_1', '')]",
          "[('', 'Moldova'), ('time_1', '')]",
          "[('', 'Morocco'), ('time_1', '')]",
          "[('', 'Nepal'), ('time_1', '')]",
          "[('', 'Netherlands'), ('time_1', '')]",
          "[('', 'Nigeria'), ('time_1', '')]",
          "[('', 'Norway'), ('time_1', '')]",
          "[('', 'Oman'), ('time_1', '')]",
          "[('', 'Others'), ('time_1', '')]",
          "[('', 'Pakistan'), ('time_1', '')]",
          "[('', 'Panama'), ('time_1', '')]",
          "[('', 'Peru'), ('time_1', '')]",
          "[('', 'Philippines'), ('time_1', '')]",
          "[('', 'Poland'), ('time_1', '')]",
          "[('', 'Portugal'), ('time_1', '')]",
          "[('', 'Qatar'), ('time_1', '')]",
          "[('', 'RoChina'), ('time_1', '')]",
          "[('', 'RoEurope'), ('time_1', '')]",
          "[('', 'RoUS'), ('time_1', '')]",
          "[('', 'Romania'), ('time_1', '')]",
          "[('', 'Russia'), ('time_1', '')]",
          "[('', 'Saudi Arabia'), ('time_1', '')]",
          "[('', 'Senegal'), ('time_1', '')]",
          "[('', 'Serbia'), ('time_1', '')]",
          "[('', 'Singapore'), ('time_1', '')]",
          "[('', 'South Africa'), ('time_1', '')]",
          "[('', 'South Korea'), ('time_1', '')]",
          "[('', 'Spain'), ('time_1', '')]",
          "[('', 'Sudan'), ('time_1', '')]",
          "[('', 'Sweden'), ('time_1', '')]",
          "[('', 'Switzerland'), ('time_1', '')]",
          "[('', 'Tajikistan'), ('time_1', '')]",
          "[('', 'Turkey'), ('time_1', '')]",
          "[('', 'UK'), ('time_1', '')]",
          "[('', 'US - Alabama'), ('time_1', '')]",
          "[('', 'US - Arizona'), ('time_1', '')]",
          "[('', 'US - Arkansas'), ('time_1', '')]",
          "[('', 'US - California'), ('time_1', '')]",
          "[('', 'US - Colorado'), ('time_1', '')]",
          "[('', 'US - Connecticut'), ('time_1', '')]",
          "[('', 'US - Delaware'), ('time_1', '')]",
          "[('', 'US - District of Columbia'), ('time_1', '')]",
          "[('', 'US - Florida'), ('time_1', '')]",
          "[('', 'US - Georgia'), ('time_1', '')]",
          "[('', 'US - Illinois'), ('time_1', '')]",
          "[('', 'US - Indiana'), ('time_1', '')]",
          "[('', 'US - Iowa'), ('time_1', '')]",
          "[('', 'US - Kansas'), ('time_1', '')]",
          "[('', 'US - Kentucky'), ('time_1', '')]",
          "[('', 'US - Louisiana'), ('time_1', '')]",
          "[('', 'US - Maryland'), ('time_1', '')]",
          "[('', 'US - Massachusetts'), ('time_1', '')]",
          "[('', 'US - Michigan'), ('time_1', '')]",
          "[('', 'US - Minnesota'), ('time_1', '')]",
          "[('', 'US - Mississippi'), ('time_1', '')]",
          "[('', 'US - Missouri'), ('time_1', '')]",
          "[('', 'US - Nebraska'), ('time_1', '')]",
          "[('', 'US - Nevada'), ('time_1', '')]",
          "[('', 'US - New Hampshire'), ('time_1', '')]",
          "[('', 'US - New Jersey'), ('time_1', '')]",
          "[('', 'US - New Mexico'), ('time_1', '')]",
          "[('', 'US - New York'), ('time_1', '')]",
          "[('', 'US - North Carolina'), ('time_1', '')]",
          "[('', 'US - Ohio'), ('time_1', '')]",
          "[('', 'US - Oklahoma'), ('time_1', '')]",
          "[('', 'US - Oregon'), ('time_1', '')]",
          "[('', 'US - Pennsylvania'), ('time_1', '')]",
          "[('', 'US - Rhode Island'), ('time_1', '')]",
          "[('', 'US - South Carolina'), ('time_1', '')]",
          "[('', 'US - South Dakota'), ('time_1', '')]",
          "[('', 'US - Tennessee'), ('time_1', '')]",
          "[('', 'US - Texas'), ('time_1', '')]",
          "[('', 'US - Utah'), ('time_1', '')]",
          "[('', 'US - Virginia'), ('time_1', '')]",
          "[('', 'US - Washington'), ('time_1', '')]",
          "[('', 'US - Wisconsin'), ('time_1', '')]",
          "[('', 'Ukraine'), ('time_1', '')]",
          "[('', 'United Arab Emirates'), ('time_1', '')]",
          "[('', 'Uzbekistan'), ('time_1', '')]"
         ],
         "y": [
          0.6909880736431638,
          0.2146231155199449,
          0.2675862147963355,
          0.6540424977928753,
          -0.8602695262531761,
          0.43575628890451557,
          1.7792063293688039,
          -0.04349819241174824,
          0.9116635108723714,
          -0.33002433042536466,
          1.1226103656753712,
          0.09226459290028736,
          0.4938262265691611,
          -0.5238910783783258,
          0.15894457632406095,
          -2.2457407826811604,
          0.3149349121138635,
          -0.3824538597677363,
          0.7804304832799183,
          -0.15165575468915227,
          0.041017033577224415,
          -0.17746146758195142,
          0.37826379922599984,
          0.07241021236901346,
          -0.7422941365602062,
          -0.7769028822824858,
          0.8974249928161359,
          0.9827307470940737,
          0.5680185604766077,
          1.0067253955900664,
          0.2578366327532524,
          0.03258216563009578,
          0.0715992882620522,
          -0.31013848270890204,
          0.4125540865098318,
          -0.262904406447796,
          -0.6759660606792974,
          -0.6057153458110515,
          0.17884661553308334,
          0.3715863798776001,
          2.380869435411769,
          -0.8122838424563534,
          -0.3578612173101851,
          0.17867727395677852,
          0.5859460182604699,
          0.01120562197222763,
          3.8489201218931504,
          -0.4439858552300499,
          0.05391500250889758,
          -0.5230318441093939,
          1.1009235020038224,
          -0.3938217053172709,
          0.22829649351761278,
          0.2890662898565526,
          0.34549882681907923,
          -0.0960529063393028,
          -0.053834836969455346,
          -0.5264299334886622,
          0.9409501923580259,
          -0.5178599086586329,
          -0.6294235643029065,
          -0.3980431685198988,
          0.012534045547138384,
          -0.12584373203910543,
          0.33650566943538784,
          1.1261557219047138,
          0.1768365409387932,
          2.2284406095933385,
          0.5210474290309073,
          -1.2313027904513674,
          -0.7794562312106128,
          0.4674673242443811,
          0.15004801773525556,
          -0.883945868695333,
          0.4489536031649821,
          -0.7174755590506705,
          -0.29277371031378036,
          0.2050247264435312,
          -0.04459746669967396,
          0.3766791990460008,
          -0.10336369113290467,
          0.12965111240135896,
          -0.24320115466498876,
          0.8645120191967912,
          0.9152481787083973,
          -0.4103984245460876,
          -0.20069801947526072,
          -0.09570946203640673,
          -0.2632759853878946,
          1.116865355851212,
          0.41760986590232296,
          0.48494261652781334,
          -0.5379778832649662,
          0.062910805286997,
          0.05680411557336196,
          -0.6618685268152746,
          0.6878101013302571,
          0.08265950768003782,
          -0.20291471589348953,
          1.816796357535784,
          0.10923198781368337,
          0.8690417220069915,
          -0.7424804851077235,
          0.8824439457553992,
          -0.7648681013154088,
          0.04718346543070884,
          -0.13421181301314417,
          0.12954640166828701,
          0.5664089541259671,
          -0.3835307831267129,
          0.8138080556978098,
          0.06609429495596586,
          2.5417997840562023,
          -0.06078915425708864,
          -0.23621700046136224,
          0.19394738616950813,
          0.3037133988446492,
          -0.008959060698027765,
          0.11768513130507019,
          0.021169974778125933,
          1.0178405675220463,
          0.03254632994723283
         ]
        },
        {
         "line": {
          "dash": "dash"
         },
         "marker": {
          "color": "#FF7F0E"
         },
         "name": "CI Lower",
         "type": "scatter",
         "x": [
          "[('', 'Afghanistan'), ('time_1', '')]",
          "[('', 'Algeria'), ('time_1', '')]",
          "[('', 'Argentina'), ('time_1', '')]",
          "[('', 'Armenia'), ('time_1', '')]",
          "[('', 'Austria'), ('time_1', '')]",
          "[('', 'Azerbaijan'), ('time_1', '')]",
          "[('', 'Bahrain'), ('time_1', '')]",
          "[('', 'Bangladesh'), ('time_1', '')]",
          "[('', 'Belarus'), ('time_1', '')]",
          "[('', 'Belgium'), ('time_1', '')]",
          "[('', 'Bolivia'), ('time_1', '')]",
          "[('', 'Brazil'), ('time_1', '')]",
          "[('', 'Cameroon'), ('time_1', '')]",
          "[('', 'Canada'), ('time_1', '')]",
          "[('', 'Chile'), ('time_1', '')]",
          "[('', 'China - Hubei'), ('time_1', '')]",
          "[('', 'Colombia'), ('time_1', '')]",
          "[('', 'Czechia'), ('time_1', '')]",
          "[('', 'Dem Republic Congo'), ('time_1', '')]",
          "[('', 'Denmark'), ('time_1', '')]",
          "[('', 'Dominican Republic'), ('time_1', '')]",
          "[('', 'Ecuador'), ('time_1', '')]",
          "[('', 'Egypt'), ('time_1', '')]",
          "[('', 'Finland'), ('time_1', '')]",
          "[('', 'France'), ('time_1', '')]",
          "[('', 'Germany'), ('time_1', '')]",
          "[('', 'Ghana'), ('time_1', '')]",
          "[('', 'Guatemala'), ('time_1', '')]",
          "[('', 'Guinea'), ('time_1', '')]",
          "[('', 'Honduras'), ('time_1', '')]",
          "[('', 'Hungary'), ('time_1', '')]",
          "[('', 'India'), ('time_1', '')]",
          "[('', 'Indonesia'), ('time_1', '')]",
          "[('', 'Iran'), ('time_1', '')]",
          "[('', 'Iraq'), ('time_1', '')]",
          "[('', 'Ireland'), ('time_1', '')]",
          "[('', 'Israel'), ('time_1', '')]",
          "[('', 'Italy'), ('time_1', '')]",
          "[('', 'Japan'), ('time_1', '')]",
          "[('', 'Kazakhstan'), ('time_1', '')]",
          "[('', 'Kuwait'), ('time_1', '')]",
          "[('', 'Luxembourg'), ('time_1', '')]",
          "[('', 'Malaysia'), ('time_1', '')]",
          "[('', 'Mexico'), ('time_1', '')]",
          "[('', 'Moldova'), ('time_1', '')]",
          "[('', 'Morocco'), ('time_1', '')]",
          "[('', 'Nepal'), ('time_1', '')]",
          "[('', 'Netherlands'), ('time_1', '')]",
          "[('', 'Nigeria'), ('time_1', '')]",
          "[('', 'Norway'), ('time_1', '')]",
          "[('', 'Oman'), ('time_1', '')]",
          "[('', 'Others'), ('time_1', '')]",
          "[('', 'Pakistan'), ('time_1', '')]",
          "[('', 'Panama'), ('time_1', '')]",
          "[('', 'Peru'), ('time_1', '')]",
          "[('', 'Philippines'), ('time_1', '')]",
          "[('', 'Poland'), ('time_1', '')]",
          "[('', 'Portugal'), ('time_1', '')]",
          "[('', 'Qatar'), ('time_1', '')]",
          "[('', 'RoChina'), ('time_1', '')]",
          "[('', 'RoEurope'), ('time_1', '')]",
          "[('', 'RoUS'), ('time_1', '')]",
          "[('', 'Romania'), ('time_1', '')]",
          "[('', 'Russia'), ('time_1', '')]",
          "[('', 'Saudi Arabia'), ('time_1', '')]",
          "[('', 'Senegal'), ('time_1', '')]",
          "[('', 'Serbia'), ('time_1', '')]",
          "[('', 'Singapore'), ('time_1', '')]",
          "[('', 'South Africa'), ('time_1', '')]",
          "[('', 'South Korea'), ('time_1', '')]",
          "[('', 'Spain'), ('time_1', '')]",
          "[('', 'Sudan'), ('time_1', '')]",
          "[('', 'Sweden'), ('time_1', '')]",
          "[('', 'Switzerland'), ('time_1', '')]",
          "[('', 'Tajikistan'), ('time_1', '')]",
          "[('', 'Turkey'), ('time_1', '')]",
          "[('', 'UK'), ('time_1', '')]",
          "[('', 'US - Alabama'), ('time_1', '')]",
          "[('', 'US - Arizona'), ('time_1', '')]",
          "[('', 'US - Arkansas'), ('time_1', '')]",
          "[('', 'US - California'), ('time_1', '')]",
          "[('', 'US - Colorado'), ('time_1', '')]",
          "[('', 'US - Connecticut'), ('time_1', '')]",
          "[('', 'US - Delaware'), ('time_1', '')]",
          "[('', 'US - District of Columbia'), ('time_1', '')]",
          "[('', 'US - Florida'), ('time_1', '')]",
          "[('', 'US - Georgia'), ('time_1', '')]",
          "[('', 'US - Illinois'), ('time_1', '')]",
          "[('', 'US - Indiana'), ('time_1', '')]",
          "[('', 'US - Iowa'), ('time_1', '')]",
          "[('', 'US - Kansas'), ('time_1', '')]",
          "[('', 'US - Kentucky'), ('time_1', '')]",
          "[('', 'US - Louisiana'), ('time_1', '')]",
          "[('', 'US - Maryland'), ('time_1', '')]",
          "[('', 'US - Massachusetts'), ('time_1', '')]",
          "[('', 'US - Michigan'), ('time_1', '')]",
          "[('', 'US - Minnesota'), ('time_1', '')]",
          "[('', 'US - Mississippi'), ('time_1', '')]",
          "[('', 'US - Missouri'), ('time_1', '')]",
          "[('', 'US - Nebraska'), ('time_1', '')]",
          "[('', 'US - Nevada'), ('time_1', '')]",
          "[('', 'US - New Hampshire'), ('time_1', '')]",
          "[('', 'US - New Jersey'), ('time_1', '')]",
          "[('', 'US - New Mexico'), ('time_1', '')]",
          "[('', 'US - New York'), ('time_1', '')]",
          "[('', 'US - North Carolina'), ('time_1', '')]",
          "[('', 'US - Ohio'), ('time_1', '')]",
          "[('', 'US - Oklahoma'), ('time_1', '')]",
          "[('', 'US - Oregon'), ('time_1', '')]",
          "[('', 'US - Pennsylvania'), ('time_1', '')]",
          "[('', 'US - Rhode Island'), ('time_1', '')]",
          "[('', 'US - South Carolina'), ('time_1', '')]",
          "[('', 'US - South Dakota'), ('time_1', '')]",
          "[('', 'US - Tennessee'), ('time_1', '')]",
          "[('', 'US - Texas'), ('time_1', '')]",
          "[('', 'US - Utah'), ('time_1', '')]",
          "[('', 'US - Virginia'), ('time_1', '')]",
          "[('', 'US - Washington'), ('time_1', '')]",
          "[('', 'US - Wisconsin'), ('time_1', '')]",
          "[('', 'Ukraine'), ('time_1', '')]",
          "[('', 'United Arab Emirates'), ('time_1', '')]",
          "[('', 'Uzbekistan'), ('time_1', '')]"
         ],
         "y": [
          -0.46847599677276974,
          -0.7460568349270948,
          -0.7497044217585791,
          -1.162934395122738,
          -1.6305493381388552,
          -1.1926160224353306,
          -1.742327804931411,
          -0.508402843396486,
          -1.2742213453984719,
          -1.0739392314545906,
          -0.8876440657530468,
          -0.23368263263396744,
          -1.0237701854507488,
          -1.0455093194486675,
          -0.5995666643806212,
          -2.585144954977469,
          -0.5171079995293006,
          -1.3092464226697407,
          -0.7427899792228341,
          -1.0351995332563835,
          -0.9440937025240167,
          -0.8752623072748889,
          -0.3988498446378336,
          -1.3110532243247555,
          -1.095975754556398,
          -1.0857368728333516,
          -0.8159449287471444,
          -0.8010379026951319,
          -1.1657166169264788,
          -0.8227062388567362,
          -1.394348087030923,
          -0.1849364367845299,
          -0.4311535543502806,
          -0.6318792706452636,
          -0.7716625875713796,
          -1.301944362683356,
          -1.5580217611424088,
          -0.9586213192889573,
          -0.6899340906822565,
          -0.8240808661291316,
          -1.6783301485396014,
          -2.1135144192598267,
          -1.1384952321531878,
          -0.37056875607851786,
          -1.54715910028284,
          -0.9484367683271396,
          -3.4030087801744076,
          -1.109381421363111,
          -0.6906294396279872,
          -1.5400961804473465,
          -1.233920248502054,
          -0.6737443189027882,
          -0.2642796664327464,
          -1.2920754262106664,
          -0.5061883655917101,
          -0.6891038980461874,
          -0.797635924285539,
          -1.24158542475788,
          -0.5725422459982767,
          -0.8761897767535833,
          -1.1900750076691489,
          -1.2675626033507235,
          -0.9499648806118917,
          -0.47134448718218663,
          -0.42659274097752453,
          -0.835096093899508,
          -1.340389125482806,
          -1.1927130310071912,
          -0.2121923908884294,
          -1.7135945635267973,
          -1.061449462538041,
          -0.9987742913294649,
          -0.7712261014800165,
          -1.5767161228632245,
          -1.8013523526292652,
          -0.9690530674751909,
          -0.6860119078411955,
          -1.0813833629971648,
          -1.0001356698920887,
          -1.4215882558236153,
          -0.6951998957101008,
          -1.0275871427354972,
          -1.2020739387458903,
          -1.728199324294022,
          -2.1320635157519616,
          -0.9853635766332094,
          -0.985964368050396,
          -0.7253713691567616,
          -1.0459452278973707,
          -1.4730985415504205,
          -1.4283020453363728,
          -1.2470360013323951,
          -1.2509352033731027,
          -1.012600157148313,
          -0.8496222761141516,
          -1.1473656351443733,
          -0.9263048268342196,
          -1.135173651350649,
          -1.1479449814756197,
          -1.9570232071761715,
          -1.513975758221313,
          -1.9906987384913208,
          -1.1214912930063252,
          -1.841389895508461,
          -1.0746490074417911,
          -0.9074455789774826,
          -0.9506230540924121,
          -1.2297745254785135,
          -1.5698305238473735,
          -1.0222133792823134,
          -1.5763667890877051,
          -1.3286633147409703,
          -3.202683794578137,
          -1.0233327352255293,
          -0.8032841020398338,
          -1.3522767182272903,
          -0.9183802726826158,
          -1.1422729671856717,
          -1.0144183017723727,
          -0.7157753259319299,
          -1.370715739208269,
          -1.1327216657650265
         ]
        }
       ],
       "layout": {
        "legend": {
         "tracegroupgap": 0
        },
        "template": {
         "data": {
          "bar": [
           {
            "error_x": {
             "color": "#2a3f5f"
            },
            "error_y": {
             "color": "#2a3f5f"
            },
            "marker": {
             "line": {
              "color": "white",
              "width": 0.5
             },
             "pattern": {
              "fillmode": "overlay",
              "size": 10,
              "solidity": 0.2
             }
            },
            "type": "bar"
           }
          ],
          "barpolar": [
           {
            "marker": {
             "line": {
              "color": "white",
              "width": 0.5
             },
             "pattern": {
              "fillmode": "overlay",
              "size": 10,
              "solidity": 0.2
             }
            },
            "type": "barpolar"
           }
          ],
          "carpet": [
           {
            "aaxis": {
             "endlinecolor": "#2a3f5f",
             "gridcolor": "#C8D4E3",
             "linecolor": "#C8D4E3",
             "minorgridcolor": "#C8D4E3",
             "startlinecolor": "#2a3f5f"
            },
            "baxis": {
             "endlinecolor": "#2a3f5f",
             "gridcolor": "#C8D4E3",
             "linecolor": "#C8D4E3",
             "minorgridcolor": "#C8D4E3",
             "startlinecolor": "#2a3f5f"
            },
            "type": "carpet"
           }
          ],
          "choropleth": [
           {
            "colorbar": {
             "outlinewidth": 0,
             "ticks": ""
            },
            "type": "choropleth"
           }
          ],
          "contour": [
           {
            "colorbar": {
             "outlinewidth": 0,
             "ticks": ""
            },
            "colorscale": [
             [
              0,
              "#0d0887"
             ],
             [
              0.1111111111111111,
              "#46039f"
             ],
             [
              0.2222222222222222,
              "#7201a8"
             ],
             [
              0.3333333333333333,
              "#9c179e"
             ],
             [
              0.4444444444444444,
              "#bd3786"
             ],
             [
              0.5555555555555556,
              "#d8576b"
             ],
             [
              0.6666666666666666,
              "#ed7953"
             ],
             [
              0.7777777777777778,
              "#fb9f3a"
             ],
             [
              0.8888888888888888,
              "#fdca26"
             ],
             [
              1,
              "#f0f921"
             ]
            ],
            "type": "contour"
           }
          ],
          "contourcarpet": [
           {
            "colorbar": {
             "outlinewidth": 0,
             "ticks": ""
            },
            "type": "contourcarpet"
           }
          ],
          "heatmap": [
           {
            "colorbar": {
             "outlinewidth": 0,
             "ticks": ""
            },
            "colorscale": [
             [
              0,
              "#0d0887"
             ],
             [
              0.1111111111111111,
              "#46039f"
             ],
             [
              0.2222222222222222,
              "#7201a8"
             ],
             [
              0.3333333333333333,
              "#9c179e"
             ],
             [
              0.4444444444444444,
              "#bd3786"
             ],
             [
              0.5555555555555556,
              "#d8576b"
             ],
             [
              0.6666666666666666,
              "#ed7953"
             ],
             [
              0.7777777777777778,
              "#fb9f3a"
             ],
             [
              0.8888888888888888,
              "#fdca26"
             ],
             [
              1,
              "#f0f921"
             ]
            ],
            "type": "heatmap"
           }
          ],
          "heatmapgl": [
           {
            "colorbar": {
             "outlinewidth": 0,
             "ticks": ""
            },
            "colorscale": [
             [
              0,
              "#0d0887"
             ],
             [
              0.1111111111111111,
              "#46039f"
             ],
             [
              0.2222222222222222,
              "#7201a8"
             ],
             [
              0.3333333333333333,
              "#9c179e"
             ],
             [
              0.4444444444444444,
              "#bd3786"
             ],
             [
              0.5555555555555556,
              "#d8576b"
             ],
             [
              0.6666666666666666,
              "#ed7953"
             ],
             [
              0.7777777777777778,
              "#fb9f3a"
             ],
             [
              0.8888888888888888,
              "#fdca26"
             ],
             [
              1,
              "#f0f921"
             ]
            ],
            "type": "heatmapgl"
           }
          ],
          "histogram": [
           {
            "marker": {
             "pattern": {
              "fillmode": "overlay",
              "size": 10,
              "solidity": 0.2
             }
            },
            "type": "histogram"
           }
          ],
          "histogram2d": [
           {
            "colorbar": {
             "outlinewidth": 0,
             "ticks": ""
            },
            "colorscale": [
             [
              0,
              "#0d0887"
             ],
             [
              0.1111111111111111,
              "#46039f"
             ],
             [
              0.2222222222222222,
              "#7201a8"
             ],
             [
              0.3333333333333333,
              "#9c179e"
             ],
             [
              0.4444444444444444,
              "#bd3786"
             ],
             [
              0.5555555555555556,
              "#d8576b"
             ],
             [
              0.6666666666666666,
              "#ed7953"
             ],
             [
              0.7777777777777778,
              "#fb9f3a"
             ],
             [
              0.8888888888888888,
              "#fdca26"
             ],
             [
              1,
              "#f0f921"
             ]
            ],
            "type": "histogram2d"
           }
          ],
          "histogram2dcontour": [
           {
            "colorbar": {
             "outlinewidth": 0,
             "ticks": ""
            },
            "colorscale": [
             [
              0,
              "#0d0887"
             ],
             [
              0.1111111111111111,
              "#46039f"
             ],
             [
              0.2222222222222222,
              "#7201a8"
             ],
             [
              0.3333333333333333,
              "#9c179e"
             ],
             [
              0.4444444444444444,
              "#bd3786"
             ],
             [
              0.5555555555555556,
              "#d8576b"
             ],
             [
              0.6666666666666666,
              "#ed7953"
             ],
             [
              0.7777777777777778,
              "#fb9f3a"
             ],
             [
              0.8888888888888888,
              "#fdca26"
             ],
             [
              1,
              "#f0f921"
             ]
            ],
            "type": "histogram2dcontour"
           }
          ],
          "mesh3d": [
           {
            "colorbar": {
             "outlinewidth": 0,
             "ticks": ""
            },
            "type": "mesh3d"
           }
          ],
          "parcoords": [
           {
            "line": {
             "colorbar": {
              "outlinewidth": 0,
              "ticks": ""
             }
            },
            "type": "parcoords"
           }
          ],
          "pie": [
           {
            "automargin": true,
            "type": "pie"
           }
          ],
          "scatter": [
           {
            "fillpattern": {
             "fillmode": "overlay",
             "size": 10,
             "solidity": 0.2
            },
            "type": "scatter"
           }
          ],
          "scatter3d": [
           {
            "line": {
             "colorbar": {
              "outlinewidth": 0,
              "ticks": ""
             }
            },
            "marker": {
             "colorbar": {
              "outlinewidth": 0,
              "ticks": ""
             }
            },
            "type": "scatter3d"
           }
          ],
          "scattercarpet": [
           {
            "marker": {
             "colorbar": {
              "outlinewidth": 0,
              "ticks": ""
             }
            },
            "type": "scattercarpet"
           }
          ],
          "scattergeo": [
           {
            "marker": {
             "colorbar": {
              "outlinewidth": 0,
              "ticks": ""
             }
            },
            "type": "scattergeo"
           }
          ],
          "scattergl": [
           {
            "marker": {
             "colorbar": {
              "outlinewidth": 0,
              "ticks": ""
             }
            },
            "type": "scattergl"
           }
          ],
          "scattermapbox": [
           {
            "marker": {
             "colorbar": {
              "outlinewidth": 0,
              "ticks": ""
             }
            },
            "type": "scattermapbox"
           }
          ],
          "scatterpolar": [
           {
            "marker": {
             "colorbar": {
              "outlinewidth": 0,
              "ticks": ""
             }
            },
            "type": "scatterpolar"
           }
          ],
          "scatterpolargl": [
           {
            "marker": {
             "colorbar": {
              "outlinewidth": 0,
              "ticks": ""
             }
            },
            "type": "scatterpolargl"
           }
          ],
          "scatterternary": [
           {
            "marker": {
             "colorbar": {
              "outlinewidth": 0,
              "ticks": ""
             }
            },
            "type": "scatterternary"
           }
          ],
          "surface": [
           {
            "colorbar": {
             "outlinewidth": 0,
             "ticks": ""
            },
            "colorscale": [
             [
              0,
              "#0d0887"
             ],
             [
              0.1111111111111111,
              "#46039f"
             ],
             [
              0.2222222222222222,
              "#7201a8"
             ],
             [
              0.3333333333333333,
              "#9c179e"
             ],
             [
              0.4444444444444444,
              "#bd3786"
             ],
             [
              0.5555555555555556,
              "#d8576b"
             ],
             [
              0.6666666666666666,
              "#ed7953"
             ],
             [
              0.7777777777777778,
              "#fb9f3a"
             ],
             [
              0.8888888888888888,
              "#fdca26"
             ],
             [
              1,
              "#f0f921"
             ]
            ],
            "type": "surface"
           }
          ],
          "table": [
           {
            "cells": {
             "fill": {
              "color": "#EBF0F8"
             },
             "line": {
              "color": "white"
             }
            },
            "header": {
             "fill": {
              "color": "#C8D4E3"
             },
             "line": {
              "color": "white"
             }
            },
            "type": "table"
           }
          ]
         },
         "layout": {
          "annotationdefaults": {
           "arrowcolor": "#2a3f5f",
           "arrowhead": 0,
           "arrowwidth": 1
          },
          "autotypenumbers": "strict",
          "coloraxis": {
           "colorbar": {
            "outlinewidth": 0,
            "ticks": ""
           }
          },
          "colorscale": {
           "diverging": [
            [
             0,
             "#8e0152"
            ],
            [
             0.1,
             "#c51b7d"
            ],
            [
             0.2,
             "#de77ae"
            ],
            [
             0.3,
             "#f1b6da"
            ],
            [
             0.4,
             "#fde0ef"
            ],
            [
             0.5,
             "#f7f7f7"
            ],
            [
             0.6,
             "#e6f5d0"
            ],
            [
             0.7,
             "#b8e186"
            ],
            [
             0.8,
             "#7fbc41"
            ],
            [
             0.9,
             "#4d9221"
            ],
            [
             1,
             "#276419"
            ]
           ],
           "sequential": [
            [
             0,
             "#0d0887"
            ],
            [
             0.1111111111111111,
             "#46039f"
            ],
            [
             0.2222222222222222,
             "#7201a8"
            ],
            [
             0.3333333333333333,
             "#9c179e"
            ],
            [
             0.4444444444444444,
             "#bd3786"
            ],
            [
             0.5555555555555556,
             "#d8576b"
            ],
            [
             0.6666666666666666,
             "#ed7953"
            ],
            [
             0.7777777777777778,
             "#fb9f3a"
            ],
            [
             0.8888888888888888,
             "#fdca26"
            ],
            [
             1,
             "#f0f921"
            ]
           ],
           "sequentialminus": [
            [
             0,
             "#0d0887"
            ],
            [
             0.1111111111111111,
             "#46039f"
            ],
            [
             0.2222222222222222,
             "#7201a8"
            ],
            [
             0.3333333333333333,
             "#9c179e"
            ],
            [
             0.4444444444444444,
             "#bd3786"
            ],
            [
             0.5555555555555556,
             "#d8576b"
            ],
            [
             0.6666666666666666,
             "#ed7953"
            ],
            [
             0.7777777777777778,
             "#fb9f3a"
            ],
            [
             0.8888888888888888,
             "#fdca26"
            ],
            [
             1,
             "#f0f921"
            ]
           ]
          },
          "colorway": [
           "#636efa",
           "#EF553B",
           "#00cc96",
           "#ab63fa",
           "#FFA15A",
           "#19d3f3",
           "#FF6692",
           "#B6E880",
           "#FF97FF",
           "#FECB52"
          ],
          "font": {
           "color": "#2a3f5f"
          },
          "geo": {
           "bgcolor": "white",
           "lakecolor": "white",
           "landcolor": "white",
           "showlakes": true,
           "showland": true,
           "subunitcolor": "#C8D4E3"
          },
          "hoverlabel": {
           "align": "left"
          },
          "hovermode": "closest",
          "mapbox": {
           "style": "light"
          },
          "paper_bgcolor": "white",
          "plot_bgcolor": "white",
          "polar": {
           "angularaxis": {
            "gridcolor": "#EBF0F8",
            "linecolor": "#EBF0F8",
            "ticks": ""
           },
           "bgcolor": "white",
           "radialaxis": {
            "gridcolor": "#EBF0F8",
            "linecolor": "#EBF0F8",
            "ticks": ""
           }
          },
          "scene": {
           "xaxis": {
            "backgroundcolor": "white",
            "gridcolor": "#DFE8F3",
            "gridwidth": 2,
            "linecolor": "#EBF0F8",
            "showbackground": true,
            "ticks": "",
            "zerolinecolor": "#EBF0F8"
           },
           "yaxis": {
            "backgroundcolor": "white",
            "gridcolor": "#DFE8F3",
            "gridwidth": 2,
            "linecolor": "#EBF0F8",
            "showbackground": true,
            "ticks": "",
            "zerolinecolor": "#EBF0F8"
           },
           "zaxis": {
            "backgroundcolor": "white",
            "gridcolor": "#DFE8F3",
            "gridwidth": 2,
            "linecolor": "#EBF0F8",
            "showbackground": true,
            "ticks": "",
            "zerolinecolor": "#EBF0F8"
           }
          },
          "shapedefaults": {
           "line": {
            "color": "#2a3f5f"
           }
          },
          "ternary": {
           "aaxis": {
            "gridcolor": "#DFE8F3",
            "linecolor": "#A2B1C6",
            "ticks": ""
           },
           "baxis": {
            "gridcolor": "#DFE8F3",
            "linecolor": "#A2B1C6",
            "ticks": ""
           },
           "bgcolor": "white",
           "caxis": {
            "gridcolor": "#DFE8F3",
            "linecolor": "#A2B1C6",
            "ticks": ""
           }
          },
          "title": {
           "x": 0.05
          },
          "xaxis": {
           "automargin": true,
           "gridcolor": "#EBF0F8",
           "linecolor": "#EBF0F8",
           "ticks": "",
           "title": {
            "standoff": 15
           },
           "zerolinecolor": "#EBF0F8",
           "zerolinewidth": 2
          },
          "yaxis": {
           "automargin": true,
           "gridcolor": "#EBF0F8",
           "linecolor": "#EBF0F8",
           "ticks": "",
           "title": {
            "standoff": 15
           },
           "zerolinecolor": "#EBF0F8",
           "zerolinewidth": 2
          }
         }
        },
        "title": {
         "text": "country_grp:standardize(time_1)"
        },
        "xaxis": {
         "anchor": "y",
         "domain": [
          0,
          1
         ],
         "title": {
          "text": "levels"
         }
        },
        "yaxis": {
         "anchor": "x",
         "domain": [
          0,
          1
         ],
         "title": {
          "text": "coef"
         }
        },
        "yaxis2": {
         "anchor": "x",
         "overlaying": "y",
         "showgrid": false,
         "side": "right",
         "title": {
          "text": "weight"
         }
        }
       }
      }
     },
     "metadata": {},
     "output_type": "display_data"
    }
   ],
   "source": [
    "factors_list_2 = dm_di[\"factors\"].unique().tolist()\n",
    "\n",
    "dd_factors_2 = widgets.Dropdown(options=factors_list_2)\n",
    "\n",
    "output_factors_2 = widgets.Output()\n",
    "\n",
    "\n",
    "def dd_factors_2_eventhandler(change):\n",
    "    output_factors_2.clear_output()\n",
    "\n",
    "    plot_data = dm_di.loc[(dm_di[\"factors\"] == change.new)]\n",
    "\n",
    "    fig = px.line(\n",
    "        plot_data,\n",
    "        x=\"levels\",\n",
    "        y=\"coef\",\n",
    "        template=\"plotly_white\",\n",
    "        color_discrete_sequence=px.colors.qualitative.D3,\n",
    "        title=change.new,\n",
    "    )\n",
    "    fig.add_bar(\n",
    "        x=plot_data[\"levels\"],\n",
    "        y=plot_data[\"factor_weight\"],\n",
    "        name=\"weight\",\n",
    "        yaxis=\"y2\",\n",
    "        opacity=0.75,\n",
    "        marker_color=\"lightgrey\",\n",
    "    )\n",
    "\n",
    "    fig.add_scatter(\n",
    "        x=plot_data[\"levels\"],\n",
    "        y=plot_data[\"ci_95_upper\"],\n",
    "        line_dash=\"dash\",\n",
    "        name=\"CI Upper\",\n",
    "        marker_color=px.colors.qualitative.D3[1],\n",
    "    )\n",
    "\n",
    "    fig.add_scatter(\n",
    "        x=plot_data[\"levels\"],\n",
    "        y=plot_data[\"ci_95_lower\"],\n",
    "        line_dash=\"dash\",\n",
    "        name=\"CI Lower\",\n",
    "        marker_color=px.colors.qualitative.D3[1],\n",
    "    )\n",
    "\n",
    "    fig.update_layout(\n",
    "        yaxis2=dict(\n",
    "            title=\"weight\", anchor=\"x\", overlaying=\"y\", side=\"right\", showgrid=False\n",
    "        )\n",
    "    )\n",
    "\n",
    "    with output_factors_2:\n",
    "        display(fig)\n",
    "\n",
    "\n",
    "dd_factors_2.observe(dd_factors_2_eventhandler, names=\"value\")\n",
    "\n",
    "display(dd_factors_2)"
   ]
  },
  {
   "cell_type": "code",
   "execution_count": 31,
   "metadata": {},
   "outputs": [],
   "source": [
    "beta_hat = (\n",
    "    np.linalg.inv(X.to_numpy().T @ np.diag(wgt) @ X.to_numpy())\n",
    "    @ X.to_numpy().T\n",
    "    @ np.diag(wgt)\n",
    "    @ np.log(y.values)\n",
    ")\n",
    "\n",
    "y_arr = np.log(y.to_numpy())\n",
    "\n",
    "y_arr_hat = X.to_numpy() @ beta_hat\n",
    "\n",
    "y_m = y_arr.T @ wgt.to_numpy() / wgt.sum()\n",
    "\n",
    "ss_tot = (y_arr - y_m) @ np.diag(wgt) @ (y_arr - y_m).T\n",
    "\n",
    "res = y_arr - y_arr_hat\n",
    "\n",
    "ss_res = res @ np.diag(wgt) @ res.T\n",
    "\n",
    "r2 = 1 - ss_res / ss_tot\n",
    "\n",
    "r2_adj = 1 - (ss_res / ss_tot) * ((X.shape[0] - 1) / (X.shape[0] - X.shape[1] - 1))\n",
    "\n",
    "sigma2_hat = (res @ np.diag(wgt) @ res.T) / (X.shape[0] - X.shape[1])\n",
    "\n",
    "var_hat = np.linalg.inv(X.to_numpy().T @ np.diag(wgt) @ X.to_numpy()) * sigma2_hat\n",
    "\n",
    "stderr_hat = np.sqrt(np.diag(var_hat))"
   ]
  },
  {
   "cell_type": "code",
   "execution_count": 32,
   "metadata": {},
   "outputs": [
    {
     "name": "stdout",
     "output_type": "stream",
     "text": [
      "                            WLS Regression Results                            \n",
      "==============================================================================\n",
      "Dep. Variable:             link_ratio   R-squared:                       0.813\n",
      "Model:                            WLS   Adj. R-squared:                  0.810\n",
      "Method:                 Least Squares   F-statistic:                     250.9\n",
      "Date:                Mon, 25 Sep 2023   Prob (F-statistic):               0.00\n",
      "Time:                        18:19:00   Log-Likelihood:                -26960.\n",
      "No. Observations:               14372   AIC:                         5.441e+04\n",
      "Df Residuals:                   14126   BIC:                         5.627e+04\n",
      "Df Model:                         245                                         \n",
      "Covariance Type:            nonrobust                                         \n",
      "==============================================================================================================================\n",
      "                                                                 coef    std err          t      P>|t|      [0.025      0.975]\n",
      "------------------------------------------------------------------------------------------------------------------------------\n",
      "country_grp[Afghanistan]                                      -3.5430      0.168    -21.099      0.000      -3.872      -3.214\n",
      "country_grp[Algeria]                                          -3.9605      0.141    -28.109      0.000      -4.237      -3.684\n",
      "country_grp[Argentina]                                        -3.6129      0.142    -25.476      0.000      -3.891      -3.335\n",
      "country_grp[Armenia]                                          -3.3301      0.235    -14.198      0.000      -3.790      -2.870\n",
      "country_grp[Austria]                                          -4.7126      0.095    -49.423      0.000      -4.900      -4.526\n",
      "country_grp[Azerbaijan]                                       -3.8041      0.221    -17.199      0.000      -4.238      -3.371\n",
      "country_grp[Bahrain]                                          -2.9248      0.423     -6.907      0.000      -3.755      -2.095\n",
      "country_grp[Bangladesh]                                       -3.9293      0.079    -49.486      0.000      -4.085      -3.774\n",
      "country_grp[Belarus]                                          -3.1911      0.259    -12.344      0.000      -3.698      -2.684\n",
      "country_grp[Belgium]                                          -3.9573      0.089    -44.277      0.000      -4.133      -3.782\n",
      "country_grp[Bolivia]                                          -3.3153      0.267    -12.410      0.000      -3.839      -2.792\n",
      "country_grp[Brazil]                                           -3.2651      0.041    -79.393      0.000      -3.346      -3.184\n",
      "country_grp[Cameroon]                                         -3.6514      0.251    -14.534      0.000      -4.144      -3.159\n",
      "country_grp[Canada]                                           -3.8239      0.064    -59.463      0.000      -3.950      -3.698\n",
      "country_grp[Chile]                                            -3.1094      0.094    -32.950      0.000      -3.294      -2.924\n",
      "country_grp[China - Hubei]                                    -6.4586      0.048   -133.573      0.000      -6.553      -6.364\n",
      "country_grp[Colombia]                                         -3.5261      0.115    -30.751      0.000      -3.751      -3.301\n",
      "country_grp[Czechia]                                          -4.5110      0.122    -37.127      0.000      -4.749      -4.273\n",
      "country_grp[Dem Republic Congo]                               -4.2087      0.400    -10.527      0.000      -4.992      -3.425\n",
      "country_grp[Denmark]                                          -4.2873      0.118    -36.333      0.000      -4.519      -4.056\n",
      "country_grp[Dominican Republic]                               -3.7949      0.130    -29.247      0.000      -4.049      -3.541\n",
      "country_grp[Ecuador]                                          -4.1348      0.091    -45.407      0.000      -4.313      -3.956\n",
      "country_grp[Egypt]                                            -3.6722      0.114    -32.215      0.000      -3.896      -3.449\n",
      "country_grp[Finland]                                          -4.1535      0.177    -23.408      0.000      -4.501      -3.806\n",
      "country_grp[France]                                           -4.3293      0.043   -100.157      0.000      -4.414      -4.245\n",
      "country_grp[Germany]                                          -4.2718      0.038   -113.737      0.000      -4.345      -4.198\n",
      "country_grp[Ghana]                                            -3.7594      0.239    -15.709      0.000      -4.228      -3.290\n",
      "country_grp[Guatemala]                                        -3.5919      0.287    -12.504      0.000      -4.155      -3.029\n",
      "country_grp[Guinea]                                           -3.9154      0.271    -14.424      0.000      -4.447      -3.383\n",
      "country_grp[Honduras]                                         -3.6004      0.271    -13.296      0.000      -4.131      -3.070\n",
      "country_grp[Hungary]                                          -4.2513      0.219    -19.393      0.000      -4.681      -3.822\n",
      "country_grp[India]                                            -3.9246      0.038   -102.315      0.000      -4.000      -3.849\n",
      "country_grp[Indonesia]                                        -4.1144      0.082    -50.010      0.000      -4.276      -3.953\n",
      "country_grp[Iran]                                             -3.7790      0.041    -92.346      0.000      -3.859      -3.699\n",
      "country_grp[Iraq]                                             -3.9461      0.182    -21.660      0.000      -4.303      -3.589\n",
      "country_grp[Ireland]                                          -4.1663      0.126    -32.966      0.000      -4.414      -3.919\n",
      "country_grp[Israel]                                           -4.7557      0.109    -43.819      0.000      -4.968      -4.543\n",
      "country_grp[Italy]                                            -3.9370      0.042    -93.257      0.000      -4.020      -3.854\n",
      "country_grp[Japan]                                            -4.5357      0.115    -39.436      0.000      -4.761      -4.310\n",
      "country_grp[Kazakhstan]                                       -3.7638      0.170    -22.077      0.000      -4.098      -3.430\n",
      "country_grp[Kuwait]                                           -2.6003      0.484     -5.374      0.000      -3.549      -1.652\n",
      "country_grp[Luxembourg]                                       -5.1295      0.167    -30.637      0.000      -5.458      -4.801\n",
      "country_grp[Malaysia]                                         -4.6331      0.115    -40.297      0.000      -4.858      -4.408\n",
      "country_grp[Mexico]                                           -3.5145      0.073    -48.240      0.000      -3.657      -3.372\n",
      "country_grp[Moldova]                                          -3.5901      0.260    -13.818      0.000      -4.099      -3.081\n",
      "country_grp[Morocco]                                          -4.3365      0.141    -30.838      0.000      -4.612      -4.061\n",
      "country_grp[Nepal]                                            -3.0808      3.119     -0.988      0.323      -9.194       3.032\n",
      "country_grp[Netherlands]                                      -4.1070      0.081    -50.592      0.000      -4.266      -3.948\n",
      "country_grp[Nigeria]                                          -4.5244      0.177    -25.542      0.000      -4.872      -4.177\n",
      "country_grp[Norway]                                           -4.6365      0.130    -35.666      0.000      -4.891      -4.382\n",
      "country_grp[Oman]                                             -3.2845      0.292    -11.254      0.000      -3.857      -2.712\n",
      "country_grp[Others]                                           -4.7665      0.048   -100.207      0.000      -4.860      -4.673\n",
      "country_grp[Pakistan]                                         -3.7091      0.070    -53.069      0.000      -3.846      -3.572\n",
      "country_grp[Panama]                                           -3.6105      0.194    -18.628      0.000      -3.990      -3.231\n",
      "country_grp[Peru]                                             -3.2483      0.102    -31.742      0.000      -3.449      -3.048\n",
      "country_grp[Philippines]                                      -4.3043      0.093    -46.263      0.000      -4.487      -4.122\n",
      "country_grp[Poland]                                           -3.8964      0.098    -39.783      0.000      -4.088      -3.704\n",
      "country_grp[Portugal]                                         -4.1173      0.088    -46.835      0.000      -4.290      -3.945\n",
      "country_grp[Qatar]                                            -3.1340      0.183    -17.082      0.000      -3.494      -2.774\n",
      "country_grp[RoChina]                                          -5.9264      0.096    -61.512      0.000      -6.115      -5.738\n",
      "country_grp[RoEurope]                                         -4.6478      0.075    -62.131      0.000      -4.794      -4.501\n",
      "country_grp[RoUS]                                             -4.3424      0.118    -36.950      0.000      -4.573      -4.112\n",
      "country_grp[Romania]                                          -3.9429      0.121    -32.672      0.000      -4.180      -3.706\n",
      "country_grp[Russia]                                           -3.4947      0.043    -81.973      0.000      -3.578      -3.411\n",
      "country_grp[Saudi Arabia]                                     -3.3513      0.095    -35.174      0.000      -3.538      -3.165\n",
      "country_grp[Senegal]                                          -3.8143      0.285    -13.405      0.000      -4.372      -3.257\n",
      "country_grp[Serbia]                                           -4.0601      0.186    -21.824      0.000      -4.425      -3.695\n",
      "country_grp[Singapore]                                        -2.4577      0.407     -6.032      0.000      -3.256      -1.659\n",
      "country_grp[South Africa]                                     -3.5250      0.108    -32.668      0.000      -3.737      -3.313\n",
      "country_grp[South Korea]                                      -5.5947      0.072    -78.109      0.000      -5.735      -5.454\n",
      "country_grp[Spain]                                            -4.0693      0.034   -119.659      0.000      -4.136      -4.003\n",
      "country_grp[Sudan]                                            -3.9244      0.332    -11.836      0.000      -4.574      -3.275\n",
      "country_grp[Sweden]                                           -3.5704      0.114    -31.399      0.000      -3.793      -3.348\n",
      "country_grp[Switzerland]                                      -4.6686      0.084    -55.580      0.000      -4.833      -4.504\n",
      "country_grp[Tajikistan]                                       -4.3053      0.540     -7.976      0.000      -5.363      -3.247\n",
      "country_grp[Turkey]                                           -4.3176      0.033   -130.217      0.000      -4.383      -4.253\n",
      "country_grp[UK]                                               -3.6693      0.047    -77.550      0.000      -3.762      -3.577\n",
      "country_grp[US - Alabama]                                     -3.5790      0.160    -22.421      0.000      -3.892      -3.266\n",
      "country_grp[US - Arizona]                                     -3.7561      0.125    -30.126      0.000      -4.000      -3.512\n",
      "country_grp[US - Arkansas]                                    -3.7692      0.229    -16.484      0.000      -4.217      -3.321\n",
      "country_grp[US - California]                                  -3.5037      0.072    -48.622      0.000      -3.645      -3.362\n",
      "country_grp[US - Colorado]                                    -3.9777      0.140    -28.400      0.000      -4.252      -3.703\n",
      "country_grp[US - Connecticut]                                 -3.7478      0.115    -32.529      0.000      -3.974      -3.522\n",
      "country_grp[US - Delaware]                                    -3.5036      0.311    -11.268      0.000      -4.113      -2.894\n",
      "country_grp[US - District of Columbia]                        -3.4063      0.363     -9.397      0.000      -4.117      -2.696\n",
      "country_grp[US - Florida]                                     -3.9529      0.071    -55.497      0.000      -4.092      -3.813\n",
      "country_grp[US - Georgia]                                     -3.7555      0.096    -39.233      0.000      -3.943      -3.568\n",
      "country_grp[US - Illinois]                                    -3.7569      0.076    -49.411      0.000      -3.906      -3.608\n",
      "country_grp[US - Indiana]                                     -3.8190      0.097    -39.170      0.000      -4.010      -3.628\n",
      "country_grp[US - Iowa]                                        -3.3045      0.309    -10.708      0.000      -3.909      -2.700\n",
      "country_grp[US - Kansas]                                      -3.8825      0.227    -17.080      0.000      -4.328      -3.437\n",
      "country_grp[US - Kentucky]                                    -3.6853      0.219    -16.854      0.000      -4.114      -3.257\n",
      "country_grp[US - Louisiana]                                   -4.0427      0.086    -46.917      0.000      -4.212      -3.874\n",
      "country_grp[US - Maryland]                                    -3.4348      0.129    -26.626      0.000      -3.688      -3.182\n",
      "country_grp[US - Massachusetts]                               -3.5511      0.107    -33.049      0.000      -3.762      -3.340\n",
      "country_grp[US - Michigan]                                    -4.1808      0.061    -68.721      0.000      -4.300      -4.062\n",
      "country_grp[US - Minnesota]                                   -3.1808      0.199    -16.019      0.000      -3.570      -2.792\n",
      "country_grp[US - Mississippi]                                 -3.7080      0.154    -24.091      0.000      -4.010      -3.406\n",
      "country_grp[US - Missouri]                                    -4.1805      0.123    -33.976      0.000      -4.422      -3.939\n",
      "country_grp[US - Nebraska]                                    -3.2247      0.450     -7.167      0.000      -4.107      -2.343\n",
      "country_grp[US - Nevada]                                      -3.9636      0.200    -19.853      0.000      -4.355      -3.572\n",
      "country_grp[US - New Hampshire]                               -3.5861      0.350    -10.254      0.000      -4.272      -2.901\n",
      "country_grp[US - New Jersey]                                  -4.0034      0.046    -87.219      0.000      -4.093      -3.913\n",
      "country_grp[US - New Mexico]                                  -3.4987      0.329    -10.644      0.000      -4.143      -2.854\n",
      "country_grp[US - New York]                                    -3.9259      0.037   -106.651      0.000      -3.998      -3.854\n",
      "country_grp[US - North Carolina]                              -3.6567      0.121    -30.318      0.000      -3.893      -3.420\n",
      "country_grp[US - Ohio]                                        -3.7692      0.102    -36.988      0.000      -3.969      -3.569\n",
      "country_grp[US - Oklahoma]                                    -4.0431      0.178    -22.703      0.000      -4.392      -3.694\n",
      "country_grp[US - Oregon]                                      -3.9172      0.268    -14.630      0.000      -4.442      -3.392\n",
      "country_grp[US - Pennsylvania]                                -3.7651      0.077    -48.963      0.000      -3.916      -3.614\n",
      "country_grp[US - Rhode Island]                                -3.5250      0.286    -12.342      0.000      -4.085      -2.965\n",
      "country_grp[US - South Carolina]                              -3.7577      0.173    -21.688      0.000      -4.097      -3.418\n",
      "country_grp[US - South Dakota]                                -3.4354      0.682     -5.039      0.000      -4.772      -2.099\n",
      "country_grp[US - Tennessee]                                   -3.7338      0.121    -30.746      0.000      -3.972      -3.496\n",
      "country_grp[US - Texas]                                       -3.7518      0.072    -52.257      0.000      -3.893      -3.611\n",
      "country_grp[US - Utah]                                        -3.8343      0.193    -19.908      0.000      -4.212      -3.457\n",
      "country_grp[US - Virginia]                                    -3.3357      0.147    -22.661      0.000      -3.624      -3.047\n",
      "country_grp[US - Washington]                                  -3.7939      0.138    -27.510      0.000      -4.064      -3.524\n",
      "country_grp[US - Wisconsin]                                   -3.6307      0.144    -25.290      0.000      -3.912      -3.349\n",
      "country_grp[Ukraine]                                          -3.9967      0.101    -39.768      0.000      -4.194      -3.800\n",
      "country_grp[United Arab Emirates]                             -3.0925      0.284    -10.903      0.000      -3.648      -2.537\n",
      "country_grp[Uzbekistan]                                       -4.6391      0.191    -24.313      0.000      -5.013      -4.265\n",
      "country_grp[Afghanistan]:standardize(time_1)                   0.3475      0.260      1.337      0.181      -0.162       0.857\n",
      "country_grp[Algeria]:standardize(time_1)                       0.0231      0.215      0.107      0.915      -0.399       0.445\n",
      "country_grp[Argentina]:standardize(time_1)                     0.2201      0.228      0.965      0.335      -0.227       0.667\n",
      "country_grp[Armenia]:standardize(time_1)                       0.5108      0.407      1.254      0.210      -0.288       1.309\n",
      "country_grp[Austria]:standardize(time_1)                      -1.5959      0.173     -9.241      0.000      -1.934      -1.257\n",
      "country_grp[Azerbaijan]:standardize(time_1)                   -0.0338      0.365     -0.092      0.926      -0.749       0.682\n",
      "country_grp[Bahrain]:standardize(time_1)                       0.7622      0.790      0.965      0.334      -0.785       2.310\n",
      "country_grp[Bangladesh]:standardize(time_1)                   -0.1198      0.104     -1.149      0.250      -0.324       0.085\n",
      "country_grp[Belarus]:standardize(time_1)                      -0.2959      0.490     -0.604      0.546      -1.257       0.665\n",
      "country_grp[Belgium]:standardize(time_1)                      -0.9872      0.167     -5.919      0.000      -1.314      -0.660\n",
      "country_grp[Bolivia]:standardize(time_1)                       0.4942      0.451      1.097      0.273      -0.389       1.378\n",
      "country_grp[Brazil]:standardize(time_1)                        0.3316      0.073      4.538      0.000       0.188       0.475\n",
      "country_grp[Cameroon]:standardize(time_1)                      0.0698      0.340      0.205      0.837      -0.597       0.737\n",
      "country_grp[Canada]:standardize(time_1)                       -0.4541      0.117     -3.882      0.000      -0.683      -0.225\n",
      "country_grp[Chile]:standardize(time_1)                         0.4846      0.170      2.849      0.004       0.151       0.818\n",
      "country_grp[China - Hubei]:standardize(time_1)                -2.7915      0.076    -36.684      0.000      -2.941      -2.642\n",
      "country_grp[Colombia]:standardize(time_1)                      0.2832      0.187      1.518      0.129      -0.082       0.649\n",
      "country_grp[Czechia]:standardize(time_1)                      -0.8971      0.208     -4.317      0.000      -1.304      -0.490\n",
      "country_grp[Dem Republic Congo]:standardize(time_1)           -0.0046      0.342     -0.013      0.989      -0.674       0.665\n",
      "country_grp[Denmark]:standardize(time_1)                      -0.3509      0.198     -1.771      0.077      -0.739       0.037\n",
      "country_grp[Dominican Republic]:standardize(time_1)           -0.1095      0.221     -0.496      0.620      -0.542       0.323\n",
      "country_grp[Ecuador]:standardize(time_1)                      -0.1175      0.156     -0.751      0.453      -0.424       0.189\n",
      "country_grp[Egypt]:standardize(time_1)                         0.2316      0.174      1.329      0.184      -0.110       0.573\n",
      "country_grp[Finland]:standardize(time_1)                      -0.4173      0.310     -1.345      0.179      -1.025       0.191\n",
      "country_grp[France]:standardize(time_1)                       -1.2130      0.079    -15.296      0.000      -1.368      -1.058\n",
      "country_grp[Germany]:standardize(time_1)                      -1.2643      0.069    -18.258      0.000      -1.400      -1.129\n",
      "country_grp[Ghana]:standardize(time_1)                        -0.0472      0.384     -0.123      0.902      -0.800       0.706\n",
      "country_grp[Guatemala]:standardize(time_1)                     0.3409      0.400      0.852      0.394      -0.443       1.125\n",
      "country_grp[Guinea]:standardize(time_1)                       -0.2348      0.389     -0.604      0.546      -0.997       0.527\n",
      "country_grp[Honduras]:standardize(time_1)                      0.7300      0.410      1.780      0.075      -0.074       1.534\n",
      "country_grp[Hungary]:standardize(time_1)                      -0.5111      0.370     -1.380      0.168      -1.237       0.215\n",
      "country_grp[India]:standardize(time_1)                         0.0406      0.049      0.833      0.405      -0.055       0.136\n",
      "country_grp[Indonesia]:standardize(time_1)                    -0.0330      0.113     -0.293      0.769      -0.254       0.188\n",
      "country_grp[Iran]:standardize(time_1)                         -0.0762      0.072     -1.056      0.291      -0.218       0.065\n",
      "country_grp[Iraq]:standardize(time_1)                          0.1694      0.266      0.638      0.523      -0.351       0.690\n",
      "country_grp[Ireland]:standardize(time_1)                      -0.8847      0.233     -3.798      0.000      -1.341      -0.428\n",
      "country_grp[Israel]:standardize(time_1)                       -1.6949      0.198     -8.570      0.000      -2.083      -1.307\n",
      "country_grp[Italy]:standardize(time_1)                        -0.9236      0.079    -11.673      0.000      -1.079      -0.769\n",
      "country_grp[Japan]:standardize(time_1)                        -0.3677      0.195     -1.888      0.059      -0.750       0.014\n",
      "country_grp[Kazakhstan]:standardize(time_1)                    0.0481      0.268      0.179      0.858      -0.477       0.574\n",
      "country_grp[Kuwait]:standardize(time_1)                        1.2573      0.910      1.382      0.167      -0.527       3.041\n",
      "country_grp[Luxembourg]:standardize(time_1)                   -1.5899      0.292     -5.450      0.000      -2.162      -1.018\n",
      "country_grp[Malaysia]:standardize(time_1)                     -0.5980      0.175     -3.417      0.001      -0.941      -0.255\n",
      "country_grp[Mexico]:standardize(time_1)                        0.1143      0.123      0.928      0.353      -0.127       0.356\n",
      "country_grp[Moldova]:standardize(time_1)                      -0.3174      0.478     -0.664      0.507      -1.255       0.620\n",
      "country_grp[Morocco]:standardize(time_1)                      -0.4183      0.215     -1.944      0.052      -0.840       0.003\n",
      "country_grp[Nepal]:standardize(time_1)                         0.3605      1.626      0.222      0.825      -2.827       3.548\n",
      "country_grp[Netherlands]:standardize(time_1)                  -0.9352      0.149     -6.269      0.000      -1.228      -0.643\n",
      "country_grp[Nigeria]:standardize(time_1)                      -0.3037      0.167     -1.819      0.069      -0.631       0.024\n",
      "country_grp[Norway]:standardize(time_1)                       -1.0554      0.228     -4.628      0.000      -1.502      -0.608\n",
      "country_grp[Oman]:standardize(time_1)                          0.2705      0.523      0.517      0.605      -0.756       1.297\n",
      "country_grp[Others]:standardize(time_1)                       -0.4767      0.063     -7.595      0.000      -0.600      -0.354\n",
      "country_grp[Pakistan]:standardize(time_1)                      0.2455      0.110      2.223      0.026       0.029       0.462\n",
      "country_grp[Panama]:standardize(time_1)                       -0.2909      0.355     -0.821      0.412      -0.986       0.404\n",
      "country_grp[Peru]:standardize(time_1)                          0.1237      0.191      0.648      0.517      -0.251       0.498\n",
      "country_grp[Philippines]:standardize(time_1)                  -0.1242      0.133     -0.934      0.350      -0.385       0.136\n",
      "country_grp[Poland]:standardize(time_1)                       -0.2528      0.167     -1.516      0.130      -0.580       0.074\n",
      "country_grp[Portugal]:standardize(time_1)                     -0.8665      0.160     -5.404      0.000      -1.181      -0.552\n",
      "country_grp[Qatar]:standardize(time_1)                         0.9583      0.339      2.824      0.005       0.293       1.623\n",
      "country_grp[RoChina]:standardize(time_1)                      -0.1256      0.080     -1.564      0.118      -0.283       0.032\n",
      "country_grp[RoEurope]:standardize(time_1)                     -0.8464      0.126     -6.734      0.000      -1.093      -0.600\n",
      "country_grp[RoUS]:standardize(time_1)                         -0.4701      0.195     -2.412      0.016      -0.852      -0.088\n",
      "country_grp[Romania]:standardize(time_1)                      -0.4463      0.216     -2.068      0.039      -0.869      -0.023\n",
      "country_grp[Russia]:standardize(time_1)                       -0.2496      0.077     -3.222      0.001      -0.401      -0.098\n",
      "country_grp[Saudi Arabia]:standardize(time_1)                  0.2699      0.171      1.578      0.115      -0.065       0.605\n",
      "country_grp[Senegal]:standardize(time_1)                       0.4239      0.440      0.964      0.335      -0.438       1.286\n",
      "country_grp[Serbia]:standardize(time_1)                       -0.8721      0.340     -2.564      0.010      -1.539      -0.205\n",
      "country_grp[Singapore]:standardize(time_1)                     1.1103      0.767      1.447      0.148      -0.393       2.614\n",
      "country_grp[South Africa]:standardize(time_1)                  0.6038      0.164      3.673      0.000       0.282       0.926\n",
      "country_grp[South Korea]:standardize(time_1)                  -0.5437      0.108     -5.028      0.000      -0.756      -0.332\n",
      "country_grp[Spain]:standardize(time_1)                        -1.1310      0.063    -17.888      0.000      -1.255      -1.007\n",
      "country_grp[Sudan]:standardize(time_1)                        -0.2743      0.329     -0.834      0.404      -0.919       0.370\n",
      "country_grp[Sweden]:standardize(time_1)                        0.0068      0.207      0.033      0.974      -0.398       0.412\n",
      "country_grp[Switzerland]:standardize(time_1)                  -1.7743      0.155    -11.423      0.000      -2.079      -1.470\n",
      "country_grp[Tajikistan]:standardize(time_1)                   -0.6295      0.505     -1.248      0.212      -1.619       0.359\n",
      "country_grp[Turkey]:standardize(time_1)                       -0.8594      0.056    -15.236      0.000      -0.970      -0.749\n",
      "country_grp[UK]:standardize(time_1)                           -0.5258      0.088     -5.963      0.000      -0.699      -0.353\n",
      "country_grp[US - Alabama]:standardize(time_1)                 -0.1251      0.288     -0.434      0.665      -0.690       0.440\n",
      "country_grp[US - Arizona]:standardize(time_1)                 -0.0799      0.214     -0.373      0.709      -0.500       0.340\n",
      "country_grp[US - Arkansas]:standardize(time_1)                -0.0967      0.403     -0.240      0.811      -0.887       0.694\n",
      "country_grp[US - California]:standardize(time_1)              -0.1594      0.133     -1.201      0.230      -0.419       0.101\n",
      "country_grp[US - Colorado]:standardize(time_1)                 0.1158      0.259      0.446      0.655      -0.393       0.624\n",
      "country_grp[US - Connecticut]:standardize(time_1)             -0.7348      0.215     -3.418      0.001      -1.156      -0.313\n",
      "country_grp[US - Delaware]:standardize(time_1)                -0.3616      0.581     -0.622      0.534      -1.501       0.778\n",
      "country_grp[US - District of Columbia]:standardize(time_1)    -0.3889      0.683     -0.569      0.569      -1.728       0.950\n",
      "country_grp[US - Florida]:standardize(time_1)                 -0.5434      0.129     -4.215      0.000      -0.796      -0.291\n",
      "country_grp[US - Georgia]:standardize(time_1)                 -0.4213      0.176     -2.393      0.017      -0.766      -0.076\n",
      "country_grp[US - Illinois]:standardize(time_1)                 0.2487      0.141      1.761      0.078      -0.028       0.525\n",
      "country_grp[US - Indiana]:standardize(time_1)                 -0.3487      0.175     -1.987      0.047      -0.693      -0.005\n",
      "country_grp[US - Iowa]:standardize(time_1)                     0.0076      0.581      0.013      0.990      -1.131       1.146\n",
      "country_grp[US - Kansas]:standardize(time_1)                  -0.1511      0.414     -0.365      0.715      -0.962       0.660\n",
      "country_grp[US - Kentucky]:standardize(time_1)                -0.1579      0.388     -0.407      0.684      -0.919       0.603\n",
      "country_grp[US - Louisiana]:standardize(time_1)               -1.0122      0.160     -6.332      0.000      -1.326      -0.699\n",
      "country_grp[US - Maryland]:standardize(time_1)                -0.3033      0.241     -1.258      0.209      -0.776       0.169\n",
      "country_grp[US - Massachusetts]:standardize(time_1)           -0.6875      0.203     -3.383      0.001      -1.086      -0.289\n",
      "country_grp[US - Michigan]:standardize(time_1)                -0.8309      0.109     -7.633      0.000      -1.044      -0.618\n",
      "country_grp[US - Minnesota]:standardize(time_1)                0.3978      0.362      1.099      0.272      -0.312       1.107\n",
      "country_grp[US - Mississippi]:standardize(time_1)             -0.1354      0.273     -0.496      0.620      -0.671       0.400\n",
      "country_grp[US - Missouri]:standardize(time_1)                -0.2606      0.212     -1.230      0.219      -0.676       0.155\n",
      "country_grp[US - Nebraska]:standardize(time_1)                 0.1347      0.846      0.159      0.874      -1.524       1.793\n",
      "country_grp[US - Nevada]:standardize(time_1)                  -0.6021      0.364     -1.654      0.098      -1.315       0.111\n",
      "country_grp[US - New Hampshire]:standardize(time_1)           -0.2933      0.641     -0.457      0.647      -1.550       0.963\n",
      "country_grp[US - New Jersey]:standardize(time_1)              -0.9481      0.085    -11.157      0.000      -1.115      -0.782\n",
      "country_grp[US - New Mexico]:standardize(time_1)              -0.1811      0.611     -0.297      0.767      -1.378       1.016\n",
      "country_grp[US - New York]:standardize(time_1)                -1.2753      0.069    -18.361      0.000      -1.411      -1.139\n",
      "country_grp[US - North Carolina]:standardize(time_1)          -0.0897      0.214     -0.419      0.675      -0.509       0.330\n",
      "country_grp[US - Ohio]:standardize(time_1)                    -0.2522      0.183     -1.378      0.168      -0.611       0.107\n",
      "country_grp[US - Oklahoma]:standardize(time_1)                -0.3505      0.305     -1.150      0.250      -0.948       0.247\n",
      "country_grp[US - Oregon]:standardize(time_1)                  -0.4630      0.479     -0.967      0.334      -1.402       0.476\n",
      "country_grp[US - Pennsylvania]:standardize(time_1)            -0.7696      0.143     -5.374      0.000      -1.050      -0.489\n",
      "country_grp[US - Rhode Island]:standardize(time_1)            -0.5189      0.536     -0.968      0.333      -1.569       0.532\n",
      "country_grp[US - South Carolina]:standardize(time_1)          -0.4112      0.313     -1.315      0.189      -1.024       0.202\n",
      "country_grp[US - South Dakota]:standardize(time_1)            -0.3988      1.288     -0.310      0.757      -2.923       2.126\n",
      "country_grp[US - Tennessee]:standardize(time_1)               -0.2070      0.216     -0.959      0.338      -0.630       0.216\n",
      "country_grp[US - Texas]:standardize(time_1)                   -0.2578      0.127     -2.028      0.043      -0.507      -0.009\n",
      "country_grp[US - Utah]:standardize(time_1)                    -0.0847      0.347     -0.244      0.807      -0.764       0.595\n",
      "country_grp[US - Virginia]:standardize(time_1)                -0.0471      0.274     -0.172      0.864      -0.584       0.490\n",
      "country_grp[US - Washington]:standardize(time_1)              -0.4111      0.254     -1.618      0.106      -0.909       0.087\n",
      "country_grp[US - Wisconsin]:standardize(time_1)                0.1166      0.254      0.459      0.646      -0.381       0.614\n",
      "country_grp[Ukraine]:standardize(time_1)                      -0.2834      0.165     -1.715      0.086      -0.607       0.040\n",
      "country_grp[United Arab Emirates]:standardize(time_1)          0.0273      0.536      0.051      0.959      -1.022       1.077\n",
      "country_grp[Uzbekistan]:standardize(time_1)                   -0.4021      0.261     -1.539      0.124      -0.914       0.110\n",
      "tail_grp[tail grp 01]:standardize(time_2)                     -1.7520      0.043    -41.162      0.000      -1.835      -1.669\n",
      "tail_grp[tail grp 02]:standardize(time_2)                     -1.3527      0.010   -139.995      0.000      -1.372      -1.334\n",
      "==============================================================================\n",
      "Omnibus:                    11011.382   Durbin-Watson:                   1.062\n",
      "Prob(Omnibus):                  0.000   Jarque-Bera (JB):          4582007.931\n",
      "Skew:                          -2.565   Prob(JB):                         0.00\n",
      "Kurtosis:                      90.323   Cond. No.                         439.\n",
      "==============================================================================\n",
      "\n",
      "Notes:\n",
      "[1] Standard Errors assume that the covariance matrix of the errors is correctly specified.\n"
     ]
    }
   ],
   "source": [
    "mod_wls = sm.WLS(np.log(y), X, weights=wgt)\n",
    "\n",
    "res_wls = mod_wls.fit()\n",
    "\n",
    "print(res_wls.summary())"
   ]
  },
  {
   "cell_type": "code",
   "execution_count": 33,
   "metadata": {},
   "outputs": [],
   "source": [
    "dff[\"link_ratio_predicted\"] = 1 + tt.predict(dm)"
   ]
  },
  {
   "cell_type": "code",
   "execution_count": 34,
   "metadata": {},
   "outputs": [
    {
     "data": {
      "application/vnd.jupyter.widget-view+json": {
       "model_id": "8fd0bcba7c6742929a32f100918d605a",
       "version_major": 2,
       "version_minor": 0
      },
      "text/plain": [
       "Dropdown(options=('Afghanistan', 'Albania', 'Algeria', 'Andorra', 'Anguilla', 'Antigua and Barbuda', 'Argentin…"
      ]
     },
     "metadata": {},
     "output_type": "display_data"
    },
    {
     "data": {
      "application/vnd.plotly.v1+json": {
       "config": {
        "plotlyServerURL": "https://plot.ly"
       },
       "data": [
        {
         "hovertemplate": "devt_time=%{x}<br>link_ratio=%{y}<extra></extra>",
         "legendgroup": "",
         "line": {
          "color": "#1F77B4",
          "dash": "solid"
         },
         "marker": {
          "symbol": "circle"
         },
         "mode": "lines",
         "name": "",
         "orientation": "v",
         "showlegend": false,
         "type": "scatter",
         "x": [
          1,
          2,
          3,
          4,
          5,
          6,
          7,
          8,
          9,
          10,
          11,
          12,
          13,
          14,
          15,
          16,
          17,
          18,
          19,
          20,
          21,
          22,
          23,
          24,
          25,
          26,
          27,
          28,
          29,
          30,
          31,
          32,
          33,
          34,
          35,
          36,
          37,
          38,
          39,
          40,
          41,
          42,
          43,
          44,
          45,
          46,
          47,
          48,
          49,
          50,
          51,
          52,
          53,
          54,
          55,
          56,
          57,
          58,
          59,
          60,
          61,
          62,
          63,
          64,
          65,
          66,
          67,
          68,
          69,
          70,
          71,
          72,
          73,
          74,
          75,
          76,
          77,
          78,
          79,
          80,
          81,
          82,
          83,
          84,
          85,
          86,
          87,
          88,
          89,
          90,
          91,
          92,
          93,
          94,
          95,
          96,
          97,
          98,
          99,
          100,
          101,
          102,
          103,
          104,
          105,
          106,
          107,
          108,
          109,
          110,
          111,
          112,
          113,
          114,
          115
         ],
         "xaxis": "x",
         "y": [
          1.3396226415094339,
          1.2183098591549295,
          1.2716763005780347,
          1.490909090909091,
          1.2835365853658536,
          1.2470308788598574,
          1.3942857142857144,
          1.3210382513661203,
          1.764219234746639,
          1.462485345838218,
          2.150300601202405,
          1.5489282385834109,
          1.4091456077015643,
          1.3492741246797608,
          1.3217721518987342,
          1.2296973759816128,
          1.2009267551886609,
          1.228137868421906,
          1.1847823217255855,
          1.1678848382208753,
          1.1381034153787446,
          1.1176066255364807,
          1.1375575656661117,
          1.1070114593910303,
          1.1019440606089483,
          1.113300758869695,
          1.1053142629652286,
          1.0819358182600827,
          1.0702744397531667,
          1.0611463035314646,
          1.079971403038427,
          1.0709514699359861,
          1.0653298635793274,
          1.0503516141759695,
          1.0442312154055218,
          1.0355281881999439,
          1.037144506485346,
          1.0563195744261649,
          1.0430721739860296,
          1.0308729452682495,
          1.0482009739935905,
          1.0252490567286687,
          1.0211649819421746,
          1.0209476013593615,
          1.0190856979188034,
          1.0006380748370631,
          1.0308585743566385,
          1.0388563643727677,
          1.0209184704210277,
          1.0137166067801906,
          1.010650830833299,
          1.0155367901703116,
          1.0156194213373109,
          1.0129512570144428,
          1.015124191570931,
          1.0109848327512885,
          1.008021111514941,
          1.0070198430489758,
          1.0086739395750828,
          1.010775423022551,
          1.0089718416094349,
          1.008217138256756,
          1.0068233259886767,
          1.0049493880350036,
          1.0042426310246102,
          1.006428645287088,
          1.0070157722780124,
          1.0080512810048652,
          1.0069951100739416,
          1.0054245445565027,
          1.0035701943042548,
          1.004194996172137,
          1.004322011081353,
          1.0058921466264075,
          1.0047579237946687,
          1.0049475923764637,
          1.0044147963748105,
          1.0034549050523491,
          1.0029550892591326,
          1.0031030464275112,
          null,
          null,
          null,
          null,
          null,
          null,
          null,
          null,
          null,
          null,
          null,
          null,
          null,
          null,
          null,
          null,
          null,
          null,
          null,
          null,
          null,
          null,
          null,
          null,
          null,
          null,
          null,
          null,
          null,
          null,
          null,
          null,
          null,
          null,
          null
         ],
         "yaxis": "y"
        },
        {
         "line": {
          "dash": "dash"
         },
         "marker": {
          "color": "#FF7F0E"
         },
         "type": "scatter",
         "x": [
          1,
          2,
          3,
          4,
          5,
          6,
          7,
          8,
          9,
          10,
          11,
          12,
          13,
          14,
          15,
          16,
          17,
          18,
          19,
          20,
          21,
          22,
          23,
          24,
          25,
          26,
          27,
          28,
          29,
          30,
          31,
          32,
          33,
          34,
          35,
          36,
          37,
          38,
          39,
          40,
          41,
          42,
          43,
          44,
          45,
          46,
          47,
          48,
          49,
          50,
          51,
          52,
          53,
          54,
          55,
          56,
          57,
          58,
          59,
          60,
          61,
          62,
          63,
          64,
          65,
          66,
          67,
          68,
          69,
          70,
          71,
          72,
          73,
          74,
          75,
          76,
          77,
          78,
          79,
          80,
          81,
          82,
          83,
          84,
          85,
          86,
          87,
          88,
          89,
          90,
          91,
          92,
          93,
          94,
          95,
          96,
          97,
          98,
          99,
          100,
          101,
          102,
          103,
          104,
          105,
          106,
          107,
          108,
          109,
          110,
          111,
          112,
          113,
          114,
          115
         ],
         "y": [
          1.8617456142197308,
          1.7722895303183188,
          1.692119703074241,
          1.620272144808348,
          1.555882937469097,
          1.4981778446052079,
          1.446463001698604,
          1.4001165729152218,
          1.358581273951782,
          1.3213576710708432,
          1.2879981757495877,
          1.25810166273207,
          1.2313086467706722,
          1.2072969600603487,
          1.1857778783897597,
          1.166492649428881,
          1.149209381408116,
          1.13372025477739,
          1.1198390233173197,
          1.1073987746550227,
          1.0962499232562863,
          1.0862584117611973,
          1.077304099035511,
          1.0692793155551736,
          1.0620875687534825,
          1.05564238276356,
          1.049866258604833,
          1.044689742310471,
          1.0400505897906434,
          1.0358930183896482,
          1.0345801346805166,
          1.0333152732250441,
          1.0320966774801108,
          1.0309226551528874,
          1.0297915758507066,
          1.0287018688168998,
          1.027652020749449,
          1.026640573699429,
          1.0256661230463184,
          1.0247273155473704,
          1.0238228474583322,
          1.0229514627229042,
          1.0221119512284256,
          1.021303147125361,
          1.020523927208259,
          1.0197732093559286,
          1.0190499510286732,
          1.0183531478204895,
          1.0176818320642265,
          1.0170350714877625,
          1.0164119679193362,
          1.0158116560402355,
          1.0152333021831075,
          1.0146761031742257,
          1.014139285218104,
          1.0136221028229067,
          1.0131238377651686,
          1.0126437980923795,
          1.012181317162054,
          1.0117357527159487,
          1.0113064859881438,
          1.0108929208457471,
          1.0104944829610312,
          1.01011061901385,
          1.0097407959232305,
          1.0093845001070705,
          1.0090412367689148,
          1.0087105292108194,
          1.0083919181713505,
          1.0080849611877967,
          1.00778923198171,
          1.0075043198669245,
          1.0072298291792245,
          1.0069653787268784,
          1.0067106012612672,
          1.0064651429668783,
          1.0062286629699528,
          1.0060008328651078,
          1.0057813362592694,
          1.0055698683322924,
          1.005366135413648,
          1.0051698545745977,
          1.004980753235282,
          1.0047985687861831,
          1.0046230482234337,
          1.0044539477974626,
          1.0042910326744956,
          1.0041340766104347,
          1.0039828616366697,
          1.0038371777573776,
          1.003696822657898,
          1.0035616014237734,
          1.0034313262700671,
          1.0033058162805817,
          1.003184897156616,
          1.0030684009749131,
          1.0029561659544612,
          1.0028480362318235,
          1.0027438616446882,
          1.0026434975233343,
          1.002546804489724,
          1.002453648263948,
          1.0023638994777435,
          1.0022774334948423,
          1.0021941302378816,
          1.0021138740216515,
          1.0020365533924402,
          1.0019620609732547,
          1.001890293314705,
          1.0018211507513402,
          1.001754537263242,
          1.0016903603426786,
          1.0016285308656374,
          1.0015689629680562,
          1.001511573926582
         ]
        }
       ],
       "layout": {
        "legend": {
         "tracegroupgap": 0
        },
        "showlegend": false,
        "template": {
         "data": {
          "bar": [
           {
            "error_x": {
             "color": "#2a3f5f"
            },
            "error_y": {
             "color": "#2a3f5f"
            },
            "marker": {
             "line": {
              "color": "white",
              "width": 0.5
             },
             "pattern": {
              "fillmode": "overlay",
              "size": 10,
              "solidity": 0.2
             }
            },
            "type": "bar"
           }
          ],
          "barpolar": [
           {
            "marker": {
             "line": {
              "color": "white",
              "width": 0.5
             },
             "pattern": {
              "fillmode": "overlay",
              "size": 10,
              "solidity": 0.2
             }
            },
            "type": "barpolar"
           }
          ],
          "carpet": [
           {
            "aaxis": {
             "endlinecolor": "#2a3f5f",
             "gridcolor": "#C8D4E3",
             "linecolor": "#C8D4E3",
             "minorgridcolor": "#C8D4E3",
             "startlinecolor": "#2a3f5f"
            },
            "baxis": {
             "endlinecolor": "#2a3f5f",
             "gridcolor": "#C8D4E3",
             "linecolor": "#C8D4E3",
             "minorgridcolor": "#C8D4E3",
             "startlinecolor": "#2a3f5f"
            },
            "type": "carpet"
           }
          ],
          "choropleth": [
           {
            "colorbar": {
             "outlinewidth": 0,
             "ticks": ""
            },
            "type": "choropleth"
           }
          ],
          "contour": [
           {
            "colorbar": {
             "outlinewidth": 0,
             "ticks": ""
            },
            "colorscale": [
             [
              0,
              "#0d0887"
             ],
             [
              0.1111111111111111,
              "#46039f"
             ],
             [
              0.2222222222222222,
              "#7201a8"
             ],
             [
              0.3333333333333333,
              "#9c179e"
             ],
             [
              0.4444444444444444,
              "#bd3786"
             ],
             [
              0.5555555555555556,
              "#d8576b"
             ],
             [
              0.6666666666666666,
              "#ed7953"
             ],
             [
              0.7777777777777778,
              "#fb9f3a"
             ],
             [
              0.8888888888888888,
              "#fdca26"
             ],
             [
              1,
              "#f0f921"
             ]
            ],
            "type": "contour"
           }
          ],
          "contourcarpet": [
           {
            "colorbar": {
             "outlinewidth": 0,
             "ticks": ""
            },
            "type": "contourcarpet"
           }
          ],
          "heatmap": [
           {
            "colorbar": {
             "outlinewidth": 0,
             "ticks": ""
            },
            "colorscale": [
             [
              0,
              "#0d0887"
             ],
             [
              0.1111111111111111,
              "#46039f"
             ],
             [
              0.2222222222222222,
              "#7201a8"
             ],
             [
              0.3333333333333333,
              "#9c179e"
             ],
             [
              0.4444444444444444,
              "#bd3786"
             ],
             [
              0.5555555555555556,
              "#d8576b"
             ],
             [
              0.6666666666666666,
              "#ed7953"
             ],
             [
              0.7777777777777778,
              "#fb9f3a"
             ],
             [
              0.8888888888888888,
              "#fdca26"
             ],
             [
              1,
              "#f0f921"
             ]
            ],
            "type": "heatmap"
           }
          ],
          "heatmapgl": [
           {
            "colorbar": {
             "outlinewidth": 0,
             "ticks": ""
            },
            "colorscale": [
             [
              0,
              "#0d0887"
             ],
             [
              0.1111111111111111,
              "#46039f"
             ],
             [
              0.2222222222222222,
              "#7201a8"
             ],
             [
              0.3333333333333333,
              "#9c179e"
             ],
             [
              0.4444444444444444,
              "#bd3786"
             ],
             [
              0.5555555555555556,
              "#d8576b"
             ],
             [
              0.6666666666666666,
              "#ed7953"
             ],
             [
              0.7777777777777778,
              "#fb9f3a"
             ],
             [
              0.8888888888888888,
              "#fdca26"
             ],
             [
              1,
              "#f0f921"
             ]
            ],
            "type": "heatmapgl"
           }
          ],
          "histogram": [
           {
            "marker": {
             "pattern": {
              "fillmode": "overlay",
              "size": 10,
              "solidity": 0.2
             }
            },
            "type": "histogram"
           }
          ],
          "histogram2d": [
           {
            "colorbar": {
             "outlinewidth": 0,
             "ticks": ""
            },
            "colorscale": [
             [
              0,
              "#0d0887"
             ],
             [
              0.1111111111111111,
              "#46039f"
             ],
             [
              0.2222222222222222,
              "#7201a8"
             ],
             [
              0.3333333333333333,
              "#9c179e"
             ],
             [
              0.4444444444444444,
              "#bd3786"
             ],
             [
              0.5555555555555556,
              "#d8576b"
             ],
             [
              0.6666666666666666,
              "#ed7953"
             ],
             [
              0.7777777777777778,
              "#fb9f3a"
             ],
             [
              0.8888888888888888,
              "#fdca26"
             ],
             [
              1,
              "#f0f921"
             ]
            ],
            "type": "histogram2d"
           }
          ],
          "histogram2dcontour": [
           {
            "colorbar": {
             "outlinewidth": 0,
             "ticks": ""
            },
            "colorscale": [
             [
              0,
              "#0d0887"
             ],
             [
              0.1111111111111111,
              "#46039f"
             ],
             [
              0.2222222222222222,
              "#7201a8"
             ],
             [
              0.3333333333333333,
              "#9c179e"
             ],
             [
              0.4444444444444444,
              "#bd3786"
             ],
             [
              0.5555555555555556,
              "#d8576b"
             ],
             [
              0.6666666666666666,
              "#ed7953"
             ],
             [
              0.7777777777777778,
              "#fb9f3a"
             ],
             [
              0.8888888888888888,
              "#fdca26"
             ],
             [
              1,
              "#f0f921"
             ]
            ],
            "type": "histogram2dcontour"
           }
          ],
          "mesh3d": [
           {
            "colorbar": {
             "outlinewidth": 0,
             "ticks": ""
            },
            "type": "mesh3d"
           }
          ],
          "parcoords": [
           {
            "line": {
             "colorbar": {
              "outlinewidth": 0,
              "ticks": ""
             }
            },
            "type": "parcoords"
           }
          ],
          "pie": [
           {
            "automargin": true,
            "type": "pie"
           }
          ],
          "scatter": [
           {
            "fillpattern": {
             "fillmode": "overlay",
             "size": 10,
             "solidity": 0.2
            },
            "type": "scatter"
           }
          ],
          "scatter3d": [
           {
            "line": {
             "colorbar": {
              "outlinewidth": 0,
              "ticks": ""
             }
            },
            "marker": {
             "colorbar": {
              "outlinewidth": 0,
              "ticks": ""
             }
            },
            "type": "scatter3d"
           }
          ],
          "scattercarpet": [
           {
            "marker": {
             "colorbar": {
              "outlinewidth": 0,
              "ticks": ""
             }
            },
            "type": "scattercarpet"
           }
          ],
          "scattergeo": [
           {
            "marker": {
             "colorbar": {
              "outlinewidth": 0,
              "ticks": ""
             }
            },
            "type": "scattergeo"
           }
          ],
          "scattergl": [
           {
            "marker": {
             "colorbar": {
              "outlinewidth": 0,
              "ticks": ""
             }
            },
            "type": "scattergl"
           }
          ],
          "scattermapbox": [
           {
            "marker": {
             "colorbar": {
              "outlinewidth": 0,
              "ticks": ""
             }
            },
            "type": "scattermapbox"
           }
          ],
          "scatterpolar": [
           {
            "marker": {
             "colorbar": {
              "outlinewidth": 0,
              "ticks": ""
             }
            },
            "type": "scatterpolar"
           }
          ],
          "scatterpolargl": [
           {
            "marker": {
             "colorbar": {
              "outlinewidth": 0,
              "ticks": ""
             }
            },
            "type": "scatterpolargl"
           }
          ],
          "scatterternary": [
           {
            "marker": {
             "colorbar": {
              "outlinewidth": 0,
              "ticks": ""
             }
            },
            "type": "scatterternary"
           }
          ],
          "surface": [
           {
            "colorbar": {
             "outlinewidth": 0,
             "ticks": ""
            },
            "colorscale": [
             [
              0,
              "#0d0887"
             ],
             [
              0.1111111111111111,
              "#46039f"
             ],
             [
              0.2222222222222222,
              "#7201a8"
             ],
             [
              0.3333333333333333,
              "#9c179e"
             ],
             [
              0.4444444444444444,
              "#bd3786"
             ],
             [
              0.5555555555555556,
              "#d8576b"
             ],
             [
              0.6666666666666666,
              "#ed7953"
             ],
             [
              0.7777777777777778,
              "#fb9f3a"
             ],
             [
              0.8888888888888888,
              "#fdca26"
             ],
             [
              1,
              "#f0f921"
             ]
            ],
            "type": "surface"
           }
          ],
          "table": [
           {
            "cells": {
             "fill": {
              "color": "#EBF0F8"
             },
             "line": {
              "color": "white"
             }
            },
            "header": {
             "fill": {
              "color": "#C8D4E3"
             },
             "line": {
              "color": "white"
             }
            },
            "type": "table"
           }
          ]
         },
         "layout": {
          "annotationdefaults": {
           "arrowcolor": "#2a3f5f",
           "arrowhead": 0,
           "arrowwidth": 1
          },
          "autotypenumbers": "strict",
          "coloraxis": {
           "colorbar": {
            "outlinewidth": 0,
            "ticks": ""
           }
          },
          "colorscale": {
           "diverging": [
            [
             0,
             "#8e0152"
            ],
            [
             0.1,
             "#c51b7d"
            ],
            [
             0.2,
             "#de77ae"
            ],
            [
             0.3,
             "#f1b6da"
            ],
            [
             0.4,
             "#fde0ef"
            ],
            [
             0.5,
             "#f7f7f7"
            ],
            [
             0.6,
             "#e6f5d0"
            ],
            [
             0.7,
             "#b8e186"
            ],
            [
             0.8,
             "#7fbc41"
            ],
            [
             0.9,
             "#4d9221"
            ],
            [
             1,
             "#276419"
            ]
           ],
           "sequential": [
            [
             0,
             "#0d0887"
            ],
            [
             0.1111111111111111,
             "#46039f"
            ],
            [
             0.2222222222222222,
             "#7201a8"
            ],
            [
             0.3333333333333333,
             "#9c179e"
            ],
            [
             0.4444444444444444,
             "#bd3786"
            ],
            [
             0.5555555555555556,
             "#d8576b"
            ],
            [
             0.6666666666666666,
             "#ed7953"
            ],
            [
             0.7777777777777778,
             "#fb9f3a"
            ],
            [
             0.8888888888888888,
             "#fdca26"
            ],
            [
             1,
             "#f0f921"
            ]
           ],
           "sequentialminus": [
            [
             0,
             "#0d0887"
            ],
            [
             0.1111111111111111,
             "#46039f"
            ],
            [
             0.2222222222222222,
             "#7201a8"
            ],
            [
             0.3333333333333333,
             "#9c179e"
            ],
            [
             0.4444444444444444,
             "#bd3786"
            ],
            [
             0.5555555555555556,
             "#d8576b"
            ],
            [
             0.6666666666666666,
             "#ed7953"
            ],
            [
             0.7777777777777778,
             "#fb9f3a"
            ],
            [
             0.8888888888888888,
             "#fdca26"
            ],
            [
             1,
             "#f0f921"
            ]
           ]
          },
          "colorway": [
           "#636efa",
           "#EF553B",
           "#00cc96",
           "#ab63fa",
           "#FFA15A",
           "#19d3f3",
           "#FF6692",
           "#B6E880",
           "#FF97FF",
           "#FECB52"
          ],
          "font": {
           "color": "#2a3f5f"
          },
          "geo": {
           "bgcolor": "white",
           "lakecolor": "white",
           "landcolor": "white",
           "showlakes": true,
           "showland": true,
           "subunitcolor": "#C8D4E3"
          },
          "hoverlabel": {
           "align": "left"
          },
          "hovermode": "closest",
          "mapbox": {
           "style": "light"
          },
          "paper_bgcolor": "white",
          "plot_bgcolor": "white",
          "polar": {
           "angularaxis": {
            "gridcolor": "#EBF0F8",
            "linecolor": "#EBF0F8",
            "ticks": ""
           },
           "bgcolor": "white",
           "radialaxis": {
            "gridcolor": "#EBF0F8",
            "linecolor": "#EBF0F8",
            "ticks": ""
           }
          },
          "scene": {
           "xaxis": {
            "backgroundcolor": "white",
            "gridcolor": "#DFE8F3",
            "gridwidth": 2,
            "linecolor": "#EBF0F8",
            "showbackground": true,
            "ticks": "",
            "zerolinecolor": "#EBF0F8"
           },
           "yaxis": {
            "backgroundcolor": "white",
            "gridcolor": "#DFE8F3",
            "gridwidth": 2,
            "linecolor": "#EBF0F8",
            "showbackground": true,
            "ticks": "",
            "zerolinecolor": "#EBF0F8"
           },
           "zaxis": {
            "backgroundcolor": "white",
            "gridcolor": "#DFE8F3",
            "gridwidth": 2,
            "linecolor": "#EBF0F8",
            "showbackground": true,
            "ticks": "",
            "zerolinecolor": "#EBF0F8"
           }
          },
          "shapedefaults": {
           "line": {
            "color": "#2a3f5f"
           }
          },
          "ternary": {
           "aaxis": {
            "gridcolor": "#DFE8F3",
            "linecolor": "#A2B1C6",
            "ticks": ""
           },
           "baxis": {
            "gridcolor": "#DFE8F3",
            "linecolor": "#A2B1C6",
            "ticks": ""
           },
           "bgcolor": "white",
           "caxis": {
            "gridcolor": "#DFE8F3",
            "linecolor": "#A2B1C6",
            "ticks": ""
           }
          },
          "title": {
           "x": 0.05
          },
          "xaxis": {
           "automargin": true,
           "gridcolor": "#EBF0F8",
           "linecolor": "#EBF0F8",
           "ticks": "",
           "title": {
            "standoff": 15
           },
           "zerolinecolor": "#EBF0F8",
           "zerolinewidth": 2
          },
          "yaxis": {
           "automargin": true,
           "gridcolor": "#EBF0F8",
           "linecolor": "#EBF0F8",
           "ticks": "",
           "title": {
            "standoff": 15
           },
           "zerolinecolor": "#EBF0F8",
           "zerolinewidth": 2
          }
         }
        },
        "title": {
         "text": "US - New York"
        },
        "xaxis": {
         "anchor": "y",
         "domain": [
          0,
          1
         ],
         "title": {
          "text": "devt_time"
         }
        },
        "yaxis": {
         "anchor": "x",
         "domain": [
          0,
          1
         ],
         "title": {
          "text": "Link Ratio / Daily Development Factor "
         }
        }
       }
      }
     },
     "metadata": {},
     "output_type": "display_data"
    }
   ],
   "source": [
    "country_list_4 = dff[\"country_area\"].unique().tolist()\n",
    "\n",
    "dd_country_4 = widgets.Dropdown(options=country_list_4)\n",
    "\n",
    "output_country_4 = widgets.Output()\n",
    "\n",
    "\n",
    "def dd_country_4_eventhandler(change):\n",
    "    output_country_4.clear_output()\n",
    "    plot_data = dff.loc[(dff[\"country_area\"] == change.new) & (dff[\"devt_time\"] > 0)]\n",
    "    fig = px.line(\n",
    "        plot_data,\n",
    "        x=\"devt_time\",\n",
    "        y=\"link_ratio\",\n",
    "        template=\"plotly_white\",\n",
    "        color_discrete_sequence=px.colors.qualitative.D3,\n",
    "        title=change.new,\n",
    "    )\n",
    "\n",
    "    fig.add_scatter(\n",
    "        x=plot_data[\"devt_time\"],\n",
    "        y=plot_data[\"link_ratio_predicted\"],\n",
    "        line_dash=\"dash\",\n",
    "        marker_color=px.colors.qualitative.D3[1],\n",
    "    )\n",
    "\n",
    "    fig.update_layout(\n",
    "        yaxis_title=\"Link Ratio / Daily Development Factor \", showlegend=False\n",
    "    )\n",
    "\n",
    "    with output_country_4:\n",
    "        display(fig)\n",
    "\n",
    "\n",
    "dd_country_4.observe(dd_country_4_eventhandler, names=\"value\")\n",
    "\n",
    "display(dd_country_4)"
   ]
  },
  {
   "cell_type": "code",
   "execution_count": 35,
   "metadata": {},
   "outputs": [],
   "source": [
    "dff[\"lr_cumul\"] = (\n",
    "    dff.loc[dff[\"data\"] == \"Estimate\"]\n",
    "    .groupby([\"country_area\"])[\"link_ratio_predicted\"]\n",
    "    .cumprod()\n",
    "    .reset_index(drop=True)\n",
    ")\n",
    "\n",
    "dff[\"pred_cases\"] = dff[\"lr_cumul\"] * dff.groupby([\"country_area\"])[\n",
    "    \"confirmed_cases\"\n",
    "].transform(\"max\")\n",
    "\n",
    "dff[\"all_cases\"] = dff[\"confirmed_cases\"].fillna(0) + dff[\"pred_cases\"].fillna(0)\n",
    "\n",
    "dff[\"all_cases_inc\"] = dff.groupby([\"country_area\"])[\"all_cases\"].diff()\n",
    "\n",
    "dff.loc[dff[\"all_cases_inc\"].isnull(), \"all_cases_inc\"] = dff.loc[\n",
    "    dff[\"all_cases_inc\"].isnull(), \"all_cases\"\n",
    "]"
   ]
  },
  {
   "cell_type": "code",
   "execution_count": 36,
   "metadata": {},
   "outputs": [
    {
     "data": {
      "application/vnd.jupyter.widget-view+json": {
       "model_id": "25c839742fa445e388512aec776a0ba1",
       "version_major": 2,
       "version_minor": 0
      },
      "text/plain": [
       "Dropdown(options=('Afghanistan', 'Albania', 'Algeria', 'Andorra', 'Anguilla', 'Antigua and Barbuda', 'Argentin…"
      ]
     },
     "metadata": {},
     "output_type": "display_data"
    },
    {
     "data": {
      "application/vnd.plotly.v1+json": {
       "config": {
        "plotlyServerURL": "https://plot.ly"
       },
       "data": [
        {
         "alignmentgroup": "True",
         "hovertemplate": "data=Observed<br>date=%{x}<br>all_cases_inc=%{y}<extra></extra>",
         "legendgroup": "Observed",
         "marker": {
          "color": "#1F77B4",
          "pattern": {
           "shape": ""
          }
         },
         "name": "Observed",
         "offsetgroup": "Observed",
         "orientation": "v",
         "showlegend": true,
         "textposition": "auto",
         "type": "bar",
         "x": [
          "2020-03-04T00:00:00",
          "2020-03-05T00:00:00",
          "2020-03-06T00:00:00",
          "2020-03-07T00:00:00",
          "2020-03-08T00:00:00",
          "2020-03-09T00:00:00",
          "2020-03-10T00:00:00",
          "2020-03-11T00:00:00",
          "2020-03-12T00:00:00",
          "2020-03-13T00:00:00",
          "2020-03-14T00:00:00",
          "2020-03-15T00:00:00",
          "2020-03-16T00:00:00",
          "2020-03-17T00:00:00",
          "2020-03-18T00:00:00",
          "2020-03-19T00:00:00",
          "2020-03-20T00:00:00",
          "2020-03-21T00:00:00",
          "2020-03-22T00:00:00",
          "2020-03-23T00:00:00",
          "2020-03-24T00:00:00",
          "2020-03-25T00:00:00",
          "2020-03-26T00:00:00",
          "2020-03-27T00:00:00",
          "2020-03-28T00:00:00",
          "2020-03-29T00:00:00",
          "2020-03-30T00:00:00",
          "2020-03-31T00:00:00",
          "2020-04-01T00:00:00",
          "2020-04-02T00:00:00",
          "2020-04-03T00:00:00",
          "2020-04-04T00:00:00",
          "2020-04-05T00:00:00",
          "2020-04-06T00:00:00",
          "2020-04-07T00:00:00",
          "2020-04-08T00:00:00",
          "2020-04-09T00:00:00",
          "2020-04-10T00:00:00",
          "2020-04-11T00:00:00",
          "2020-04-12T00:00:00",
          "2020-04-13T00:00:00",
          "2020-04-14T00:00:00",
          "2020-04-15T00:00:00",
          "2020-04-16T00:00:00",
          "2020-04-17T00:00:00",
          "2020-04-18T00:00:00",
          "2020-04-19T00:00:00",
          "2020-04-20T00:00:00",
          "2020-04-21T00:00:00",
          "2020-04-22T00:00:00",
          "2020-04-23T00:00:00",
          "2020-04-24T00:00:00",
          "2020-04-25T00:00:00",
          "2020-04-26T00:00:00",
          "2020-04-27T00:00:00",
          "2020-04-28T00:00:00",
          "2020-04-29T00:00:00",
          "2020-04-30T00:00:00",
          "2020-05-01T00:00:00",
          "2020-05-02T00:00:00",
          "2020-05-03T00:00:00",
          "2020-05-04T00:00:00",
          "2020-05-05T00:00:00",
          "2020-05-06T00:00:00",
          "2020-05-07T00:00:00",
          "2020-05-08T00:00:00",
          "2020-05-09T00:00:00",
          "2020-05-10T00:00:00",
          "2020-05-11T00:00:00",
          "2020-05-12T00:00:00",
          "2020-05-13T00:00:00",
          "2020-05-14T00:00:00",
          "2020-05-15T00:00:00",
          "2020-05-16T00:00:00",
          "2020-05-17T00:00:00",
          "2020-05-18T00:00:00",
          "2020-05-19T00:00:00",
          "2020-05-20T00:00:00",
          "2020-05-21T00:00:00",
          "2020-05-22T00:00:00",
          "2020-05-23T00:00:00",
          "2020-05-24T00:00:00",
          "2020-05-25T00:00:00",
          "2020-05-26T00:00:00",
          "2020-05-27T00:00:00"
         ],
         "xaxis": "x",
         "y": [
          39,
          31,
          13,
          24,
          127,
          36,
          267,
          196,
          479,
          376,
          527,
          1025,
          1125,
          1873,
          1491,
          5957,
          5404,
          6380,
          8237,
          9912,
          10052,
          12025,
          18037,
          17798,
          19718,
          19402,
          20872,
          26257,
          25141,
          30046,
          32122,
          33116,
          28178,
          29502,
          29541,
          32777,
          32315,
          35049,
          29794,
          28808,
          25300,
          27031,
          28625,
          31382,
          31879,
          32438,
          26794,
          25201,
          27664,
          27684,
          29328,
          36301,
          32789,
          27563,
          22396,
          24374,
          27294,
          29396,
          34001,
          28896,
          25450,
          22300,
          23895,
          24203,
          28357,
          26777,
          25603,
          19684,
          18560,
          21649,
          20802,
          27270,
          24933,
          24947,
          18880,
          21487,
          20165,
          23224,
          25235,
          23673,
          21605,
          20544,
          18985,
          18546,
          18187
         ],
         "yaxis": "y"
        },
        {
         "alignmentgroup": "True",
         "hovertemplate": "data=Estimate<br>date=%{x}<br>all_cases_inc=%{y}<extra></extra>",
         "legendgroup": "Estimate",
         "marker": {
          "color": "#FF7F0E",
          "pattern": {
           "shape": ""
          }
         },
         "name": "Estimate",
         "offsetgroup": "Estimate",
         "orientation": "v",
         "showlegend": true,
         "textposition": "auto",
         "type": "bar",
         "x": [
          "2020-05-28T00:00:00",
          "2020-05-29T00:00:00",
          "2020-05-30T00:00:00",
          "2020-05-31T00:00:00",
          "2020-06-01T00:00:00",
          "2020-06-02T00:00:00",
          "2020-06-03T00:00:00",
          "2020-06-04T00:00:00",
          "2020-06-05T00:00:00",
          "2020-06-06T00:00:00",
          "2020-06-07T00:00:00",
          "2020-06-08T00:00:00",
          "2020-06-09T00:00:00",
          "2020-06-10T00:00:00",
          "2020-06-11T00:00:00",
          "2020-06-12T00:00:00",
          "2020-06-13T00:00:00",
          "2020-06-14T00:00:00",
          "2020-06-15T00:00:00",
          "2020-06-16T00:00:00",
          "2020-06-17T00:00:00",
          "2020-06-18T00:00:00",
          "2020-06-19T00:00:00",
          "2020-06-20T00:00:00",
          "2020-06-21T00:00:00",
          "2020-06-22T00:00:00",
          "2020-06-23T00:00:00",
          "2020-06-24T00:00:00",
          "2020-06-25T00:00:00",
          "2020-06-26T00:00:00",
          "2020-06-27T00:00:00",
          "2020-06-28T00:00:00",
          "2020-06-29T00:00:00",
          "2020-06-30T00:00:00",
          "2020-07-01T00:00:00"
         ],
         "xaxis": "x",
         "y": [
          60034.7972869233,
          59849.81934637036,
          59626.57234402429,
          59332.51745345134,
          58971.23292917282,
          58546.38357590474,
          58061.69222592652,
          57520.913304934256,
          56927.808531306066,
          56286.12476237757,
          55599.57397401217,
          54871.81533632256,
          54106.4393286676,
          53306.95382078189,
          52476.77203380723,
          51619.2022848778,
          50737.439411393345,
          49834.55776599765,
          48913.50567022674,
          47977.101213562506,
          47028.02928495396,
          46068.8397255141,
          45101.94649385985,
          44129.627739189964,
          43154.026681558535,
          42177.15320368061,
          41200.88606392513,
          40226.97564568311,
          39257.04716402971,
          38292.60425637936,
          37335.03288956546,
          36385.60552147851,
          35445.485460881086,
          34515.73137437695,
          33597.30189460816
         ],
         "yaxis": "y"
        }
       ],
       "layout": {
        "barmode": "relative",
        "legend": {
         "title": {
          "text": "data"
         },
         "tracegroupgap": 0
        },
        "template": {
         "data": {
          "bar": [
           {
            "error_x": {
             "color": "#2a3f5f"
            },
            "error_y": {
             "color": "#2a3f5f"
            },
            "marker": {
             "line": {
              "color": "white",
              "width": 0.5
             },
             "pattern": {
              "fillmode": "overlay",
              "size": 10,
              "solidity": 0.2
             }
            },
            "type": "bar"
           }
          ],
          "barpolar": [
           {
            "marker": {
             "line": {
              "color": "white",
              "width": 0.5
             },
             "pattern": {
              "fillmode": "overlay",
              "size": 10,
              "solidity": 0.2
             }
            },
            "type": "barpolar"
           }
          ],
          "carpet": [
           {
            "aaxis": {
             "endlinecolor": "#2a3f5f",
             "gridcolor": "#C8D4E3",
             "linecolor": "#C8D4E3",
             "minorgridcolor": "#C8D4E3",
             "startlinecolor": "#2a3f5f"
            },
            "baxis": {
             "endlinecolor": "#2a3f5f",
             "gridcolor": "#C8D4E3",
             "linecolor": "#C8D4E3",
             "minorgridcolor": "#C8D4E3",
             "startlinecolor": "#2a3f5f"
            },
            "type": "carpet"
           }
          ],
          "choropleth": [
           {
            "colorbar": {
             "outlinewidth": 0,
             "ticks": ""
            },
            "type": "choropleth"
           }
          ],
          "contour": [
           {
            "colorbar": {
             "outlinewidth": 0,
             "ticks": ""
            },
            "colorscale": [
             [
              0,
              "#0d0887"
             ],
             [
              0.1111111111111111,
              "#46039f"
             ],
             [
              0.2222222222222222,
              "#7201a8"
             ],
             [
              0.3333333333333333,
              "#9c179e"
             ],
             [
              0.4444444444444444,
              "#bd3786"
             ],
             [
              0.5555555555555556,
              "#d8576b"
             ],
             [
              0.6666666666666666,
              "#ed7953"
             ],
             [
              0.7777777777777778,
              "#fb9f3a"
             ],
             [
              0.8888888888888888,
              "#fdca26"
             ],
             [
              1,
              "#f0f921"
             ]
            ],
            "type": "contour"
           }
          ],
          "contourcarpet": [
           {
            "colorbar": {
             "outlinewidth": 0,
             "ticks": ""
            },
            "type": "contourcarpet"
           }
          ],
          "heatmap": [
           {
            "colorbar": {
             "outlinewidth": 0,
             "ticks": ""
            },
            "colorscale": [
             [
              0,
              "#0d0887"
             ],
             [
              0.1111111111111111,
              "#46039f"
             ],
             [
              0.2222222222222222,
              "#7201a8"
             ],
             [
              0.3333333333333333,
              "#9c179e"
             ],
             [
              0.4444444444444444,
              "#bd3786"
             ],
             [
              0.5555555555555556,
              "#d8576b"
             ],
             [
              0.6666666666666666,
              "#ed7953"
             ],
             [
              0.7777777777777778,
              "#fb9f3a"
             ],
             [
              0.8888888888888888,
              "#fdca26"
             ],
             [
              1,
              "#f0f921"
             ]
            ],
            "type": "heatmap"
           }
          ],
          "heatmapgl": [
           {
            "colorbar": {
             "outlinewidth": 0,
             "ticks": ""
            },
            "colorscale": [
             [
              0,
              "#0d0887"
             ],
             [
              0.1111111111111111,
              "#46039f"
             ],
             [
              0.2222222222222222,
              "#7201a8"
             ],
             [
              0.3333333333333333,
              "#9c179e"
             ],
             [
              0.4444444444444444,
              "#bd3786"
             ],
             [
              0.5555555555555556,
              "#d8576b"
             ],
             [
              0.6666666666666666,
              "#ed7953"
             ],
             [
              0.7777777777777778,
              "#fb9f3a"
             ],
             [
              0.8888888888888888,
              "#fdca26"
             ],
             [
              1,
              "#f0f921"
             ]
            ],
            "type": "heatmapgl"
           }
          ],
          "histogram": [
           {
            "marker": {
             "pattern": {
              "fillmode": "overlay",
              "size": 10,
              "solidity": 0.2
             }
            },
            "type": "histogram"
           }
          ],
          "histogram2d": [
           {
            "colorbar": {
             "outlinewidth": 0,
             "ticks": ""
            },
            "colorscale": [
             [
              0,
              "#0d0887"
             ],
             [
              0.1111111111111111,
              "#46039f"
             ],
             [
              0.2222222222222222,
              "#7201a8"
             ],
             [
              0.3333333333333333,
              "#9c179e"
             ],
             [
              0.4444444444444444,
              "#bd3786"
             ],
             [
              0.5555555555555556,
              "#d8576b"
             ],
             [
              0.6666666666666666,
              "#ed7953"
             ],
             [
              0.7777777777777778,
              "#fb9f3a"
             ],
             [
              0.8888888888888888,
              "#fdca26"
             ],
             [
              1,
              "#f0f921"
             ]
            ],
            "type": "histogram2d"
           }
          ],
          "histogram2dcontour": [
           {
            "colorbar": {
             "outlinewidth": 0,
             "ticks": ""
            },
            "colorscale": [
             [
              0,
              "#0d0887"
             ],
             [
              0.1111111111111111,
              "#46039f"
             ],
             [
              0.2222222222222222,
              "#7201a8"
             ],
             [
              0.3333333333333333,
              "#9c179e"
             ],
             [
              0.4444444444444444,
              "#bd3786"
             ],
             [
              0.5555555555555556,
              "#d8576b"
             ],
             [
              0.6666666666666666,
              "#ed7953"
             ],
             [
              0.7777777777777778,
              "#fb9f3a"
             ],
             [
              0.8888888888888888,
              "#fdca26"
             ],
             [
              1,
              "#f0f921"
             ]
            ],
            "type": "histogram2dcontour"
           }
          ],
          "mesh3d": [
           {
            "colorbar": {
             "outlinewidth": 0,
             "ticks": ""
            },
            "type": "mesh3d"
           }
          ],
          "parcoords": [
           {
            "line": {
             "colorbar": {
              "outlinewidth": 0,
              "ticks": ""
             }
            },
            "type": "parcoords"
           }
          ],
          "pie": [
           {
            "automargin": true,
            "type": "pie"
           }
          ],
          "scatter": [
           {
            "fillpattern": {
             "fillmode": "overlay",
             "size": 10,
             "solidity": 0.2
            },
            "type": "scatter"
           }
          ],
          "scatter3d": [
           {
            "line": {
             "colorbar": {
              "outlinewidth": 0,
              "ticks": ""
             }
            },
            "marker": {
             "colorbar": {
              "outlinewidth": 0,
              "ticks": ""
             }
            },
            "type": "scatter3d"
           }
          ],
          "scattercarpet": [
           {
            "marker": {
             "colorbar": {
              "outlinewidth": 0,
              "ticks": ""
             }
            },
            "type": "scattercarpet"
           }
          ],
          "scattergeo": [
           {
            "marker": {
             "colorbar": {
              "outlinewidth": 0,
              "ticks": ""
             }
            },
            "type": "scattergeo"
           }
          ],
          "scattergl": [
           {
            "marker": {
             "colorbar": {
              "outlinewidth": 0,
              "ticks": ""
             }
            },
            "type": "scattergl"
           }
          ],
          "scattermapbox": [
           {
            "marker": {
             "colorbar": {
              "outlinewidth": 0,
              "ticks": ""
             }
            },
            "type": "scattermapbox"
           }
          ],
          "scatterpolar": [
           {
            "marker": {
             "colorbar": {
              "outlinewidth": 0,
              "ticks": ""
             }
            },
            "type": "scatterpolar"
           }
          ],
          "scatterpolargl": [
           {
            "marker": {
             "colorbar": {
              "outlinewidth": 0,
              "ticks": ""
             }
            },
            "type": "scatterpolargl"
           }
          ],
          "scatterternary": [
           {
            "marker": {
             "colorbar": {
              "outlinewidth": 0,
              "ticks": ""
             }
            },
            "type": "scatterternary"
           }
          ],
          "surface": [
           {
            "colorbar": {
             "outlinewidth": 0,
             "ticks": ""
            },
            "colorscale": [
             [
              0,
              "#0d0887"
             ],
             [
              0.1111111111111111,
              "#46039f"
             ],
             [
              0.2222222222222222,
              "#7201a8"
             ],
             [
              0.3333333333333333,
              "#9c179e"
             ],
             [
              0.4444444444444444,
              "#bd3786"
             ],
             [
              0.5555555555555556,
              "#d8576b"
             ],
             [
              0.6666666666666666,
              "#ed7953"
             ],
             [
              0.7777777777777778,
              "#fb9f3a"
             ],
             [
              0.8888888888888888,
              "#fdca26"
             ],
             [
              1,
              "#f0f921"
             ]
            ],
            "type": "surface"
           }
          ],
          "table": [
           {
            "cells": {
             "fill": {
              "color": "#EBF0F8"
             },
             "line": {
              "color": "white"
             }
            },
            "header": {
             "fill": {
              "color": "#C8D4E3"
             },
             "line": {
              "color": "white"
             }
            },
            "type": "table"
           }
          ]
         },
         "layout": {
          "annotationdefaults": {
           "arrowcolor": "#2a3f5f",
           "arrowhead": 0,
           "arrowwidth": 1
          },
          "autotypenumbers": "strict",
          "coloraxis": {
           "colorbar": {
            "outlinewidth": 0,
            "ticks": ""
           }
          },
          "colorscale": {
           "diverging": [
            [
             0,
             "#8e0152"
            ],
            [
             0.1,
             "#c51b7d"
            ],
            [
             0.2,
             "#de77ae"
            ],
            [
             0.3,
             "#f1b6da"
            ],
            [
             0.4,
             "#fde0ef"
            ],
            [
             0.5,
             "#f7f7f7"
            ],
            [
             0.6,
             "#e6f5d0"
            ],
            [
             0.7,
             "#b8e186"
            ],
            [
             0.8,
             "#7fbc41"
            ],
            [
             0.9,
             "#4d9221"
            ],
            [
             1,
             "#276419"
            ]
           ],
           "sequential": [
            [
             0,
             "#0d0887"
            ],
            [
             0.1111111111111111,
             "#46039f"
            ],
            [
             0.2222222222222222,
             "#7201a8"
            ],
            [
             0.3333333333333333,
             "#9c179e"
            ],
            [
             0.4444444444444444,
             "#bd3786"
            ],
            [
             0.5555555555555556,
             "#d8576b"
            ],
            [
             0.6666666666666666,
             "#ed7953"
            ],
            [
             0.7777777777777778,
             "#fb9f3a"
            ],
            [
             0.8888888888888888,
             "#fdca26"
            ],
            [
             1,
             "#f0f921"
            ]
           ],
           "sequentialminus": [
            [
             0,
             "#0d0887"
            ],
            [
             0.1111111111111111,
             "#46039f"
            ],
            [
             0.2222222222222222,
             "#7201a8"
            ],
            [
             0.3333333333333333,
             "#9c179e"
            ],
            [
             0.4444444444444444,
             "#bd3786"
            ],
            [
             0.5555555555555556,
             "#d8576b"
            ],
            [
             0.6666666666666666,
             "#ed7953"
            ],
            [
             0.7777777777777778,
             "#fb9f3a"
            ],
            [
             0.8888888888888888,
             "#fdca26"
            ],
            [
             1,
             "#f0f921"
            ]
           ]
          },
          "colorway": [
           "#636efa",
           "#EF553B",
           "#00cc96",
           "#ab63fa",
           "#FFA15A",
           "#19d3f3",
           "#FF6692",
           "#B6E880",
           "#FF97FF",
           "#FECB52"
          ],
          "font": {
           "color": "#2a3f5f"
          },
          "geo": {
           "bgcolor": "white",
           "lakecolor": "white",
           "landcolor": "white",
           "showlakes": true,
           "showland": true,
           "subunitcolor": "#C8D4E3"
          },
          "hoverlabel": {
           "align": "left"
          },
          "hovermode": "closest",
          "mapbox": {
           "style": "light"
          },
          "paper_bgcolor": "white",
          "plot_bgcolor": "white",
          "polar": {
           "angularaxis": {
            "gridcolor": "#EBF0F8",
            "linecolor": "#EBF0F8",
            "ticks": ""
           },
           "bgcolor": "white",
           "radialaxis": {
            "gridcolor": "#EBF0F8",
            "linecolor": "#EBF0F8",
            "ticks": ""
           }
          },
          "scene": {
           "xaxis": {
            "backgroundcolor": "white",
            "gridcolor": "#DFE8F3",
            "gridwidth": 2,
            "linecolor": "#EBF0F8",
            "showbackground": true,
            "ticks": "",
            "zerolinecolor": "#EBF0F8"
           },
           "yaxis": {
            "backgroundcolor": "white",
            "gridcolor": "#DFE8F3",
            "gridwidth": 2,
            "linecolor": "#EBF0F8",
            "showbackground": true,
            "ticks": "",
            "zerolinecolor": "#EBF0F8"
           },
           "zaxis": {
            "backgroundcolor": "white",
            "gridcolor": "#DFE8F3",
            "gridwidth": 2,
            "linecolor": "#EBF0F8",
            "showbackground": true,
            "ticks": "",
            "zerolinecolor": "#EBF0F8"
           }
          },
          "shapedefaults": {
           "line": {
            "color": "#2a3f5f"
           }
          },
          "ternary": {
           "aaxis": {
            "gridcolor": "#DFE8F3",
            "linecolor": "#A2B1C6",
            "ticks": ""
           },
           "baxis": {
            "gridcolor": "#DFE8F3",
            "linecolor": "#A2B1C6",
            "ticks": ""
           },
           "bgcolor": "white",
           "caxis": {
            "gridcolor": "#DFE8F3",
            "linecolor": "#A2B1C6",
            "ticks": ""
           }
          },
          "title": {
           "x": 0.05
          },
          "xaxis": {
           "automargin": true,
           "gridcolor": "#EBF0F8",
           "linecolor": "#EBF0F8",
           "ticks": "",
           "title": {
            "standoff": 15
           },
           "zerolinecolor": "#EBF0F8",
           "zerolinewidth": 2
          },
          "yaxis": {
           "automargin": true,
           "gridcolor": "#EBF0F8",
           "linecolor": "#EBF0F8",
           "ticks": "",
           "title": {
            "standoff": 15
           },
           "zerolinecolor": "#EBF0F8",
           "zerolinewidth": 2
          }
         }
        },
        "title": {
         "text": "United States"
        },
        "xaxis": {
         "anchor": "y",
         "domain": [
          0,
          1
         ],
         "title": {
          "text": "date"
         }
        },
        "yaxis": {
         "anchor": "x",
         "domain": [
          0,
          1
         ],
         "title": {
          "text": "Daily New Confirmed Cases"
         }
        }
       }
      }
     },
     "metadata": {},
     "output_type": "display_data"
    },
    {
     "data": {
      "application/vnd.plotly.v1+json": {
       "config": {
        "plotlyServerURL": "https://plot.ly"
       },
       "data": [
        {
         "alignmentgroup": "True",
         "hovertemplate": "data=Observed<br>date=%{x}<br>all_cases=%{y}<extra></extra>",
         "legendgroup": "Observed",
         "marker": {
          "color": "#1F77B4",
          "pattern": {
           "shape": ""
          }
         },
         "name": "Observed",
         "offsetgroup": "Observed",
         "orientation": "v",
         "showlegend": true,
         "textposition": "auto",
         "type": "bar",
         "x": [
          "2020-03-04T00:00:00",
          "2020-03-05T00:00:00",
          "2020-03-06T00:00:00",
          "2020-03-07T00:00:00",
          "2020-03-08T00:00:00",
          "2020-03-09T00:00:00",
          "2020-03-10T00:00:00",
          "2020-03-11T00:00:00",
          "2020-03-12T00:00:00",
          "2020-03-13T00:00:00",
          "2020-03-14T00:00:00",
          "2020-03-15T00:00:00",
          "2020-03-16T00:00:00",
          "2020-03-17T00:00:00",
          "2020-03-18T00:00:00",
          "2020-03-19T00:00:00",
          "2020-03-20T00:00:00",
          "2020-03-21T00:00:00",
          "2020-03-22T00:00:00",
          "2020-03-23T00:00:00",
          "2020-03-24T00:00:00",
          "2020-03-25T00:00:00",
          "2020-03-26T00:00:00",
          "2020-03-27T00:00:00",
          "2020-03-28T00:00:00",
          "2020-03-29T00:00:00",
          "2020-03-30T00:00:00",
          "2020-03-31T00:00:00",
          "2020-04-01T00:00:00",
          "2020-04-02T00:00:00",
          "2020-04-03T00:00:00",
          "2020-04-04T00:00:00",
          "2020-04-05T00:00:00",
          "2020-04-06T00:00:00",
          "2020-04-07T00:00:00",
          "2020-04-08T00:00:00",
          "2020-04-09T00:00:00",
          "2020-04-10T00:00:00",
          "2020-04-11T00:00:00",
          "2020-04-12T00:00:00",
          "2020-04-13T00:00:00",
          "2020-04-14T00:00:00",
          "2020-04-15T00:00:00",
          "2020-04-16T00:00:00",
          "2020-04-17T00:00:00",
          "2020-04-18T00:00:00",
          "2020-04-19T00:00:00",
          "2020-04-20T00:00:00",
          "2020-04-21T00:00:00",
          "2020-04-22T00:00:00",
          "2020-04-23T00:00:00",
          "2020-04-24T00:00:00",
          "2020-04-25T00:00:00",
          "2020-04-26T00:00:00",
          "2020-04-27T00:00:00",
          "2020-04-28T00:00:00",
          "2020-04-29T00:00:00",
          "2020-04-30T00:00:00",
          "2020-05-01T00:00:00",
          "2020-05-02T00:00:00",
          "2020-05-03T00:00:00",
          "2020-05-04T00:00:00",
          "2020-05-05T00:00:00",
          "2020-05-06T00:00:00",
          "2020-05-07T00:00:00",
          "2020-05-08T00:00:00",
          "2020-05-09T00:00:00",
          "2020-05-10T00:00:00",
          "2020-05-11T00:00:00",
          "2020-05-12T00:00:00",
          "2020-05-13T00:00:00",
          "2020-05-14T00:00:00",
          "2020-05-15T00:00:00",
          "2020-05-16T00:00:00",
          "2020-05-17T00:00:00",
          "2020-05-18T00:00:00",
          "2020-05-19T00:00:00",
          "2020-05-20T00:00:00",
          "2020-05-21T00:00:00",
          "2020-05-22T00:00:00",
          "2020-05-23T00:00:00",
          "2020-05-24T00:00:00",
          "2020-05-25T00:00:00",
          "2020-05-26T00:00:00",
          "2020-05-27T00:00:00"
         ],
         "xaxis": "x",
         "y": [
          39,
          70,
          83,
          107,
          234,
          270,
          537,
          733,
          1212,
          1588,
          2115,
          3140,
          4265,
          6138,
          7629,
          13586,
          18990,
          25370,
          33607,
          43519,
          53571,
          65596,
          83633,
          101431,
          121149,
          140551,
          161423,
          187680,
          212821,
          242867,
          274989,
          308105,
          336283,
          365785,
          395326,
          428103,
          460418,
          495467,
          525261,
          554069,
          579369,
          606400,
          635025,
          666407,
          698286,
          730724,
          757518,
          782719,
          810383,
          838067,
          867395,
          903696,
          936485,
          964048,
          986444,
          1010818,
          1038112,
          1067508,
          1101509,
          1130405,
          1155855,
          1178155,
          1202050,
          1226253,
          1254610,
          1281387,
          1306990,
          1326674,
          1345234,
          1366883,
          1387685,
          1414955,
          1439888,
          1464835,
          1483715,
          1505202,
          1525367,
          1548591,
          1573826,
          1597499,
          1619104,
          1639648,
          1658633,
          1677179,
          1695366
         ],
         "yaxis": "y"
        },
        {
         "alignmentgroup": "True",
         "hovertemplate": "data=Estimate<br>date=%{x}<br>all_cases=%{y}<extra></extra>",
         "legendgroup": "Estimate",
         "marker": {
          "color": "#FF7F0E",
          "pattern": {
           "shape": ""
          }
         },
         "name": "Estimate",
         "offsetgroup": "Estimate",
         "orientation": "v",
         "showlegend": true,
         "textposition": "auto",
         "type": "bar",
         "x": [
          "2020-05-28T00:00:00",
          "2020-05-29T00:00:00",
          "2020-05-30T00:00:00",
          "2020-05-31T00:00:00",
          "2020-06-01T00:00:00",
          "2020-06-02T00:00:00",
          "2020-06-03T00:00:00",
          "2020-06-04T00:00:00",
          "2020-06-05T00:00:00",
          "2020-06-06T00:00:00",
          "2020-06-07T00:00:00",
          "2020-06-08T00:00:00",
          "2020-06-09T00:00:00",
          "2020-06-10T00:00:00",
          "2020-06-11T00:00:00",
          "2020-06-12T00:00:00",
          "2020-06-13T00:00:00",
          "2020-06-14T00:00:00",
          "2020-06-15T00:00:00",
          "2020-06-16T00:00:00",
          "2020-06-17T00:00:00",
          "2020-06-18T00:00:00",
          "2020-06-19T00:00:00",
          "2020-06-20T00:00:00",
          "2020-06-21T00:00:00",
          "2020-06-22T00:00:00",
          "2020-06-23T00:00:00",
          "2020-06-24T00:00:00",
          "2020-06-25T00:00:00",
          "2020-06-26T00:00:00",
          "2020-06-27T00:00:00",
          "2020-06-28T00:00:00",
          "2020-06-29T00:00:00",
          "2020-06-30T00:00:00",
          "2020-07-01T00:00:00"
         ],
         "xaxis": "x",
         "y": [
          1755400.7972869233,
          1815250.6166332937,
          1874877.188977318,
          1934209.7064307693,
          1993180.939359942,
          2051727.3229358469,
          2109789.015161773,
          2167309.9284667075,
          2224237.7369980137,
          2280523.8617603914,
          2336123.4357344033,
          2390995.251070726,
          2445101.6903993934,
          2498408.6442201757,
          2550885.4162539826,
          2602504.6185388607,
          2653242.057950254,
          2703076.6157162515,
          2751990.121386478,
          2799967.222600041,
          2846995.2518849946,
          2893064.091610509,
          2938166.038104369,
          2982295.6658435585,
          3025449.692525117,
          3067626.845728798,
          3108827.731792723,
          3149054.707438406,
          3188311.7546024355,
          3226604.358858815,
          3263939.3917483804,
          3300324.997269859,
          3335770.48273074,
          3370286.214105117,
          3403883.515999725
         ],
         "yaxis": "y"
        }
       ],
       "layout": {
        "barmode": "relative",
        "legend": {
         "title": {
          "text": "data"
         },
         "tracegroupgap": 0
        },
        "template": {
         "data": {
          "bar": [
           {
            "error_x": {
             "color": "#2a3f5f"
            },
            "error_y": {
             "color": "#2a3f5f"
            },
            "marker": {
             "line": {
              "color": "white",
              "width": 0.5
             },
             "pattern": {
              "fillmode": "overlay",
              "size": 10,
              "solidity": 0.2
             }
            },
            "type": "bar"
           }
          ],
          "barpolar": [
           {
            "marker": {
             "line": {
              "color": "white",
              "width": 0.5
             },
             "pattern": {
              "fillmode": "overlay",
              "size": 10,
              "solidity": 0.2
             }
            },
            "type": "barpolar"
           }
          ],
          "carpet": [
           {
            "aaxis": {
             "endlinecolor": "#2a3f5f",
             "gridcolor": "#C8D4E3",
             "linecolor": "#C8D4E3",
             "minorgridcolor": "#C8D4E3",
             "startlinecolor": "#2a3f5f"
            },
            "baxis": {
             "endlinecolor": "#2a3f5f",
             "gridcolor": "#C8D4E3",
             "linecolor": "#C8D4E3",
             "minorgridcolor": "#C8D4E3",
             "startlinecolor": "#2a3f5f"
            },
            "type": "carpet"
           }
          ],
          "choropleth": [
           {
            "colorbar": {
             "outlinewidth": 0,
             "ticks": ""
            },
            "type": "choropleth"
           }
          ],
          "contour": [
           {
            "colorbar": {
             "outlinewidth": 0,
             "ticks": ""
            },
            "colorscale": [
             [
              0,
              "#0d0887"
             ],
             [
              0.1111111111111111,
              "#46039f"
             ],
             [
              0.2222222222222222,
              "#7201a8"
             ],
             [
              0.3333333333333333,
              "#9c179e"
             ],
             [
              0.4444444444444444,
              "#bd3786"
             ],
             [
              0.5555555555555556,
              "#d8576b"
             ],
             [
              0.6666666666666666,
              "#ed7953"
             ],
             [
              0.7777777777777778,
              "#fb9f3a"
             ],
             [
              0.8888888888888888,
              "#fdca26"
             ],
             [
              1,
              "#f0f921"
             ]
            ],
            "type": "contour"
           }
          ],
          "contourcarpet": [
           {
            "colorbar": {
             "outlinewidth": 0,
             "ticks": ""
            },
            "type": "contourcarpet"
           }
          ],
          "heatmap": [
           {
            "colorbar": {
             "outlinewidth": 0,
             "ticks": ""
            },
            "colorscale": [
             [
              0,
              "#0d0887"
             ],
             [
              0.1111111111111111,
              "#46039f"
             ],
             [
              0.2222222222222222,
              "#7201a8"
             ],
             [
              0.3333333333333333,
              "#9c179e"
             ],
             [
              0.4444444444444444,
              "#bd3786"
             ],
             [
              0.5555555555555556,
              "#d8576b"
             ],
             [
              0.6666666666666666,
              "#ed7953"
             ],
             [
              0.7777777777777778,
              "#fb9f3a"
             ],
             [
              0.8888888888888888,
              "#fdca26"
             ],
             [
              1,
              "#f0f921"
             ]
            ],
            "type": "heatmap"
           }
          ],
          "heatmapgl": [
           {
            "colorbar": {
             "outlinewidth": 0,
             "ticks": ""
            },
            "colorscale": [
             [
              0,
              "#0d0887"
             ],
             [
              0.1111111111111111,
              "#46039f"
             ],
             [
              0.2222222222222222,
              "#7201a8"
             ],
             [
              0.3333333333333333,
              "#9c179e"
             ],
             [
              0.4444444444444444,
              "#bd3786"
             ],
             [
              0.5555555555555556,
              "#d8576b"
             ],
             [
              0.6666666666666666,
              "#ed7953"
             ],
             [
              0.7777777777777778,
              "#fb9f3a"
             ],
             [
              0.8888888888888888,
              "#fdca26"
             ],
             [
              1,
              "#f0f921"
             ]
            ],
            "type": "heatmapgl"
           }
          ],
          "histogram": [
           {
            "marker": {
             "pattern": {
              "fillmode": "overlay",
              "size": 10,
              "solidity": 0.2
             }
            },
            "type": "histogram"
           }
          ],
          "histogram2d": [
           {
            "colorbar": {
             "outlinewidth": 0,
             "ticks": ""
            },
            "colorscale": [
             [
              0,
              "#0d0887"
             ],
             [
              0.1111111111111111,
              "#46039f"
             ],
             [
              0.2222222222222222,
              "#7201a8"
             ],
             [
              0.3333333333333333,
              "#9c179e"
             ],
             [
              0.4444444444444444,
              "#bd3786"
             ],
             [
              0.5555555555555556,
              "#d8576b"
             ],
             [
              0.6666666666666666,
              "#ed7953"
             ],
             [
              0.7777777777777778,
              "#fb9f3a"
             ],
             [
              0.8888888888888888,
              "#fdca26"
             ],
             [
              1,
              "#f0f921"
             ]
            ],
            "type": "histogram2d"
           }
          ],
          "histogram2dcontour": [
           {
            "colorbar": {
             "outlinewidth": 0,
             "ticks": ""
            },
            "colorscale": [
             [
              0,
              "#0d0887"
             ],
             [
              0.1111111111111111,
              "#46039f"
             ],
             [
              0.2222222222222222,
              "#7201a8"
             ],
             [
              0.3333333333333333,
              "#9c179e"
             ],
             [
              0.4444444444444444,
              "#bd3786"
             ],
             [
              0.5555555555555556,
              "#d8576b"
             ],
             [
              0.6666666666666666,
              "#ed7953"
             ],
             [
              0.7777777777777778,
              "#fb9f3a"
             ],
             [
              0.8888888888888888,
              "#fdca26"
             ],
             [
              1,
              "#f0f921"
             ]
            ],
            "type": "histogram2dcontour"
           }
          ],
          "mesh3d": [
           {
            "colorbar": {
             "outlinewidth": 0,
             "ticks": ""
            },
            "type": "mesh3d"
           }
          ],
          "parcoords": [
           {
            "line": {
             "colorbar": {
              "outlinewidth": 0,
              "ticks": ""
             }
            },
            "type": "parcoords"
           }
          ],
          "pie": [
           {
            "automargin": true,
            "type": "pie"
           }
          ],
          "scatter": [
           {
            "fillpattern": {
             "fillmode": "overlay",
             "size": 10,
             "solidity": 0.2
            },
            "type": "scatter"
           }
          ],
          "scatter3d": [
           {
            "line": {
             "colorbar": {
              "outlinewidth": 0,
              "ticks": ""
             }
            },
            "marker": {
             "colorbar": {
              "outlinewidth": 0,
              "ticks": ""
             }
            },
            "type": "scatter3d"
           }
          ],
          "scattercarpet": [
           {
            "marker": {
             "colorbar": {
              "outlinewidth": 0,
              "ticks": ""
             }
            },
            "type": "scattercarpet"
           }
          ],
          "scattergeo": [
           {
            "marker": {
             "colorbar": {
              "outlinewidth": 0,
              "ticks": ""
             }
            },
            "type": "scattergeo"
           }
          ],
          "scattergl": [
           {
            "marker": {
             "colorbar": {
              "outlinewidth": 0,
              "ticks": ""
             }
            },
            "type": "scattergl"
           }
          ],
          "scattermapbox": [
           {
            "marker": {
             "colorbar": {
              "outlinewidth": 0,
              "ticks": ""
             }
            },
            "type": "scattermapbox"
           }
          ],
          "scatterpolar": [
           {
            "marker": {
             "colorbar": {
              "outlinewidth": 0,
              "ticks": ""
             }
            },
            "type": "scatterpolar"
           }
          ],
          "scatterpolargl": [
           {
            "marker": {
             "colorbar": {
              "outlinewidth": 0,
              "ticks": ""
             }
            },
            "type": "scatterpolargl"
           }
          ],
          "scatterternary": [
           {
            "marker": {
             "colorbar": {
              "outlinewidth": 0,
              "ticks": ""
             }
            },
            "type": "scatterternary"
           }
          ],
          "surface": [
           {
            "colorbar": {
             "outlinewidth": 0,
             "ticks": ""
            },
            "colorscale": [
             [
              0,
              "#0d0887"
             ],
             [
              0.1111111111111111,
              "#46039f"
             ],
             [
              0.2222222222222222,
              "#7201a8"
             ],
             [
              0.3333333333333333,
              "#9c179e"
             ],
             [
              0.4444444444444444,
              "#bd3786"
             ],
             [
              0.5555555555555556,
              "#d8576b"
             ],
             [
              0.6666666666666666,
              "#ed7953"
             ],
             [
              0.7777777777777778,
              "#fb9f3a"
             ],
             [
              0.8888888888888888,
              "#fdca26"
             ],
             [
              1,
              "#f0f921"
             ]
            ],
            "type": "surface"
           }
          ],
          "table": [
           {
            "cells": {
             "fill": {
              "color": "#EBF0F8"
             },
             "line": {
              "color": "white"
             }
            },
            "header": {
             "fill": {
              "color": "#C8D4E3"
             },
             "line": {
              "color": "white"
             }
            },
            "type": "table"
           }
          ]
         },
         "layout": {
          "annotationdefaults": {
           "arrowcolor": "#2a3f5f",
           "arrowhead": 0,
           "arrowwidth": 1
          },
          "autotypenumbers": "strict",
          "coloraxis": {
           "colorbar": {
            "outlinewidth": 0,
            "ticks": ""
           }
          },
          "colorscale": {
           "diverging": [
            [
             0,
             "#8e0152"
            ],
            [
             0.1,
             "#c51b7d"
            ],
            [
             0.2,
             "#de77ae"
            ],
            [
             0.3,
             "#f1b6da"
            ],
            [
             0.4,
             "#fde0ef"
            ],
            [
             0.5,
             "#f7f7f7"
            ],
            [
             0.6,
             "#e6f5d0"
            ],
            [
             0.7,
             "#b8e186"
            ],
            [
             0.8,
             "#7fbc41"
            ],
            [
             0.9,
             "#4d9221"
            ],
            [
             1,
             "#276419"
            ]
           ],
           "sequential": [
            [
             0,
             "#0d0887"
            ],
            [
             0.1111111111111111,
             "#46039f"
            ],
            [
             0.2222222222222222,
             "#7201a8"
            ],
            [
             0.3333333333333333,
             "#9c179e"
            ],
            [
             0.4444444444444444,
             "#bd3786"
            ],
            [
             0.5555555555555556,
             "#d8576b"
            ],
            [
             0.6666666666666666,
             "#ed7953"
            ],
            [
             0.7777777777777778,
             "#fb9f3a"
            ],
            [
             0.8888888888888888,
             "#fdca26"
            ],
            [
             1,
             "#f0f921"
            ]
           ],
           "sequentialminus": [
            [
             0,
             "#0d0887"
            ],
            [
             0.1111111111111111,
             "#46039f"
            ],
            [
             0.2222222222222222,
             "#7201a8"
            ],
            [
             0.3333333333333333,
             "#9c179e"
            ],
            [
             0.4444444444444444,
             "#bd3786"
            ],
            [
             0.5555555555555556,
             "#d8576b"
            ],
            [
             0.6666666666666666,
             "#ed7953"
            ],
            [
             0.7777777777777778,
             "#fb9f3a"
            ],
            [
             0.8888888888888888,
             "#fdca26"
            ],
            [
             1,
             "#f0f921"
            ]
           ]
          },
          "colorway": [
           "#636efa",
           "#EF553B",
           "#00cc96",
           "#ab63fa",
           "#FFA15A",
           "#19d3f3",
           "#FF6692",
           "#B6E880",
           "#FF97FF",
           "#FECB52"
          ],
          "font": {
           "color": "#2a3f5f"
          },
          "geo": {
           "bgcolor": "white",
           "lakecolor": "white",
           "landcolor": "white",
           "showlakes": true,
           "showland": true,
           "subunitcolor": "#C8D4E3"
          },
          "hoverlabel": {
           "align": "left"
          },
          "hovermode": "closest",
          "mapbox": {
           "style": "light"
          },
          "paper_bgcolor": "white",
          "plot_bgcolor": "white",
          "polar": {
           "angularaxis": {
            "gridcolor": "#EBF0F8",
            "linecolor": "#EBF0F8",
            "ticks": ""
           },
           "bgcolor": "white",
           "radialaxis": {
            "gridcolor": "#EBF0F8",
            "linecolor": "#EBF0F8",
            "ticks": ""
           }
          },
          "scene": {
           "xaxis": {
            "backgroundcolor": "white",
            "gridcolor": "#DFE8F3",
            "gridwidth": 2,
            "linecolor": "#EBF0F8",
            "showbackground": true,
            "ticks": "",
            "zerolinecolor": "#EBF0F8"
           },
           "yaxis": {
            "backgroundcolor": "white",
            "gridcolor": "#DFE8F3",
            "gridwidth": 2,
            "linecolor": "#EBF0F8",
            "showbackground": true,
            "ticks": "",
            "zerolinecolor": "#EBF0F8"
           },
           "zaxis": {
            "backgroundcolor": "white",
            "gridcolor": "#DFE8F3",
            "gridwidth": 2,
            "linecolor": "#EBF0F8",
            "showbackground": true,
            "ticks": "",
            "zerolinecolor": "#EBF0F8"
           }
          },
          "shapedefaults": {
           "line": {
            "color": "#2a3f5f"
           }
          },
          "ternary": {
           "aaxis": {
            "gridcolor": "#DFE8F3",
            "linecolor": "#A2B1C6",
            "ticks": ""
           },
           "baxis": {
            "gridcolor": "#DFE8F3",
            "linecolor": "#A2B1C6",
            "ticks": ""
           },
           "bgcolor": "white",
           "caxis": {
            "gridcolor": "#DFE8F3",
            "linecolor": "#A2B1C6",
            "ticks": ""
           }
          },
          "title": {
           "x": 0.05
          },
          "xaxis": {
           "automargin": true,
           "gridcolor": "#EBF0F8",
           "linecolor": "#EBF0F8",
           "ticks": "",
           "title": {
            "standoff": 15
           },
           "zerolinecolor": "#EBF0F8",
           "zerolinewidth": 2
          },
          "yaxis": {
           "automargin": true,
           "gridcolor": "#EBF0F8",
           "linecolor": "#EBF0F8",
           "ticks": "",
           "title": {
            "standoff": 15
           },
           "zerolinecolor": "#EBF0F8",
           "zerolinewidth": 2
          }
         }
        },
        "title": {
         "text": "United States"
        },
        "xaxis": {
         "anchor": "y",
         "domain": [
          0,
          1
         ],
         "title": {
          "text": "date"
         }
        },
        "yaxis": {
         "anchor": "x",
         "domain": [
          0,
          1
         ],
         "title": {
          "text": "Cumulative Confirmed Cases"
         }
        }
       }
      }
     },
     "metadata": {},
     "output_type": "display_data"
    }
   ],
   "source": [
    "country_list_5 = dff[\"country\"].unique().tolist()\n",
    "\n",
    "dd_country_5 = widgets.Dropdown(options=country_list_5)\n",
    "\n",
    "output_country_5 = widgets.Output()\n",
    "\n",
    "\n",
    "def dd_country_5_eventhandler(change):\n",
    "    output_country_5.clear_output()\n",
    "\n",
    "    plot_data = (\n",
    "        dff.loc[dff[\"country\"] == change.new]\n",
    "        .groupby([\"date\", \"data\"])\n",
    "        .sum()\n",
    "        .reset_index()\n",
    "    )\n",
    "\n",
    "    fig = px.bar(\n",
    "        plot_data,\n",
    "        x=\"date\",\n",
    "        y=\"all_cases_inc\",\n",
    "        color=\"data\",\n",
    "        template=\"plotly_white\",\n",
    "        color_discrete_sequence=px.colors.qualitative.D3,\n",
    "        title=change.new,\n",
    "    )\n",
    "\n",
    "    fig.update_layout(yaxis_title=\"Daily New Confirmed Cases\")\n",
    "\n",
    "    fig2 = px.bar(\n",
    "        plot_data,\n",
    "        x=\"date\",\n",
    "        y=\"all_cases\",\n",
    "        color=\"data\",\n",
    "        template=\"plotly_white\",\n",
    "        color_discrete_sequence=px.colors.qualitative.D3,\n",
    "        title=change.new,\n",
    "    )\n",
    "\n",
    "    fig2.update_layout(yaxis_title=\"Cumulative Confirmed Cases\")\n",
    "\n",
    "    with output_country_5:\n",
    "        display(fig)\n",
    "        display(fig2)\n",
    "\n",
    "\n",
    "dd_country_5.observe(dd_country_5_eventhandler, names=\"value\")\n",
    "\n",
    "display(dd_country_5)"
   ]
  },
  {
   "cell_type": "code",
   "execution_count": 37,
   "metadata": {},
   "outputs": [],
   "source": [
    "china_southkorea_vect = dm_di[\"levels\"].str.contains(\"China|South Korea\", regex=True)"
   ]
  },
  {
   "cell_type": "code",
   "execution_count": 38,
   "metadata": {},
   "outputs": [],
   "source": [
    "dm_di[\"country_grp_2\"] = None\n",
    "\n",
    "dm_di.loc[china_southkorea_vect, \"country_grp_2\"] = \"grp 01\"\n",
    "\n",
    "s = stats.weightstats.DescrStatsW(\n",
    "    dm_di.loc[(dm_di[\"factors\"] == \"country_grp\") & (~china_southkorea_vect), \"coef\"],\n",
    "    dm_di.loc[\n",
    "        (dm_di[\"factors\"] == \"country_grp\") & (~china_southkorea_vect), \"factor_weight\"\n",
    "    ],\n",
    ")\n",
    "\n",
    "bins = s.quantile(np.linspace(0, 1, 11, True)).to_list()\n",
    "\n",
    "fbins = [\n",
    "    bins[i] - 0.000000001 if bins[i] == bins[i + 1] else bins[i]\n",
    "    for i in range(len(bins) - 1)\n",
    "]\n",
    "\n",
    "fbins[-1] = bins[-1]"
   ]
  },
  {
   "cell_type": "code",
   "execution_count": 39,
   "metadata": {},
   "outputs": [],
   "source": [
    "dm_di.loc[\n",
    "    (dm_di[\"factors\"] == \"country_grp\") & (~china_southkorea_vect), \"country_grp_2\"\n",
    "] = pd.cut(\n",
    "    dm_di.loc[(dm_di[\"factors\"] == \"country_grp\") & (~china_southkorea_vect), \"coef\"],\n",
    "    fbins,\n",
    "    include_lowest=True,\n",
    "    labels=[\"grp \" + str(i + 2).zfill(2) for i in range(len(fbins) - 1)],\n",
    ")"
   ]
  },
  {
   "cell_type": "code",
   "execution_count": 40,
   "metadata": {},
   "outputs": [
    {
     "data": {
      "application/vnd.plotly.v1+json": {
       "config": {
        "plotlyServerURL": "https://plot.ly"
       },
       "data": [
        {
         "alignmentgroup": "True",
         "boxpoints": "all",
         "hovertemplate": "country_grp_2=%{x}<br>coef=%{y}<extra></extra>",
         "legendgroup": "",
         "marker": {
          "color": "#1F77B4"
         },
         "name": "",
         "notched": false,
         "offsetgroup": "",
         "orientation": "v",
         "showlegend": false,
         "type": "box",
         "x": [
          "grp 01",
          "grp 01",
          "grp 01",
          "grp 02",
          "grp 02",
          "grp 02",
          "grp 02",
          "grp 02",
          "grp 02",
          "grp 02",
          "grp 02",
          "grp 02",
          "grp 02",
          "grp 02",
          "grp 02",
          "grp 03",
          "grp 03",
          "grp 03",
          "grp 04",
          "grp 04",
          "grp 04",
          "grp 04",
          "grp 04",
          "grp 04",
          "grp 04",
          "grp 04",
          "grp 04",
          "grp 05",
          "grp 05",
          "grp 05",
          "grp 05",
          "grp 05",
          "grp 05",
          "grp 05",
          "grp 05",
          "grp 05",
          "grp 05",
          "grp 06",
          "grp 06",
          "grp 06",
          "grp 06",
          "grp 06",
          "grp 06",
          "grp 06",
          "grp 06",
          "grp 06",
          "grp 06",
          "grp 07",
          "grp 07",
          "grp 07",
          "grp 07",
          "grp 07",
          "grp 07",
          "grp 07",
          "grp 07",
          "grp 07",
          "grp 07",
          "grp 07",
          "grp 07",
          "grp 07",
          "grp 07",
          "grp 07",
          "grp 07",
          "grp 07",
          "grp 07",
          "grp 07",
          "grp 07",
          "grp 08",
          "grp 08",
          "grp 08",
          "grp 08",
          "grp 08",
          "grp 08",
          "grp 08",
          "grp 08",
          "grp 08",
          "grp 08",
          "grp 08",
          "grp 08",
          "grp 08",
          "grp 08",
          "grp 08",
          "grp 09",
          "grp 09",
          "grp 09",
          "grp 09",
          "grp 09",
          "grp 09",
          "grp 09",
          "grp 09",
          "grp 10",
          "grp 10",
          "grp 10",
          "grp 10",
          "grp 10",
          "grp 10",
          "grp 10",
          "grp 10",
          "grp 10",
          "grp 10",
          "grp 10",
          "grp 10",
          "grp 10",
          "grp 10",
          "grp 10",
          "grp 10",
          "grp 10",
          "grp 10",
          "grp 10",
          "grp 10",
          "grp 10",
          "grp 10",
          "grp 10",
          "grp 10",
          "grp 10",
          "grp 10",
          "grp 10",
          "grp 10",
          "grp 10",
          "grp 10",
          "grp 10",
          "grp 10"
         ],
         "x0": " ",
         "xaxis": "x",
         "y": [
          -5.221289058500221,
          -5.283692094555969,
          -5.951456026959575,
          -4.394981501796862,
          -4.727126447656841,
          -4.311107255564563,
          -4.546170772698416,
          -4.501697376478385,
          -5.053620261189155,
          -4.7586807223232395,
          -4.269222889074828,
          -4.282524956162898,
          -4.43159607058405,
          -4.463869021131821,
          -4.7456992873890105,
          -4.197866536619413,
          -4.233457304058129,
          -4.256354179830872,
          -4.15949902854993,
          -4.055896800238919,
          -4.109740654652259,
          -4.154129834698982,
          -4.042874258941353,
          -4.134126349673427,
          -4.074714866558553,
          -4.031180277745989,
          -4.101079658495821,
          -3.944013139798705,
          -4.010068082372507,
          -3.9841456984386694,
          -3.916727889118201,
          -3.962274745746032,
          -3.962530230518079,
          -4.014109112591906,
          -3.972681522633111,
          -3.9829468066037443,
          -4.022205300822404,
          -3.885789571654888,
          -3.9085034087002057,
          -3.8996346193130083,
          -3.8637035498241765,
          -3.908037241268117,
          -3.899878475701922,
          -3.8366236882608638,
          -3.8453294260012325,
          -3.8482721947955154,
          -3.8606408161345604,
          -3.6603318232746105,
          -3.639968253825246,
          -3.707687415650997,
          -3.64810760585199,
          -3.698372033211385,
          -3.808174622716302,
          -3.825506371415533,
          -3.7310839744213617,
          -3.7179701641820944,
          -3.6697147540112014,
          -3.7218413559305383,
          -3.6433479947911387,
          -3.6729425131475115,
          -3.657000194855949,
          -3.663663179616877,
          -3.7364929645235367,
          -3.775509704700731,
          -3.7077172020832876,
          -3.6588822338783253,
          -3.7957352855503386,
          -3.6150771555527386,
          -3.5762632256266773,
          -3.623329340213913,
          -3.6225056250555556,
          -3.5554313384891456,
          -3.6136888877418816,
          -3.6269201540126854,
          -3.5737113925517896,
          -3.550583735735482,
          -3.5995666629940546,
          -3.6169339695055953,
          -3.591963421329059,
          -3.6356402857188415,
          -3.6030902050430687,
          -3.6132426442189267,
          -3.550373655920687,
          -3.5368604457720236,
          -3.490533574317942,
          -3.5100177151535235,
          -3.530545598937919,
          -3.5232747528298916,
          -3.502321602559488,
          -3.5000413098426564,
          -3.148099933751559,
          -3.4334366069190603,
          -3.3095346076313765,
          -3.384428923018705,
          -3.3569344229771065,
          -3.2532354188138575,
          -3.2140501263282277,
          -2.818659031916064,
          -3.4893141495521487,
          -3.2356177217675945,
          -3.2788472961314805,
          -3.449981724895151,
          -3.486215397565743,
          -3.099841126802083,
          -2.9334442852388403,
          -3.185490046389784,
          -3.4044745825302645,
          -3.0424432195791287,
          -3.3054627154490555,
          -3.1885774218534,
          -3.1250375032094726,
          -3.058327028137498,
          -3.416067054682172,
          -3.3177560370751458,
          -3.248519833680339,
          -3.454046641206898,
          -3.388700499059788,
          -3.2934167214750873,
          -3.1868242114424232,
          -3.333817683701739,
          -3.1337899259890394,
          -3.4600293111644165
         ],
         "y0": " ",
         "yaxis": "y"
        }
       ],
       "layout": {
        "boxmode": "group",
        "legend": {
         "tracegroupgap": 0
        },
        "template": {
         "data": {
          "bar": [
           {
            "error_x": {
             "color": "#2a3f5f"
            },
            "error_y": {
             "color": "#2a3f5f"
            },
            "marker": {
             "line": {
              "color": "white",
              "width": 0.5
             },
             "pattern": {
              "fillmode": "overlay",
              "size": 10,
              "solidity": 0.2
             }
            },
            "type": "bar"
           }
          ],
          "barpolar": [
           {
            "marker": {
             "line": {
              "color": "white",
              "width": 0.5
             },
             "pattern": {
              "fillmode": "overlay",
              "size": 10,
              "solidity": 0.2
             }
            },
            "type": "barpolar"
           }
          ],
          "carpet": [
           {
            "aaxis": {
             "endlinecolor": "#2a3f5f",
             "gridcolor": "#C8D4E3",
             "linecolor": "#C8D4E3",
             "minorgridcolor": "#C8D4E3",
             "startlinecolor": "#2a3f5f"
            },
            "baxis": {
             "endlinecolor": "#2a3f5f",
             "gridcolor": "#C8D4E3",
             "linecolor": "#C8D4E3",
             "minorgridcolor": "#C8D4E3",
             "startlinecolor": "#2a3f5f"
            },
            "type": "carpet"
           }
          ],
          "choropleth": [
           {
            "colorbar": {
             "outlinewidth": 0,
             "ticks": ""
            },
            "type": "choropleth"
           }
          ],
          "contour": [
           {
            "colorbar": {
             "outlinewidth": 0,
             "ticks": ""
            },
            "colorscale": [
             [
              0,
              "#0d0887"
             ],
             [
              0.1111111111111111,
              "#46039f"
             ],
             [
              0.2222222222222222,
              "#7201a8"
             ],
             [
              0.3333333333333333,
              "#9c179e"
             ],
             [
              0.4444444444444444,
              "#bd3786"
             ],
             [
              0.5555555555555556,
              "#d8576b"
             ],
             [
              0.6666666666666666,
              "#ed7953"
             ],
             [
              0.7777777777777778,
              "#fb9f3a"
             ],
             [
              0.8888888888888888,
              "#fdca26"
             ],
             [
              1,
              "#f0f921"
             ]
            ],
            "type": "contour"
           }
          ],
          "contourcarpet": [
           {
            "colorbar": {
             "outlinewidth": 0,
             "ticks": ""
            },
            "type": "contourcarpet"
           }
          ],
          "heatmap": [
           {
            "colorbar": {
             "outlinewidth": 0,
             "ticks": ""
            },
            "colorscale": [
             [
              0,
              "#0d0887"
             ],
             [
              0.1111111111111111,
              "#46039f"
             ],
             [
              0.2222222222222222,
              "#7201a8"
             ],
             [
              0.3333333333333333,
              "#9c179e"
             ],
             [
              0.4444444444444444,
              "#bd3786"
             ],
             [
              0.5555555555555556,
              "#d8576b"
             ],
             [
              0.6666666666666666,
              "#ed7953"
             ],
             [
              0.7777777777777778,
              "#fb9f3a"
             ],
             [
              0.8888888888888888,
              "#fdca26"
             ],
             [
              1,
              "#f0f921"
             ]
            ],
            "type": "heatmap"
           }
          ],
          "heatmapgl": [
           {
            "colorbar": {
             "outlinewidth": 0,
             "ticks": ""
            },
            "colorscale": [
             [
              0,
              "#0d0887"
             ],
             [
              0.1111111111111111,
              "#46039f"
             ],
             [
              0.2222222222222222,
              "#7201a8"
             ],
             [
              0.3333333333333333,
              "#9c179e"
             ],
             [
              0.4444444444444444,
              "#bd3786"
             ],
             [
              0.5555555555555556,
              "#d8576b"
             ],
             [
              0.6666666666666666,
              "#ed7953"
             ],
             [
              0.7777777777777778,
              "#fb9f3a"
             ],
             [
              0.8888888888888888,
              "#fdca26"
             ],
             [
              1,
              "#f0f921"
             ]
            ],
            "type": "heatmapgl"
           }
          ],
          "histogram": [
           {
            "marker": {
             "pattern": {
              "fillmode": "overlay",
              "size": 10,
              "solidity": 0.2
             }
            },
            "type": "histogram"
           }
          ],
          "histogram2d": [
           {
            "colorbar": {
             "outlinewidth": 0,
             "ticks": ""
            },
            "colorscale": [
             [
              0,
              "#0d0887"
             ],
             [
              0.1111111111111111,
              "#46039f"
             ],
             [
              0.2222222222222222,
              "#7201a8"
             ],
             [
              0.3333333333333333,
              "#9c179e"
             ],
             [
              0.4444444444444444,
              "#bd3786"
             ],
             [
              0.5555555555555556,
              "#d8576b"
             ],
             [
              0.6666666666666666,
              "#ed7953"
             ],
             [
              0.7777777777777778,
              "#fb9f3a"
             ],
             [
              0.8888888888888888,
              "#fdca26"
             ],
             [
              1,
              "#f0f921"
             ]
            ],
            "type": "histogram2d"
           }
          ],
          "histogram2dcontour": [
           {
            "colorbar": {
             "outlinewidth": 0,
             "ticks": ""
            },
            "colorscale": [
             [
              0,
              "#0d0887"
             ],
             [
              0.1111111111111111,
              "#46039f"
             ],
             [
              0.2222222222222222,
              "#7201a8"
             ],
             [
              0.3333333333333333,
              "#9c179e"
             ],
             [
              0.4444444444444444,
              "#bd3786"
             ],
             [
              0.5555555555555556,
              "#d8576b"
             ],
             [
              0.6666666666666666,
              "#ed7953"
             ],
             [
              0.7777777777777778,
              "#fb9f3a"
             ],
             [
              0.8888888888888888,
              "#fdca26"
             ],
             [
              1,
              "#f0f921"
             ]
            ],
            "type": "histogram2dcontour"
           }
          ],
          "mesh3d": [
           {
            "colorbar": {
             "outlinewidth": 0,
             "ticks": ""
            },
            "type": "mesh3d"
           }
          ],
          "parcoords": [
           {
            "line": {
             "colorbar": {
              "outlinewidth": 0,
              "ticks": ""
             }
            },
            "type": "parcoords"
           }
          ],
          "pie": [
           {
            "automargin": true,
            "type": "pie"
           }
          ],
          "scatter": [
           {
            "fillpattern": {
             "fillmode": "overlay",
             "size": 10,
             "solidity": 0.2
            },
            "type": "scatter"
           }
          ],
          "scatter3d": [
           {
            "line": {
             "colorbar": {
              "outlinewidth": 0,
              "ticks": ""
             }
            },
            "marker": {
             "colorbar": {
              "outlinewidth": 0,
              "ticks": ""
             }
            },
            "type": "scatter3d"
           }
          ],
          "scattercarpet": [
           {
            "marker": {
             "colorbar": {
              "outlinewidth": 0,
              "ticks": ""
             }
            },
            "type": "scattercarpet"
           }
          ],
          "scattergeo": [
           {
            "marker": {
             "colorbar": {
              "outlinewidth": 0,
              "ticks": ""
             }
            },
            "type": "scattergeo"
           }
          ],
          "scattergl": [
           {
            "marker": {
             "colorbar": {
              "outlinewidth": 0,
              "ticks": ""
             }
            },
            "type": "scattergl"
           }
          ],
          "scattermapbox": [
           {
            "marker": {
             "colorbar": {
              "outlinewidth": 0,
              "ticks": ""
             }
            },
            "type": "scattermapbox"
           }
          ],
          "scatterpolar": [
           {
            "marker": {
             "colorbar": {
              "outlinewidth": 0,
              "ticks": ""
             }
            },
            "type": "scatterpolar"
           }
          ],
          "scatterpolargl": [
           {
            "marker": {
             "colorbar": {
              "outlinewidth": 0,
              "ticks": ""
             }
            },
            "type": "scatterpolargl"
           }
          ],
          "scatterternary": [
           {
            "marker": {
             "colorbar": {
              "outlinewidth": 0,
              "ticks": ""
             }
            },
            "type": "scatterternary"
           }
          ],
          "surface": [
           {
            "colorbar": {
             "outlinewidth": 0,
             "ticks": ""
            },
            "colorscale": [
             [
              0,
              "#0d0887"
             ],
             [
              0.1111111111111111,
              "#46039f"
             ],
             [
              0.2222222222222222,
              "#7201a8"
             ],
             [
              0.3333333333333333,
              "#9c179e"
             ],
             [
              0.4444444444444444,
              "#bd3786"
             ],
             [
              0.5555555555555556,
              "#d8576b"
             ],
             [
              0.6666666666666666,
              "#ed7953"
             ],
             [
              0.7777777777777778,
              "#fb9f3a"
             ],
             [
              0.8888888888888888,
              "#fdca26"
             ],
             [
              1,
              "#f0f921"
             ]
            ],
            "type": "surface"
           }
          ],
          "table": [
           {
            "cells": {
             "fill": {
              "color": "#EBF0F8"
             },
             "line": {
              "color": "white"
             }
            },
            "header": {
             "fill": {
              "color": "#C8D4E3"
             },
             "line": {
              "color": "white"
             }
            },
            "type": "table"
           }
          ]
         },
         "layout": {
          "annotationdefaults": {
           "arrowcolor": "#2a3f5f",
           "arrowhead": 0,
           "arrowwidth": 1
          },
          "autotypenumbers": "strict",
          "coloraxis": {
           "colorbar": {
            "outlinewidth": 0,
            "ticks": ""
           }
          },
          "colorscale": {
           "diverging": [
            [
             0,
             "#8e0152"
            ],
            [
             0.1,
             "#c51b7d"
            ],
            [
             0.2,
             "#de77ae"
            ],
            [
             0.3,
             "#f1b6da"
            ],
            [
             0.4,
             "#fde0ef"
            ],
            [
             0.5,
             "#f7f7f7"
            ],
            [
             0.6,
             "#e6f5d0"
            ],
            [
             0.7,
             "#b8e186"
            ],
            [
             0.8,
             "#7fbc41"
            ],
            [
             0.9,
             "#4d9221"
            ],
            [
             1,
             "#276419"
            ]
           ],
           "sequential": [
            [
             0,
             "#0d0887"
            ],
            [
             0.1111111111111111,
             "#46039f"
            ],
            [
             0.2222222222222222,
             "#7201a8"
            ],
            [
             0.3333333333333333,
             "#9c179e"
            ],
            [
             0.4444444444444444,
             "#bd3786"
            ],
            [
             0.5555555555555556,
             "#d8576b"
            ],
            [
             0.6666666666666666,
             "#ed7953"
            ],
            [
             0.7777777777777778,
             "#fb9f3a"
            ],
            [
             0.8888888888888888,
             "#fdca26"
            ],
            [
             1,
             "#f0f921"
            ]
           ],
           "sequentialminus": [
            [
             0,
             "#0d0887"
            ],
            [
             0.1111111111111111,
             "#46039f"
            ],
            [
             0.2222222222222222,
             "#7201a8"
            ],
            [
             0.3333333333333333,
             "#9c179e"
            ],
            [
             0.4444444444444444,
             "#bd3786"
            ],
            [
             0.5555555555555556,
             "#d8576b"
            ],
            [
             0.6666666666666666,
             "#ed7953"
            ],
            [
             0.7777777777777778,
             "#fb9f3a"
            ],
            [
             0.8888888888888888,
             "#fdca26"
            ],
            [
             1,
             "#f0f921"
            ]
           ]
          },
          "colorway": [
           "#636efa",
           "#EF553B",
           "#00cc96",
           "#ab63fa",
           "#FFA15A",
           "#19d3f3",
           "#FF6692",
           "#B6E880",
           "#FF97FF",
           "#FECB52"
          ],
          "font": {
           "color": "#2a3f5f"
          },
          "geo": {
           "bgcolor": "white",
           "lakecolor": "white",
           "landcolor": "white",
           "showlakes": true,
           "showland": true,
           "subunitcolor": "#C8D4E3"
          },
          "hoverlabel": {
           "align": "left"
          },
          "hovermode": "closest",
          "mapbox": {
           "style": "light"
          },
          "paper_bgcolor": "white",
          "plot_bgcolor": "white",
          "polar": {
           "angularaxis": {
            "gridcolor": "#EBF0F8",
            "linecolor": "#EBF0F8",
            "ticks": ""
           },
           "bgcolor": "white",
           "radialaxis": {
            "gridcolor": "#EBF0F8",
            "linecolor": "#EBF0F8",
            "ticks": ""
           }
          },
          "scene": {
           "xaxis": {
            "backgroundcolor": "white",
            "gridcolor": "#DFE8F3",
            "gridwidth": 2,
            "linecolor": "#EBF0F8",
            "showbackground": true,
            "ticks": "",
            "zerolinecolor": "#EBF0F8"
           },
           "yaxis": {
            "backgroundcolor": "white",
            "gridcolor": "#DFE8F3",
            "gridwidth": 2,
            "linecolor": "#EBF0F8",
            "showbackground": true,
            "ticks": "",
            "zerolinecolor": "#EBF0F8"
           },
           "zaxis": {
            "backgroundcolor": "white",
            "gridcolor": "#DFE8F3",
            "gridwidth": 2,
            "linecolor": "#EBF0F8",
            "showbackground": true,
            "ticks": "",
            "zerolinecolor": "#EBF0F8"
           }
          },
          "shapedefaults": {
           "line": {
            "color": "#2a3f5f"
           }
          },
          "ternary": {
           "aaxis": {
            "gridcolor": "#DFE8F3",
            "linecolor": "#A2B1C6",
            "ticks": ""
           },
           "baxis": {
            "gridcolor": "#DFE8F3",
            "linecolor": "#A2B1C6",
            "ticks": ""
           },
           "bgcolor": "white",
           "caxis": {
            "gridcolor": "#DFE8F3",
            "linecolor": "#A2B1C6",
            "ticks": ""
           }
          },
          "title": {
           "x": 0.05
          },
          "xaxis": {
           "automargin": true,
           "gridcolor": "#EBF0F8",
           "linecolor": "#EBF0F8",
           "ticks": "",
           "title": {
            "standoff": 15
           },
           "zerolinecolor": "#EBF0F8",
           "zerolinewidth": 2
          },
          "yaxis": {
           "automargin": true,
           "gridcolor": "#EBF0F8",
           "linecolor": "#EBF0F8",
           "ticks": "",
           "title": {
            "standoff": 15
           },
           "zerolinecolor": "#EBF0F8",
           "zerolinewidth": 2
          }
         }
        },
        "title": {
         "text": "W. Quantile Grouping"
        },
        "xaxis": {
         "anchor": "y",
         "domain": [
          0,
          1
         ],
         "title": {
          "text": "country_grp_2"
         }
        },
        "yaxis": {
         "anchor": "x",
         "domain": [
          0,
          1
         ],
         "title": {
          "text": "coef"
         }
        }
       }
      }
     },
     "metadata": {},
     "output_type": "display_data"
    }
   ],
   "source": [
    "dta = dm_di.loc[(dm_di[\"factors\"] == \"country_grp\")].sort_values(\"country_grp_2\")\n",
    "\n",
    "fig = px.box(\n",
    "    dta,\n",
    "    x=\"country_grp_2\",\n",
    "    y=\"coef\",\n",
    "    points=\"all\",\n",
    "    template=\"plotly_white\",\n",
    "    color_discrete_sequence=px.colors.qualitative.D3,\n",
    "    title=\"W. Quantile Grouping\",\n",
    ")\n",
    "\n",
    "fig.show()"
   ]
  },
  {
   "cell_type": "code",
   "execution_count": 41,
   "metadata": {},
   "outputs": [
    {
     "data": {
      "text/plain": [
       "country_grp_2\n",
       "grp 01    0.027997\n",
       "grp 02    0.178123\n",
       "grp 03    0.204928\n",
       "grp 04    0.173812\n",
       "grp 05    0.156993\n",
       "grp 06    0.161601\n",
       "grp 07    0.184727\n",
       "grp 08    0.237005\n",
       "grp 09    0.097129\n",
       "grp 10    0.345302\n",
       "Name: factor_weight, dtype: float64"
      ]
     },
     "execution_count": 41,
     "metadata": {},
     "output_type": "execute_result"
    }
   ],
   "source": [
    "dm_di.loc[(dm_di[\"factors\"] == \"country_grp\")].groupby(\"country_grp_2\")[\n",
    "    \"factor_weight\"\n",
    "].sum()"
   ]
  }
 ],
 "metadata": {
  "kernelspec": {
   "display_name": "Python 3",
   "language": "python",
   "name": "python3"
  },
  "language_info": {
   "codemirror_mode": {
    "name": "ipython",
    "version": 3
   },
   "file_extension": ".py",
   "mimetype": "text/x-python",
   "name": "python",
   "nbconvert_exporter": "python",
   "pygments_lexer": "ipython3",
   "version": "3.8.1"
  }
 },
 "nbformat": 4,
 "nbformat_minor": 4
}
