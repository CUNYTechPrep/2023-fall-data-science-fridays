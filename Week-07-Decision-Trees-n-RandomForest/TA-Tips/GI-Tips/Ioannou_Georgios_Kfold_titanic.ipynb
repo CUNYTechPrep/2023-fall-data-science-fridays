{
 "cells": [
  {
   "cell_type": "markdown",
   "metadata": {},
   "source": [
    "---\n",
    "\n",
    "# Ioannou_Georgios\n"
   ]
  },
  {
   "cell_type": "markdown",
   "metadata": {},
   "source": [
    "## Copyright © 2023 by Georgios Ioannou\n"
   ]
  },
  {
   "cell_type": "markdown",
   "metadata": {},
   "source": [
    "---\n",
    "\n",
    "<h1 align=\"center\"> Train Test Split and Cross Validation </h1>\n"
   ]
  },
  {
   "cell_type": "markdown",
   "metadata": {},
   "source": [
    "---\n",
    "\n",
    "# LIBRARIES\n"
   ]
  },
  {
   "cell_type": "code",
   "execution_count": 1,
   "metadata": {},
   "outputs": [],
   "source": [
    "# Import libraries.\n",
    "\n",
    "import pandas as pd\n",
    "\n",
    "from sklearn.linear_model import LinearRegression\n",
    "from sklearn.metrics import make_scorer, mean_squared_error, accuracy_score\n",
    "from sklearn.model_selection import (\n",
    "    train_test_split,\n",
    "    cross_val_score,\n",
    "    StratifiedKFold,\n",
    "    KFold,\n",
    ")\n",
    "from sklearn.tree import DecisionTreeRegressor, DecisionTreeClassifier"
   ]
  },
  {
   "cell_type": "markdown",
   "metadata": {},
   "source": [
    "---\n",
    "\n",
    "# LOAD THE DATASET\n"
   ]
  },
  {
   "cell_type": "code",
   "execution_count": 3,
   "metadata": {},
   "outputs": [
    {
     "data": {
      "text/html": [
       "<div>\n",
       "<style scoped>\n",
       "    .dataframe tbody tr th:only-of-type {\n",
       "        vertical-align: middle;\n",
       "    }\n",
       "\n",
       "    .dataframe tbody tr th {\n",
       "        vertical-align: top;\n",
       "    }\n",
       "\n",
       "    .dataframe thead th {\n",
       "        text-align: right;\n",
       "    }\n",
       "</style>\n",
       "<table border=\"1\" class=\"dataframe\">\n",
       "  <thead>\n",
       "    <tr style=\"text-align: right;\">\n",
       "      <th></th>\n",
       "      <th>passengerid</th>\n",
       "      <th>survived</th>\n",
       "      <th>pclass</th>\n",
       "      <th>name</th>\n",
       "      <th>sex</th>\n",
       "      <th>age</th>\n",
       "      <th>sibsp</th>\n",
       "      <th>parch</th>\n",
       "      <th>ticket</th>\n",
       "      <th>fare</th>\n",
       "      <th>cabin</th>\n",
       "      <th>embarked</th>\n",
       "    </tr>\n",
       "  </thead>\n",
       "  <tbody>\n",
       "    <tr>\n",
       "      <th>0</th>\n",
       "      <td>1</td>\n",
       "      <td>0</td>\n",
       "      <td>3</td>\n",
       "      <td>Braund, Mr. Owen Harris</td>\n",
       "      <td>male</td>\n",
       "      <td>22.0</td>\n",
       "      <td>1</td>\n",
       "      <td>0</td>\n",
       "      <td>A/5 21171</td>\n",
       "      <td>7.2500</td>\n",
       "      <td>NaN</td>\n",
       "      <td>S</td>\n",
       "    </tr>\n",
       "    <tr>\n",
       "      <th>1</th>\n",
       "      <td>2</td>\n",
       "      <td>1</td>\n",
       "      <td>1</td>\n",
       "      <td>Cumings, Mrs. John Bradley (Florence Briggs Th...</td>\n",
       "      <td>female</td>\n",
       "      <td>38.0</td>\n",
       "      <td>1</td>\n",
       "      <td>0</td>\n",
       "      <td>PC 17599</td>\n",
       "      <td>71.2833</td>\n",
       "      <td>C85</td>\n",
       "      <td>C</td>\n",
       "    </tr>\n",
       "    <tr>\n",
       "      <th>2</th>\n",
       "      <td>3</td>\n",
       "      <td>1</td>\n",
       "      <td>3</td>\n",
       "      <td>Heikkinen, Miss. Laina</td>\n",
       "      <td>female</td>\n",
       "      <td>26.0</td>\n",
       "      <td>0</td>\n",
       "      <td>0</td>\n",
       "      <td>STON/O2. 3101282</td>\n",
       "      <td>7.9250</td>\n",
       "      <td>NaN</td>\n",
       "      <td>S</td>\n",
       "    </tr>\n",
       "    <tr>\n",
       "      <th>3</th>\n",
       "      <td>4</td>\n",
       "      <td>1</td>\n",
       "      <td>1</td>\n",
       "      <td>Futrelle, Mrs. Jacques Heath (Lily May Peel)</td>\n",
       "      <td>female</td>\n",
       "      <td>35.0</td>\n",
       "      <td>1</td>\n",
       "      <td>0</td>\n",
       "      <td>113803</td>\n",
       "      <td>53.1000</td>\n",
       "      <td>C123</td>\n",
       "      <td>S</td>\n",
       "    </tr>\n",
       "    <tr>\n",
       "      <th>4</th>\n",
       "      <td>5</td>\n",
       "      <td>0</td>\n",
       "      <td>3</td>\n",
       "      <td>Allen, Mr. William Henry</td>\n",
       "      <td>male</td>\n",
       "      <td>35.0</td>\n",
       "      <td>0</td>\n",
       "      <td>0</td>\n",
       "      <td>373450</td>\n",
       "      <td>8.0500</td>\n",
       "      <td>NaN</td>\n",
       "      <td>S</td>\n",
       "    </tr>\n",
       "  </tbody>\n",
       "</table>\n",
       "</div>"
      ],
      "text/plain": [
       "   passengerid  survived  pclass  \\\n",
       "0            1         0       3   \n",
       "1            2         1       1   \n",
       "2            3         1       3   \n",
       "3            4         1       1   \n",
       "4            5         0       3   \n",
       "\n",
       "                                                name     sex   age  sibsp  \\\n",
       "0                            Braund, Mr. Owen Harris    male  22.0      1   \n",
       "1  Cumings, Mrs. John Bradley (Florence Briggs Th...  female  38.0      1   \n",
       "2                             Heikkinen, Miss. Laina  female  26.0      0   \n",
       "3       Futrelle, Mrs. Jacques Heath (Lily May Peel)  female  35.0      1   \n",
       "4                           Allen, Mr. William Henry    male  35.0      0   \n",
       "\n",
       "   parch            ticket     fare cabin embarked  \n",
       "0      0         A/5 21171   7.2500   NaN        S  \n",
       "1      0          PC 17599  71.2833   C85        C  \n",
       "2      0  STON/O2. 3101282   7.9250   NaN        S  \n",
       "3      0            113803  53.1000  C123        S  \n",
       "4      0            373450   8.0500   NaN        S  "
      ]
     },
     "execution_count": 3,
     "metadata": {},
     "output_type": "execute_result"
    }
   ],
   "source": [
    "# Load the titanic data set into a pandas data frame.\n",
    "\n",
    "# Read the file titanic.csv and load the data.\n",
    "\n",
    "df = pd.read_csv(\"titanic.csv\")\n",
    "\n",
    "# Print/Display/Return the first 5 rows of the file\n",
    "\n",
    "df.head()"
   ]
  },
  {
   "cell_type": "code",
   "execution_count": 4,
   "metadata": {},
   "outputs": [
    {
     "data": {
      "text/plain": [
       "(891, 12)"
      ]
     },
     "execution_count": 4,
     "metadata": {},
     "output_type": "execute_result"
    }
   ],
   "source": [
    "# Sanity check.\n",
    "\n",
    "df.shape"
   ]
  },
  {
   "cell_type": "code",
   "execution_count": 5,
   "metadata": {},
   "outputs": [],
   "source": [
    "# We will predict age base on Pclass and Fare.\n",
    "# Regression task.\n",
    "# Therefore, make sure to drop all Nan Age values.\n",
    "\n",
    "df = df.dropna(subset=[\"age\"])"
   ]
  },
  {
   "cell_type": "code",
   "execution_count": 6,
   "metadata": {},
   "outputs": [
    {
     "data": {
      "text/plain": [
       "(714, 12)"
      ]
     },
     "execution_count": 6,
     "metadata": {},
     "output_type": "execute_result"
    }
   ],
   "source": [
    "# Sanity check.\n",
    "\n",
    "df.shape"
   ]
  },
  {
   "cell_type": "markdown",
   "metadata": {},
   "source": [
    "---\n",
    "\n",
    "# REGRESSION TASK\n",
    "\n",
    "- ### For regression task (predicting age):\n",
    "- ### Features (X) will be 'Pclass' and 'Fare'.\n",
    "- ### Target variable (y) will be 'Age'.\n"
   ]
  },
  {
   "cell_type": "markdown",
   "metadata": {},
   "source": [
    "---\n",
    "\n",
    "train_test_split\n"
   ]
  },
  {
   "cell_type": "code",
   "execution_count": 7,
   "metadata": {},
   "outputs": [
    {
     "name": "stdout",
     "output_type": "stream",
     "text": [
      "Mean Squared Error (MSE): 158.75096330976928\n"
     ]
    }
   ],
   "source": [
    "# For regression task (predicting age):\n",
    "# Features (X) will be 'Pclass' and 'Fare', and the target variable (y) will be 'Age'.\n",
    "\n",
    "selected_features = [\"pclass\", \"fare\"]\n",
    "X_regression = df[selected_features]\n",
    "y_regression = df[\"age\"]\n",
    "\n",
    "# Split the data into a training and testing set using train_test_split.\n",
    "\n",
    "X_train_reg, X_test_reg, y_train_reg, y_test_reg = train_test_split(\n",
    "    X_regression, y_regression, test_size=0.2, random_state=42\n",
    ")\n",
    "\n",
    "# Create a Linear Regression model.\n",
    "\n",
    "regression_model = LinearRegression()\n",
    "\n",
    "# Fit the model on the training data.\n",
    "\n",
    "regression_model.fit(X_train_reg, y_train_reg)\n",
    "\n",
    "# Make predictions on the test data.\n",
    "\n",
    "regression_predictions = regression_model.predict(X_test_reg)\n",
    "\n",
    "# Calculate Mean Squared Error (MSE).\n",
    "\n",
    "mse = mean_squared_error(y_test_reg, regression_predictions)\n",
    "\n",
    "print(f\"Mean Squared Error (MSE): {mse}\")"
   ]
  },
  {
   "cell_type": "markdown",
   "metadata": {},
   "source": [
    "---\n",
    "\n",
    "KFold\n"
   ]
  },
  {
   "cell_type": "code",
   "execution_count": 8,
   "metadata": {},
   "outputs": [
    {
     "name": "stdout",
     "output_type": "stream",
     "text": [
      "Fold 1 mse = 188.18373856109955\n",
      "Fold 2 mse = 130.70921289621666\n",
      "Fold 3 mse = 151.34768335213533\n",
      "Fold 4 mse = 193.11205944097435\n",
      "Fold 5 mse = 185.7043776434882\n",
      "Fold 6 mse = 140.2404363282263\n",
      "Fold 7 mse = 176.07890428656205\n",
      "Fold 8 mse = 212.7884777586146\n",
      "Fold 9 mse = 229.32235052074904\n",
      "Fold 10 mse = 195.85176687126983\n",
      "\n",
      "Mean Squared Error (MSE) across all folds: 180.3339007659336\n"
     ]
    }
   ],
   "source": [
    "# Initialize KFold with the desired number of splits.\n",
    "\n",
    "kf = KFold(n_splits=10, random_state=42, shuffle=True)\n",
    "\n",
    "# Create a Linear Regression model.\n",
    "\n",
    "regression_model = LinearRegression()\n",
    "\n",
    "# Initialize a list to store MSE for each fold.\n",
    "\n",
    "mse_scores = []\n",
    "\n",
    "# Perform k-fold cross-validation.\n",
    "\n",
    "i = 0\n",
    "for train_index, test_index in kf.split(X_regression):\n",
    "    i += 1\n",
    "    # print(\"Fold:\", i)\n",
    "    # print(\"train_index =\", train_index)\n",
    "    # print(\"test_index =\", test_index)\n",
    "\n",
    "    # Setup your train and test indices.\n",
    "\n",
    "    X_train_reg, X_test_reg = (\n",
    "        X_regression.iloc[train_index],\n",
    "        X_regression.iloc[test_index],\n",
    "    )\n",
    "    y_train_reg, y_test_reg = (\n",
    "        y_regression.iloc[train_index],\n",
    "        y_regression.iloc[test_index],\n",
    "    )\n",
    "\n",
    "    # Reset the model.\n",
    "\n",
    "    regression_model = LinearRegression()\n",
    "\n",
    "    # Fit the model on the training data for each fold.\n",
    "\n",
    "    regression_model.fit(X_train_reg, y_train_reg)\n",
    "\n",
    "    # Make predictions on the test data for each fold.\n",
    "\n",
    "    regression_predictions = regression_model.predict(X_test_reg)\n",
    "\n",
    "    # Calculate the Mean Squared Error (MSE) for each fold.\n",
    "\n",
    "    mse = mean_squared_error(y_test_reg, regression_predictions)\n",
    "    print(\"Fold\", i, \"mse =\", mse)\n",
    "    mse_scores.append(mse)\n",
    "\n",
    "    # NOTE: Here you can check if the current mse loss is less than the previous one and resave the model.\n",
    "    # Fold 2, Fold 3, and Fold 6 performed better than the previous cell with only one train test split.\n",
    "\n",
    "# Calculate the mean MSE over all folds.\n",
    "\n",
    "mean_mse = sum(mse_scores) / len(mse_scores)\n",
    "print(f\"\\nMean Squared Error (MSE) across all folds: {mean_mse}\")"
   ]
  },
  {
   "cell_type": "markdown",
   "metadata": {},
   "source": [
    "### You can use cross_val_score from scikit-learn to perform cross-validation and calculate scores directly without the need for manually splitting the data into folds.\n"
   ]
  },
  {
   "cell_type": "code",
   "execution_count": 9,
   "metadata": {},
   "outputs": [
    {
     "name": "stdout",
     "output_type": "stream",
     "text": [
      "Mean Squared Error (MSE) across all folds: 180.74101137875493\n"
     ]
    }
   ],
   "source": [
    "# Create a Linear Regression model.\n",
    "\n",
    "regression_model = LinearRegression()\n",
    "\n",
    "# Define a scoring function (negative MSE) for cross_val_score.\n",
    "\n",
    "scoring = make_scorer(mean_squared_error, greater_is_better=False)\n",
    "\n",
    "# Use cross_val_score for cross-validation.\n",
    "\n",
    "mse_scores = cross_val_score(\n",
    "    regression_model, X_regression, y_regression, cv=10, scoring=scoring\n",
    ")\n",
    "\n",
    "# Calculate the mean MSE over all folds.\n",
    "\n",
    "mean_mse = -mse_scores.mean()\n",
    "print(f\"Mean Squared Error (MSE) across all folds: {mean_mse}\")"
   ]
  },
  {
   "cell_type": "markdown",
   "metadata": {},
   "source": [
    "---\n",
    "\n",
    "# CLASSIFICATION TASK\n",
    "\n",
    "- ### For classification task (predicting survival):\n",
    "- ### Features (X) will be 'Pclass' and 'Fare'.\n",
    "- ### Target variable (y) will be 'Survived'.\n"
   ]
  },
  {
   "cell_type": "markdown",
   "metadata": {},
   "source": [
    "---\n",
    "\n",
    "train_test_split with stratify\n"
   ]
  },
  {
   "cell_type": "code",
   "execution_count": 10,
   "metadata": {},
   "outputs": [
    {
     "name": "stdout",
     "output_type": "stream",
     "text": [
      "Accuracy: 0.6312849162011173\n"
     ]
    }
   ],
   "source": [
    "# For classification task (predicting survival):\n",
    "# Features (X) will be 'Pclass' and 'Fare', and the target variable (y) will be 'Survived'.\n",
    "\n",
    "# Read the file titanic.csv and load the data.\n",
    "\n",
    "df = pd.read_csv(\"titanic.csv\")\n",
    "\n",
    "selected_features = [\"pclass\", \"fare\"]\n",
    "X_classification = df[selected_features]\n",
    "y_classification = df[\"survived\"]\n",
    "\n",
    "# Split the data into a training and testing set using train_test_split with stratification.\n",
    "\n",
    "X_train_class, X_test_class, y_train_class, y_test_class = train_test_split(\n",
    "    X_classification,\n",
    "    y_classification,\n",
    "    test_size=0.2,\n",
    "    random_state=42,\n",
    "    stratify=y_classification,\n",
    ")\n",
    "\n",
    "# Create a Decision Tree Classifier model.\n",
    "\n",
    "classification_model = DecisionTreeClassifier(random_state=42)\n",
    "\n",
    "# Fit the model on the training data.\n",
    "\n",
    "classification_model.fit(X_train_class, y_train_class)\n",
    "\n",
    "# Make predictions on the test data.\n",
    "\n",
    "classification_predictions = classification_model.predict(X_test_class)\n",
    "\n",
    "# Calculate accuracy for classification.\n",
    "\n",
    "accuracy = accuracy_score(y_test_class, classification_predictions)\n",
    "print(f\"Accuracy: {accuracy}\")"
   ]
  },
  {
   "cell_type": "markdown",
   "metadata": {},
   "source": [
    "---\n",
    "\n",
    "StratifiedKFold\n"
   ]
  },
  {
   "cell_type": "code",
   "execution_count": 11,
   "metadata": {},
   "outputs": [
    {
     "name": "stdout",
     "output_type": "stream",
     "text": [
      "Fold 1 accuracy = 0.6833333333333333\n",
      "Fold 2 accuracy = 0.75\n",
      "Fold 3 accuracy = 0.6833333333333333\n",
      "Fold 4 accuracy = 0.75\n",
      "Fold 5 accuracy = 0.6\n",
      "Fold 6 accuracy = 0.7333333333333333\n",
      "Fold 7 accuracy = 0.6610169491525424\n",
      "Fold 8 accuracy = 0.7457627118644068\n",
      "Fold 9 accuracy = 0.711864406779661\n",
      "Fold 10 accuracy = 0.6779661016949152\n",
      "Fold 11 accuracy = 0.6610169491525424\n",
      "Fold 12 accuracy = 0.6949152542372882\n",
      "Fold 13 accuracy = 0.6779661016949152\n",
      "Fold 14 accuracy = 0.576271186440678\n",
      "Fold 15 accuracy = 0.711864406779661\n",
      "\n",
      "Mean Cross-Validation Accuracy: 0.687909604519774\n"
     ]
    }
   ],
   "source": [
    "# Now, perform cross-validation using Stratified K-Fold for classification.\n",
    "\n",
    "\n",
    "# Create a StratifiedKFold object.\n",
    "\n",
    "stratified_kfold = StratifiedKFold(n_splits=15, random_state=42, shuffle=True)\n",
    "\n",
    "# Create a Decision Tree Classifier model.\n",
    "\n",
    "model = DecisionTreeClassifier(random_state=42)\n",
    "\n",
    "# Initialize a list to store cross-validation scores.\n",
    "\n",
    "cv_scores = []\n",
    "\n",
    "# Perform StratifiedKFold cross-validation.\n",
    "\n",
    "i = 0\n",
    "for train_index, test_index in stratified_kfold.split(\n",
    "    X_classification, y_classification\n",
    "):\n",
    "    i += 1\n",
    "    # print(\"Fold:\", i)\n",
    "    # print(\"train_index =\", train_index)\n",
    "    # print(\"test_index =\", test_index)\n",
    "\n",
    "    # Setup your train and test indices.\n",
    "\n",
    "    X_train_cv, X_test_cv = (\n",
    "        X_classification.iloc[train_index],\n",
    "        X_classification.iloc[test_index],\n",
    "    )\n",
    "    y_train_cv, y_test_cv = (\n",
    "        y_classification.iloc[train_index],\n",
    "        y_classification.iloc[test_index],\n",
    "    )\n",
    "\n",
    "    # Reset the model.\n",
    "\n",
    "    model = DecisionTreeClassifier(random_state=42)\n",
    "\n",
    "    # Fit the model on the training data for each fold.\n",
    "\n",
    "    model.fit(X_train_cv, y_train_cv)\n",
    "\n",
    "    # Make predictions on the test data for each fold.\n",
    "\n",
    "    predictions_cv = model.predict(X_test_cv)\n",
    "\n",
    "    # Calculate the accuracy for each fold.\n",
    "\n",
    "    accuracy_cv = accuracy_score(y_test_cv, predictions_cv)\n",
    "    print(\"Fold\", i, \"accuracy =\", accuracy_cv)\n",
    "    cv_scores.append(accuracy_cv)\n",
    "\n",
    "    # NOTE: Here you can check if the current accuracy is less than the previous one and resave the model.\n",
    "    # Fold 5 and Fold 14 performed better than the previous cell with only one train test split.\n",
    "\n",
    "# Calculate the mean cross-validation accuracy.\n",
    "\n",
    "mean_cv_accuracy = sum(cv_scores) / len(cv_scores)\n",
    "print(f\"\\nMean Cross-Validation Accuracy: {mean_cv_accuracy}\")"
   ]
  },
  {
   "cell_type": "markdown",
   "metadata": {},
   "source": [
    "---\n",
    "\n",
    "<h1 align=\"center\"> To Use The stratify Parameter Or Not To Use It? </h1>\n"
   ]
  },
  {
   "cell_type": "markdown",
   "metadata": {},
   "source": [
    "---\n",
    "\n",
    "# Not Using the Stratify Parameter\n"
   ]
  },
  {
   "cell_type": "code",
   "execution_count": 12,
   "metadata": {},
   "outputs": [
    {
     "name": "stdout",
     "output_type": "stream",
     "text": [
      "Accuracy (Train-Test Split): 0.7094972067039106\n",
      "Mean Accuracy (Cross-Validation): 0.6600276191074006\n"
     ]
    }
   ],
   "source": [
    "df = pd.read_csv(\"titanic.csv\")\n",
    "\n",
    "# For classification task (predicting survival):\n",
    "# Features (X) will be 'Pclass', 'Fare', 'Age', 'Sibsp', 'Parch, and the target variable (y) will be 'Survived'.\n",
    "\n",
    "selected_features = [\"pclass\", \"fare\", \"age\", \"sibsp\", \"parch\"]\n",
    "X = df[selected_features]\n",
    "y = df[\"survived\"]\n",
    "\n",
    "# Split the data into a single train-test split.\n",
    "\n",
    "X_train, X_test, y_train, y_test = train_test_split(\n",
    "    X, y, test_size=0.2, random_state=42\n",
    ")\n",
    "\n",
    "# Create a Decision Tree Classifier model.\n",
    "\n",
    "dt_classifier = DecisionTreeClassifier(random_state=42)\n",
    "\n",
    "# Fit the model on the training data.\n",
    "\n",
    "dt_classifier.fit(X_train, y_train)\n",
    "\n",
    "# Make predictions on the test data.\n",
    "\n",
    "predictions = dt_classifier.predict(X_test)\n",
    "\n",
    "# Calculate accuracy for the train-test split.\n",
    "\n",
    "accuracy_test_split = accuracy_score(y_test, predictions)\n",
    "print(f\"Accuracy (Train-Test Split): {accuracy_test_split}\")\n",
    "\n",
    "# Now, let's use cross-validation to evaluate the model's performance\n",
    "# 5-fold cross-validation.\n",
    "\n",
    "cv_scores = cross_val_score(dt_classifier, X, y, cv=5, scoring=\"accuracy\")\n",
    "\n",
    "# Calculate the mean accuracy over all folds.\n",
    "\n",
    "mean_accuracy_cv = cv_scores.mean()\n",
    "print(f\"Mean Accuracy (Cross-Validation): {mean_accuracy_cv}\")"
   ]
  },
  {
   "cell_type": "markdown",
   "metadata": {},
   "source": [
    "---\n",
    "\n",
    "# Using the Stratify Parameter\n"
   ]
  },
  {
   "cell_type": "code",
   "execution_count": 13,
   "metadata": {},
   "outputs": [
    {
     "name": "stdout",
     "output_type": "stream",
     "text": [
      "Accuracy (Train-Test Split): 0.6536312849162011\n",
      "Mean Accuracy (Cross-Validation): 0.6600276191074006\n"
     ]
    }
   ],
   "source": [
    "# For classification task (predicting survival):\n",
    "# Features (X) will be 'Pclass', 'Fare', 'Age', 'Sibsp', 'Parch, and the target variable (y) will be 'Survived'.\n",
    "\n",
    "selected_features = [\"pclass\", \"fare\", \"age\", \"sibsp\", \"parch\"]\n",
    "X = df[selected_features]\n",
    "y = df[\"survived\"]\n",
    "\n",
    "# Split the data into a single train-test split.\n",
    "\n",
    "X_train, X_test, y_train, y_test = train_test_split(\n",
    "    X, y, test_size=0.2, random_state=42, stratify=y\n",
    ")\n",
    "\n",
    "# Create a Decision Tree Classifier model.\n",
    "\n",
    "dt_classifier = DecisionTreeClassifier(random_state=42)\n",
    "\n",
    "# Fit the model on the training data.\n",
    "\n",
    "dt_classifier.fit(X_train, y_train)\n",
    "\n",
    "# Make predictions on the test data.\n",
    "\n",
    "predictions = dt_classifier.predict(X_test)\n",
    "\n",
    "# Calculate accuracy for the train-test split.\n",
    "\n",
    "accuracy_test_split = accuracy_score(y_test, predictions)\n",
    "print(f\"Accuracy (Train-Test Split): {accuracy_test_split}\")\n",
    "\n",
    "# Now, let's use cross-validation to evaluate the model's performance\n",
    "# 5-fold cross-validation.\n",
    "\n",
    "cv_scores = cross_val_score(dt_classifier, X, y, cv=5, scoring=\"accuracy\")\n",
    "\n",
    "# Calculate the mean accuracy over all folds.\n",
    "\n",
    "mean_accuracy_cv = cv_scores.mean()\n",
    "print(f\"Mean Accuracy (Cross-Validation): {mean_accuracy_cv}\")"
   ]
  },
  {
   "cell_type": "code",
   "execution_count": null,
   "metadata": {},
   "outputs": [],
   "source": []
  },
  {
   "cell_type": "code",
   "execution_count": null,
   "metadata": {},
   "outputs": [],
   "source": []
  },
  {
   "cell_type": "code",
   "execution_count": null,
   "metadata": {},
   "outputs": [],
   "source": []
  }
 ],
 "metadata": {
  "kernelspec": {
   "display_name": "Python 3 (ipykernel)",
   "language": "python",
   "name": "python3"
  },
  "language_info": {
   "codemirror_mode": {
    "name": "ipython",
    "version": 3
   },
   "file_extension": ".py",
   "mimetype": "text/x-python",
   "name": "python",
   "nbconvert_exporter": "python",
   "pygments_lexer": "ipython3",
   "version": "3.11.4"
  }
 },
 "nbformat": 4,
 "nbformat_minor": 2
}
