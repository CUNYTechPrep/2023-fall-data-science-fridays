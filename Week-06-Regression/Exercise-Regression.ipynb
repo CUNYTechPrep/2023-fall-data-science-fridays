{
 "cells": [
  {
   "cell_type": "markdown",
   "metadata": {},
   "source": [
    "### Regression Exercise \n",
    "# Moneyball The NBA"
   ]
  },
  {
   "cell_type": "markdown",
   "metadata": {},
   "source": [
    "##### Import Our Libraries"
   ]
  },
  {
   "cell_type": "code",
   "execution_count": 2,
   "metadata": {},
   "outputs": [],
   "source": [
    "# PANDAS IS FOR DATA WRANGLING\n",
    "import pandas as pd\n",
    "import numpy as np\n",
    "\n",
    "# SEABORN IS A PLOTTING LIBRARY\n",
    "import seaborn as sns\n",
    "\n",
    "# MATPLOT LIB IS ALSO A PLOTTING LIBRARY\n",
    "import matplotlib.pyplot as plt\n",
    "\n",
    "# SKLEARN IS OUR MACHINE LEARNING PACKAGE\n",
    "from sklearn.linear_model import LinearRegression\n",
    "\n",
    "# IMPORT OUR RANDOM FOREST REGERSSOR\n",
    "from sklearn.ensemble import RandomForestRegressor\n",
    "\n",
    "# METRICS HELP US SCORE OUR MODEL\n",
    "from sklearn import metrics\n",
    "\n",
    "# HELP US SPLIT OUR DATA INTO TESTING A TRAINING\n",
    "from sklearn.model_selection import train_test_split\n",
    "\n",
    "# Good ol statsmodels\n",
    "import statsmodels.api as sm\n",
    "\n",
    "# Specific root mean squared error for stats models\n",
    "from statsmodels.tools.eval_measures import rmse\n",
    "\n",
    "\n",
    "from statsmodels.stats.outliers_influence import variance_inflation_factor\n",
    "\n",
    "\n",
    "from statsmodels.api import qqplot\n",
    "\n",
    "import CTPLIB as ctp\n"
   ]
  },
  {
   "cell_type": "markdown",
   "metadata": {},
   "source": [
    "# Remember our main steps motto _isbe_.\n",
    "1. i - Inspect and explore data.\n",
    "2. s - Select and engineer features.\n",
    "3. b - Build and train model.\n",
    "4. e - Evaluate model."
   ]
  },
  {
   "cell_type": "markdown",
   "metadata": {},
   "source": [
    "# STEP 1 (i): Inspect and explore data\n",
    "1. Use `data/NBA_test.csv and data/NBA_train.csv`"
   ]
  },
  {
   "cell_type": "code",
   "execution_count": 4,
   "metadata": {},
   "outputs": [
    {
     "data": {
      "text/html": [
       "<div>\n",
       "<style scoped>\n",
       "    .dataframe tbody tr th:only-of-type {\n",
       "        vertical-align: middle;\n",
       "    }\n",
       "\n",
       "    .dataframe tbody tr th {\n",
       "        vertical-align: top;\n",
       "    }\n",
       "\n",
       "    .dataframe thead th {\n",
       "        text-align: right;\n",
       "    }\n",
       "</style>\n",
       "<table border=\"1\" class=\"dataframe\">\n",
       "  <thead>\n",
       "    <tr style=\"text-align: right;\">\n",
       "      <th></th>\n",
       "      <th>SeasonEnd</th>\n",
       "      <th>Team</th>\n",
       "      <th>Playoffs</th>\n",
       "      <th>W</th>\n",
       "      <th>PTS</th>\n",
       "      <th>oppPTS</th>\n",
       "      <th>FG</th>\n",
       "      <th>FGA</th>\n",
       "      <th>2P</th>\n",
       "      <th>2PA</th>\n",
       "      <th>3P</th>\n",
       "      <th>3PA</th>\n",
       "      <th>FT</th>\n",
       "      <th>FTA</th>\n",
       "      <th>ORB</th>\n",
       "      <th>DRB</th>\n",
       "      <th>AST</th>\n",
       "      <th>STL</th>\n",
       "      <th>BLK</th>\n",
       "      <th>TOV</th>\n",
       "    </tr>\n",
       "  </thead>\n",
       "  <tbody>\n",
       "    <tr>\n",
       "      <th>0</th>\n",
       "      <td>1980</td>\n",
       "      <td>Atlanta Hawks</td>\n",
       "      <td>1</td>\n",
       "      <td>50</td>\n",
       "      <td>8573</td>\n",
       "      <td>8334</td>\n",
       "      <td>3261</td>\n",
       "      <td>7027</td>\n",
       "      <td>3248</td>\n",
       "      <td>6952</td>\n",
       "      <td>13</td>\n",
       "      <td>75</td>\n",
       "      <td>2038</td>\n",
       "      <td>2645</td>\n",
       "      <td>1369</td>\n",
       "      <td>2406</td>\n",
       "      <td>1913</td>\n",
       "      <td>782</td>\n",
       "      <td>539</td>\n",
       "      <td>1495</td>\n",
       "    </tr>\n",
       "    <tr>\n",
       "      <th>1</th>\n",
       "      <td>1980</td>\n",
       "      <td>Boston Celtics</td>\n",
       "      <td>1</td>\n",
       "      <td>61</td>\n",
       "      <td>9303</td>\n",
       "      <td>8664</td>\n",
       "      <td>3617</td>\n",
       "      <td>7387</td>\n",
       "      <td>3455</td>\n",
       "      <td>6965</td>\n",
       "      <td>162</td>\n",
       "      <td>422</td>\n",
       "      <td>1907</td>\n",
       "      <td>2449</td>\n",
       "      <td>1227</td>\n",
       "      <td>2457</td>\n",
       "      <td>2198</td>\n",
       "      <td>809</td>\n",
       "      <td>308</td>\n",
       "      <td>1539</td>\n",
       "    </tr>\n",
       "    <tr>\n",
       "      <th>2</th>\n",
       "      <td>1980</td>\n",
       "      <td>Chicago Bulls</td>\n",
       "      <td>0</td>\n",
       "      <td>30</td>\n",
       "      <td>8813</td>\n",
       "      <td>9035</td>\n",
       "      <td>3362</td>\n",
       "      <td>6943</td>\n",
       "      <td>3292</td>\n",
       "      <td>6668</td>\n",
       "      <td>70</td>\n",
       "      <td>275</td>\n",
       "      <td>2019</td>\n",
       "      <td>2592</td>\n",
       "      <td>1115</td>\n",
       "      <td>2465</td>\n",
       "      <td>2152</td>\n",
       "      <td>704</td>\n",
       "      <td>392</td>\n",
       "      <td>1684</td>\n",
       "    </tr>\n",
       "    <tr>\n",
       "      <th>3</th>\n",
       "      <td>1980</td>\n",
       "      <td>Cleveland Cavaliers</td>\n",
       "      <td>0</td>\n",
       "      <td>37</td>\n",
       "      <td>9360</td>\n",
       "      <td>9332</td>\n",
       "      <td>3811</td>\n",
       "      <td>8041</td>\n",
       "      <td>3775</td>\n",
       "      <td>7854</td>\n",
       "      <td>36</td>\n",
       "      <td>187</td>\n",
       "      <td>1702</td>\n",
       "      <td>2205</td>\n",
       "      <td>1307</td>\n",
       "      <td>2381</td>\n",
       "      <td>2108</td>\n",
       "      <td>764</td>\n",
       "      <td>342</td>\n",
       "      <td>1370</td>\n",
       "    </tr>\n",
       "    <tr>\n",
       "      <th>4</th>\n",
       "      <td>1980</td>\n",
       "      <td>Denver Nuggets</td>\n",
       "      <td>0</td>\n",
       "      <td>30</td>\n",
       "      <td>8878</td>\n",
       "      <td>9240</td>\n",
       "      <td>3462</td>\n",
       "      <td>7470</td>\n",
       "      <td>3379</td>\n",
       "      <td>7215</td>\n",
       "      <td>83</td>\n",
       "      <td>255</td>\n",
       "      <td>1871</td>\n",
       "      <td>2539</td>\n",
       "      <td>1311</td>\n",
       "      <td>2524</td>\n",
       "      <td>2079</td>\n",
       "      <td>746</td>\n",
       "      <td>404</td>\n",
       "      <td>1533</td>\n",
       "    </tr>\n",
       "  </tbody>\n",
       "</table>\n",
       "</div>"
      ],
      "text/plain": [
       "   SeasonEnd                 Team  Playoffs   W   PTS  oppPTS    FG   FGA  \\\n",
       "0       1980        Atlanta Hawks         1  50  8573    8334  3261  7027   \n",
       "1       1980       Boston Celtics         1  61  9303    8664  3617  7387   \n",
       "2       1980        Chicago Bulls         0  30  8813    9035  3362  6943   \n",
       "3       1980  Cleveland Cavaliers         0  37  9360    9332  3811  8041   \n",
       "4       1980       Denver Nuggets         0  30  8878    9240  3462  7470   \n",
       "\n",
       "     2P   2PA   3P  3PA    FT   FTA   ORB   DRB   AST  STL  BLK   TOV  \n",
       "0  3248  6952   13   75  2038  2645  1369  2406  1913  782  539  1495  \n",
       "1  3455  6965  162  422  1907  2449  1227  2457  2198  809  308  1539  \n",
       "2  3292  6668   70  275  2019  2592  1115  2465  2152  704  392  1684  \n",
       "3  3775  7854   36  187  1702  2205  1307  2381  2108  764  342  1370  \n",
       "4  3379  7215   83  255  1871  2539  1311  2524  2079  746  404  1533  "
      ]
     },
     "execution_count": 4,
     "metadata": {},
     "output_type": "execute_result"
    }
   ],
   "source": [
    "# READ IN THE DATA USING PANDAS \n",
    "df = pd.read_csv('data/NBA_train.csv')\n",
    "\n",
    "\n",
    "# DISPLAY THE FIRST 5 ROWS\n",
    "df.head()"
   ]
  },
  {
   "cell_type": "markdown",
   "metadata": {},
   "source": [
    "```\n",
    "SeasonEnd: Year season ended\n",
    "Team: Name of team\n",
    "Playoffs: If they made the playoffs. 1 == made to playoffs\n",
    "W: Number of regular season in that season. \n",
    "PTS: Points scored in regular season. \n",
    "oppPTS: Opponent Points scored in regular season. \n",
    "FG: Field Goals made (total shots made == 2P and 3P combined)\n",
    "FGA: Field Goals attempted (total shots attempted == 2P and 3P combined)\n",
    "2P: two-pointers made\n",
    "2PA: two-pointers attempted\n",
    "3P: three-pointers made\n",
    "3PA: three-pointers attempted\n",
    "FT: Free-Throws made (not included in FG stat)\n",
    "FTA: Free-Throws attempted (not included in FG stat)\n",
    "ORB: Offensive Rebounds\n",
    "DRB: Defensive Rebounds\n",
    "AST: Assists made\n",
    "STL: Steals \n",
    "BLK: Blocks \n",
    "TOV: Turnovers \n",
    "```"
   ]
  },
  {
   "cell_type": "markdown",
   "metadata": {},
   "source": [
    "#### Inspect our data using `df.describe()` function."
   ]
  },
  {
   "cell_type": "code",
   "execution_count": 84,
   "metadata": {},
   "outputs": [],
   "source": [
    "# Inspect our data using `df.describe()` function.\n"
   ]
  },
  {
   "cell_type": "markdown",
   "metadata": {},
   "source": [
    "#### Check for Nulls."
   ]
  },
  {
   "cell_type": "code",
   "execution_count": 85,
   "metadata": {},
   "outputs": [],
   "source": [
    "# Check for Nulls.\n"
   ]
  },
  {
   "cell_type": "markdown",
   "metadata": {},
   "source": [
    "#### Check for Duplicates"
   ]
  },
  {
   "cell_type": "code",
   "execution_count": 7,
   "metadata": {},
   "outputs": [
    {
     "data": {
      "text/plain": [
       "0"
      ]
     },
     "execution_count": 7,
     "metadata": {},
     "output_type": "execute_result"
    }
   ],
   "source": [
    "# Check for Duplicates"
   ]
  },
  {
   "cell_type": "markdown",
   "metadata": {},
   "source": [
    "#### Build a function that will INSPECT ANY DATAFRAME FOR YOU do this for you for any data frame you pass into it."
   ]
  },
  {
   "cell_type": "code",
   "execution_count": 87,
   "metadata": {},
   "outputs": [],
   "source": [
    "def inspect_dataframe(input_df):\n",
    "    return \"That gooood stuff.\"\n",
    "\n",
    "\n"
   ]
  },
  {
   "cell_type": "markdown",
   "metadata": {},
   "source": [
    "#### Get a sense of how many wins it will take to make the playoffs. \n",
    "Make a scatter plot with x=Wins and the y=Team, and the hue=Playoffs"
   ]
  },
  {
   "cell_type": "code",
   "execution_count": null,
   "metadata": {},
   "outputs": [],
   "source": []
  },
  {
   "cell_type": "markdown",
   "metadata": {},
   "source": [
    "#### Take a rough estimate, and now use that moving forward.  \n",
    "\n"
   ]
  },
  {
   "cell_type": "code",
   "execution_count": 90,
   "metadata": {},
   "outputs": [],
   "source": [
    "WINS_NEED_TO_MAKE_PLAYOFFS = ???"
   ]
  },
  {
   "cell_type": "markdown",
   "metadata": {},
   "source": [
    "---"
   ]
  },
  {
   "cell_type": "markdown",
   "metadata": {},
   "source": [
    "# Now do moneyball but for the NBA. \n",
    "\n",
    "#### I would like you to do try and do this on your own first.  \n",
    "\n",
    "It's not easy, but its fun af.  \n",
    "\n",
    "There is a guided lecture on how to do this that I can send you, but I'd like for you to try and figure it out on your own first.  \n",
    "\n",
    "If you are fully stuck, ask in slack how other people did it if that doesn't work (I highly encourage collorbration and learning from eachother.  I still consider that doing it on your own.)  \n",
    "\n",
    "If that doesn't work, DM me and I will send you the lectures explaining how to do the whole thing."
   ]
  },
  {
   "cell_type": "markdown",
   "metadata": {},
   "source": [
    "# Rough Guide a v1 model.\n",
    "0. Make a model to predict PTS \n",
    "0. For v1, dont use `2P, 3P, FG, or FT`.  Instead use `2PA, 3PA, FTA`.  \n",
    "0. Include any other cols use see fit.  \n"
   ]
  },
  {
   "cell_type": "code",
   "execution_count": null,
   "metadata": {},
   "outputs": [],
   "source": []
  }
 ],
 "metadata": {
  "kernelspec": {
   "display_name": "Python 3 (ipykernel)",
   "language": "python",
   "name": "python3"
  },
  "language_info": {
   "codemirror_mode": {
    "name": "ipython",
    "version": 3
   },
   "file_extension": ".py",
   "mimetype": "text/x-python",
   "name": "python",
   "nbconvert_exporter": "python",
   "pygments_lexer": "ipython3",
   "version": "3.9.12"
  }
 },
 "nbformat": 4,
 "nbformat_minor": 2
}
